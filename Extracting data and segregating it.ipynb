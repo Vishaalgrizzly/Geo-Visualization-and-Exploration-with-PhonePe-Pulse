{
 "cells": [
  {
   "cell_type": "code",
   "execution_count": 88,
   "metadata": {
    "colab": {
     "base_uri": "https://localhost:8080/"
    },
    "id": "VmH59lMnxIK4",
    "outputId": "5e0047c6-70ab-4096-b69b-59f84ca47c62"
   },
   "outputs": [
    {
     "name": "stderr",
     "output_type": "stream",
     "text": [
      "Cloning into 'pulse'...\n",
      "Updating files:   8% (375/4443)\n",
      "Updating files:   9% (400/4443)\n",
      "Updating files:  10% (445/4443)\n",
      "Updating files:  11% (489/4443)\n",
      "Updating files:  12% (534/4443)\n",
      "Updating files:  13% (578/4443)\n",
      "Updating files:  14% (623/4443)\n",
      "Updating files:  15% (667/4443)\n",
      "Updating files:  16% (711/4443)\n",
      "Updating files:  17% (756/4443)\n",
      "Updating files:  18% (800/4443)\n",
      "Updating files:  19% (845/4443)\n",
      "Updating files:  20% (889/4443)\n",
      "Updating files:  20% (894/4443)\n",
      "Updating files:  21% (934/4443)\n",
      "Updating files:  22% (978/4443)\n",
      "Updating files:  23% (1022/4443)\n",
      "Updating files:  24% (1067/4443)\n",
      "Updating files:  25% (1111/4443)\n",
      "Updating files:  26% (1156/4443)\n",
      "Updating files:  27% (1200/4443)\n",
      "Updating files:  28% (1245/4443)\n",
      "Updating files:  29% (1289/4443)\n",
      "Updating files:  30% (1333/4443)\n",
      "Updating files:  31% (1378/4443)\n",
      "Updating files:  32% (1422/4443)\n",
      "Updating files:  32% (1466/4443)\n",
      "Updating files:  33% (1467/4443)\n",
      "Updating files:  34% (1511/4443)\n",
      "Updating files:  35% (1556/4443)\n",
      "Updating files:  36% (1600/4443)\n",
      "Updating files:  37% (1644/4443)\n",
      "Updating files:  38% (1689/4443)\n",
      "Updating files:  39% (1733/4443)\n",
      "Updating files:  40% (1778/4443)\n",
      "Updating files:  41% (1822/4443)\n",
      "Updating files:  42% (1867/4443)\n",
      "Updating files:  43% (1911/4443)\n",
      "Updating files:  44% (1955/4443)\n",
      "Updating files:  45% (2000/4443)\n",
      "Updating files:  46% (2044/4443)\n",
      "Updating files:  47% (2089/4443)\n",
      "Updating files:  48% (2133/4443)\n",
      "Updating files:  49% (2178/4443)\n",
      "Updating files:  50% (2222/4443)\n",
      "Updating files:  51% (2266/4443)\n",
      "Updating files:  52% (2311/4443)\n",
      "Updating files:  53% (2355/4443)\n",
      "Updating files:  54% (2400/4443)\n",
      "Updating files:  55% (2444/4443)\n",
      "Updating files:  56% (2489/4443)\n",
      "Updating files:  57% (2533/4443)\n",
      "Updating files:  58% (2577/4443)\n",
      "Updating files:  58% (2614/4443)\n",
      "Updating files:  59% (2622/4443)\n",
      "Updating files:  60% (2666/4443)\n",
      "Updating files:  61% (2711/4443)\n",
      "Updating files:  62% (2755/4443)\n",
      "Updating files:  63% (2800/4443)\n",
      "Updating files:  64% (2844/4443)\n",
      "Updating files:  65% (2888/4443)\n",
      "Updating files:  66% (2933/4443)\n",
      "Updating files:  67% (2977/4443)\n",
      "Updating files:  68% (3022/4443)\n",
      "Updating files:  69% (3066/4443)\n",
      "Updating files:  70% (3111/4443)\n",
      "Updating files:  71% (3155/4443)\n",
      "Updating files:  71% (3184/4443)\n",
      "Updating files:  72% (3199/4443)\n",
      "Updating files:  73% (3244/4443)\n",
      "Updating files:  74% (3288/4443)\n",
      "Updating files:  75% (3333/4443)\n",
      "Updating files:  76% (3377/4443)\n",
      "Updating files:  77% (3422/4443)\n",
      "Updating files:  78% (3466/4443)\n",
      "Updating files:  79% (3510/4443)\n",
      "Updating files:  80% (3555/4443)\n",
      "Updating files:  81% (3599/4443)\n",
      "Updating files:  82% (3644/4443)\n",
      "Updating files:  83% (3688/4443)\n",
      "Updating files:  83% (3704/4443)\n",
      "Updating files:  84% (3733/4443)\n",
      "Updating files:  85% (3777/4443)\n",
      "Updating files:  86% (3821/4443)\n",
      "Updating files:  87% (3866/4443)\n",
      "Updating files:  88% (3910/4443)\n",
      "Updating files:  89% (3955/4443)\n",
      "Updating files:  90% (3999/4443)\n",
      "Updating files:  91% (4044/4443)\n",
      "Updating files:  92% (4088/4443)\n",
      "Updating files:  93% (4132/4443)\n",
      "Updating files:  94% (4177/4443)\n",
      "Updating files:  95% (4221/4443)\n",
      "Updating files:  96% (4266/4443)\n",
      "Updating files:  96% (4280/4443)\n",
      "Updating files:  97% (4310/4443)\n",
      "Updating files:  98% (4355/4443)\n",
      "Updating files:  99% (4399/4443)\n",
      "Updating files: 100% (4443/4443)\n",
      "Updating files: 100% (4443/4443), done.\n"
     ]
    }
   ],
   "source": [
    "!git clone https://github.com/PhonePe/pulse.git\n"
   ]
  },
  {
   "cell_type": "code",
   "execution_count": 89,
   "metadata": {},
   "outputs": [
    {
     "name": "stdout",
     "output_type": "stream",
     "text": [
      "C:\\Users\\Vishaal Grizzly\\pulse\\pulse\n"
     ]
    }
   ],
   "source": [
    "cd pulse"
   ]
  },
  {
   "cell_type": "code",
   "execution_count": 37,
   "metadata": {
    "id": "wuZ3f-iL_beO"
   },
   "outputs": [],
   "source": [
    "# Changing the working directory to pulse\n",
    "os.chdir('C:/Users/Vishaal Grizzly/pulse')"
   ]
  },
  {
   "cell_type": "code",
   "execution_count": 38,
   "metadata": {
    "colab": {
     "base_uri": "https://localhost:8080/"
    },
    "id": "QBG32rvRNYWL",
    "outputId": "d2ac6a79-3833-486b-e170-cbf37b342fc6"
   },
   "outputs": [
    {
     "name": "stdout",
     "output_type": "stream",
     "text": [
      "['C:/Users/Vishaal Grizzly/pulse\\\\.git', 'C:/Users/Vishaal Grizzly/pulse\\\\data', 'C:/Users/Vishaal Grizzly/pulse\\\\pulse', 'C:/Users/Vishaal Grizzly/pulse\\\\.git\\\\hooks', 'C:/Users/Vishaal Grizzly/pulse\\\\.git\\\\info', 'C:/Users/Vishaal Grizzly/pulse\\\\.git\\\\logs', 'C:/Users/Vishaal Grizzly/pulse\\\\.git\\\\objects', 'C:/Users/Vishaal Grizzly/pulse\\\\.git\\\\refs', 'C:/Users/Vishaal Grizzly/pulse\\\\.git\\\\logs\\\\refs', 'C:/Users/Vishaal Grizzly/pulse\\\\.git\\\\logs\\\\refs\\\\heads', 'C:/Users/Vishaal Grizzly/pulse\\\\.git\\\\logs\\\\refs\\\\remotes', 'C:/Users/Vishaal Grizzly/pulse\\\\.git\\\\logs\\\\refs\\\\remotes\\\\origin', 'C:/Users/Vishaal Grizzly/pulse\\\\.git\\\\objects\\\\info', 'C:/Users/Vishaal Grizzly/pulse\\\\.git\\\\objects\\\\pack', 'C:/Users/Vishaal Grizzly/pulse\\\\.git\\\\refs\\\\heads', 'C:/Users/Vishaal Grizzly/pulse\\\\.git\\\\refs\\\\remotes', 'C:/Users/Vishaal Grizzly/pulse\\\\.git\\\\refs\\\\tags', 'C:/Users/Vishaal Grizzly/pulse\\\\.git\\\\refs\\\\remotes\\\\origin', 'C:/Users/Vishaal Grizzly/pulse\\\\data\\\\aggregated', 'C:/Users/Vishaal Grizzly/pulse\\\\data\\\\map', 'C:/Users/Vishaal Grizzly/pulse\\\\data\\\\top', 'C:/Users/Vishaal Grizzly/pulse\\\\data\\\\aggregated\\\\transaction', 'C:/Users/Vishaal Grizzly/pulse\\\\data\\\\aggregated\\\\user', 'C:/Users/Vishaal Grizzly/pulse\\\\data\\\\aggregated\\\\transaction\\\\country', 'C:/Users/Vishaal Grizzly/pulse\\\\data\\\\aggregated\\\\transaction\\\\country\\\\india', 'C:/Users/Vishaal Grizzly/pulse\\\\data\\\\aggregated\\\\transaction\\\\country\\\\india\\\\2018', 'C:/Users/Vishaal Grizzly/pulse\\\\data\\\\aggregated\\\\transaction\\\\country\\\\india\\\\2019', 'C:/Users/Vishaal Grizzly/pulse\\\\data\\\\aggregated\\\\transaction\\\\country\\\\india\\\\2020', 'C:/Users/Vishaal Grizzly/pulse\\\\data\\\\aggregated\\\\transaction\\\\country\\\\india\\\\2021', 'C:/Users/Vishaal Grizzly/pulse\\\\data\\\\aggregated\\\\transaction\\\\country\\\\india\\\\2022', 'C:/Users/Vishaal Grizzly/pulse\\\\data\\\\aggregated\\\\transaction\\\\country\\\\india\\\\state', 'C:/Users/Vishaal Grizzly/pulse\\\\data\\\\aggregated\\\\transaction\\\\country\\\\india\\\\state\\\\andaman-&-nicobar-islands', 'C:/Users/Vishaal Grizzly/pulse\\\\data\\\\aggregated\\\\transaction\\\\country\\\\india\\\\state\\\\andhra-pradesh', 'C:/Users/Vishaal Grizzly/pulse\\\\data\\\\aggregated\\\\transaction\\\\country\\\\india\\\\state\\\\arunachal-pradesh', 'C:/Users/Vishaal Grizzly/pulse\\\\data\\\\aggregated\\\\transaction\\\\country\\\\india\\\\state\\\\assam', 'C:/Users/Vishaal Grizzly/pulse\\\\data\\\\aggregated\\\\transaction\\\\country\\\\india\\\\state\\\\bihar', 'C:/Users/Vishaal Grizzly/pulse\\\\data\\\\aggregated\\\\transaction\\\\country\\\\india\\\\state\\\\chandigarh', 'C:/Users/Vishaal Grizzly/pulse\\\\data\\\\aggregated\\\\transaction\\\\country\\\\india\\\\state\\\\chhattisgarh', 'C:/Users/Vishaal Grizzly/pulse\\\\data\\\\aggregated\\\\transaction\\\\country\\\\india\\\\state\\\\dadra-&-nagar-haveli-&-daman-&-diu', 'C:/Users/Vishaal Grizzly/pulse\\\\data\\\\aggregated\\\\transaction\\\\country\\\\india\\\\state\\\\delhi', 'C:/Users/Vishaal Grizzly/pulse\\\\data\\\\aggregated\\\\transaction\\\\country\\\\india\\\\state\\\\goa', 'C:/Users/Vishaal Grizzly/pulse\\\\data\\\\aggregated\\\\transaction\\\\country\\\\india\\\\state\\\\gujarat', 'C:/Users/Vishaal Grizzly/pulse\\\\data\\\\aggregated\\\\transaction\\\\country\\\\india\\\\state\\\\haryana', 'C:/Users/Vishaal Grizzly/pulse\\\\data\\\\aggregated\\\\transaction\\\\country\\\\india\\\\state\\\\himachal-pradesh', 'C:/Users/Vishaal Grizzly/pulse\\\\data\\\\aggregated\\\\transaction\\\\country\\\\india\\\\state\\\\jammu-&-kashmir', 'C:/Users/Vishaal Grizzly/pulse\\\\data\\\\aggregated\\\\transaction\\\\country\\\\india\\\\state\\\\jharkhand', 'C:/Users/Vishaal Grizzly/pulse\\\\data\\\\aggregated\\\\transaction\\\\country\\\\india\\\\state\\\\karnataka', 'C:/Users/Vishaal Grizzly/pulse\\\\data\\\\aggregated\\\\transaction\\\\country\\\\india\\\\state\\\\kerala', 'C:/Users/Vishaal Grizzly/pulse\\\\data\\\\aggregated\\\\transaction\\\\country\\\\india\\\\state\\\\ladakh', 'C:/Users/Vishaal Grizzly/pulse\\\\data\\\\aggregated\\\\transaction\\\\country\\\\india\\\\state\\\\lakshadweep', 'C:/Users/Vishaal Grizzly/pulse\\\\data\\\\aggregated\\\\transaction\\\\country\\\\india\\\\state\\\\madhya-pradesh', 'C:/Users/Vishaal Grizzly/pulse\\\\data\\\\aggregated\\\\transaction\\\\country\\\\india\\\\state\\\\maharashtra', 'C:/Users/Vishaal Grizzly/pulse\\\\data\\\\aggregated\\\\transaction\\\\country\\\\india\\\\state\\\\manipur', 'C:/Users/Vishaal Grizzly/pulse\\\\data\\\\aggregated\\\\transaction\\\\country\\\\india\\\\state\\\\meghalaya', 'C:/Users/Vishaal Grizzly/pulse\\\\data\\\\aggregated\\\\transaction\\\\country\\\\india\\\\state\\\\mizoram', 'C:/Users/Vishaal Grizzly/pulse\\\\data\\\\aggregated\\\\transaction\\\\country\\\\india\\\\state\\\\nagaland', 'C:/Users/Vishaal Grizzly/pulse\\\\data\\\\aggregated\\\\transaction\\\\country\\\\india\\\\state\\\\odisha', 'C:/Users/Vishaal Grizzly/pulse\\\\data\\\\aggregated\\\\transaction\\\\country\\\\india\\\\state\\\\puducherry', 'C:/Users/Vishaal Grizzly/pulse\\\\data\\\\aggregated\\\\transaction\\\\country\\\\india\\\\state\\\\punjab', 'C:/Users/Vishaal Grizzly/pulse\\\\data\\\\aggregated\\\\transaction\\\\country\\\\india\\\\state\\\\rajasthan', 'C:/Users/Vishaal Grizzly/pulse\\\\data\\\\aggregated\\\\transaction\\\\country\\\\india\\\\state\\\\sikkim', 'C:/Users/Vishaal Grizzly/pulse\\\\data\\\\aggregated\\\\transaction\\\\country\\\\india\\\\state\\\\tamil-nadu', 'C:/Users/Vishaal Grizzly/pulse\\\\data\\\\aggregated\\\\transaction\\\\country\\\\india\\\\state\\\\telangana', 'C:/Users/Vishaal Grizzly/pulse\\\\data\\\\aggregated\\\\transaction\\\\country\\\\india\\\\state\\\\tripura', 'C:/Users/Vishaal Grizzly/pulse\\\\data\\\\aggregated\\\\transaction\\\\country\\\\india\\\\state\\\\uttar-pradesh', 'C:/Users/Vishaal Grizzly/pulse\\\\data\\\\aggregated\\\\transaction\\\\country\\\\india\\\\state\\\\uttarakhand', 'C:/Users/Vishaal Grizzly/pulse\\\\data\\\\aggregated\\\\transaction\\\\country\\\\india\\\\state\\\\west-bengal', 'C:/Users/Vishaal Grizzly/pulse\\\\data\\\\aggregated\\\\transaction\\\\country\\\\india\\\\state\\\\andaman-&-nicobar-islands\\\\2018', 'C:/Users/Vishaal Grizzly/pulse\\\\data\\\\aggregated\\\\transaction\\\\country\\\\india\\\\state\\\\andaman-&-nicobar-islands\\\\2019', 'C:/Users/Vishaal Grizzly/pulse\\\\data\\\\aggregated\\\\transaction\\\\country\\\\india\\\\state\\\\andaman-&-nicobar-islands\\\\2020', 'C:/Users/Vishaal Grizzly/pulse\\\\data\\\\aggregated\\\\transaction\\\\country\\\\india\\\\state\\\\andaman-&-nicobar-islands\\\\2021', 'C:/Users/Vishaal Grizzly/pulse\\\\data\\\\aggregated\\\\transaction\\\\country\\\\india\\\\state\\\\andaman-&-nicobar-islands\\\\2022', 'C:/Users/Vishaal Grizzly/pulse\\\\data\\\\aggregated\\\\transaction\\\\country\\\\india\\\\state\\\\andhra-pradesh\\\\2018', 'C:/Users/Vishaal Grizzly/pulse\\\\data\\\\aggregated\\\\transaction\\\\country\\\\india\\\\state\\\\andhra-pradesh\\\\2019', 'C:/Users/Vishaal Grizzly/pulse\\\\data\\\\aggregated\\\\transaction\\\\country\\\\india\\\\state\\\\andhra-pradesh\\\\2020', 'C:/Users/Vishaal Grizzly/pulse\\\\data\\\\aggregated\\\\transaction\\\\country\\\\india\\\\state\\\\andhra-pradesh\\\\2021', 'C:/Users/Vishaal Grizzly/pulse\\\\data\\\\aggregated\\\\transaction\\\\country\\\\india\\\\state\\\\andhra-pradesh\\\\2022', 'C:/Users/Vishaal Grizzly/pulse\\\\data\\\\aggregated\\\\transaction\\\\country\\\\india\\\\state\\\\arunachal-pradesh\\\\2018', 'C:/Users/Vishaal Grizzly/pulse\\\\data\\\\aggregated\\\\transaction\\\\country\\\\india\\\\state\\\\arunachal-pradesh\\\\2019', 'C:/Users/Vishaal Grizzly/pulse\\\\data\\\\aggregated\\\\transaction\\\\country\\\\india\\\\state\\\\arunachal-pradesh\\\\2020', 'C:/Users/Vishaal Grizzly/pulse\\\\data\\\\aggregated\\\\transaction\\\\country\\\\india\\\\state\\\\arunachal-pradesh\\\\2021', 'C:/Users/Vishaal Grizzly/pulse\\\\data\\\\aggregated\\\\transaction\\\\country\\\\india\\\\state\\\\arunachal-pradesh\\\\2022', 'C:/Users/Vishaal Grizzly/pulse\\\\data\\\\aggregated\\\\transaction\\\\country\\\\india\\\\state\\\\assam\\\\2018', 'C:/Users/Vishaal Grizzly/pulse\\\\data\\\\aggregated\\\\transaction\\\\country\\\\india\\\\state\\\\assam\\\\2019', 'C:/Users/Vishaal Grizzly/pulse\\\\data\\\\aggregated\\\\transaction\\\\country\\\\india\\\\state\\\\assam\\\\2020', 'C:/Users/Vishaal Grizzly/pulse\\\\data\\\\aggregated\\\\transaction\\\\country\\\\india\\\\state\\\\assam\\\\2021', 'C:/Users/Vishaal Grizzly/pulse\\\\data\\\\aggregated\\\\transaction\\\\country\\\\india\\\\state\\\\assam\\\\2022', 'C:/Users/Vishaal Grizzly/pulse\\\\data\\\\aggregated\\\\transaction\\\\country\\\\india\\\\state\\\\bihar\\\\2018', 'C:/Users/Vishaal Grizzly/pulse\\\\data\\\\aggregated\\\\transaction\\\\country\\\\india\\\\state\\\\bihar\\\\2019', 'C:/Users/Vishaal Grizzly/pulse\\\\data\\\\aggregated\\\\transaction\\\\country\\\\india\\\\state\\\\bihar\\\\2020', 'C:/Users/Vishaal Grizzly/pulse\\\\data\\\\aggregated\\\\transaction\\\\country\\\\india\\\\state\\\\bihar\\\\2021', 'C:/Users/Vishaal Grizzly/pulse\\\\data\\\\aggregated\\\\transaction\\\\country\\\\india\\\\state\\\\bihar\\\\2022', 'C:/Users/Vishaal Grizzly/pulse\\\\data\\\\aggregated\\\\transaction\\\\country\\\\india\\\\state\\\\chandigarh\\\\2018', 'C:/Users/Vishaal Grizzly/pulse\\\\data\\\\aggregated\\\\transaction\\\\country\\\\india\\\\state\\\\chandigarh\\\\2019', 'C:/Users/Vishaal Grizzly/pulse\\\\data\\\\aggregated\\\\transaction\\\\country\\\\india\\\\state\\\\chandigarh\\\\2020', 'C:/Users/Vishaal Grizzly/pulse\\\\data\\\\aggregated\\\\transaction\\\\country\\\\india\\\\state\\\\chandigarh\\\\2021', 'C:/Users/Vishaal Grizzly/pulse\\\\data\\\\aggregated\\\\transaction\\\\country\\\\india\\\\state\\\\chandigarh\\\\2022', 'C:/Users/Vishaal Grizzly/pulse\\\\data\\\\aggregated\\\\transaction\\\\country\\\\india\\\\state\\\\chhattisgarh\\\\2018', 'C:/Users/Vishaal Grizzly/pulse\\\\data\\\\aggregated\\\\transaction\\\\country\\\\india\\\\state\\\\chhattisgarh\\\\2019', 'C:/Users/Vishaal Grizzly/pulse\\\\data\\\\aggregated\\\\transaction\\\\country\\\\india\\\\state\\\\chhattisgarh\\\\2020', 'C:/Users/Vishaal Grizzly/pulse\\\\data\\\\aggregated\\\\transaction\\\\country\\\\india\\\\state\\\\chhattisgarh\\\\2021', 'C:/Users/Vishaal Grizzly/pulse\\\\data\\\\aggregated\\\\transaction\\\\country\\\\india\\\\state\\\\chhattisgarh\\\\2022', 'C:/Users/Vishaal Grizzly/pulse\\\\data\\\\aggregated\\\\transaction\\\\country\\\\india\\\\state\\\\dadra-&-nagar-haveli-&-daman-&-diu\\\\2018', 'C:/Users/Vishaal Grizzly/pulse\\\\data\\\\aggregated\\\\transaction\\\\country\\\\india\\\\state\\\\dadra-&-nagar-haveli-&-daman-&-diu\\\\2019', 'C:/Users/Vishaal Grizzly/pulse\\\\data\\\\aggregated\\\\transaction\\\\country\\\\india\\\\state\\\\dadra-&-nagar-haveli-&-daman-&-diu\\\\2020', 'C:/Users/Vishaal Grizzly/pulse\\\\data\\\\aggregated\\\\transaction\\\\country\\\\india\\\\state\\\\dadra-&-nagar-haveli-&-daman-&-diu\\\\2021', 'C:/Users/Vishaal Grizzly/pulse\\\\data\\\\aggregated\\\\transaction\\\\country\\\\india\\\\state\\\\dadra-&-nagar-haveli-&-daman-&-diu\\\\2022', 'C:/Users/Vishaal Grizzly/pulse\\\\data\\\\aggregated\\\\transaction\\\\country\\\\india\\\\state\\\\delhi\\\\2018', 'C:/Users/Vishaal Grizzly/pulse\\\\data\\\\aggregated\\\\transaction\\\\country\\\\india\\\\state\\\\delhi\\\\2019', 'C:/Users/Vishaal Grizzly/pulse\\\\data\\\\aggregated\\\\transaction\\\\country\\\\india\\\\state\\\\delhi\\\\2020', 'C:/Users/Vishaal Grizzly/pulse\\\\data\\\\aggregated\\\\transaction\\\\country\\\\india\\\\state\\\\delhi\\\\2021', 'C:/Users/Vishaal Grizzly/pulse\\\\data\\\\aggregated\\\\transaction\\\\country\\\\india\\\\state\\\\delhi\\\\2022', 'C:/Users/Vishaal Grizzly/pulse\\\\data\\\\aggregated\\\\transaction\\\\country\\\\india\\\\state\\\\goa\\\\2018', 'C:/Users/Vishaal Grizzly/pulse\\\\data\\\\aggregated\\\\transaction\\\\country\\\\india\\\\state\\\\goa\\\\2019', 'C:/Users/Vishaal Grizzly/pulse\\\\data\\\\aggregated\\\\transaction\\\\country\\\\india\\\\state\\\\goa\\\\2020', 'C:/Users/Vishaal Grizzly/pulse\\\\data\\\\aggregated\\\\transaction\\\\country\\\\india\\\\state\\\\goa\\\\2021', 'C:/Users/Vishaal Grizzly/pulse\\\\data\\\\aggregated\\\\transaction\\\\country\\\\india\\\\state\\\\goa\\\\2022', 'C:/Users/Vishaal Grizzly/pulse\\\\data\\\\aggregated\\\\transaction\\\\country\\\\india\\\\state\\\\gujarat\\\\2018', 'C:/Users/Vishaal Grizzly/pulse\\\\data\\\\aggregated\\\\transaction\\\\country\\\\india\\\\state\\\\gujarat\\\\2019', 'C:/Users/Vishaal Grizzly/pulse\\\\data\\\\aggregated\\\\transaction\\\\country\\\\india\\\\state\\\\gujarat\\\\2020', 'C:/Users/Vishaal Grizzly/pulse\\\\data\\\\aggregated\\\\transaction\\\\country\\\\india\\\\state\\\\gujarat\\\\2021', 'C:/Users/Vishaal Grizzly/pulse\\\\data\\\\aggregated\\\\transaction\\\\country\\\\india\\\\state\\\\gujarat\\\\2022', 'C:/Users/Vishaal Grizzly/pulse\\\\data\\\\aggregated\\\\transaction\\\\country\\\\india\\\\state\\\\haryana\\\\2018', 'C:/Users/Vishaal Grizzly/pulse\\\\data\\\\aggregated\\\\transaction\\\\country\\\\india\\\\state\\\\haryana\\\\2019', 'C:/Users/Vishaal Grizzly/pulse\\\\data\\\\aggregated\\\\transaction\\\\country\\\\india\\\\state\\\\haryana\\\\2020', 'C:/Users/Vishaal Grizzly/pulse\\\\data\\\\aggregated\\\\transaction\\\\country\\\\india\\\\state\\\\haryana\\\\2021', 'C:/Users/Vishaal Grizzly/pulse\\\\data\\\\aggregated\\\\transaction\\\\country\\\\india\\\\state\\\\haryana\\\\2022', 'C:/Users/Vishaal Grizzly/pulse\\\\data\\\\aggregated\\\\transaction\\\\country\\\\india\\\\state\\\\himachal-pradesh\\\\2018', 'C:/Users/Vishaal Grizzly/pulse\\\\data\\\\aggregated\\\\transaction\\\\country\\\\india\\\\state\\\\himachal-pradesh\\\\2019', 'C:/Users/Vishaal Grizzly/pulse\\\\data\\\\aggregated\\\\transaction\\\\country\\\\india\\\\state\\\\himachal-pradesh\\\\2020', 'C:/Users/Vishaal Grizzly/pulse\\\\data\\\\aggregated\\\\transaction\\\\country\\\\india\\\\state\\\\himachal-pradesh\\\\2021', 'C:/Users/Vishaal Grizzly/pulse\\\\data\\\\aggregated\\\\transaction\\\\country\\\\india\\\\state\\\\himachal-pradesh\\\\2022', 'C:/Users/Vishaal Grizzly/pulse\\\\data\\\\aggregated\\\\transaction\\\\country\\\\india\\\\state\\\\jammu-&-kashmir\\\\2018', 'C:/Users/Vishaal Grizzly/pulse\\\\data\\\\aggregated\\\\transaction\\\\country\\\\india\\\\state\\\\jammu-&-kashmir\\\\2019', 'C:/Users/Vishaal Grizzly/pulse\\\\data\\\\aggregated\\\\transaction\\\\country\\\\india\\\\state\\\\jammu-&-kashmir\\\\2020', 'C:/Users/Vishaal Grizzly/pulse\\\\data\\\\aggregated\\\\transaction\\\\country\\\\india\\\\state\\\\jammu-&-kashmir\\\\2021', 'C:/Users/Vishaal Grizzly/pulse\\\\data\\\\aggregated\\\\transaction\\\\country\\\\india\\\\state\\\\jammu-&-kashmir\\\\2022', 'C:/Users/Vishaal Grizzly/pulse\\\\data\\\\aggregated\\\\transaction\\\\country\\\\india\\\\state\\\\jharkhand\\\\2018', 'C:/Users/Vishaal Grizzly/pulse\\\\data\\\\aggregated\\\\transaction\\\\country\\\\india\\\\state\\\\jharkhand\\\\2019', 'C:/Users/Vishaal Grizzly/pulse\\\\data\\\\aggregated\\\\transaction\\\\country\\\\india\\\\state\\\\jharkhand\\\\2020', 'C:/Users/Vishaal Grizzly/pulse\\\\data\\\\aggregated\\\\transaction\\\\country\\\\india\\\\state\\\\jharkhand\\\\2021', 'C:/Users/Vishaal Grizzly/pulse\\\\data\\\\aggregated\\\\transaction\\\\country\\\\india\\\\state\\\\jharkhand\\\\2022', 'C:/Users/Vishaal Grizzly/pulse\\\\data\\\\aggregated\\\\transaction\\\\country\\\\india\\\\state\\\\karnataka\\\\2018', 'C:/Users/Vishaal Grizzly/pulse\\\\data\\\\aggregated\\\\transaction\\\\country\\\\india\\\\state\\\\karnataka\\\\2019', 'C:/Users/Vishaal Grizzly/pulse\\\\data\\\\aggregated\\\\transaction\\\\country\\\\india\\\\state\\\\karnataka\\\\2020', 'C:/Users/Vishaal Grizzly/pulse\\\\data\\\\aggregated\\\\transaction\\\\country\\\\india\\\\state\\\\karnataka\\\\2021', 'C:/Users/Vishaal Grizzly/pulse\\\\data\\\\aggregated\\\\transaction\\\\country\\\\india\\\\state\\\\karnataka\\\\2022', 'C:/Users/Vishaal Grizzly/pulse\\\\data\\\\aggregated\\\\transaction\\\\country\\\\india\\\\state\\\\kerala\\\\2018', 'C:/Users/Vishaal Grizzly/pulse\\\\data\\\\aggregated\\\\transaction\\\\country\\\\india\\\\state\\\\kerala\\\\2019', 'C:/Users/Vishaal Grizzly/pulse\\\\data\\\\aggregated\\\\transaction\\\\country\\\\india\\\\state\\\\kerala\\\\2020', 'C:/Users/Vishaal Grizzly/pulse\\\\data\\\\aggregated\\\\transaction\\\\country\\\\india\\\\state\\\\kerala\\\\2021', 'C:/Users/Vishaal Grizzly/pulse\\\\data\\\\aggregated\\\\transaction\\\\country\\\\india\\\\state\\\\kerala\\\\2022', 'C:/Users/Vishaal Grizzly/pulse\\\\data\\\\aggregated\\\\transaction\\\\country\\\\india\\\\state\\\\ladakh\\\\2018', 'C:/Users/Vishaal Grizzly/pulse\\\\data\\\\aggregated\\\\transaction\\\\country\\\\india\\\\state\\\\ladakh\\\\2019', 'C:/Users/Vishaal Grizzly/pulse\\\\data\\\\aggregated\\\\transaction\\\\country\\\\india\\\\state\\\\ladakh\\\\2020', 'C:/Users/Vishaal Grizzly/pulse\\\\data\\\\aggregated\\\\transaction\\\\country\\\\india\\\\state\\\\ladakh\\\\2021', 'C:/Users/Vishaal Grizzly/pulse\\\\data\\\\aggregated\\\\transaction\\\\country\\\\india\\\\state\\\\ladakh\\\\2022', 'C:/Users/Vishaal Grizzly/pulse\\\\data\\\\aggregated\\\\transaction\\\\country\\\\india\\\\state\\\\lakshadweep\\\\2018', 'C:/Users/Vishaal Grizzly/pulse\\\\data\\\\aggregated\\\\transaction\\\\country\\\\india\\\\state\\\\lakshadweep\\\\2019', 'C:/Users/Vishaal Grizzly/pulse\\\\data\\\\aggregated\\\\transaction\\\\country\\\\india\\\\state\\\\lakshadweep\\\\2020', 'C:/Users/Vishaal Grizzly/pulse\\\\data\\\\aggregated\\\\transaction\\\\country\\\\india\\\\state\\\\lakshadweep\\\\2021', 'C:/Users/Vishaal Grizzly/pulse\\\\data\\\\aggregated\\\\transaction\\\\country\\\\india\\\\state\\\\lakshadweep\\\\2022', 'C:/Users/Vishaal Grizzly/pulse\\\\data\\\\aggregated\\\\transaction\\\\country\\\\india\\\\state\\\\madhya-pradesh\\\\2018', 'C:/Users/Vishaal Grizzly/pulse\\\\data\\\\aggregated\\\\transaction\\\\country\\\\india\\\\state\\\\madhya-pradesh\\\\2019', 'C:/Users/Vishaal Grizzly/pulse\\\\data\\\\aggregated\\\\transaction\\\\country\\\\india\\\\state\\\\madhya-pradesh\\\\2020', 'C:/Users/Vishaal Grizzly/pulse\\\\data\\\\aggregated\\\\transaction\\\\country\\\\india\\\\state\\\\madhya-pradesh\\\\2021', 'C:/Users/Vishaal Grizzly/pulse\\\\data\\\\aggregated\\\\transaction\\\\country\\\\india\\\\state\\\\madhya-pradesh\\\\2022', 'C:/Users/Vishaal Grizzly/pulse\\\\data\\\\aggregated\\\\transaction\\\\country\\\\india\\\\state\\\\maharashtra\\\\2018', 'C:/Users/Vishaal Grizzly/pulse\\\\data\\\\aggregated\\\\transaction\\\\country\\\\india\\\\state\\\\maharashtra\\\\2019', 'C:/Users/Vishaal Grizzly/pulse\\\\data\\\\aggregated\\\\transaction\\\\country\\\\india\\\\state\\\\maharashtra\\\\2020', 'C:/Users/Vishaal Grizzly/pulse\\\\data\\\\aggregated\\\\transaction\\\\country\\\\india\\\\state\\\\maharashtra\\\\2021', 'C:/Users/Vishaal Grizzly/pulse\\\\data\\\\aggregated\\\\transaction\\\\country\\\\india\\\\state\\\\maharashtra\\\\2022', 'C:/Users/Vishaal Grizzly/pulse\\\\data\\\\aggregated\\\\transaction\\\\country\\\\india\\\\state\\\\manipur\\\\2018', 'C:/Users/Vishaal Grizzly/pulse\\\\data\\\\aggregated\\\\transaction\\\\country\\\\india\\\\state\\\\manipur\\\\2019', 'C:/Users/Vishaal Grizzly/pulse\\\\data\\\\aggregated\\\\transaction\\\\country\\\\india\\\\state\\\\manipur\\\\2020', 'C:/Users/Vishaal Grizzly/pulse\\\\data\\\\aggregated\\\\transaction\\\\country\\\\india\\\\state\\\\manipur\\\\2021', 'C:/Users/Vishaal Grizzly/pulse\\\\data\\\\aggregated\\\\transaction\\\\country\\\\india\\\\state\\\\manipur\\\\2022', 'C:/Users/Vishaal Grizzly/pulse\\\\data\\\\aggregated\\\\transaction\\\\country\\\\india\\\\state\\\\meghalaya\\\\2018', 'C:/Users/Vishaal Grizzly/pulse\\\\data\\\\aggregated\\\\transaction\\\\country\\\\india\\\\state\\\\meghalaya\\\\2019', 'C:/Users/Vishaal Grizzly/pulse\\\\data\\\\aggregated\\\\transaction\\\\country\\\\india\\\\state\\\\meghalaya\\\\2020', 'C:/Users/Vishaal Grizzly/pulse\\\\data\\\\aggregated\\\\transaction\\\\country\\\\india\\\\state\\\\meghalaya\\\\2021', 'C:/Users/Vishaal Grizzly/pulse\\\\data\\\\aggregated\\\\transaction\\\\country\\\\india\\\\state\\\\meghalaya\\\\2022', 'C:/Users/Vishaal Grizzly/pulse\\\\data\\\\aggregated\\\\transaction\\\\country\\\\india\\\\state\\\\mizoram\\\\2018', 'C:/Users/Vishaal Grizzly/pulse\\\\data\\\\aggregated\\\\transaction\\\\country\\\\india\\\\state\\\\mizoram\\\\2019', 'C:/Users/Vishaal Grizzly/pulse\\\\data\\\\aggregated\\\\transaction\\\\country\\\\india\\\\state\\\\mizoram\\\\2020', 'C:/Users/Vishaal Grizzly/pulse\\\\data\\\\aggregated\\\\transaction\\\\country\\\\india\\\\state\\\\mizoram\\\\2021', 'C:/Users/Vishaal Grizzly/pulse\\\\data\\\\aggregated\\\\transaction\\\\country\\\\india\\\\state\\\\mizoram\\\\2022', 'C:/Users/Vishaal Grizzly/pulse\\\\data\\\\aggregated\\\\transaction\\\\country\\\\india\\\\state\\\\nagaland\\\\2018', 'C:/Users/Vishaal Grizzly/pulse\\\\data\\\\aggregated\\\\transaction\\\\country\\\\india\\\\state\\\\nagaland\\\\2019', 'C:/Users/Vishaal Grizzly/pulse\\\\data\\\\aggregated\\\\transaction\\\\country\\\\india\\\\state\\\\nagaland\\\\2020', 'C:/Users/Vishaal Grizzly/pulse\\\\data\\\\aggregated\\\\transaction\\\\country\\\\india\\\\state\\\\nagaland\\\\2021', 'C:/Users/Vishaal Grizzly/pulse\\\\data\\\\aggregated\\\\transaction\\\\country\\\\india\\\\state\\\\nagaland\\\\2022', 'C:/Users/Vishaal Grizzly/pulse\\\\data\\\\aggregated\\\\transaction\\\\country\\\\india\\\\state\\\\odisha\\\\2018', 'C:/Users/Vishaal Grizzly/pulse\\\\data\\\\aggregated\\\\transaction\\\\country\\\\india\\\\state\\\\odisha\\\\2019', 'C:/Users/Vishaal Grizzly/pulse\\\\data\\\\aggregated\\\\transaction\\\\country\\\\india\\\\state\\\\odisha\\\\2020', 'C:/Users/Vishaal Grizzly/pulse\\\\data\\\\aggregated\\\\transaction\\\\country\\\\india\\\\state\\\\odisha\\\\2021', 'C:/Users/Vishaal Grizzly/pulse\\\\data\\\\aggregated\\\\transaction\\\\country\\\\india\\\\state\\\\odisha\\\\2022', 'C:/Users/Vishaal Grizzly/pulse\\\\data\\\\aggregated\\\\transaction\\\\country\\\\india\\\\state\\\\puducherry\\\\2018', 'C:/Users/Vishaal Grizzly/pulse\\\\data\\\\aggregated\\\\transaction\\\\country\\\\india\\\\state\\\\puducherry\\\\2019', 'C:/Users/Vishaal Grizzly/pulse\\\\data\\\\aggregated\\\\transaction\\\\country\\\\india\\\\state\\\\puducherry\\\\2020', 'C:/Users/Vishaal Grizzly/pulse\\\\data\\\\aggregated\\\\transaction\\\\country\\\\india\\\\state\\\\puducherry\\\\2021', 'C:/Users/Vishaal Grizzly/pulse\\\\data\\\\aggregated\\\\transaction\\\\country\\\\india\\\\state\\\\puducherry\\\\2022', 'C:/Users/Vishaal Grizzly/pulse\\\\data\\\\aggregated\\\\transaction\\\\country\\\\india\\\\state\\\\punjab\\\\2018', 'C:/Users/Vishaal Grizzly/pulse\\\\data\\\\aggregated\\\\transaction\\\\country\\\\india\\\\state\\\\punjab\\\\2019', 'C:/Users/Vishaal Grizzly/pulse\\\\data\\\\aggregated\\\\transaction\\\\country\\\\india\\\\state\\\\punjab\\\\2020', 'C:/Users/Vishaal Grizzly/pulse\\\\data\\\\aggregated\\\\transaction\\\\country\\\\india\\\\state\\\\punjab\\\\2021', 'C:/Users/Vishaal Grizzly/pulse\\\\data\\\\aggregated\\\\transaction\\\\country\\\\india\\\\state\\\\punjab\\\\2022', 'C:/Users/Vishaal Grizzly/pulse\\\\data\\\\aggregated\\\\transaction\\\\country\\\\india\\\\state\\\\rajasthan\\\\2018', 'C:/Users/Vishaal Grizzly/pulse\\\\data\\\\aggregated\\\\transaction\\\\country\\\\india\\\\state\\\\rajasthan\\\\2019', 'C:/Users/Vishaal Grizzly/pulse\\\\data\\\\aggregated\\\\transaction\\\\country\\\\india\\\\state\\\\rajasthan\\\\2020', 'C:/Users/Vishaal Grizzly/pulse\\\\data\\\\aggregated\\\\transaction\\\\country\\\\india\\\\state\\\\rajasthan\\\\2021', 'C:/Users/Vishaal Grizzly/pulse\\\\data\\\\aggregated\\\\transaction\\\\country\\\\india\\\\state\\\\rajasthan\\\\2022', 'C:/Users/Vishaal Grizzly/pulse\\\\data\\\\aggregated\\\\transaction\\\\country\\\\india\\\\state\\\\sikkim\\\\2018', 'C:/Users/Vishaal Grizzly/pulse\\\\data\\\\aggregated\\\\transaction\\\\country\\\\india\\\\state\\\\sikkim\\\\2019', 'C:/Users/Vishaal Grizzly/pulse\\\\data\\\\aggregated\\\\transaction\\\\country\\\\india\\\\state\\\\sikkim\\\\2020', 'C:/Users/Vishaal Grizzly/pulse\\\\data\\\\aggregated\\\\transaction\\\\country\\\\india\\\\state\\\\sikkim\\\\2021', 'C:/Users/Vishaal Grizzly/pulse\\\\data\\\\aggregated\\\\transaction\\\\country\\\\india\\\\state\\\\sikkim\\\\2022', 'C:/Users/Vishaal Grizzly/pulse\\\\data\\\\aggregated\\\\transaction\\\\country\\\\india\\\\state\\\\tamil-nadu\\\\2018', 'C:/Users/Vishaal Grizzly/pulse\\\\data\\\\aggregated\\\\transaction\\\\country\\\\india\\\\state\\\\tamil-nadu\\\\2019', 'C:/Users/Vishaal Grizzly/pulse\\\\data\\\\aggregated\\\\transaction\\\\country\\\\india\\\\state\\\\tamil-nadu\\\\2020', 'C:/Users/Vishaal Grizzly/pulse\\\\data\\\\aggregated\\\\transaction\\\\country\\\\india\\\\state\\\\tamil-nadu\\\\2021', 'C:/Users/Vishaal Grizzly/pulse\\\\data\\\\aggregated\\\\transaction\\\\country\\\\india\\\\state\\\\tamil-nadu\\\\2022', 'C:/Users/Vishaal Grizzly/pulse\\\\data\\\\aggregated\\\\transaction\\\\country\\\\india\\\\state\\\\telangana\\\\2018', 'C:/Users/Vishaal Grizzly/pulse\\\\data\\\\aggregated\\\\transaction\\\\country\\\\india\\\\state\\\\telangana\\\\2019', 'C:/Users/Vishaal Grizzly/pulse\\\\data\\\\aggregated\\\\transaction\\\\country\\\\india\\\\state\\\\telangana\\\\2020', 'C:/Users/Vishaal Grizzly/pulse\\\\data\\\\aggregated\\\\transaction\\\\country\\\\india\\\\state\\\\telangana\\\\2021', 'C:/Users/Vishaal Grizzly/pulse\\\\data\\\\aggregated\\\\transaction\\\\country\\\\india\\\\state\\\\telangana\\\\2022', 'C:/Users/Vishaal Grizzly/pulse\\\\data\\\\aggregated\\\\transaction\\\\country\\\\india\\\\state\\\\tripura\\\\2018', 'C:/Users/Vishaal Grizzly/pulse\\\\data\\\\aggregated\\\\transaction\\\\country\\\\india\\\\state\\\\tripura\\\\2019', 'C:/Users/Vishaal Grizzly/pulse\\\\data\\\\aggregated\\\\transaction\\\\country\\\\india\\\\state\\\\tripura\\\\2020', 'C:/Users/Vishaal Grizzly/pulse\\\\data\\\\aggregated\\\\transaction\\\\country\\\\india\\\\state\\\\tripura\\\\2021', 'C:/Users/Vishaal Grizzly/pulse\\\\data\\\\aggregated\\\\transaction\\\\country\\\\india\\\\state\\\\tripura\\\\2022', 'C:/Users/Vishaal Grizzly/pulse\\\\data\\\\aggregated\\\\transaction\\\\country\\\\india\\\\state\\\\uttar-pradesh\\\\2018', 'C:/Users/Vishaal Grizzly/pulse\\\\data\\\\aggregated\\\\transaction\\\\country\\\\india\\\\state\\\\uttar-pradesh\\\\2019', 'C:/Users/Vishaal Grizzly/pulse\\\\data\\\\aggregated\\\\transaction\\\\country\\\\india\\\\state\\\\uttar-pradesh\\\\2020', 'C:/Users/Vishaal Grizzly/pulse\\\\data\\\\aggregated\\\\transaction\\\\country\\\\india\\\\state\\\\uttar-pradesh\\\\2021', 'C:/Users/Vishaal Grizzly/pulse\\\\data\\\\aggregated\\\\transaction\\\\country\\\\india\\\\state\\\\uttar-pradesh\\\\2022', 'C:/Users/Vishaal Grizzly/pulse\\\\data\\\\aggregated\\\\transaction\\\\country\\\\india\\\\state\\\\uttarakhand\\\\2018', 'C:/Users/Vishaal Grizzly/pulse\\\\data\\\\aggregated\\\\transaction\\\\country\\\\india\\\\state\\\\uttarakhand\\\\2019', 'C:/Users/Vishaal Grizzly/pulse\\\\data\\\\aggregated\\\\transaction\\\\country\\\\india\\\\state\\\\uttarakhand\\\\2020', 'C:/Users/Vishaal Grizzly/pulse\\\\data\\\\aggregated\\\\transaction\\\\country\\\\india\\\\state\\\\uttarakhand\\\\2021', 'C:/Users/Vishaal Grizzly/pulse\\\\data\\\\aggregated\\\\transaction\\\\country\\\\india\\\\state\\\\uttarakhand\\\\2022', 'C:/Users/Vishaal Grizzly/pulse\\\\data\\\\aggregated\\\\transaction\\\\country\\\\india\\\\state\\\\west-bengal\\\\2018', 'C:/Users/Vishaal Grizzly/pulse\\\\data\\\\aggregated\\\\transaction\\\\country\\\\india\\\\state\\\\west-bengal\\\\2019', 'C:/Users/Vishaal Grizzly/pulse\\\\data\\\\aggregated\\\\transaction\\\\country\\\\india\\\\state\\\\west-bengal\\\\2020', 'C:/Users/Vishaal Grizzly/pulse\\\\data\\\\aggregated\\\\transaction\\\\country\\\\india\\\\state\\\\west-bengal\\\\2021', 'C:/Users/Vishaal Grizzly/pulse\\\\data\\\\aggregated\\\\transaction\\\\country\\\\india\\\\state\\\\west-bengal\\\\2022', 'C:/Users/Vishaal Grizzly/pulse\\\\data\\\\aggregated\\\\user\\\\country', 'C:/Users/Vishaal Grizzly/pulse\\\\data\\\\aggregated\\\\user\\\\country\\\\india', 'C:/Users/Vishaal Grizzly/pulse\\\\data\\\\aggregated\\\\user\\\\country\\\\india\\\\2018', 'C:/Users/Vishaal Grizzly/pulse\\\\data\\\\aggregated\\\\user\\\\country\\\\india\\\\2019', 'C:/Users/Vishaal Grizzly/pulse\\\\data\\\\aggregated\\\\user\\\\country\\\\india\\\\2020', 'C:/Users/Vishaal Grizzly/pulse\\\\data\\\\aggregated\\\\user\\\\country\\\\india\\\\2021', 'C:/Users/Vishaal Grizzly/pulse\\\\data\\\\aggregated\\\\user\\\\country\\\\india\\\\2022', 'C:/Users/Vishaal Grizzly/pulse\\\\data\\\\aggregated\\\\user\\\\country\\\\india\\\\state', 'C:/Users/Vishaal Grizzly/pulse\\\\data\\\\aggregated\\\\user\\\\country\\\\india\\\\state\\\\andaman-&-nicobar-islands', 'C:/Users/Vishaal Grizzly/pulse\\\\data\\\\aggregated\\\\user\\\\country\\\\india\\\\state\\\\andhra-pradesh', 'C:/Users/Vishaal Grizzly/pulse\\\\data\\\\aggregated\\\\user\\\\country\\\\india\\\\state\\\\arunachal-pradesh', 'C:/Users/Vishaal Grizzly/pulse\\\\data\\\\aggregated\\\\user\\\\country\\\\india\\\\state\\\\assam', 'C:/Users/Vishaal Grizzly/pulse\\\\data\\\\aggregated\\\\user\\\\country\\\\india\\\\state\\\\bihar', 'C:/Users/Vishaal Grizzly/pulse\\\\data\\\\aggregated\\\\user\\\\country\\\\india\\\\state\\\\chandigarh', 'C:/Users/Vishaal Grizzly/pulse\\\\data\\\\aggregated\\\\user\\\\country\\\\india\\\\state\\\\chhattisgarh', 'C:/Users/Vishaal Grizzly/pulse\\\\data\\\\aggregated\\\\user\\\\country\\\\india\\\\state\\\\dadra-&-nagar-haveli-&-daman-&-diu', 'C:/Users/Vishaal Grizzly/pulse\\\\data\\\\aggregated\\\\user\\\\country\\\\india\\\\state\\\\delhi', 'C:/Users/Vishaal Grizzly/pulse\\\\data\\\\aggregated\\\\user\\\\country\\\\india\\\\state\\\\goa', 'C:/Users/Vishaal Grizzly/pulse\\\\data\\\\aggregated\\\\user\\\\country\\\\india\\\\state\\\\gujarat', 'C:/Users/Vishaal Grizzly/pulse\\\\data\\\\aggregated\\\\user\\\\country\\\\india\\\\state\\\\haryana', 'C:/Users/Vishaal Grizzly/pulse\\\\data\\\\aggregated\\\\user\\\\country\\\\india\\\\state\\\\himachal-pradesh', 'C:/Users/Vishaal Grizzly/pulse\\\\data\\\\aggregated\\\\user\\\\country\\\\india\\\\state\\\\jammu-&-kashmir', 'C:/Users/Vishaal Grizzly/pulse\\\\data\\\\aggregated\\\\user\\\\country\\\\india\\\\state\\\\jharkhand', 'C:/Users/Vishaal Grizzly/pulse\\\\data\\\\aggregated\\\\user\\\\country\\\\india\\\\state\\\\karnataka', 'C:/Users/Vishaal Grizzly/pulse\\\\data\\\\aggregated\\\\user\\\\country\\\\india\\\\state\\\\kerala', 'C:/Users/Vishaal Grizzly/pulse\\\\data\\\\aggregated\\\\user\\\\country\\\\india\\\\state\\\\ladakh', 'C:/Users/Vishaal Grizzly/pulse\\\\data\\\\aggregated\\\\user\\\\country\\\\india\\\\state\\\\lakshadweep', 'C:/Users/Vishaal Grizzly/pulse\\\\data\\\\aggregated\\\\user\\\\country\\\\india\\\\state\\\\madhya-pradesh', 'C:/Users/Vishaal Grizzly/pulse\\\\data\\\\aggregated\\\\user\\\\country\\\\india\\\\state\\\\maharashtra', 'C:/Users/Vishaal Grizzly/pulse\\\\data\\\\aggregated\\\\user\\\\country\\\\india\\\\state\\\\manipur', 'C:/Users/Vishaal Grizzly/pulse\\\\data\\\\aggregated\\\\user\\\\country\\\\india\\\\state\\\\meghalaya', 'C:/Users/Vishaal Grizzly/pulse\\\\data\\\\aggregated\\\\user\\\\country\\\\india\\\\state\\\\mizoram', 'C:/Users/Vishaal Grizzly/pulse\\\\data\\\\aggregated\\\\user\\\\country\\\\india\\\\state\\\\nagaland', 'C:/Users/Vishaal Grizzly/pulse\\\\data\\\\aggregated\\\\user\\\\country\\\\india\\\\state\\\\odisha', 'C:/Users/Vishaal Grizzly/pulse\\\\data\\\\aggregated\\\\user\\\\country\\\\india\\\\state\\\\puducherry', 'C:/Users/Vishaal Grizzly/pulse\\\\data\\\\aggregated\\\\user\\\\country\\\\india\\\\state\\\\punjab', 'C:/Users/Vishaal Grizzly/pulse\\\\data\\\\aggregated\\\\user\\\\country\\\\india\\\\state\\\\rajasthan', 'C:/Users/Vishaal Grizzly/pulse\\\\data\\\\aggregated\\\\user\\\\country\\\\india\\\\state\\\\sikkim', 'C:/Users/Vishaal Grizzly/pulse\\\\data\\\\aggregated\\\\user\\\\country\\\\india\\\\state\\\\tamil-nadu', 'C:/Users/Vishaal Grizzly/pulse\\\\data\\\\aggregated\\\\user\\\\country\\\\india\\\\state\\\\telangana', 'C:/Users/Vishaal Grizzly/pulse\\\\data\\\\aggregated\\\\user\\\\country\\\\india\\\\state\\\\tripura', 'C:/Users/Vishaal Grizzly/pulse\\\\data\\\\aggregated\\\\user\\\\country\\\\india\\\\state\\\\uttar-pradesh', 'C:/Users/Vishaal Grizzly/pulse\\\\data\\\\aggregated\\\\user\\\\country\\\\india\\\\state\\\\uttarakhand', 'C:/Users/Vishaal Grizzly/pulse\\\\data\\\\aggregated\\\\user\\\\country\\\\india\\\\state\\\\west-bengal', 'C:/Users/Vishaal Grizzly/pulse\\\\data\\\\aggregated\\\\user\\\\country\\\\india\\\\state\\\\andaman-&-nicobar-islands\\\\2018', 'C:/Users/Vishaal Grizzly/pulse\\\\data\\\\aggregated\\\\user\\\\country\\\\india\\\\state\\\\andaman-&-nicobar-islands\\\\2019', 'C:/Users/Vishaal Grizzly/pulse\\\\data\\\\aggregated\\\\user\\\\country\\\\india\\\\state\\\\andaman-&-nicobar-islands\\\\2020', 'C:/Users/Vishaal Grizzly/pulse\\\\data\\\\aggregated\\\\user\\\\country\\\\india\\\\state\\\\andaman-&-nicobar-islands\\\\2021', 'C:/Users/Vishaal Grizzly/pulse\\\\data\\\\aggregated\\\\user\\\\country\\\\india\\\\state\\\\andaman-&-nicobar-islands\\\\2022', 'C:/Users/Vishaal Grizzly/pulse\\\\data\\\\aggregated\\\\user\\\\country\\\\india\\\\state\\\\andhra-pradesh\\\\2018', 'C:/Users/Vishaal Grizzly/pulse\\\\data\\\\aggregated\\\\user\\\\country\\\\india\\\\state\\\\andhra-pradesh\\\\2019', 'C:/Users/Vishaal Grizzly/pulse\\\\data\\\\aggregated\\\\user\\\\country\\\\india\\\\state\\\\andhra-pradesh\\\\2020', 'C:/Users/Vishaal Grizzly/pulse\\\\data\\\\aggregated\\\\user\\\\country\\\\india\\\\state\\\\andhra-pradesh\\\\2021', 'C:/Users/Vishaal Grizzly/pulse\\\\data\\\\aggregated\\\\user\\\\country\\\\india\\\\state\\\\andhra-pradesh\\\\2022', 'C:/Users/Vishaal Grizzly/pulse\\\\data\\\\aggregated\\\\user\\\\country\\\\india\\\\state\\\\arunachal-pradesh\\\\2018', 'C:/Users/Vishaal Grizzly/pulse\\\\data\\\\aggregated\\\\user\\\\country\\\\india\\\\state\\\\arunachal-pradesh\\\\2019', 'C:/Users/Vishaal Grizzly/pulse\\\\data\\\\aggregated\\\\user\\\\country\\\\india\\\\state\\\\arunachal-pradesh\\\\2020', 'C:/Users/Vishaal Grizzly/pulse\\\\data\\\\aggregated\\\\user\\\\country\\\\india\\\\state\\\\arunachal-pradesh\\\\2021', 'C:/Users/Vishaal Grizzly/pulse\\\\data\\\\aggregated\\\\user\\\\country\\\\india\\\\state\\\\arunachal-pradesh\\\\2022', 'C:/Users/Vishaal Grizzly/pulse\\\\data\\\\aggregated\\\\user\\\\country\\\\india\\\\state\\\\assam\\\\2018', 'C:/Users/Vishaal Grizzly/pulse\\\\data\\\\aggregated\\\\user\\\\country\\\\india\\\\state\\\\assam\\\\2019', 'C:/Users/Vishaal Grizzly/pulse\\\\data\\\\aggregated\\\\user\\\\country\\\\india\\\\state\\\\assam\\\\2020', 'C:/Users/Vishaal Grizzly/pulse\\\\data\\\\aggregated\\\\user\\\\country\\\\india\\\\state\\\\assam\\\\2021', 'C:/Users/Vishaal Grizzly/pulse\\\\data\\\\aggregated\\\\user\\\\country\\\\india\\\\state\\\\assam\\\\2022', 'C:/Users/Vishaal Grizzly/pulse\\\\data\\\\aggregated\\\\user\\\\country\\\\india\\\\state\\\\bihar\\\\2018', 'C:/Users/Vishaal Grizzly/pulse\\\\data\\\\aggregated\\\\user\\\\country\\\\india\\\\state\\\\bihar\\\\2019', 'C:/Users/Vishaal Grizzly/pulse\\\\data\\\\aggregated\\\\user\\\\country\\\\india\\\\state\\\\bihar\\\\2020', 'C:/Users/Vishaal Grizzly/pulse\\\\data\\\\aggregated\\\\user\\\\country\\\\india\\\\state\\\\bihar\\\\2021', 'C:/Users/Vishaal Grizzly/pulse\\\\data\\\\aggregated\\\\user\\\\country\\\\india\\\\state\\\\bihar\\\\2022', 'C:/Users/Vishaal Grizzly/pulse\\\\data\\\\aggregated\\\\user\\\\country\\\\india\\\\state\\\\chandigarh\\\\2018', 'C:/Users/Vishaal Grizzly/pulse\\\\data\\\\aggregated\\\\user\\\\country\\\\india\\\\state\\\\chandigarh\\\\2019', 'C:/Users/Vishaal Grizzly/pulse\\\\data\\\\aggregated\\\\user\\\\country\\\\india\\\\state\\\\chandigarh\\\\2020', 'C:/Users/Vishaal Grizzly/pulse\\\\data\\\\aggregated\\\\user\\\\country\\\\india\\\\state\\\\chandigarh\\\\2021', 'C:/Users/Vishaal Grizzly/pulse\\\\data\\\\aggregated\\\\user\\\\country\\\\india\\\\state\\\\chandigarh\\\\2022', 'C:/Users/Vishaal Grizzly/pulse\\\\data\\\\aggregated\\\\user\\\\country\\\\india\\\\state\\\\chhattisgarh\\\\2018', 'C:/Users/Vishaal Grizzly/pulse\\\\data\\\\aggregated\\\\user\\\\country\\\\india\\\\state\\\\chhattisgarh\\\\2019', 'C:/Users/Vishaal Grizzly/pulse\\\\data\\\\aggregated\\\\user\\\\country\\\\india\\\\state\\\\chhattisgarh\\\\2020', 'C:/Users/Vishaal Grizzly/pulse\\\\data\\\\aggregated\\\\user\\\\country\\\\india\\\\state\\\\chhattisgarh\\\\2021', 'C:/Users/Vishaal Grizzly/pulse\\\\data\\\\aggregated\\\\user\\\\country\\\\india\\\\state\\\\chhattisgarh\\\\2022', 'C:/Users/Vishaal Grizzly/pulse\\\\data\\\\aggregated\\\\user\\\\country\\\\india\\\\state\\\\dadra-&-nagar-haveli-&-daman-&-diu\\\\2018', 'C:/Users/Vishaal Grizzly/pulse\\\\data\\\\aggregated\\\\user\\\\country\\\\india\\\\state\\\\dadra-&-nagar-haveli-&-daman-&-diu\\\\2019', 'C:/Users/Vishaal Grizzly/pulse\\\\data\\\\aggregated\\\\user\\\\country\\\\india\\\\state\\\\dadra-&-nagar-haveli-&-daman-&-diu\\\\2020', 'C:/Users/Vishaal Grizzly/pulse\\\\data\\\\aggregated\\\\user\\\\country\\\\india\\\\state\\\\dadra-&-nagar-haveli-&-daman-&-diu\\\\2021', 'C:/Users/Vishaal Grizzly/pulse\\\\data\\\\aggregated\\\\user\\\\country\\\\india\\\\state\\\\dadra-&-nagar-haveli-&-daman-&-diu\\\\2022', 'C:/Users/Vishaal Grizzly/pulse\\\\data\\\\aggregated\\\\user\\\\country\\\\india\\\\state\\\\delhi\\\\2018', 'C:/Users/Vishaal Grizzly/pulse\\\\data\\\\aggregated\\\\user\\\\country\\\\india\\\\state\\\\delhi\\\\2019', 'C:/Users/Vishaal Grizzly/pulse\\\\data\\\\aggregated\\\\user\\\\country\\\\india\\\\state\\\\delhi\\\\2020', 'C:/Users/Vishaal Grizzly/pulse\\\\data\\\\aggregated\\\\user\\\\country\\\\india\\\\state\\\\delhi\\\\2021', 'C:/Users/Vishaal Grizzly/pulse\\\\data\\\\aggregated\\\\user\\\\country\\\\india\\\\state\\\\delhi\\\\2022', 'C:/Users/Vishaal Grizzly/pulse\\\\data\\\\aggregated\\\\user\\\\country\\\\india\\\\state\\\\goa\\\\2018', 'C:/Users/Vishaal Grizzly/pulse\\\\data\\\\aggregated\\\\user\\\\country\\\\india\\\\state\\\\goa\\\\2019', 'C:/Users/Vishaal Grizzly/pulse\\\\data\\\\aggregated\\\\user\\\\country\\\\india\\\\state\\\\goa\\\\2020', 'C:/Users/Vishaal Grizzly/pulse\\\\data\\\\aggregated\\\\user\\\\country\\\\india\\\\state\\\\goa\\\\2021', 'C:/Users/Vishaal Grizzly/pulse\\\\data\\\\aggregated\\\\user\\\\country\\\\india\\\\state\\\\goa\\\\2022', 'C:/Users/Vishaal Grizzly/pulse\\\\data\\\\aggregated\\\\user\\\\country\\\\india\\\\state\\\\gujarat\\\\2018', 'C:/Users/Vishaal Grizzly/pulse\\\\data\\\\aggregated\\\\user\\\\country\\\\india\\\\state\\\\gujarat\\\\2019', 'C:/Users/Vishaal Grizzly/pulse\\\\data\\\\aggregated\\\\user\\\\country\\\\india\\\\state\\\\gujarat\\\\2020', 'C:/Users/Vishaal Grizzly/pulse\\\\data\\\\aggregated\\\\user\\\\country\\\\india\\\\state\\\\gujarat\\\\2021', 'C:/Users/Vishaal Grizzly/pulse\\\\data\\\\aggregated\\\\user\\\\country\\\\india\\\\state\\\\gujarat\\\\2022', 'C:/Users/Vishaal Grizzly/pulse\\\\data\\\\aggregated\\\\user\\\\country\\\\india\\\\state\\\\haryana\\\\2018', 'C:/Users/Vishaal Grizzly/pulse\\\\data\\\\aggregated\\\\user\\\\country\\\\india\\\\state\\\\haryana\\\\2019', 'C:/Users/Vishaal Grizzly/pulse\\\\data\\\\aggregated\\\\user\\\\country\\\\india\\\\state\\\\haryana\\\\2020', 'C:/Users/Vishaal Grizzly/pulse\\\\data\\\\aggregated\\\\user\\\\country\\\\india\\\\state\\\\haryana\\\\2021', 'C:/Users/Vishaal Grizzly/pulse\\\\data\\\\aggregated\\\\user\\\\country\\\\india\\\\state\\\\haryana\\\\2022', 'C:/Users/Vishaal Grizzly/pulse\\\\data\\\\aggregated\\\\user\\\\country\\\\india\\\\state\\\\himachal-pradesh\\\\2018', 'C:/Users/Vishaal Grizzly/pulse\\\\data\\\\aggregated\\\\user\\\\country\\\\india\\\\state\\\\himachal-pradesh\\\\2019', 'C:/Users/Vishaal Grizzly/pulse\\\\data\\\\aggregated\\\\user\\\\country\\\\india\\\\state\\\\himachal-pradesh\\\\2020', 'C:/Users/Vishaal Grizzly/pulse\\\\data\\\\aggregated\\\\user\\\\country\\\\india\\\\state\\\\himachal-pradesh\\\\2021', 'C:/Users/Vishaal Grizzly/pulse\\\\data\\\\aggregated\\\\user\\\\country\\\\india\\\\state\\\\himachal-pradesh\\\\2022', 'C:/Users/Vishaal Grizzly/pulse\\\\data\\\\aggregated\\\\user\\\\country\\\\india\\\\state\\\\jammu-&-kashmir\\\\2018', 'C:/Users/Vishaal Grizzly/pulse\\\\data\\\\aggregated\\\\user\\\\country\\\\india\\\\state\\\\jammu-&-kashmir\\\\2019', 'C:/Users/Vishaal Grizzly/pulse\\\\data\\\\aggregated\\\\user\\\\country\\\\india\\\\state\\\\jammu-&-kashmir\\\\2020', 'C:/Users/Vishaal Grizzly/pulse\\\\data\\\\aggregated\\\\user\\\\country\\\\india\\\\state\\\\jammu-&-kashmir\\\\2021', 'C:/Users/Vishaal Grizzly/pulse\\\\data\\\\aggregated\\\\user\\\\country\\\\india\\\\state\\\\jammu-&-kashmir\\\\2022', 'C:/Users/Vishaal Grizzly/pulse\\\\data\\\\aggregated\\\\user\\\\country\\\\india\\\\state\\\\jharkhand\\\\2018', 'C:/Users/Vishaal Grizzly/pulse\\\\data\\\\aggregated\\\\user\\\\country\\\\india\\\\state\\\\jharkhand\\\\2019', 'C:/Users/Vishaal Grizzly/pulse\\\\data\\\\aggregated\\\\user\\\\country\\\\india\\\\state\\\\jharkhand\\\\2020', 'C:/Users/Vishaal Grizzly/pulse\\\\data\\\\aggregated\\\\user\\\\country\\\\india\\\\state\\\\jharkhand\\\\2021', 'C:/Users/Vishaal Grizzly/pulse\\\\data\\\\aggregated\\\\user\\\\country\\\\india\\\\state\\\\jharkhand\\\\2022', 'C:/Users/Vishaal Grizzly/pulse\\\\data\\\\aggregated\\\\user\\\\country\\\\india\\\\state\\\\karnataka\\\\2018', 'C:/Users/Vishaal Grizzly/pulse\\\\data\\\\aggregated\\\\user\\\\country\\\\india\\\\state\\\\karnataka\\\\2019', 'C:/Users/Vishaal Grizzly/pulse\\\\data\\\\aggregated\\\\user\\\\country\\\\india\\\\state\\\\karnataka\\\\2020', 'C:/Users/Vishaal Grizzly/pulse\\\\data\\\\aggregated\\\\user\\\\country\\\\india\\\\state\\\\karnataka\\\\2021', 'C:/Users/Vishaal Grizzly/pulse\\\\data\\\\aggregated\\\\user\\\\country\\\\india\\\\state\\\\karnataka\\\\2022', 'C:/Users/Vishaal Grizzly/pulse\\\\data\\\\aggregated\\\\user\\\\country\\\\india\\\\state\\\\kerala\\\\2018', 'C:/Users/Vishaal Grizzly/pulse\\\\data\\\\aggregated\\\\user\\\\country\\\\india\\\\state\\\\kerala\\\\2019', 'C:/Users/Vishaal Grizzly/pulse\\\\data\\\\aggregated\\\\user\\\\country\\\\india\\\\state\\\\kerala\\\\2020', 'C:/Users/Vishaal Grizzly/pulse\\\\data\\\\aggregated\\\\user\\\\country\\\\india\\\\state\\\\kerala\\\\2021', 'C:/Users/Vishaal Grizzly/pulse\\\\data\\\\aggregated\\\\user\\\\country\\\\india\\\\state\\\\kerala\\\\2022', 'C:/Users/Vishaal Grizzly/pulse\\\\data\\\\aggregated\\\\user\\\\country\\\\india\\\\state\\\\ladakh\\\\2018', 'C:/Users/Vishaal Grizzly/pulse\\\\data\\\\aggregated\\\\user\\\\country\\\\india\\\\state\\\\ladakh\\\\2019', 'C:/Users/Vishaal Grizzly/pulse\\\\data\\\\aggregated\\\\user\\\\country\\\\india\\\\state\\\\ladakh\\\\2020', 'C:/Users/Vishaal Grizzly/pulse\\\\data\\\\aggregated\\\\user\\\\country\\\\india\\\\state\\\\ladakh\\\\2021', 'C:/Users/Vishaal Grizzly/pulse\\\\data\\\\aggregated\\\\user\\\\country\\\\india\\\\state\\\\ladakh\\\\2022', 'C:/Users/Vishaal Grizzly/pulse\\\\data\\\\aggregated\\\\user\\\\country\\\\india\\\\state\\\\lakshadweep\\\\2018', 'C:/Users/Vishaal Grizzly/pulse\\\\data\\\\aggregated\\\\user\\\\country\\\\india\\\\state\\\\lakshadweep\\\\2019', 'C:/Users/Vishaal Grizzly/pulse\\\\data\\\\aggregated\\\\user\\\\country\\\\india\\\\state\\\\lakshadweep\\\\2020', 'C:/Users/Vishaal Grizzly/pulse\\\\data\\\\aggregated\\\\user\\\\country\\\\india\\\\state\\\\lakshadweep\\\\2021', 'C:/Users/Vishaal Grizzly/pulse\\\\data\\\\aggregated\\\\user\\\\country\\\\india\\\\state\\\\lakshadweep\\\\2022', 'C:/Users/Vishaal Grizzly/pulse\\\\data\\\\aggregated\\\\user\\\\country\\\\india\\\\state\\\\madhya-pradesh\\\\2018', 'C:/Users/Vishaal Grizzly/pulse\\\\data\\\\aggregated\\\\user\\\\country\\\\india\\\\state\\\\madhya-pradesh\\\\2019', 'C:/Users/Vishaal Grizzly/pulse\\\\data\\\\aggregated\\\\user\\\\country\\\\india\\\\state\\\\madhya-pradesh\\\\2020', 'C:/Users/Vishaal Grizzly/pulse\\\\data\\\\aggregated\\\\user\\\\country\\\\india\\\\state\\\\madhya-pradesh\\\\2021', 'C:/Users/Vishaal Grizzly/pulse\\\\data\\\\aggregated\\\\user\\\\country\\\\india\\\\state\\\\madhya-pradesh\\\\2022', 'C:/Users/Vishaal Grizzly/pulse\\\\data\\\\aggregated\\\\user\\\\country\\\\india\\\\state\\\\maharashtra\\\\2018', 'C:/Users/Vishaal Grizzly/pulse\\\\data\\\\aggregated\\\\user\\\\country\\\\india\\\\state\\\\maharashtra\\\\2019', 'C:/Users/Vishaal Grizzly/pulse\\\\data\\\\aggregated\\\\user\\\\country\\\\india\\\\state\\\\maharashtra\\\\2020', 'C:/Users/Vishaal Grizzly/pulse\\\\data\\\\aggregated\\\\user\\\\country\\\\india\\\\state\\\\maharashtra\\\\2021', 'C:/Users/Vishaal Grizzly/pulse\\\\data\\\\aggregated\\\\user\\\\country\\\\india\\\\state\\\\maharashtra\\\\2022', 'C:/Users/Vishaal Grizzly/pulse\\\\data\\\\aggregated\\\\user\\\\country\\\\india\\\\state\\\\manipur\\\\2018', 'C:/Users/Vishaal Grizzly/pulse\\\\data\\\\aggregated\\\\user\\\\country\\\\india\\\\state\\\\manipur\\\\2019', 'C:/Users/Vishaal Grizzly/pulse\\\\data\\\\aggregated\\\\user\\\\country\\\\india\\\\state\\\\manipur\\\\2020', 'C:/Users/Vishaal Grizzly/pulse\\\\data\\\\aggregated\\\\user\\\\country\\\\india\\\\state\\\\manipur\\\\2021', 'C:/Users/Vishaal Grizzly/pulse\\\\data\\\\aggregated\\\\user\\\\country\\\\india\\\\state\\\\manipur\\\\2022', 'C:/Users/Vishaal Grizzly/pulse\\\\data\\\\aggregated\\\\user\\\\country\\\\india\\\\state\\\\meghalaya\\\\2018', 'C:/Users/Vishaal Grizzly/pulse\\\\data\\\\aggregated\\\\user\\\\country\\\\india\\\\state\\\\meghalaya\\\\2019', 'C:/Users/Vishaal Grizzly/pulse\\\\data\\\\aggregated\\\\user\\\\country\\\\india\\\\state\\\\meghalaya\\\\2020', 'C:/Users/Vishaal Grizzly/pulse\\\\data\\\\aggregated\\\\user\\\\country\\\\india\\\\state\\\\meghalaya\\\\2021', 'C:/Users/Vishaal Grizzly/pulse\\\\data\\\\aggregated\\\\user\\\\country\\\\india\\\\state\\\\meghalaya\\\\2022', 'C:/Users/Vishaal Grizzly/pulse\\\\data\\\\aggregated\\\\user\\\\country\\\\india\\\\state\\\\mizoram\\\\2018', 'C:/Users/Vishaal Grizzly/pulse\\\\data\\\\aggregated\\\\user\\\\country\\\\india\\\\state\\\\mizoram\\\\2019', 'C:/Users/Vishaal Grizzly/pulse\\\\data\\\\aggregated\\\\user\\\\country\\\\india\\\\state\\\\mizoram\\\\2020', 'C:/Users/Vishaal Grizzly/pulse\\\\data\\\\aggregated\\\\user\\\\country\\\\india\\\\state\\\\mizoram\\\\2021', 'C:/Users/Vishaal Grizzly/pulse\\\\data\\\\aggregated\\\\user\\\\country\\\\india\\\\state\\\\mizoram\\\\2022', 'C:/Users/Vishaal Grizzly/pulse\\\\data\\\\aggregated\\\\user\\\\country\\\\india\\\\state\\\\nagaland\\\\2018', 'C:/Users/Vishaal Grizzly/pulse\\\\data\\\\aggregated\\\\user\\\\country\\\\india\\\\state\\\\nagaland\\\\2019', 'C:/Users/Vishaal Grizzly/pulse\\\\data\\\\aggregated\\\\user\\\\country\\\\india\\\\state\\\\nagaland\\\\2020', 'C:/Users/Vishaal Grizzly/pulse\\\\data\\\\aggregated\\\\user\\\\country\\\\india\\\\state\\\\nagaland\\\\2021', 'C:/Users/Vishaal Grizzly/pulse\\\\data\\\\aggregated\\\\user\\\\country\\\\india\\\\state\\\\nagaland\\\\2022', 'C:/Users/Vishaal Grizzly/pulse\\\\data\\\\aggregated\\\\user\\\\country\\\\india\\\\state\\\\odisha\\\\2018', 'C:/Users/Vishaal Grizzly/pulse\\\\data\\\\aggregated\\\\user\\\\country\\\\india\\\\state\\\\odisha\\\\2019', 'C:/Users/Vishaal Grizzly/pulse\\\\data\\\\aggregated\\\\user\\\\country\\\\india\\\\state\\\\odisha\\\\2020', 'C:/Users/Vishaal Grizzly/pulse\\\\data\\\\aggregated\\\\user\\\\country\\\\india\\\\state\\\\odisha\\\\2021', 'C:/Users/Vishaal Grizzly/pulse\\\\data\\\\aggregated\\\\user\\\\country\\\\india\\\\state\\\\odisha\\\\2022', 'C:/Users/Vishaal Grizzly/pulse\\\\data\\\\aggregated\\\\user\\\\country\\\\india\\\\state\\\\puducherry\\\\2018', 'C:/Users/Vishaal Grizzly/pulse\\\\data\\\\aggregated\\\\user\\\\country\\\\india\\\\state\\\\puducherry\\\\2019', 'C:/Users/Vishaal Grizzly/pulse\\\\data\\\\aggregated\\\\user\\\\country\\\\india\\\\state\\\\puducherry\\\\2020', 'C:/Users/Vishaal Grizzly/pulse\\\\data\\\\aggregated\\\\user\\\\country\\\\india\\\\state\\\\puducherry\\\\2021', 'C:/Users/Vishaal Grizzly/pulse\\\\data\\\\aggregated\\\\user\\\\country\\\\india\\\\state\\\\puducherry\\\\2022', 'C:/Users/Vishaal Grizzly/pulse\\\\data\\\\aggregated\\\\user\\\\country\\\\india\\\\state\\\\punjab\\\\2018', 'C:/Users/Vishaal Grizzly/pulse\\\\data\\\\aggregated\\\\user\\\\country\\\\india\\\\state\\\\punjab\\\\2019', 'C:/Users/Vishaal Grizzly/pulse\\\\data\\\\aggregated\\\\user\\\\country\\\\india\\\\state\\\\punjab\\\\2020', 'C:/Users/Vishaal Grizzly/pulse\\\\data\\\\aggregated\\\\user\\\\country\\\\india\\\\state\\\\punjab\\\\2021', 'C:/Users/Vishaal Grizzly/pulse\\\\data\\\\aggregated\\\\user\\\\country\\\\india\\\\state\\\\punjab\\\\2022', 'C:/Users/Vishaal Grizzly/pulse\\\\data\\\\aggregated\\\\user\\\\country\\\\india\\\\state\\\\rajasthan\\\\2018', 'C:/Users/Vishaal Grizzly/pulse\\\\data\\\\aggregated\\\\user\\\\country\\\\india\\\\state\\\\rajasthan\\\\2019', 'C:/Users/Vishaal Grizzly/pulse\\\\data\\\\aggregated\\\\user\\\\country\\\\india\\\\state\\\\rajasthan\\\\2020', 'C:/Users/Vishaal Grizzly/pulse\\\\data\\\\aggregated\\\\user\\\\country\\\\india\\\\state\\\\rajasthan\\\\2021', 'C:/Users/Vishaal Grizzly/pulse\\\\data\\\\aggregated\\\\user\\\\country\\\\india\\\\state\\\\rajasthan\\\\2022', 'C:/Users/Vishaal Grizzly/pulse\\\\data\\\\aggregated\\\\user\\\\country\\\\india\\\\state\\\\sikkim\\\\2018', 'C:/Users/Vishaal Grizzly/pulse\\\\data\\\\aggregated\\\\user\\\\country\\\\india\\\\state\\\\sikkim\\\\2019', 'C:/Users/Vishaal Grizzly/pulse\\\\data\\\\aggregated\\\\user\\\\country\\\\india\\\\state\\\\sikkim\\\\2020', 'C:/Users/Vishaal Grizzly/pulse\\\\data\\\\aggregated\\\\user\\\\country\\\\india\\\\state\\\\sikkim\\\\2021', 'C:/Users/Vishaal Grizzly/pulse\\\\data\\\\aggregated\\\\user\\\\country\\\\india\\\\state\\\\sikkim\\\\2022', 'C:/Users/Vishaal Grizzly/pulse\\\\data\\\\aggregated\\\\user\\\\country\\\\india\\\\state\\\\tamil-nadu\\\\2018', 'C:/Users/Vishaal Grizzly/pulse\\\\data\\\\aggregated\\\\user\\\\country\\\\india\\\\state\\\\tamil-nadu\\\\2019', 'C:/Users/Vishaal Grizzly/pulse\\\\data\\\\aggregated\\\\user\\\\country\\\\india\\\\state\\\\tamil-nadu\\\\2020', 'C:/Users/Vishaal Grizzly/pulse\\\\data\\\\aggregated\\\\user\\\\country\\\\india\\\\state\\\\tamil-nadu\\\\2021', 'C:/Users/Vishaal Grizzly/pulse\\\\data\\\\aggregated\\\\user\\\\country\\\\india\\\\state\\\\tamil-nadu\\\\2022', 'C:/Users/Vishaal Grizzly/pulse\\\\data\\\\aggregated\\\\user\\\\country\\\\india\\\\state\\\\telangana\\\\2018', 'C:/Users/Vishaal Grizzly/pulse\\\\data\\\\aggregated\\\\user\\\\country\\\\india\\\\state\\\\telangana\\\\2019', 'C:/Users/Vishaal Grizzly/pulse\\\\data\\\\aggregated\\\\user\\\\country\\\\india\\\\state\\\\telangana\\\\2020', 'C:/Users/Vishaal Grizzly/pulse\\\\data\\\\aggregated\\\\user\\\\country\\\\india\\\\state\\\\telangana\\\\2021', 'C:/Users/Vishaal Grizzly/pulse\\\\data\\\\aggregated\\\\user\\\\country\\\\india\\\\state\\\\telangana\\\\2022', 'C:/Users/Vishaal Grizzly/pulse\\\\data\\\\aggregated\\\\user\\\\country\\\\india\\\\state\\\\tripura\\\\2018', 'C:/Users/Vishaal Grizzly/pulse\\\\data\\\\aggregated\\\\user\\\\country\\\\india\\\\state\\\\tripura\\\\2019', 'C:/Users/Vishaal Grizzly/pulse\\\\data\\\\aggregated\\\\user\\\\country\\\\india\\\\state\\\\tripura\\\\2020', 'C:/Users/Vishaal Grizzly/pulse\\\\data\\\\aggregated\\\\user\\\\country\\\\india\\\\state\\\\tripura\\\\2021', 'C:/Users/Vishaal Grizzly/pulse\\\\data\\\\aggregated\\\\user\\\\country\\\\india\\\\state\\\\tripura\\\\2022', 'C:/Users/Vishaal Grizzly/pulse\\\\data\\\\aggregated\\\\user\\\\country\\\\india\\\\state\\\\uttar-pradesh\\\\2018', 'C:/Users/Vishaal Grizzly/pulse\\\\data\\\\aggregated\\\\user\\\\country\\\\india\\\\state\\\\uttar-pradesh\\\\2019', 'C:/Users/Vishaal Grizzly/pulse\\\\data\\\\aggregated\\\\user\\\\country\\\\india\\\\state\\\\uttar-pradesh\\\\2020', 'C:/Users/Vishaal Grizzly/pulse\\\\data\\\\aggregated\\\\user\\\\country\\\\india\\\\state\\\\uttar-pradesh\\\\2021', 'C:/Users/Vishaal Grizzly/pulse\\\\data\\\\aggregated\\\\user\\\\country\\\\india\\\\state\\\\uttar-pradesh\\\\2022', 'C:/Users/Vishaal Grizzly/pulse\\\\data\\\\aggregated\\\\user\\\\country\\\\india\\\\state\\\\uttarakhand\\\\2018', 'C:/Users/Vishaal Grizzly/pulse\\\\data\\\\aggregated\\\\user\\\\country\\\\india\\\\state\\\\uttarakhand\\\\2019', 'C:/Users/Vishaal Grizzly/pulse\\\\data\\\\aggregated\\\\user\\\\country\\\\india\\\\state\\\\uttarakhand\\\\2020', 'C:/Users/Vishaal Grizzly/pulse\\\\data\\\\aggregated\\\\user\\\\country\\\\india\\\\state\\\\uttarakhand\\\\2021', 'C:/Users/Vishaal Grizzly/pulse\\\\data\\\\aggregated\\\\user\\\\country\\\\india\\\\state\\\\uttarakhand\\\\2022', 'C:/Users/Vishaal Grizzly/pulse\\\\data\\\\aggregated\\\\user\\\\country\\\\india\\\\state\\\\west-bengal\\\\2018', 'C:/Users/Vishaal Grizzly/pulse\\\\data\\\\aggregated\\\\user\\\\country\\\\india\\\\state\\\\west-bengal\\\\2019', 'C:/Users/Vishaal Grizzly/pulse\\\\data\\\\aggregated\\\\user\\\\country\\\\india\\\\state\\\\west-bengal\\\\2020', 'C:/Users/Vishaal Grizzly/pulse\\\\data\\\\aggregated\\\\user\\\\country\\\\india\\\\state\\\\west-bengal\\\\2021', 'C:/Users/Vishaal Grizzly/pulse\\\\data\\\\aggregated\\\\user\\\\country\\\\india\\\\state\\\\west-bengal\\\\2022', 'C:/Users/Vishaal Grizzly/pulse\\\\data\\\\map\\\\transaction', 'C:/Users/Vishaal Grizzly/pulse\\\\data\\\\map\\\\user', 'C:/Users/Vishaal Grizzly/pulse\\\\data\\\\map\\\\transaction\\\\hover', 'C:/Users/Vishaal Grizzly/pulse\\\\data\\\\map\\\\transaction\\\\hover\\\\country', 'C:/Users/Vishaal Grizzly/pulse\\\\data\\\\map\\\\transaction\\\\hover\\\\country\\\\india', 'C:/Users/Vishaal Grizzly/pulse\\\\data\\\\map\\\\transaction\\\\hover\\\\country\\\\india\\\\2018', 'C:/Users/Vishaal Grizzly/pulse\\\\data\\\\map\\\\transaction\\\\hover\\\\country\\\\india\\\\2019', 'C:/Users/Vishaal Grizzly/pulse\\\\data\\\\map\\\\transaction\\\\hover\\\\country\\\\india\\\\2020', 'C:/Users/Vishaal Grizzly/pulse\\\\data\\\\map\\\\transaction\\\\hover\\\\country\\\\india\\\\2021', 'C:/Users/Vishaal Grizzly/pulse\\\\data\\\\map\\\\transaction\\\\hover\\\\country\\\\india\\\\2022', 'C:/Users/Vishaal Grizzly/pulse\\\\data\\\\map\\\\transaction\\\\hover\\\\country\\\\india\\\\state', 'C:/Users/Vishaal Grizzly/pulse\\\\data\\\\map\\\\transaction\\\\hover\\\\country\\\\india\\\\state\\\\andaman-&-nicobar-islands', 'C:/Users/Vishaal Grizzly/pulse\\\\data\\\\map\\\\transaction\\\\hover\\\\country\\\\india\\\\state\\\\andhra-pradesh', 'C:/Users/Vishaal Grizzly/pulse\\\\data\\\\map\\\\transaction\\\\hover\\\\country\\\\india\\\\state\\\\arunachal-pradesh', 'C:/Users/Vishaal Grizzly/pulse\\\\data\\\\map\\\\transaction\\\\hover\\\\country\\\\india\\\\state\\\\assam', 'C:/Users/Vishaal Grizzly/pulse\\\\data\\\\map\\\\transaction\\\\hover\\\\country\\\\india\\\\state\\\\bihar', 'C:/Users/Vishaal Grizzly/pulse\\\\data\\\\map\\\\transaction\\\\hover\\\\country\\\\india\\\\state\\\\chandigarh', 'C:/Users/Vishaal Grizzly/pulse\\\\data\\\\map\\\\transaction\\\\hover\\\\country\\\\india\\\\state\\\\chhattisgarh', 'C:/Users/Vishaal Grizzly/pulse\\\\data\\\\map\\\\transaction\\\\hover\\\\country\\\\india\\\\state\\\\dadra-&-nagar-haveli-&-daman-&-diu', 'C:/Users/Vishaal Grizzly/pulse\\\\data\\\\map\\\\transaction\\\\hover\\\\country\\\\india\\\\state\\\\delhi', 'C:/Users/Vishaal Grizzly/pulse\\\\data\\\\map\\\\transaction\\\\hover\\\\country\\\\india\\\\state\\\\goa', 'C:/Users/Vishaal Grizzly/pulse\\\\data\\\\map\\\\transaction\\\\hover\\\\country\\\\india\\\\state\\\\gujarat', 'C:/Users/Vishaal Grizzly/pulse\\\\data\\\\map\\\\transaction\\\\hover\\\\country\\\\india\\\\state\\\\haryana', 'C:/Users/Vishaal Grizzly/pulse\\\\data\\\\map\\\\transaction\\\\hover\\\\country\\\\india\\\\state\\\\himachal-pradesh', 'C:/Users/Vishaal Grizzly/pulse\\\\data\\\\map\\\\transaction\\\\hover\\\\country\\\\india\\\\state\\\\jammu-&-kashmir', 'C:/Users/Vishaal Grizzly/pulse\\\\data\\\\map\\\\transaction\\\\hover\\\\country\\\\india\\\\state\\\\jharkhand', 'C:/Users/Vishaal Grizzly/pulse\\\\data\\\\map\\\\transaction\\\\hover\\\\country\\\\india\\\\state\\\\karnataka', 'C:/Users/Vishaal Grizzly/pulse\\\\data\\\\map\\\\transaction\\\\hover\\\\country\\\\india\\\\state\\\\kerala', 'C:/Users/Vishaal Grizzly/pulse\\\\data\\\\map\\\\transaction\\\\hover\\\\country\\\\india\\\\state\\\\ladakh', 'C:/Users/Vishaal Grizzly/pulse\\\\data\\\\map\\\\transaction\\\\hover\\\\country\\\\india\\\\state\\\\lakshadweep', 'C:/Users/Vishaal Grizzly/pulse\\\\data\\\\map\\\\transaction\\\\hover\\\\country\\\\india\\\\state\\\\madhya-pradesh', 'C:/Users/Vishaal Grizzly/pulse\\\\data\\\\map\\\\transaction\\\\hover\\\\country\\\\india\\\\state\\\\maharashtra', 'C:/Users/Vishaal Grizzly/pulse\\\\data\\\\map\\\\transaction\\\\hover\\\\country\\\\india\\\\state\\\\manipur', 'C:/Users/Vishaal Grizzly/pulse\\\\data\\\\map\\\\transaction\\\\hover\\\\country\\\\india\\\\state\\\\meghalaya', 'C:/Users/Vishaal Grizzly/pulse\\\\data\\\\map\\\\transaction\\\\hover\\\\country\\\\india\\\\state\\\\mizoram', 'C:/Users/Vishaal Grizzly/pulse\\\\data\\\\map\\\\transaction\\\\hover\\\\country\\\\india\\\\state\\\\nagaland', 'C:/Users/Vishaal Grizzly/pulse\\\\data\\\\map\\\\transaction\\\\hover\\\\country\\\\india\\\\state\\\\odisha', 'C:/Users/Vishaal Grizzly/pulse\\\\data\\\\map\\\\transaction\\\\hover\\\\country\\\\india\\\\state\\\\puducherry', 'C:/Users/Vishaal Grizzly/pulse\\\\data\\\\map\\\\transaction\\\\hover\\\\country\\\\india\\\\state\\\\punjab', 'C:/Users/Vishaal Grizzly/pulse\\\\data\\\\map\\\\transaction\\\\hover\\\\country\\\\india\\\\state\\\\rajasthan', 'C:/Users/Vishaal Grizzly/pulse\\\\data\\\\map\\\\transaction\\\\hover\\\\country\\\\india\\\\state\\\\sikkim', 'C:/Users/Vishaal Grizzly/pulse\\\\data\\\\map\\\\transaction\\\\hover\\\\country\\\\india\\\\state\\\\tamil-nadu', 'C:/Users/Vishaal Grizzly/pulse\\\\data\\\\map\\\\transaction\\\\hover\\\\country\\\\india\\\\state\\\\telangana', 'C:/Users/Vishaal Grizzly/pulse\\\\data\\\\map\\\\transaction\\\\hover\\\\country\\\\india\\\\state\\\\tripura', 'C:/Users/Vishaal Grizzly/pulse\\\\data\\\\map\\\\transaction\\\\hover\\\\country\\\\india\\\\state\\\\uttar-pradesh', 'C:/Users/Vishaal Grizzly/pulse\\\\data\\\\map\\\\transaction\\\\hover\\\\country\\\\india\\\\state\\\\uttarakhand', 'C:/Users/Vishaal Grizzly/pulse\\\\data\\\\map\\\\transaction\\\\hover\\\\country\\\\india\\\\state\\\\west-bengal', 'C:/Users/Vishaal Grizzly/pulse\\\\data\\\\map\\\\transaction\\\\hover\\\\country\\\\india\\\\state\\\\andaman-&-nicobar-islands\\\\2018', 'C:/Users/Vishaal Grizzly/pulse\\\\data\\\\map\\\\transaction\\\\hover\\\\country\\\\india\\\\state\\\\andaman-&-nicobar-islands\\\\2019', 'C:/Users/Vishaal Grizzly/pulse\\\\data\\\\map\\\\transaction\\\\hover\\\\country\\\\india\\\\state\\\\andaman-&-nicobar-islands\\\\2020', 'C:/Users/Vishaal Grizzly/pulse\\\\data\\\\map\\\\transaction\\\\hover\\\\country\\\\india\\\\state\\\\andaman-&-nicobar-islands\\\\2021', 'C:/Users/Vishaal Grizzly/pulse\\\\data\\\\map\\\\transaction\\\\hover\\\\country\\\\india\\\\state\\\\andaman-&-nicobar-islands\\\\2022', 'C:/Users/Vishaal Grizzly/pulse\\\\data\\\\map\\\\transaction\\\\hover\\\\country\\\\india\\\\state\\\\andhra-pradesh\\\\2018', 'C:/Users/Vishaal Grizzly/pulse\\\\data\\\\map\\\\transaction\\\\hover\\\\country\\\\india\\\\state\\\\andhra-pradesh\\\\2019', 'C:/Users/Vishaal Grizzly/pulse\\\\data\\\\map\\\\transaction\\\\hover\\\\country\\\\india\\\\state\\\\andhra-pradesh\\\\2020', 'C:/Users/Vishaal Grizzly/pulse\\\\data\\\\map\\\\transaction\\\\hover\\\\country\\\\india\\\\state\\\\andhra-pradesh\\\\2021', 'C:/Users/Vishaal Grizzly/pulse\\\\data\\\\map\\\\transaction\\\\hover\\\\country\\\\india\\\\state\\\\andhra-pradesh\\\\2022', 'C:/Users/Vishaal Grizzly/pulse\\\\data\\\\map\\\\transaction\\\\hover\\\\country\\\\india\\\\state\\\\arunachal-pradesh\\\\2018', 'C:/Users/Vishaal Grizzly/pulse\\\\data\\\\map\\\\transaction\\\\hover\\\\country\\\\india\\\\state\\\\arunachal-pradesh\\\\2019', 'C:/Users/Vishaal Grizzly/pulse\\\\data\\\\map\\\\transaction\\\\hover\\\\country\\\\india\\\\state\\\\arunachal-pradesh\\\\2020', 'C:/Users/Vishaal Grizzly/pulse\\\\data\\\\map\\\\transaction\\\\hover\\\\country\\\\india\\\\state\\\\arunachal-pradesh\\\\2021', 'C:/Users/Vishaal Grizzly/pulse\\\\data\\\\map\\\\transaction\\\\hover\\\\country\\\\india\\\\state\\\\arunachal-pradesh\\\\2022', 'C:/Users/Vishaal Grizzly/pulse\\\\data\\\\map\\\\transaction\\\\hover\\\\country\\\\india\\\\state\\\\assam\\\\2018', 'C:/Users/Vishaal Grizzly/pulse\\\\data\\\\map\\\\transaction\\\\hover\\\\country\\\\india\\\\state\\\\assam\\\\2019', 'C:/Users/Vishaal Grizzly/pulse\\\\data\\\\map\\\\transaction\\\\hover\\\\country\\\\india\\\\state\\\\assam\\\\2020', 'C:/Users/Vishaal Grizzly/pulse\\\\data\\\\map\\\\transaction\\\\hover\\\\country\\\\india\\\\state\\\\assam\\\\2021', 'C:/Users/Vishaal Grizzly/pulse\\\\data\\\\map\\\\transaction\\\\hover\\\\country\\\\india\\\\state\\\\assam\\\\2022', 'C:/Users/Vishaal Grizzly/pulse\\\\data\\\\map\\\\transaction\\\\hover\\\\country\\\\india\\\\state\\\\bihar\\\\2018', 'C:/Users/Vishaal Grizzly/pulse\\\\data\\\\map\\\\transaction\\\\hover\\\\country\\\\india\\\\state\\\\bihar\\\\2019', 'C:/Users/Vishaal Grizzly/pulse\\\\data\\\\map\\\\transaction\\\\hover\\\\country\\\\india\\\\state\\\\bihar\\\\2020', 'C:/Users/Vishaal Grizzly/pulse\\\\data\\\\map\\\\transaction\\\\hover\\\\country\\\\india\\\\state\\\\bihar\\\\2021', 'C:/Users/Vishaal Grizzly/pulse\\\\data\\\\map\\\\transaction\\\\hover\\\\country\\\\india\\\\state\\\\bihar\\\\2022', 'C:/Users/Vishaal Grizzly/pulse\\\\data\\\\map\\\\transaction\\\\hover\\\\country\\\\india\\\\state\\\\chandigarh\\\\2018', 'C:/Users/Vishaal Grizzly/pulse\\\\data\\\\map\\\\transaction\\\\hover\\\\country\\\\india\\\\state\\\\chandigarh\\\\2019', 'C:/Users/Vishaal Grizzly/pulse\\\\data\\\\map\\\\transaction\\\\hover\\\\country\\\\india\\\\state\\\\chandigarh\\\\2020', 'C:/Users/Vishaal Grizzly/pulse\\\\data\\\\map\\\\transaction\\\\hover\\\\country\\\\india\\\\state\\\\chandigarh\\\\2021', 'C:/Users/Vishaal Grizzly/pulse\\\\data\\\\map\\\\transaction\\\\hover\\\\country\\\\india\\\\state\\\\chandigarh\\\\2022', 'C:/Users/Vishaal Grizzly/pulse\\\\data\\\\map\\\\transaction\\\\hover\\\\country\\\\india\\\\state\\\\chhattisgarh\\\\2018', 'C:/Users/Vishaal Grizzly/pulse\\\\data\\\\map\\\\transaction\\\\hover\\\\country\\\\india\\\\state\\\\chhattisgarh\\\\2019', 'C:/Users/Vishaal Grizzly/pulse\\\\data\\\\map\\\\transaction\\\\hover\\\\country\\\\india\\\\state\\\\chhattisgarh\\\\2020', 'C:/Users/Vishaal Grizzly/pulse\\\\data\\\\map\\\\transaction\\\\hover\\\\country\\\\india\\\\state\\\\chhattisgarh\\\\2021', 'C:/Users/Vishaal Grizzly/pulse\\\\data\\\\map\\\\transaction\\\\hover\\\\country\\\\india\\\\state\\\\chhattisgarh\\\\2022', 'C:/Users/Vishaal Grizzly/pulse\\\\data\\\\map\\\\transaction\\\\hover\\\\country\\\\india\\\\state\\\\dadra-&-nagar-haveli-&-daman-&-diu\\\\2018', 'C:/Users/Vishaal Grizzly/pulse\\\\data\\\\map\\\\transaction\\\\hover\\\\country\\\\india\\\\state\\\\dadra-&-nagar-haveli-&-daman-&-diu\\\\2019', 'C:/Users/Vishaal Grizzly/pulse\\\\data\\\\map\\\\transaction\\\\hover\\\\country\\\\india\\\\state\\\\dadra-&-nagar-haveli-&-daman-&-diu\\\\2020', 'C:/Users/Vishaal Grizzly/pulse\\\\data\\\\map\\\\transaction\\\\hover\\\\country\\\\india\\\\state\\\\dadra-&-nagar-haveli-&-daman-&-diu\\\\2021', 'C:/Users/Vishaal Grizzly/pulse\\\\data\\\\map\\\\transaction\\\\hover\\\\country\\\\india\\\\state\\\\dadra-&-nagar-haveli-&-daman-&-diu\\\\2022', 'C:/Users/Vishaal Grizzly/pulse\\\\data\\\\map\\\\transaction\\\\hover\\\\country\\\\india\\\\state\\\\delhi\\\\2018', 'C:/Users/Vishaal Grizzly/pulse\\\\data\\\\map\\\\transaction\\\\hover\\\\country\\\\india\\\\state\\\\delhi\\\\2019', 'C:/Users/Vishaal Grizzly/pulse\\\\data\\\\map\\\\transaction\\\\hover\\\\country\\\\india\\\\state\\\\delhi\\\\2020', 'C:/Users/Vishaal Grizzly/pulse\\\\data\\\\map\\\\transaction\\\\hover\\\\country\\\\india\\\\state\\\\delhi\\\\2021', 'C:/Users/Vishaal Grizzly/pulse\\\\data\\\\map\\\\transaction\\\\hover\\\\country\\\\india\\\\state\\\\delhi\\\\2022', 'C:/Users/Vishaal Grizzly/pulse\\\\data\\\\map\\\\transaction\\\\hover\\\\country\\\\india\\\\state\\\\goa\\\\2018', 'C:/Users/Vishaal Grizzly/pulse\\\\data\\\\map\\\\transaction\\\\hover\\\\country\\\\india\\\\state\\\\goa\\\\2019', 'C:/Users/Vishaal Grizzly/pulse\\\\data\\\\map\\\\transaction\\\\hover\\\\country\\\\india\\\\state\\\\goa\\\\2020', 'C:/Users/Vishaal Grizzly/pulse\\\\data\\\\map\\\\transaction\\\\hover\\\\country\\\\india\\\\state\\\\goa\\\\2021', 'C:/Users/Vishaal Grizzly/pulse\\\\data\\\\map\\\\transaction\\\\hover\\\\country\\\\india\\\\state\\\\goa\\\\2022', 'C:/Users/Vishaal Grizzly/pulse\\\\data\\\\map\\\\transaction\\\\hover\\\\country\\\\india\\\\state\\\\gujarat\\\\2018', 'C:/Users/Vishaal Grizzly/pulse\\\\data\\\\map\\\\transaction\\\\hover\\\\country\\\\india\\\\state\\\\gujarat\\\\2019', 'C:/Users/Vishaal Grizzly/pulse\\\\data\\\\map\\\\transaction\\\\hover\\\\country\\\\india\\\\state\\\\gujarat\\\\2020', 'C:/Users/Vishaal Grizzly/pulse\\\\data\\\\map\\\\transaction\\\\hover\\\\country\\\\india\\\\state\\\\gujarat\\\\2021', 'C:/Users/Vishaal Grizzly/pulse\\\\data\\\\map\\\\transaction\\\\hover\\\\country\\\\india\\\\state\\\\gujarat\\\\2022', 'C:/Users/Vishaal Grizzly/pulse\\\\data\\\\map\\\\transaction\\\\hover\\\\country\\\\india\\\\state\\\\haryana\\\\2018', 'C:/Users/Vishaal Grizzly/pulse\\\\data\\\\map\\\\transaction\\\\hover\\\\country\\\\india\\\\state\\\\haryana\\\\2019', 'C:/Users/Vishaal Grizzly/pulse\\\\data\\\\map\\\\transaction\\\\hover\\\\country\\\\india\\\\state\\\\haryana\\\\2020', 'C:/Users/Vishaal Grizzly/pulse\\\\data\\\\map\\\\transaction\\\\hover\\\\country\\\\india\\\\state\\\\haryana\\\\2021', 'C:/Users/Vishaal Grizzly/pulse\\\\data\\\\map\\\\transaction\\\\hover\\\\country\\\\india\\\\state\\\\haryana\\\\2022', 'C:/Users/Vishaal Grizzly/pulse\\\\data\\\\map\\\\transaction\\\\hover\\\\country\\\\india\\\\state\\\\himachal-pradesh\\\\2018', 'C:/Users/Vishaal Grizzly/pulse\\\\data\\\\map\\\\transaction\\\\hover\\\\country\\\\india\\\\state\\\\himachal-pradesh\\\\2019', 'C:/Users/Vishaal Grizzly/pulse\\\\data\\\\map\\\\transaction\\\\hover\\\\country\\\\india\\\\state\\\\himachal-pradesh\\\\2020', 'C:/Users/Vishaal Grizzly/pulse\\\\data\\\\map\\\\transaction\\\\hover\\\\country\\\\india\\\\state\\\\himachal-pradesh\\\\2021', 'C:/Users/Vishaal Grizzly/pulse\\\\data\\\\map\\\\transaction\\\\hover\\\\country\\\\india\\\\state\\\\himachal-pradesh\\\\2022', 'C:/Users/Vishaal Grizzly/pulse\\\\data\\\\map\\\\transaction\\\\hover\\\\country\\\\india\\\\state\\\\jammu-&-kashmir\\\\2018', 'C:/Users/Vishaal Grizzly/pulse\\\\data\\\\map\\\\transaction\\\\hover\\\\country\\\\india\\\\state\\\\jammu-&-kashmir\\\\2019', 'C:/Users/Vishaal Grizzly/pulse\\\\data\\\\map\\\\transaction\\\\hover\\\\country\\\\india\\\\state\\\\jammu-&-kashmir\\\\2020', 'C:/Users/Vishaal Grizzly/pulse\\\\data\\\\map\\\\transaction\\\\hover\\\\country\\\\india\\\\state\\\\jammu-&-kashmir\\\\2021', 'C:/Users/Vishaal Grizzly/pulse\\\\data\\\\map\\\\transaction\\\\hover\\\\country\\\\india\\\\state\\\\jammu-&-kashmir\\\\2022', 'C:/Users/Vishaal Grizzly/pulse\\\\data\\\\map\\\\transaction\\\\hover\\\\country\\\\india\\\\state\\\\jharkhand\\\\2018', 'C:/Users/Vishaal Grizzly/pulse\\\\data\\\\map\\\\transaction\\\\hover\\\\country\\\\india\\\\state\\\\jharkhand\\\\2019', 'C:/Users/Vishaal Grizzly/pulse\\\\data\\\\map\\\\transaction\\\\hover\\\\country\\\\india\\\\state\\\\jharkhand\\\\2020', 'C:/Users/Vishaal Grizzly/pulse\\\\data\\\\map\\\\transaction\\\\hover\\\\country\\\\india\\\\state\\\\jharkhand\\\\2021', 'C:/Users/Vishaal Grizzly/pulse\\\\data\\\\map\\\\transaction\\\\hover\\\\country\\\\india\\\\state\\\\jharkhand\\\\2022', 'C:/Users/Vishaal Grizzly/pulse\\\\data\\\\map\\\\transaction\\\\hover\\\\country\\\\india\\\\state\\\\karnataka\\\\2018', 'C:/Users/Vishaal Grizzly/pulse\\\\data\\\\map\\\\transaction\\\\hover\\\\country\\\\india\\\\state\\\\karnataka\\\\2019', 'C:/Users/Vishaal Grizzly/pulse\\\\data\\\\map\\\\transaction\\\\hover\\\\country\\\\india\\\\state\\\\karnataka\\\\2020', 'C:/Users/Vishaal Grizzly/pulse\\\\data\\\\map\\\\transaction\\\\hover\\\\country\\\\india\\\\state\\\\karnataka\\\\2021', 'C:/Users/Vishaal Grizzly/pulse\\\\data\\\\map\\\\transaction\\\\hover\\\\country\\\\india\\\\state\\\\karnataka\\\\2022', 'C:/Users/Vishaal Grizzly/pulse\\\\data\\\\map\\\\transaction\\\\hover\\\\country\\\\india\\\\state\\\\kerala\\\\2018', 'C:/Users/Vishaal Grizzly/pulse\\\\data\\\\map\\\\transaction\\\\hover\\\\country\\\\india\\\\state\\\\kerala\\\\2019', 'C:/Users/Vishaal Grizzly/pulse\\\\data\\\\map\\\\transaction\\\\hover\\\\country\\\\india\\\\state\\\\kerala\\\\2020', 'C:/Users/Vishaal Grizzly/pulse\\\\data\\\\map\\\\transaction\\\\hover\\\\country\\\\india\\\\state\\\\kerala\\\\2021', 'C:/Users/Vishaal Grizzly/pulse\\\\data\\\\map\\\\transaction\\\\hover\\\\country\\\\india\\\\state\\\\kerala\\\\2022', 'C:/Users/Vishaal Grizzly/pulse\\\\data\\\\map\\\\transaction\\\\hover\\\\country\\\\india\\\\state\\\\ladakh\\\\2018', 'C:/Users/Vishaal Grizzly/pulse\\\\data\\\\map\\\\transaction\\\\hover\\\\country\\\\india\\\\state\\\\ladakh\\\\2019', 'C:/Users/Vishaal Grizzly/pulse\\\\data\\\\map\\\\transaction\\\\hover\\\\country\\\\india\\\\state\\\\ladakh\\\\2020', 'C:/Users/Vishaal Grizzly/pulse\\\\data\\\\map\\\\transaction\\\\hover\\\\country\\\\india\\\\state\\\\ladakh\\\\2021', 'C:/Users/Vishaal Grizzly/pulse\\\\data\\\\map\\\\transaction\\\\hover\\\\country\\\\india\\\\state\\\\ladakh\\\\2022', 'C:/Users/Vishaal Grizzly/pulse\\\\data\\\\map\\\\transaction\\\\hover\\\\country\\\\india\\\\state\\\\lakshadweep\\\\2018', 'C:/Users/Vishaal Grizzly/pulse\\\\data\\\\map\\\\transaction\\\\hover\\\\country\\\\india\\\\state\\\\lakshadweep\\\\2019', 'C:/Users/Vishaal Grizzly/pulse\\\\data\\\\map\\\\transaction\\\\hover\\\\country\\\\india\\\\state\\\\lakshadweep\\\\2020', 'C:/Users/Vishaal Grizzly/pulse\\\\data\\\\map\\\\transaction\\\\hover\\\\country\\\\india\\\\state\\\\lakshadweep\\\\2021', 'C:/Users/Vishaal Grizzly/pulse\\\\data\\\\map\\\\transaction\\\\hover\\\\country\\\\india\\\\state\\\\lakshadweep\\\\2022', 'C:/Users/Vishaal Grizzly/pulse\\\\data\\\\map\\\\transaction\\\\hover\\\\country\\\\india\\\\state\\\\madhya-pradesh\\\\2018', 'C:/Users/Vishaal Grizzly/pulse\\\\data\\\\map\\\\transaction\\\\hover\\\\country\\\\india\\\\state\\\\madhya-pradesh\\\\2019', 'C:/Users/Vishaal Grizzly/pulse\\\\data\\\\map\\\\transaction\\\\hover\\\\country\\\\india\\\\state\\\\madhya-pradesh\\\\2020', 'C:/Users/Vishaal Grizzly/pulse\\\\data\\\\map\\\\transaction\\\\hover\\\\country\\\\india\\\\state\\\\madhya-pradesh\\\\2021', 'C:/Users/Vishaal Grizzly/pulse\\\\data\\\\map\\\\transaction\\\\hover\\\\country\\\\india\\\\state\\\\madhya-pradesh\\\\2022', 'C:/Users/Vishaal Grizzly/pulse\\\\data\\\\map\\\\transaction\\\\hover\\\\country\\\\india\\\\state\\\\maharashtra\\\\2018', 'C:/Users/Vishaal Grizzly/pulse\\\\data\\\\map\\\\transaction\\\\hover\\\\country\\\\india\\\\state\\\\maharashtra\\\\2019', 'C:/Users/Vishaal Grizzly/pulse\\\\data\\\\map\\\\transaction\\\\hover\\\\country\\\\india\\\\state\\\\maharashtra\\\\2020', 'C:/Users/Vishaal Grizzly/pulse\\\\data\\\\map\\\\transaction\\\\hover\\\\country\\\\india\\\\state\\\\maharashtra\\\\2021', 'C:/Users/Vishaal Grizzly/pulse\\\\data\\\\map\\\\transaction\\\\hover\\\\country\\\\india\\\\state\\\\maharashtra\\\\2022', 'C:/Users/Vishaal Grizzly/pulse\\\\data\\\\map\\\\transaction\\\\hover\\\\country\\\\india\\\\state\\\\manipur\\\\2018', 'C:/Users/Vishaal Grizzly/pulse\\\\data\\\\map\\\\transaction\\\\hover\\\\country\\\\india\\\\state\\\\manipur\\\\2019', 'C:/Users/Vishaal Grizzly/pulse\\\\data\\\\map\\\\transaction\\\\hover\\\\country\\\\india\\\\state\\\\manipur\\\\2020', 'C:/Users/Vishaal Grizzly/pulse\\\\data\\\\map\\\\transaction\\\\hover\\\\country\\\\india\\\\state\\\\manipur\\\\2021', 'C:/Users/Vishaal Grizzly/pulse\\\\data\\\\map\\\\transaction\\\\hover\\\\country\\\\india\\\\state\\\\manipur\\\\2022', 'C:/Users/Vishaal Grizzly/pulse\\\\data\\\\map\\\\transaction\\\\hover\\\\country\\\\india\\\\state\\\\meghalaya\\\\2018', 'C:/Users/Vishaal Grizzly/pulse\\\\data\\\\map\\\\transaction\\\\hover\\\\country\\\\india\\\\state\\\\meghalaya\\\\2019', 'C:/Users/Vishaal Grizzly/pulse\\\\data\\\\map\\\\transaction\\\\hover\\\\country\\\\india\\\\state\\\\meghalaya\\\\2020', 'C:/Users/Vishaal Grizzly/pulse\\\\data\\\\map\\\\transaction\\\\hover\\\\country\\\\india\\\\state\\\\meghalaya\\\\2021', 'C:/Users/Vishaal Grizzly/pulse\\\\data\\\\map\\\\transaction\\\\hover\\\\country\\\\india\\\\state\\\\meghalaya\\\\2022', 'C:/Users/Vishaal Grizzly/pulse\\\\data\\\\map\\\\transaction\\\\hover\\\\country\\\\india\\\\state\\\\mizoram\\\\2018', 'C:/Users/Vishaal Grizzly/pulse\\\\data\\\\map\\\\transaction\\\\hover\\\\country\\\\india\\\\state\\\\mizoram\\\\2019', 'C:/Users/Vishaal Grizzly/pulse\\\\data\\\\map\\\\transaction\\\\hover\\\\country\\\\india\\\\state\\\\mizoram\\\\2020', 'C:/Users/Vishaal Grizzly/pulse\\\\data\\\\map\\\\transaction\\\\hover\\\\country\\\\india\\\\state\\\\mizoram\\\\2021', 'C:/Users/Vishaal Grizzly/pulse\\\\data\\\\map\\\\transaction\\\\hover\\\\country\\\\india\\\\state\\\\mizoram\\\\2022', 'C:/Users/Vishaal Grizzly/pulse\\\\data\\\\map\\\\transaction\\\\hover\\\\country\\\\india\\\\state\\\\nagaland\\\\2018', 'C:/Users/Vishaal Grizzly/pulse\\\\data\\\\map\\\\transaction\\\\hover\\\\country\\\\india\\\\state\\\\nagaland\\\\2019', 'C:/Users/Vishaal Grizzly/pulse\\\\data\\\\map\\\\transaction\\\\hover\\\\country\\\\india\\\\state\\\\nagaland\\\\2020', 'C:/Users/Vishaal Grizzly/pulse\\\\data\\\\map\\\\transaction\\\\hover\\\\country\\\\india\\\\state\\\\nagaland\\\\2021', 'C:/Users/Vishaal Grizzly/pulse\\\\data\\\\map\\\\transaction\\\\hover\\\\country\\\\india\\\\state\\\\nagaland\\\\2022', 'C:/Users/Vishaal Grizzly/pulse\\\\data\\\\map\\\\transaction\\\\hover\\\\country\\\\india\\\\state\\\\odisha\\\\2018', 'C:/Users/Vishaal Grizzly/pulse\\\\data\\\\map\\\\transaction\\\\hover\\\\country\\\\india\\\\state\\\\odisha\\\\2019', 'C:/Users/Vishaal Grizzly/pulse\\\\data\\\\map\\\\transaction\\\\hover\\\\country\\\\india\\\\state\\\\odisha\\\\2020', 'C:/Users/Vishaal Grizzly/pulse\\\\data\\\\map\\\\transaction\\\\hover\\\\country\\\\india\\\\state\\\\odisha\\\\2021', 'C:/Users/Vishaal Grizzly/pulse\\\\data\\\\map\\\\transaction\\\\hover\\\\country\\\\india\\\\state\\\\odisha\\\\2022', 'C:/Users/Vishaal Grizzly/pulse\\\\data\\\\map\\\\transaction\\\\hover\\\\country\\\\india\\\\state\\\\puducherry\\\\2018', 'C:/Users/Vishaal Grizzly/pulse\\\\data\\\\map\\\\transaction\\\\hover\\\\country\\\\india\\\\state\\\\puducherry\\\\2019', 'C:/Users/Vishaal Grizzly/pulse\\\\data\\\\map\\\\transaction\\\\hover\\\\country\\\\india\\\\state\\\\puducherry\\\\2020', 'C:/Users/Vishaal Grizzly/pulse\\\\data\\\\map\\\\transaction\\\\hover\\\\country\\\\india\\\\state\\\\puducherry\\\\2021', 'C:/Users/Vishaal Grizzly/pulse\\\\data\\\\map\\\\transaction\\\\hover\\\\country\\\\india\\\\state\\\\puducherry\\\\2022', 'C:/Users/Vishaal Grizzly/pulse\\\\data\\\\map\\\\transaction\\\\hover\\\\country\\\\india\\\\state\\\\punjab\\\\2018', 'C:/Users/Vishaal Grizzly/pulse\\\\data\\\\map\\\\transaction\\\\hover\\\\country\\\\india\\\\state\\\\punjab\\\\2019', 'C:/Users/Vishaal Grizzly/pulse\\\\data\\\\map\\\\transaction\\\\hover\\\\country\\\\india\\\\state\\\\punjab\\\\2020', 'C:/Users/Vishaal Grizzly/pulse\\\\data\\\\map\\\\transaction\\\\hover\\\\country\\\\india\\\\state\\\\punjab\\\\2021', 'C:/Users/Vishaal Grizzly/pulse\\\\data\\\\map\\\\transaction\\\\hover\\\\country\\\\india\\\\state\\\\punjab\\\\2022', 'C:/Users/Vishaal Grizzly/pulse\\\\data\\\\map\\\\transaction\\\\hover\\\\country\\\\india\\\\state\\\\rajasthan\\\\2018', 'C:/Users/Vishaal Grizzly/pulse\\\\data\\\\map\\\\transaction\\\\hover\\\\country\\\\india\\\\state\\\\rajasthan\\\\2019', 'C:/Users/Vishaal Grizzly/pulse\\\\data\\\\map\\\\transaction\\\\hover\\\\country\\\\india\\\\state\\\\rajasthan\\\\2020', 'C:/Users/Vishaal Grizzly/pulse\\\\data\\\\map\\\\transaction\\\\hover\\\\country\\\\india\\\\state\\\\rajasthan\\\\2021', 'C:/Users/Vishaal Grizzly/pulse\\\\data\\\\map\\\\transaction\\\\hover\\\\country\\\\india\\\\state\\\\rajasthan\\\\2022', 'C:/Users/Vishaal Grizzly/pulse\\\\data\\\\map\\\\transaction\\\\hover\\\\country\\\\india\\\\state\\\\sikkim\\\\2018', 'C:/Users/Vishaal Grizzly/pulse\\\\data\\\\map\\\\transaction\\\\hover\\\\country\\\\india\\\\state\\\\sikkim\\\\2019', 'C:/Users/Vishaal Grizzly/pulse\\\\data\\\\map\\\\transaction\\\\hover\\\\country\\\\india\\\\state\\\\sikkim\\\\2020', 'C:/Users/Vishaal Grizzly/pulse\\\\data\\\\map\\\\transaction\\\\hover\\\\country\\\\india\\\\state\\\\sikkim\\\\2021', 'C:/Users/Vishaal Grizzly/pulse\\\\data\\\\map\\\\transaction\\\\hover\\\\country\\\\india\\\\state\\\\sikkim\\\\2022', 'C:/Users/Vishaal Grizzly/pulse\\\\data\\\\map\\\\transaction\\\\hover\\\\country\\\\india\\\\state\\\\tamil-nadu\\\\2018', 'C:/Users/Vishaal Grizzly/pulse\\\\data\\\\map\\\\transaction\\\\hover\\\\country\\\\india\\\\state\\\\tamil-nadu\\\\2019', 'C:/Users/Vishaal Grizzly/pulse\\\\data\\\\map\\\\transaction\\\\hover\\\\country\\\\india\\\\state\\\\tamil-nadu\\\\2020', 'C:/Users/Vishaal Grizzly/pulse\\\\data\\\\map\\\\transaction\\\\hover\\\\country\\\\india\\\\state\\\\tamil-nadu\\\\2021', 'C:/Users/Vishaal Grizzly/pulse\\\\data\\\\map\\\\transaction\\\\hover\\\\country\\\\india\\\\state\\\\tamil-nadu\\\\2022', 'C:/Users/Vishaal Grizzly/pulse\\\\data\\\\map\\\\transaction\\\\hover\\\\country\\\\india\\\\state\\\\telangana\\\\2018', 'C:/Users/Vishaal Grizzly/pulse\\\\data\\\\map\\\\transaction\\\\hover\\\\country\\\\india\\\\state\\\\telangana\\\\2019', 'C:/Users/Vishaal Grizzly/pulse\\\\data\\\\map\\\\transaction\\\\hover\\\\country\\\\india\\\\state\\\\telangana\\\\2020', 'C:/Users/Vishaal Grizzly/pulse\\\\data\\\\map\\\\transaction\\\\hover\\\\country\\\\india\\\\state\\\\telangana\\\\2021', 'C:/Users/Vishaal Grizzly/pulse\\\\data\\\\map\\\\transaction\\\\hover\\\\country\\\\india\\\\state\\\\telangana\\\\2022', 'C:/Users/Vishaal Grizzly/pulse\\\\data\\\\map\\\\transaction\\\\hover\\\\country\\\\india\\\\state\\\\tripura\\\\2018', 'C:/Users/Vishaal Grizzly/pulse\\\\data\\\\map\\\\transaction\\\\hover\\\\country\\\\india\\\\state\\\\tripura\\\\2019', 'C:/Users/Vishaal Grizzly/pulse\\\\data\\\\map\\\\transaction\\\\hover\\\\country\\\\india\\\\state\\\\tripura\\\\2020', 'C:/Users/Vishaal Grizzly/pulse\\\\data\\\\map\\\\transaction\\\\hover\\\\country\\\\india\\\\state\\\\tripura\\\\2021', 'C:/Users/Vishaal Grizzly/pulse\\\\data\\\\map\\\\transaction\\\\hover\\\\country\\\\india\\\\state\\\\tripura\\\\2022', 'C:/Users/Vishaal Grizzly/pulse\\\\data\\\\map\\\\transaction\\\\hover\\\\country\\\\india\\\\state\\\\uttar-pradesh\\\\2018', 'C:/Users/Vishaal Grizzly/pulse\\\\data\\\\map\\\\transaction\\\\hover\\\\country\\\\india\\\\state\\\\uttar-pradesh\\\\2019', 'C:/Users/Vishaal Grizzly/pulse\\\\data\\\\map\\\\transaction\\\\hover\\\\country\\\\india\\\\state\\\\uttar-pradesh\\\\2020', 'C:/Users/Vishaal Grizzly/pulse\\\\data\\\\map\\\\transaction\\\\hover\\\\country\\\\india\\\\state\\\\uttar-pradesh\\\\2021', 'C:/Users/Vishaal Grizzly/pulse\\\\data\\\\map\\\\transaction\\\\hover\\\\country\\\\india\\\\state\\\\uttar-pradesh\\\\2022', 'C:/Users/Vishaal Grizzly/pulse\\\\data\\\\map\\\\transaction\\\\hover\\\\country\\\\india\\\\state\\\\uttarakhand\\\\2018', 'C:/Users/Vishaal Grizzly/pulse\\\\data\\\\map\\\\transaction\\\\hover\\\\country\\\\india\\\\state\\\\uttarakhand\\\\2019', 'C:/Users/Vishaal Grizzly/pulse\\\\data\\\\map\\\\transaction\\\\hover\\\\country\\\\india\\\\state\\\\uttarakhand\\\\2020', 'C:/Users/Vishaal Grizzly/pulse\\\\data\\\\map\\\\transaction\\\\hover\\\\country\\\\india\\\\state\\\\uttarakhand\\\\2021', 'C:/Users/Vishaal Grizzly/pulse\\\\data\\\\map\\\\transaction\\\\hover\\\\country\\\\india\\\\state\\\\uttarakhand\\\\2022', 'C:/Users/Vishaal Grizzly/pulse\\\\data\\\\map\\\\transaction\\\\hover\\\\country\\\\india\\\\state\\\\west-bengal\\\\2018', 'C:/Users/Vishaal Grizzly/pulse\\\\data\\\\map\\\\transaction\\\\hover\\\\country\\\\india\\\\state\\\\west-bengal\\\\2019', 'C:/Users/Vishaal Grizzly/pulse\\\\data\\\\map\\\\transaction\\\\hover\\\\country\\\\india\\\\state\\\\west-bengal\\\\2020', 'C:/Users/Vishaal Grizzly/pulse\\\\data\\\\map\\\\transaction\\\\hover\\\\country\\\\india\\\\state\\\\west-bengal\\\\2021', 'C:/Users/Vishaal Grizzly/pulse\\\\data\\\\map\\\\transaction\\\\hover\\\\country\\\\india\\\\state\\\\west-bengal\\\\2022', 'C:/Users/Vishaal Grizzly/pulse\\\\data\\\\map\\\\user\\\\hover', 'C:/Users/Vishaal Grizzly/pulse\\\\data\\\\map\\\\user\\\\hover\\\\country', 'C:/Users/Vishaal Grizzly/pulse\\\\data\\\\map\\\\user\\\\hover\\\\country\\\\india', 'C:/Users/Vishaal Grizzly/pulse\\\\data\\\\map\\\\user\\\\hover\\\\country\\\\india\\\\2018', 'C:/Users/Vishaal Grizzly/pulse\\\\data\\\\map\\\\user\\\\hover\\\\country\\\\india\\\\2019', 'C:/Users/Vishaal Grizzly/pulse\\\\data\\\\map\\\\user\\\\hover\\\\country\\\\india\\\\2020', 'C:/Users/Vishaal Grizzly/pulse\\\\data\\\\map\\\\user\\\\hover\\\\country\\\\india\\\\2021', 'C:/Users/Vishaal Grizzly/pulse\\\\data\\\\map\\\\user\\\\hover\\\\country\\\\india\\\\2022', 'C:/Users/Vishaal Grizzly/pulse\\\\data\\\\map\\\\user\\\\hover\\\\country\\\\india\\\\state', 'C:/Users/Vishaal Grizzly/pulse\\\\data\\\\map\\\\user\\\\hover\\\\country\\\\india\\\\state\\\\andaman-&-nicobar-islands', 'C:/Users/Vishaal Grizzly/pulse\\\\data\\\\map\\\\user\\\\hover\\\\country\\\\india\\\\state\\\\andhra-pradesh', 'C:/Users/Vishaal Grizzly/pulse\\\\data\\\\map\\\\user\\\\hover\\\\country\\\\india\\\\state\\\\arunachal-pradesh', 'C:/Users/Vishaal Grizzly/pulse\\\\data\\\\map\\\\user\\\\hover\\\\country\\\\india\\\\state\\\\assam', 'C:/Users/Vishaal Grizzly/pulse\\\\data\\\\map\\\\user\\\\hover\\\\country\\\\india\\\\state\\\\bihar', 'C:/Users/Vishaal Grizzly/pulse\\\\data\\\\map\\\\user\\\\hover\\\\country\\\\india\\\\state\\\\chandigarh', 'C:/Users/Vishaal Grizzly/pulse\\\\data\\\\map\\\\user\\\\hover\\\\country\\\\india\\\\state\\\\chhattisgarh', 'C:/Users/Vishaal Grizzly/pulse\\\\data\\\\map\\\\user\\\\hover\\\\country\\\\india\\\\state\\\\dadra-&-nagar-haveli-&-daman-&-diu', 'C:/Users/Vishaal Grizzly/pulse\\\\data\\\\map\\\\user\\\\hover\\\\country\\\\india\\\\state\\\\delhi', 'C:/Users/Vishaal Grizzly/pulse\\\\data\\\\map\\\\user\\\\hover\\\\country\\\\india\\\\state\\\\goa', 'C:/Users/Vishaal Grizzly/pulse\\\\data\\\\map\\\\user\\\\hover\\\\country\\\\india\\\\state\\\\gujarat', 'C:/Users/Vishaal Grizzly/pulse\\\\data\\\\map\\\\user\\\\hover\\\\country\\\\india\\\\state\\\\haryana', 'C:/Users/Vishaal Grizzly/pulse\\\\data\\\\map\\\\user\\\\hover\\\\country\\\\india\\\\state\\\\himachal-pradesh', 'C:/Users/Vishaal Grizzly/pulse\\\\data\\\\map\\\\user\\\\hover\\\\country\\\\india\\\\state\\\\jammu-&-kashmir', 'C:/Users/Vishaal Grizzly/pulse\\\\data\\\\map\\\\user\\\\hover\\\\country\\\\india\\\\state\\\\jharkhand', 'C:/Users/Vishaal Grizzly/pulse\\\\data\\\\map\\\\user\\\\hover\\\\country\\\\india\\\\state\\\\karnataka', 'C:/Users/Vishaal Grizzly/pulse\\\\data\\\\map\\\\user\\\\hover\\\\country\\\\india\\\\state\\\\kerala', 'C:/Users/Vishaal Grizzly/pulse\\\\data\\\\map\\\\user\\\\hover\\\\country\\\\india\\\\state\\\\ladakh', 'C:/Users/Vishaal Grizzly/pulse\\\\data\\\\map\\\\user\\\\hover\\\\country\\\\india\\\\state\\\\lakshadweep', 'C:/Users/Vishaal Grizzly/pulse\\\\data\\\\map\\\\user\\\\hover\\\\country\\\\india\\\\state\\\\madhya-pradesh', 'C:/Users/Vishaal Grizzly/pulse\\\\data\\\\map\\\\user\\\\hover\\\\country\\\\india\\\\state\\\\maharashtra', 'C:/Users/Vishaal Grizzly/pulse\\\\data\\\\map\\\\user\\\\hover\\\\country\\\\india\\\\state\\\\manipur', 'C:/Users/Vishaal Grizzly/pulse\\\\data\\\\map\\\\user\\\\hover\\\\country\\\\india\\\\state\\\\meghalaya', 'C:/Users/Vishaal Grizzly/pulse\\\\data\\\\map\\\\user\\\\hover\\\\country\\\\india\\\\state\\\\mizoram', 'C:/Users/Vishaal Grizzly/pulse\\\\data\\\\map\\\\user\\\\hover\\\\country\\\\india\\\\state\\\\nagaland', 'C:/Users/Vishaal Grizzly/pulse\\\\data\\\\map\\\\user\\\\hover\\\\country\\\\india\\\\state\\\\odisha', 'C:/Users/Vishaal Grizzly/pulse\\\\data\\\\map\\\\user\\\\hover\\\\country\\\\india\\\\state\\\\puducherry', 'C:/Users/Vishaal Grizzly/pulse\\\\data\\\\map\\\\user\\\\hover\\\\country\\\\india\\\\state\\\\punjab', 'C:/Users/Vishaal Grizzly/pulse\\\\data\\\\map\\\\user\\\\hover\\\\country\\\\india\\\\state\\\\rajasthan', 'C:/Users/Vishaal Grizzly/pulse\\\\data\\\\map\\\\user\\\\hover\\\\country\\\\india\\\\state\\\\sikkim', 'C:/Users/Vishaal Grizzly/pulse\\\\data\\\\map\\\\user\\\\hover\\\\country\\\\india\\\\state\\\\tamil-nadu', 'C:/Users/Vishaal Grizzly/pulse\\\\data\\\\map\\\\user\\\\hover\\\\country\\\\india\\\\state\\\\telangana', 'C:/Users/Vishaal Grizzly/pulse\\\\data\\\\map\\\\user\\\\hover\\\\country\\\\india\\\\state\\\\tripura', 'C:/Users/Vishaal Grizzly/pulse\\\\data\\\\map\\\\user\\\\hover\\\\country\\\\india\\\\state\\\\uttar-pradesh', 'C:/Users/Vishaal Grizzly/pulse\\\\data\\\\map\\\\user\\\\hover\\\\country\\\\india\\\\state\\\\uttarakhand', 'C:/Users/Vishaal Grizzly/pulse\\\\data\\\\map\\\\user\\\\hover\\\\country\\\\india\\\\state\\\\west-bengal', 'C:/Users/Vishaal Grizzly/pulse\\\\data\\\\map\\\\user\\\\hover\\\\country\\\\india\\\\state\\\\andaman-&-nicobar-islands\\\\2018', 'C:/Users/Vishaal Grizzly/pulse\\\\data\\\\map\\\\user\\\\hover\\\\country\\\\india\\\\state\\\\andaman-&-nicobar-islands\\\\2019', 'C:/Users/Vishaal Grizzly/pulse\\\\data\\\\map\\\\user\\\\hover\\\\country\\\\india\\\\state\\\\andaman-&-nicobar-islands\\\\2020', 'C:/Users/Vishaal Grizzly/pulse\\\\data\\\\map\\\\user\\\\hover\\\\country\\\\india\\\\state\\\\andaman-&-nicobar-islands\\\\2021', 'C:/Users/Vishaal Grizzly/pulse\\\\data\\\\map\\\\user\\\\hover\\\\country\\\\india\\\\state\\\\andaman-&-nicobar-islands\\\\2022', 'C:/Users/Vishaal Grizzly/pulse\\\\data\\\\map\\\\user\\\\hover\\\\country\\\\india\\\\state\\\\andhra-pradesh\\\\2018', 'C:/Users/Vishaal Grizzly/pulse\\\\data\\\\map\\\\user\\\\hover\\\\country\\\\india\\\\state\\\\andhra-pradesh\\\\2019', 'C:/Users/Vishaal Grizzly/pulse\\\\data\\\\map\\\\user\\\\hover\\\\country\\\\india\\\\state\\\\andhra-pradesh\\\\2020', 'C:/Users/Vishaal Grizzly/pulse\\\\data\\\\map\\\\user\\\\hover\\\\country\\\\india\\\\state\\\\andhra-pradesh\\\\2021', 'C:/Users/Vishaal Grizzly/pulse\\\\data\\\\map\\\\user\\\\hover\\\\country\\\\india\\\\state\\\\andhra-pradesh\\\\2022', 'C:/Users/Vishaal Grizzly/pulse\\\\data\\\\map\\\\user\\\\hover\\\\country\\\\india\\\\state\\\\arunachal-pradesh\\\\2018', 'C:/Users/Vishaal Grizzly/pulse\\\\data\\\\map\\\\user\\\\hover\\\\country\\\\india\\\\state\\\\arunachal-pradesh\\\\2019', 'C:/Users/Vishaal Grizzly/pulse\\\\data\\\\map\\\\user\\\\hover\\\\country\\\\india\\\\state\\\\arunachal-pradesh\\\\2020', 'C:/Users/Vishaal Grizzly/pulse\\\\data\\\\map\\\\user\\\\hover\\\\country\\\\india\\\\state\\\\arunachal-pradesh\\\\2021', 'C:/Users/Vishaal Grizzly/pulse\\\\data\\\\map\\\\user\\\\hover\\\\country\\\\india\\\\state\\\\arunachal-pradesh\\\\2022', 'C:/Users/Vishaal Grizzly/pulse\\\\data\\\\map\\\\user\\\\hover\\\\country\\\\india\\\\state\\\\assam\\\\2018', 'C:/Users/Vishaal Grizzly/pulse\\\\data\\\\map\\\\user\\\\hover\\\\country\\\\india\\\\state\\\\assam\\\\2019', 'C:/Users/Vishaal Grizzly/pulse\\\\data\\\\map\\\\user\\\\hover\\\\country\\\\india\\\\state\\\\assam\\\\2020', 'C:/Users/Vishaal Grizzly/pulse\\\\data\\\\map\\\\user\\\\hover\\\\country\\\\india\\\\state\\\\assam\\\\2021', 'C:/Users/Vishaal Grizzly/pulse\\\\data\\\\map\\\\user\\\\hover\\\\country\\\\india\\\\state\\\\assam\\\\2022', 'C:/Users/Vishaal Grizzly/pulse\\\\data\\\\map\\\\user\\\\hover\\\\country\\\\india\\\\state\\\\bihar\\\\2018', 'C:/Users/Vishaal Grizzly/pulse\\\\data\\\\map\\\\user\\\\hover\\\\country\\\\india\\\\state\\\\bihar\\\\2019', 'C:/Users/Vishaal Grizzly/pulse\\\\data\\\\map\\\\user\\\\hover\\\\country\\\\india\\\\state\\\\bihar\\\\2020', 'C:/Users/Vishaal Grizzly/pulse\\\\data\\\\map\\\\user\\\\hover\\\\country\\\\india\\\\state\\\\bihar\\\\2021', 'C:/Users/Vishaal Grizzly/pulse\\\\data\\\\map\\\\user\\\\hover\\\\country\\\\india\\\\state\\\\bihar\\\\2022', 'C:/Users/Vishaal Grizzly/pulse\\\\data\\\\map\\\\user\\\\hover\\\\country\\\\india\\\\state\\\\chandigarh\\\\2018', 'C:/Users/Vishaal Grizzly/pulse\\\\data\\\\map\\\\user\\\\hover\\\\country\\\\india\\\\state\\\\chandigarh\\\\2019', 'C:/Users/Vishaal Grizzly/pulse\\\\data\\\\map\\\\user\\\\hover\\\\country\\\\india\\\\state\\\\chandigarh\\\\2020', 'C:/Users/Vishaal Grizzly/pulse\\\\data\\\\map\\\\user\\\\hover\\\\country\\\\india\\\\state\\\\chandigarh\\\\2021', 'C:/Users/Vishaal Grizzly/pulse\\\\data\\\\map\\\\user\\\\hover\\\\country\\\\india\\\\state\\\\chandigarh\\\\2022', 'C:/Users/Vishaal Grizzly/pulse\\\\data\\\\map\\\\user\\\\hover\\\\country\\\\india\\\\state\\\\chhattisgarh\\\\2018', 'C:/Users/Vishaal Grizzly/pulse\\\\data\\\\map\\\\user\\\\hover\\\\country\\\\india\\\\state\\\\chhattisgarh\\\\2019', 'C:/Users/Vishaal Grizzly/pulse\\\\data\\\\map\\\\user\\\\hover\\\\country\\\\india\\\\state\\\\chhattisgarh\\\\2020', 'C:/Users/Vishaal Grizzly/pulse\\\\data\\\\map\\\\user\\\\hover\\\\country\\\\india\\\\state\\\\chhattisgarh\\\\2021', 'C:/Users/Vishaal Grizzly/pulse\\\\data\\\\map\\\\user\\\\hover\\\\country\\\\india\\\\state\\\\chhattisgarh\\\\2022', 'C:/Users/Vishaal Grizzly/pulse\\\\data\\\\map\\\\user\\\\hover\\\\country\\\\india\\\\state\\\\dadra-&-nagar-haveli-&-daman-&-diu\\\\2018', 'C:/Users/Vishaal Grizzly/pulse\\\\data\\\\map\\\\user\\\\hover\\\\country\\\\india\\\\state\\\\dadra-&-nagar-haveli-&-daman-&-diu\\\\2019', 'C:/Users/Vishaal Grizzly/pulse\\\\data\\\\map\\\\user\\\\hover\\\\country\\\\india\\\\state\\\\dadra-&-nagar-haveli-&-daman-&-diu\\\\2020', 'C:/Users/Vishaal Grizzly/pulse\\\\data\\\\map\\\\user\\\\hover\\\\country\\\\india\\\\state\\\\dadra-&-nagar-haveli-&-daman-&-diu\\\\2021', 'C:/Users/Vishaal Grizzly/pulse\\\\data\\\\map\\\\user\\\\hover\\\\country\\\\india\\\\state\\\\dadra-&-nagar-haveli-&-daman-&-diu\\\\2022', 'C:/Users/Vishaal Grizzly/pulse\\\\data\\\\map\\\\user\\\\hover\\\\country\\\\india\\\\state\\\\delhi\\\\2018', 'C:/Users/Vishaal Grizzly/pulse\\\\data\\\\map\\\\user\\\\hover\\\\country\\\\india\\\\state\\\\delhi\\\\2019', 'C:/Users/Vishaal Grizzly/pulse\\\\data\\\\map\\\\user\\\\hover\\\\country\\\\india\\\\state\\\\delhi\\\\2020', 'C:/Users/Vishaal Grizzly/pulse\\\\data\\\\map\\\\user\\\\hover\\\\country\\\\india\\\\state\\\\delhi\\\\2021', 'C:/Users/Vishaal Grizzly/pulse\\\\data\\\\map\\\\user\\\\hover\\\\country\\\\india\\\\state\\\\delhi\\\\2022', 'C:/Users/Vishaal Grizzly/pulse\\\\data\\\\map\\\\user\\\\hover\\\\country\\\\india\\\\state\\\\goa\\\\2018', 'C:/Users/Vishaal Grizzly/pulse\\\\data\\\\map\\\\user\\\\hover\\\\country\\\\india\\\\state\\\\goa\\\\2019', 'C:/Users/Vishaal Grizzly/pulse\\\\data\\\\map\\\\user\\\\hover\\\\country\\\\india\\\\state\\\\goa\\\\2020', 'C:/Users/Vishaal Grizzly/pulse\\\\data\\\\map\\\\user\\\\hover\\\\country\\\\india\\\\state\\\\goa\\\\2021', 'C:/Users/Vishaal Grizzly/pulse\\\\data\\\\map\\\\user\\\\hover\\\\country\\\\india\\\\state\\\\goa\\\\2022', 'C:/Users/Vishaal Grizzly/pulse\\\\data\\\\map\\\\user\\\\hover\\\\country\\\\india\\\\state\\\\gujarat\\\\2018', 'C:/Users/Vishaal Grizzly/pulse\\\\data\\\\map\\\\user\\\\hover\\\\country\\\\india\\\\state\\\\gujarat\\\\2019', 'C:/Users/Vishaal Grizzly/pulse\\\\data\\\\map\\\\user\\\\hover\\\\country\\\\india\\\\state\\\\gujarat\\\\2020', 'C:/Users/Vishaal Grizzly/pulse\\\\data\\\\map\\\\user\\\\hover\\\\country\\\\india\\\\state\\\\gujarat\\\\2021', 'C:/Users/Vishaal Grizzly/pulse\\\\data\\\\map\\\\user\\\\hover\\\\country\\\\india\\\\state\\\\gujarat\\\\2022', 'C:/Users/Vishaal Grizzly/pulse\\\\data\\\\map\\\\user\\\\hover\\\\country\\\\india\\\\state\\\\haryana\\\\2018', 'C:/Users/Vishaal Grizzly/pulse\\\\data\\\\map\\\\user\\\\hover\\\\country\\\\india\\\\state\\\\haryana\\\\2019', 'C:/Users/Vishaal Grizzly/pulse\\\\data\\\\map\\\\user\\\\hover\\\\country\\\\india\\\\state\\\\haryana\\\\2020', 'C:/Users/Vishaal Grizzly/pulse\\\\data\\\\map\\\\user\\\\hover\\\\country\\\\india\\\\state\\\\haryana\\\\2021', 'C:/Users/Vishaal Grizzly/pulse\\\\data\\\\map\\\\user\\\\hover\\\\country\\\\india\\\\state\\\\haryana\\\\2022', 'C:/Users/Vishaal Grizzly/pulse\\\\data\\\\map\\\\user\\\\hover\\\\country\\\\india\\\\state\\\\himachal-pradesh\\\\2018', 'C:/Users/Vishaal Grizzly/pulse\\\\data\\\\map\\\\user\\\\hover\\\\country\\\\india\\\\state\\\\himachal-pradesh\\\\2019', 'C:/Users/Vishaal Grizzly/pulse\\\\data\\\\map\\\\user\\\\hover\\\\country\\\\india\\\\state\\\\himachal-pradesh\\\\2020', 'C:/Users/Vishaal Grizzly/pulse\\\\data\\\\map\\\\user\\\\hover\\\\country\\\\india\\\\state\\\\himachal-pradesh\\\\2021', 'C:/Users/Vishaal Grizzly/pulse\\\\data\\\\map\\\\user\\\\hover\\\\country\\\\india\\\\state\\\\himachal-pradesh\\\\2022', 'C:/Users/Vishaal Grizzly/pulse\\\\data\\\\map\\\\user\\\\hover\\\\country\\\\india\\\\state\\\\jammu-&-kashmir\\\\2018', 'C:/Users/Vishaal Grizzly/pulse\\\\data\\\\map\\\\user\\\\hover\\\\country\\\\india\\\\state\\\\jammu-&-kashmir\\\\2019', 'C:/Users/Vishaal Grizzly/pulse\\\\data\\\\map\\\\user\\\\hover\\\\country\\\\india\\\\state\\\\jammu-&-kashmir\\\\2020', 'C:/Users/Vishaal Grizzly/pulse\\\\data\\\\map\\\\user\\\\hover\\\\country\\\\india\\\\state\\\\jammu-&-kashmir\\\\2021', 'C:/Users/Vishaal Grizzly/pulse\\\\data\\\\map\\\\user\\\\hover\\\\country\\\\india\\\\state\\\\jammu-&-kashmir\\\\2022', 'C:/Users/Vishaal Grizzly/pulse\\\\data\\\\map\\\\user\\\\hover\\\\country\\\\india\\\\state\\\\jharkhand\\\\2018', 'C:/Users/Vishaal Grizzly/pulse\\\\data\\\\map\\\\user\\\\hover\\\\country\\\\india\\\\state\\\\jharkhand\\\\2019', 'C:/Users/Vishaal Grizzly/pulse\\\\data\\\\map\\\\user\\\\hover\\\\country\\\\india\\\\state\\\\jharkhand\\\\2020', 'C:/Users/Vishaal Grizzly/pulse\\\\data\\\\map\\\\user\\\\hover\\\\country\\\\india\\\\state\\\\jharkhand\\\\2021', 'C:/Users/Vishaal Grizzly/pulse\\\\data\\\\map\\\\user\\\\hover\\\\country\\\\india\\\\state\\\\jharkhand\\\\2022', 'C:/Users/Vishaal Grizzly/pulse\\\\data\\\\map\\\\user\\\\hover\\\\country\\\\india\\\\state\\\\karnataka\\\\2018', 'C:/Users/Vishaal Grizzly/pulse\\\\data\\\\map\\\\user\\\\hover\\\\country\\\\india\\\\state\\\\karnataka\\\\2019', 'C:/Users/Vishaal Grizzly/pulse\\\\data\\\\map\\\\user\\\\hover\\\\country\\\\india\\\\state\\\\karnataka\\\\2020', 'C:/Users/Vishaal Grizzly/pulse\\\\data\\\\map\\\\user\\\\hover\\\\country\\\\india\\\\state\\\\karnataka\\\\2021', 'C:/Users/Vishaal Grizzly/pulse\\\\data\\\\map\\\\user\\\\hover\\\\country\\\\india\\\\state\\\\karnataka\\\\2022', 'C:/Users/Vishaal Grizzly/pulse\\\\data\\\\map\\\\user\\\\hover\\\\country\\\\india\\\\state\\\\kerala\\\\2018', 'C:/Users/Vishaal Grizzly/pulse\\\\data\\\\map\\\\user\\\\hover\\\\country\\\\india\\\\state\\\\kerala\\\\2019', 'C:/Users/Vishaal Grizzly/pulse\\\\data\\\\map\\\\user\\\\hover\\\\country\\\\india\\\\state\\\\kerala\\\\2020', 'C:/Users/Vishaal Grizzly/pulse\\\\data\\\\map\\\\user\\\\hover\\\\country\\\\india\\\\state\\\\kerala\\\\2021', 'C:/Users/Vishaal Grizzly/pulse\\\\data\\\\map\\\\user\\\\hover\\\\country\\\\india\\\\state\\\\kerala\\\\2022', 'C:/Users/Vishaal Grizzly/pulse\\\\data\\\\map\\\\user\\\\hover\\\\country\\\\india\\\\state\\\\ladakh\\\\2018', 'C:/Users/Vishaal Grizzly/pulse\\\\data\\\\map\\\\user\\\\hover\\\\country\\\\india\\\\state\\\\ladakh\\\\2019', 'C:/Users/Vishaal Grizzly/pulse\\\\data\\\\map\\\\user\\\\hover\\\\country\\\\india\\\\state\\\\ladakh\\\\2020', 'C:/Users/Vishaal Grizzly/pulse\\\\data\\\\map\\\\user\\\\hover\\\\country\\\\india\\\\state\\\\ladakh\\\\2021', 'C:/Users/Vishaal Grizzly/pulse\\\\data\\\\map\\\\user\\\\hover\\\\country\\\\india\\\\state\\\\ladakh\\\\2022', 'C:/Users/Vishaal Grizzly/pulse\\\\data\\\\map\\\\user\\\\hover\\\\country\\\\india\\\\state\\\\lakshadweep\\\\2018', 'C:/Users/Vishaal Grizzly/pulse\\\\data\\\\map\\\\user\\\\hover\\\\country\\\\india\\\\state\\\\lakshadweep\\\\2019', 'C:/Users/Vishaal Grizzly/pulse\\\\data\\\\map\\\\user\\\\hover\\\\country\\\\india\\\\state\\\\lakshadweep\\\\2020', 'C:/Users/Vishaal Grizzly/pulse\\\\data\\\\map\\\\user\\\\hover\\\\country\\\\india\\\\state\\\\lakshadweep\\\\2021', 'C:/Users/Vishaal Grizzly/pulse\\\\data\\\\map\\\\user\\\\hover\\\\country\\\\india\\\\state\\\\lakshadweep\\\\2022', 'C:/Users/Vishaal Grizzly/pulse\\\\data\\\\map\\\\user\\\\hover\\\\country\\\\india\\\\state\\\\madhya-pradesh\\\\2018', 'C:/Users/Vishaal Grizzly/pulse\\\\data\\\\map\\\\user\\\\hover\\\\country\\\\india\\\\state\\\\madhya-pradesh\\\\2019', 'C:/Users/Vishaal Grizzly/pulse\\\\data\\\\map\\\\user\\\\hover\\\\country\\\\india\\\\state\\\\madhya-pradesh\\\\2020', 'C:/Users/Vishaal Grizzly/pulse\\\\data\\\\map\\\\user\\\\hover\\\\country\\\\india\\\\state\\\\madhya-pradesh\\\\2021', 'C:/Users/Vishaal Grizzly/pulse\\\\data\\\\map\\\\user\\\\hover\\\\country\\\\india\\\\state\\\\madhya-pradesh\\\\2022', 'C:/Users/Vishaal Grizzly/pulse\\\\data\\\\map\\\\user\\\\hover\\\\country\\\\india\\\\state\\\\maharashtra\\\\2018', 'C:/Users/Vishaal Grizzly/pulse\\\\data\\\\map\\\\user\\\\hover\\\\country\\\\india\\\\state\\\\maharashtra\\\\2019', 'C:/Users/Vishaal Grizzly/pulse\\\\data\\\\map\\\\user\\\\hover\\\\country\\\\india\\\\state\\\\maharashtra\\\\2020', 'C:/Users/Vishaal Grizzly/pulse\\\\data\\\\map\\\\user\\\\hover\\\\country\\\\india\\\\state\\\\maharashtra\\\\2021', 'C:/Users/Vishaal Grizzly/pulse\\\\data\\\\map\\\\user\\\\hover\\\\country\\\\india\\\\state\\\\maharashtra\\\\2022', 'C:/Users/Vishaal Grizzly/pulse\\\\data\\\\map\\\\user\\\\hover\\\\country\\\\india\\\\state\\\\manipur\\\\2018', 'C:/Users/Vishaal Grizzly/pulse\\\\data\\\\map\\\\user\\\\hover\\\\country\\\\india\\\\state\\\\manipur\\\\2019', 'C:/Users/Vishaal Grizzly/pulse\\\\data\\\\map\\\\user\\\\hover\\\\country\\\\india\\\\state\\\\manipur\\\\2020', 'C:/Users/Vishaal Grizzly/pulse\\\\data\\\\map\\\\user\\\\hover\\\\country\\\\india\\\\state\\\\manipur\\\\2021', 'C:/Users/Vishaal Grizzly/pulse\\\\data\\\\map\\\\user\\\\hover\\\\country\\\\india\\\\state\\\\manipur\\\\2022', 'C:/Users/Vishaal Grizzly/pulse\\\\data\\\\map\\\\user\\\\hover\\\\country\\\\india\\\\state\\\\meghalaya\\\\2018', 'C:/Users/Vishaal Grizzly/pulse\\\\data\\\\map\\\\user\\\\hover\\\\country\\\\india\\\\state\\\\meghalaya\\\\2019', 'C:/Users/Vishaal Grizzly/pulse\\\\data\\\\map\\\\user\\\\hover\\\\country\\\\india\\\\state\\\\meghalaya\\\\2020', 'C:/Users/Vishaal Grizzly/pulse\\\\data\\\\map\\\\user\\\\hover\\\\country\\\\india\\\\state\\\\meghalaya\\\\2021', 'C:/Users/Vishaal Grizzly/pulse\\\\data\\\\map\\\\user\\\\hover\\\\country\\\\india\\\\state\\\\meghalaya\\\\2022', 'C:/Users/Vishaal Grizzly/pulse\\\\data\\\\map\\\\user\\\\hover\\\\country\\\\india\\\\state\\\\mizoram\\\\2018', 'C:/Users/Vishaal Grizzly/pulse\\\\data\\\\map\\\\user\\\\hover\\\\country\\\\india\\\\state\\\\mizoram\\\\2019', 'C:/Users/Vishaal Grizzly/pulse\\\\data\\\\map\\\\user\\\\hover\\\\country\\\\india\\\\state\\\\mizoram\\\\2020', 'C:/Users/Vishaal Grizzly/pulse\\\\data\\\\map\\\\user\\\\hover\\\\country\\\\india\\\\state\\\\mizoram\\\\2021', 'C:/Users/Vishaal Grizzly/pulse\\\\data\\\\map\\\\user\\\\hover\\\\country\\\\india\\\\state\\\\mizoram\\\\2022', 'C:/Users/Vishaal Grizzly/pulse\\\\data\\\\map\\\\user\\\\hover\\\\country\\\\india\\\\state\\\\nagaland\\\\2018', 'C:/Users/Vishaal Grizzly/pulse\\\\data\\\\map\\\\user\\\\hover\\\\country\\\\india\\\\state\\\\nagaland\\\\2019', 'C:/Users/Vishaal Grizzly/pulse\\\\data\\\\map\\\\user\\\\hover\\\\country\\\\india\\\\state\\\\nagaland\\\\2020', 'C:/Users/Vishaal Grizzly/pulse\\\\data\\\\map\\\\user\\\\hover\\\\country\\\\india\\\\state\\\\nagaland\\\\2021', 'C:/Users/Vishaal Grizzly/pulse\\\\data\\\\map\\\\user\\\\hover\\\\country\\\\india\\\\state\\\\nagaland\\\\2022', 'C:/Users/Vishaal Grizzly/pulse\\\\data\\\\map\\\\user\\\\hover\\\\country\\\\india\\\\state\\\\odisha\\\\2018', 'C:/Users/Vishaal Grizzly/pulse\\\\data\\\\map\\\\user\\\\hover\\\\country\\\\india\\\\state\\\\odisha\\\\2019', 'C:/Users/Vishaal Grizzly/pulse\\\\data\\\\map\\\\user\\\\hover\\\\country\\\\india\\\\state\\\\odisha\\\\2020', 'C:/Users/Vishaal Grizzly/pulse\\\\data\\\\map\\\\user\\\\hover\\\\country\\\\india\\\\state\\\\odisha\\\\2021', 'C:/Users/Vishaal Grizzly/pulse\\\\data\\\\map\\\\user\\\\hover\\\\country\\\\india\\\\state\\\\odisha\\\\2022', 'C:/Users/Vishaal Grizzly/pulse\\\\data\\\\map\\\\user\\\\hover\\\\country\\\\india\\\\state\\\\puducherry\\\\2018', 'C:/Users/Vishaal Grizzly/pulse\\\\data\\\\map\\\\user\\\\hover\\\\country\\\\india\\\\state\\\\puducherry\\\\2019', 'C:/Users/Vishaal Grizzly/pulse\\\\data\\\\map\\\\user\\\\hover\\\\country\\\\india\\\\state\\\\puducherry\\\\2020', 'C:/Users/Vishaal Grizzly/pulse\\\\data\\\\map\\\\user\\\\hover\\\\country\\\\india\\\\state\\\\puducherry\\\\2021', 'C:/Users/Vishaal Grizzly/pulse\\\\data\\\\map\\\\user\\\\hover\\\\country\\\\india\\\\state\\\\puducherry\\\\2022', 'C:/Users/Vishaal Grizzly/pulse\\\\data\\\\map\\\\user\\\\hover\\\\country\\\\india\\\\state\\\\punjab\\\\2018', 'C:/Users/Vishaal Grizzly/pulse\\\\data\\\\map\\\\user\\\\hover\\\\country\\\\india\\\\state\\\\punjab\\\\2019', 'C:/Users/Vishaal Grizzly/pulse\\\\data\\\\map\\\\user\\\\hover\\\\country\\\\india\\\\state\\\\punjab\\\\2020', 'C:/Users/Vishaal Grizzly/pulse\\\\data\\\\map\\\\user\\\\hover\\\\country\\\\india\\\\state\\\\punjab\\\\2021', 'C:/Users/Vishaal Grizzly/pulse\\\\data\\\\map\\\\user\\\\hover\\\\country\\\\india\\\\state\\\\punjab\\\\2022', 'C:/Users/Vishaal Grizzly/pulse\\\\data\\\\map\\\\user\\\\hover\\\\country\\\\india\\\\state\\\\rajasthan\\\\2018', 'C:/Users/Vishaal Grizzly/pulse\\\\data\\\\map\\\\user\\\\hover\\\\country\\\\india\\\\state\\\\rajasthan\\\\2019', 'C:/Users/Vishaal Grizzly/pulse\\\\data\\\\map\\\\user\\\\hover\\\\country\\\\india\\\\state\\\\rajasthan\\\\2020', 'C:/Users/Vishaal Grizzly/pulse\\\\data\\\\map\\\\user\\\\hover\\\\country\\\\india\\\\state\\\\rajasthan\\\\2021', 'C:/Users/Vishaal Grizzly/pulse\\\\data\\\\map\\\\user\\\\hover\\\\country\\\\india\\\\state\\\\rajasthan\\\\2022', 'C:/Users/Vishaal Grizzly/pulse\\\\data\\\\map\\\\user\\\\hover\\\\country\\\\india\\\\state\\\\sikkim\\\\2018', 'C:/Users/Vishaal Grizzly/pulse\\\\data\\\\map\\\\user\\\\hover\\\\country\\\\india\\\\state\\\\sikkim\\\\2019', 'C:/Users/Vishaal Grizzly/pulse\\\\data\\\\map\\\\user\\\\hover\\\\country\\\\india\\\\state\\\\sikkim\\\\2020', 'C:/Users/Vishaal Grizzly/pulse\\\\data\\\\map\\\\user\\\\hover\\\\country\\\\india\\\\state\\\\sikkim\\\\2021', 'C:/Users/Vishaal Grizzly/pulse\\\\data\\\\map\\\\user\\\\hover\\\\country\\\\india\\\\state\\\\sikkim\\\\2022', 'C:/Users/Vishaal Grizzly/pulse\\\\data\\\\map\\\\user\\\\hover\\\\country\\\\india\\\\state\\\\tamil-nadu\\\\2018', 'C:/Users/Vishaal Grizzly/pulse\\\\data\\\\map\\\\user\\\\hover\\\\country\\\\india\\\\state\\\\tamil-nadu\\\\2019', 'C:/Users/Vishaal Grizzly/pulse\\\\data\\\\map\\\\user\\\\hover\\\\country\\\\india\\\\state\\\\tamil-nadu\\\\2020', 'C:/Users/Vishaal Grizzly/pulse\\\\data\\\\map\\\\user\\\\hover\\\\country\\\\india\\\\state\\\\tamil-nadu\\\\2021', 'C:/Users/Vishaal Grizzly/pulse\\\\data\\\\map\\\\user\\\\hover\\\\country\\\\india\\\\state\\\\tamil-nadu\\\\2022', 'C:/Users/Vishaal Grizzly/pulse\\\\data\\\\map\\\\user\\\\hover\\\\country\\\\india\\\\state\\\\telangana\\\\2018', 'C:/Users/Vishaal Grizzly/pulse\\\\data\\\\map\\\\user\\\\hover\\\\country\\\\india\\\\state\\\\telangana\\\\2019', 'C:/Users/Vishaal Grizzly/pulse\\\\data\\\\map\\\\user\\\\hover\\\\country\\\\india\\\\state\\\\telangana\\\\2020', 'C:/Users/Vishaal Grizzly/pulse\\\\data\\\\map\\\\user\\\\hover\\\\country\\\\india\\\\state\\\\telangana\\\\2021', 'C:/Users/Vishaal Grizzly/pulse\\\\data\\\\map\\\\user\\\\hover\\\\country\\\\india\\\\state\\\\telangana\\\\2022', 'C:/Users/Vishaal Grizzly/pulse\\\\data\\\\map\\\\user\\\\hover\\\\country\\\\india\\\\state\\\\tripura\\\\2018', 'C:/Users/Vishaal Grizzly/pulse\\\\data\\\\map\\\\user\\\\hover\\\\country\\\\india\\\\state\\\\tripura\\\\2019', 'C:/Users/Vishaal Grizzly/pulse\\\\data\\\\map\\\\user\\\\hover\\\\country\\\\india\\\\state\\\\tripura\\\\2020', 'C:/Users/Vishaal Grizzly/pulse\\\\data\\\\map\\\\user\\\\hover\\\\country\\\\india\\\\state\\\\tripura\\\\2021', 'C:/Users/Vishaal Grizzly/pulse\\\\data\\\\map\\\\user\\\\hover\\\\country\\\\india\\\\state\\\\tripura\\\\2022', 'C:/Users/Vishaal Grizzly/pulse\\\\data\\\\map\\\\user\\\\hover\\\\country\\\\india\\\\state\\\\uttar-pradesh\\\\2018', 'C:/Users/Vishaal Grizzly/pulse\\\\data\\\\map\\\\user\\\\hover\\\\country\\\\india\\\\state\\\\uttar-pradesh\\\\2019', 'C:/Users/Vishaal Grizzly/pulse\\\\data\\\\map\\\\user\\\\hover\\\\country\\\\india\\\\state\\\\uttar-pradesh\\\\2020', 'C:/Users/Vishaal Grizzly/pulse\\\\data\\\\map\\\\user\\\\hover\\\\country\\\\india\\\\state\\\\uttar-pradesh\\\\2021', 'C:/Users/Vishaal Grizzly/pulse\\\\data\\\\map\\\\user\\\\hover\\\\country\\\\india\\\\state\\\\uttar-pradesh\\\\2022', 'C:/Users/Vishaal Grizzly/pulse\\\\data\\\\map\\\\user\\\\hover\\\\country\\\\india\\\\state\\\\uttarakhand\\\\2018', 'C:/Users/Vishaal Grizzly/pulse\\\\data\\\\map\\\\user\\\\hover\\\\country\\\\india\\\\state\\\\uttarakhand\\\\2019', 'C:/Users/Vishaal Grizzly/pulse\\\\data\\\\map\\\\user\\\\hover\\\\country\\\\india\\\\state\\\\uttarakhand\\\\2020', 'C:/Users/Vishaal Grizzly/pulse\\\\data\\\\map\\\\user\\\\hover\\\\country\\\\india\\\\state\\\\uttarakhand\\\\2021', 'C:/Users/Vishaal Grizzly/pulse\\\\data\\\\map\\\\user\\\\hover\\\\country\\\\india\\\\state\\\\uttarakhand\\\\2022', 'C:/Users/Vishaal Grizzly/pulse\\\\data\\\\map\\\\user\\\\hover\\\\country\\\\india\\\\state\\\\west-bengal\\\\2018', 'C:/Users/Vishaal Grizzly/pulse\\\\data\\\\map\\\\user\\\\hover\\\\country\\\\india\\\\state\\\\west-bengal\\\\2019', 'C:/Users/Vishaal Grizzly/pulse\\\\data\\\\map\\\\user\\\\hover\\\\country\\\\india\\\\state\\\\west-bengal\\\\2020', 'C:/Users/Vishaal Grizzly/pulse\\\\data\\\\map\\\\user\\\\hover\\\\country\\\\india\\\\state\\\\west-bengal\\\\2021', 'C:/Users/Vishaal Grizzly/pulse\\\\data\\\\map\\\\user\\\\hover\\\\country\\\\india\\\\state\\\\west-bengal\\\\2022', 'C:/Users/Vishaal Grizzly/pulse\\\\data\\\\top\\\\transaction', 'C:/Users/Vishaal Grizzly/pulse\\\\data\\\\top\\\\user', 'C:/Users/Vishaal Grizzly/pulse\\\\data\\\\top\\\\transaction\\\\country', 'C:/Users/Vishaal Grizzly/pulse\\\\data\\\\top\\\\transaction\\\\country\\\\india', 'C:/Users/Vishaal Grizzly/pulse\\\\data\\\\top\\\\transaction\\\\country\\\\india\\\\2018', 'C:/Users/Vishaal Grizzly/pulse\\\\data\\\\top\\\\transaction\\\\country\\\\india\\\\2019', 'C:/Users/Vishaal Grizzly/pulse\\\\data\\\\top\\\\transaction\\\\country\\\\india\\\\2020', 'C:/Users/Vishaal Grizzly/pulse\\\\data\\\\top\\\\transaction\\\\country\\\\india\\\\2021', 'C:/Users/Vishaal Grizzly/pulse\\\\data\\\\top\\\\transaction\\\\country\\\\india\\\\2022', 'C:/Users/Vishaal Grizzly/pulse\\\\data\\\\top\\\\transaction\\\\country\\\\india\\\\state', 'C:/Users/Vishaal Grizzly/pulse\\\\data\\\\top\\\\transaction\\\\country\\\\india\\\\state\\\\andaman-&-nicobar-islands', 'C:/Users/Vishaal Grizzly/pulse\\\\data\\\\top\\\\transaction\\\\country\\\\india\\\\state\\\\andhra-pradesh', 'C:/Users/Vishaal Grizzly/pulse\\\\data\\\\top\\\\transaction\\\\country\\\\india\\\\state\\\\arunachal-pradesh', 'C:/Users/Vishaal Grizzly/pulse\\\\data\\\\top\\\\transaction\\\\country\\\\india\\\\state\\\\assam', 'C:/Users/Vishaal Grizzly/pulse\\\\data\\\\top\\\\transaction\\\\country\\\\india\\\\state\\\\bihar', 'C:/Users/Vishaal Grizzly/pulse\\\\data\\\\top\\\\transaction\\\\country\\\\india\\\\state\\\\chandigarh', 'C:/Users/Vishaal Grizzly/pulse\\\\data\\\\top\\\\transaction\\\\country\\\\india\\\\state\\\\chhattisgarh', 'C:/Users/Vishaal Grizzly/pulse\\\\data\\\\top\\\\transaction\\\\country\\\\india\\\\state\\\\dadra-&-nagar-haveli-&-daman-&-diu', 'C:/Users/Vishaal Grizzly/pulse\\\\data\\\\top\\\\transaction\\\\country\\\\india\\\\state\\\\delhi', 'C:/Users/Vishaal Grizzly/pulse\\\\data\\\\top\\\\transaction\\\\country\\\\india\\\\state\\\\goa', 'C:/Users/Vishaal Grizzly/pulse\\\\data\\\\top\\\\transaction\\\\country\\\\india\\\\state\\\\gujarat', 'C:/Users/Vishaal Grizzly/pulse\\\\data\\\\top\\\\transaction\\\\country\\\\india\\\\state\\\\haryana', 'C:/Users/Vishaal Grizzly/pulse\\\\data\\\\top\\\\transaction\\\\country\\\\india\\\\state\\\\himachal-pradesh', 'C:/Users/Vishaal Grizzly/pulse\\\\data\\\\top\\\\transaction\\\\country\\\\india\\\\state\\\\jammu-&-kashmir', 'C:/Users/Vishaal Grizzly/pulse\\\\data\\\\top\\\\transaction\\\\country\\\\india\\\\state\\\\jharkhand', 'C:/Users/Vishaal Grizzly/pulse\\\\data\\\\top\\\\transaction\\\\country\\\\india\\\\state\\\\karnataka', 'C:/Users/Vishaal Grizzly/pulse\\\\data\\\\top\\\\transaction\\\\country\\\\india\\\\state\\\\kerala', 'C:/Users/Vishaal Grizzly/pulse\\\\data\\\\top\\\\transaction\\\\country\\\\india\\\\state\\\\ladakh', 'C:/Users/Vishaal Grizzly/pulse\\\\data\\\\top\\\\transaction\\\\country\\\\india\\\\state\\\\lakshadweep', 'C:/Users/Vishaal Grizzly/pulse\\\\data\\\\top\\\\transaction\\\\country\\\\india\\\\state\\\\madhya-pradesh', 'C:/Users/Vishaal Grizzly/pulse\\\\data\\\\top\\\\transaction\\\\country\\\\india\\\\state\\\\maharashtra', 'C:/Users/Vishaal Grizzly/pulse\\\\data\\\\top\\\\transaction\\\\country\\\\india\\\\state\\\\manipur', 'C:/Users/Vishaal Grizzly/pulse\\\\data\\\\top\\\\transaction\\\\country\\\\india\\\\state\\\\meghalaya', 'C:/Users/Vishaal Grizzly/pulse\\\\data\\\\top\\\\transaction\\\\country\\\\india\\\\state\\\\mizoram', 'C:/Users/Vishaal Grizzly/pulse\\\\data\\\\top\\\\transaction\\\\country\\\\india\\\\state\\\\nagaland', 'C:/Users/Vishaal Grizzly/pulse\\\\data\\\\top\\\\transaction\\\\country\\\\india\\\\state\\\\odisha', 'C:/Users/Vishaal Grizzly/pulse\\\\data\\\\top\\\\transaction\\\\country\\\\india\\\\state\\\\puducherry', 'C:/Users/Vishaal Grizzly/pulse\\\\data\\\\top\\\\transaction\\\\country\\\\india\\\\state\\\\punjab', 'C:/Users/Vishaal Grizzly/pulse\\\\data\\\\top\\\\transaction\\\\country\\\\india\\\\state\\\\rajasthan', 'C:/Users/Vishaal Grizzly/pulse\\\\data\\\\top\\\\transaction\\\\country\\\\india\\\\state\\\\sikkim', 'C:/Users/Vishaal Grizzly/pulse\\\\data\\\\top\\\\transaction\\\\country\\\\india\\\\state\\\\tamil-nadu', 'C:/Users/Vishaal Grizzly/pulse\\\\data\\\\top\\\\transaction\\\\country\\\\india\\\\state\\\\telangana', 'C:/Users/Vishaal Grizzly/pulse\\\\data\\\\top\\\\transaction\\\\country\\\\india\\\\state\\\\tripura', 'C:/Users/Vishaal Grizzly/pulse\\\\data\\\\top\\\\transaction\\\\country\\\\india\\\\state\\\\uttar-pradesh', 'C:/Users/Vishaal Grizzly/pulse\\\\data\\\\top\\\\transaction\\\\country\\\\india\\\\state\\\\uttarakhand', 'C:/Users/Vishaal Grizzly/pulse\\\\data\\\\top\\\\transaction\\\\country\\\\india\\\\state\\\\west-bengal', 'C:/Users/Vishaal Grizzly/pulse\\\\data\\\\top\\\\transaction\\\\country\\\\india\\\\state\\\\andaman-&-nicobar-islands\\\\2018', 'C:/Users/Vishaal Grizzly/pulse\\\\data\\\\top\\\\transaction\\\\country\\\\india\\\\state\\\\andaman-&-nicobar-islands\\\\2019', 'C:/Users/Vishaal Grizzly/pulse\\\\data\\\\top\\\\transaction\\\\country\\\\india\\\\state\\\\andaman-&-nicobar-islands\\\\2020', 'C:/Users/Vishaal Grizzly/pulse\\\\data\\\\top\\\\transaction\\\\country\\\\india\\\\state\\\\andaman-&-nicobar-islands\\\\2021', 'C:/Users/Vishaal Grizzly/pulse\\\\data\\\\top\\\\transaction\\\\country\\\\india\\\\state\\\\andaman-&-nicobar-islands\\\\2022', 'C:/Users/Vishaal Grizzly/pulse\\\\data\\\\top\\\\transaction\\\\country\\\\india\\\\state\\\\andhra-pradesh\\\\2018', 'C:/Users/Vishaal Grizzly/pulse\\\\data\\\\top\\\\transaction\\\\country\\\\india\\\\state\\\\andhra-pradesh\\\\2019', 'C:/Users/Vishaal Grizzly/pulse\\\\data\\\\top\\\\transaction\\\\country\\\\india\\\\state\\\\andhra-pradesh\\\\2020', 'C:/Users/Vishaal Grizzly/pulse\\\\data\\\\top\\\\transaction\\\\country\\\\india\\\\state\\\\andhra-pradesh\\\\2021', 'C:/Users/Vishaal Grizzly/pulse\\\\data\\\\top\\\\transaction\\\\country\\\\india\\\\state\\\\andhra-pradesh\\\\2022', 'C:/Users/Vishaal Grizzly/pulse\\\\data\\\\top\\\\transaction\\\\country\\\\india\\\\state\\\\arunachal-pradesh\\\\2018', 'C:/Users/Vishaal Grizzly/pulse\\\\data\\\\top\\\\transaction\\\\country\\\\india\\\\state\\\\arunachal-pradesh\\\\2019', 'C:/Users/Vishaal Grizzly/pulse\\\\data\\\\top\\\\transaction\\\\country\\\\india\\\\state\\\\arunachal-pradesh\\\\2020', 'C:/Users/Vishaal Grizzly/pulse\\\\data\\\\top\\\\transaction\\\\country\\\\india\\\\state\\\\arunachal-pradesh\\\\2021', 'C:/Users/Vishaal Grizzly/pulse\\\\data\\\\top\\\\transaction\\\\country\\\\india\\\\state\\\\arunachal-pradesh\\\\2022', 'C:/Users/Vishaal Grizzly/pulse\\\\data\\\\top\\\\transaction\\\\country\\\\india\\\\state\\\\assam\\\\2018', 'C:/Users/Vishaal Grizzly/pulse\\\\data\\\\top\\\\transaction\\\\country\\\\india\\\\state\\\\assam\\\\2019', 'C:/Users/Vishaal Grizzly/pulse\\\\data\\\\top\\\\transaction\\\\country\\\\india\\\\state\\\\assam\\\\2020', 'C:/Users/Vishaal Grizzly/pulse\\\\data\\\\top\\\\transaction\\\\country\\\\india\\\\state\\\\assam\\\\2021', 'C:/Users/Vishaal Grizzly/pulse\\\\data\\\\top\\\\transaction\\\\country\\\\india\\\\state\\\\assam\\\\2022', 'C:/Users/Vishaal Grizzly/pulse\\\\data\\\\top\\\\transaction\\\\country\\\\india\\\\state\\\\bihar\\\\2018', 'C:/Users/Vishaal Grizzly/pulse\\\\data\\\\top\\\\transaction\\\\country\\\\india\\\\state\\\\bihar\\\\2019', 'C:/Users/Vishaal Grizzly/pulse\\\\data\\\\top\\\\transaction\\\\country\\\\india\\\\state\\\\bihar\\\\2020', 'C:/Users/Vishaal Grizzly/pulse\\\\data\\\\top\\\\transaction\\\\country\\\\india\\\\state\\\\bihar\\\\2021', 'C:/Users/Vishaal Grizzly/pulse\\\\data\\\\top\\\\transaction\\\\country\\\\india\\\\state\\\\bihar\\\\2022', 'C:/Users/Vishaal Grizzly/pulse\\\\data\\\\top\\\\transaction\\\\country\\\\india\\\\state\\\\chandigarh\\\\2018', 'C:/Users/Vishaal Grizzly/pulse\\\\data\\\\top\\\\transaction\\\\country\\\\india\\\\state\\\\chandigarh\\\\2019', 'C:/Users/Vishaal Grizzly/pulse\\\\data\\\\top\\\\transaction\\\\country\\\\india\\\\state\\\\chandigarh\\\\2020', 'C:/Users/Vishaal Grizzly/pulse\\\\data\\\\top\\\\transaction\\\\country\\\\india\\\\state\\\\chandigarh\\\\2021', 'C:/Users/Vishaal Grizzly/pulse\\\\data\\\\top\\\\transaction\\\\country\\\\india\\\\state\\\\chandigarh\\\\2022', 'C:/Users/Vishaal Grizzly/pulse\\\\data\\\\top\\\\transaction\\\\country\\\\india\\\\state\\\\chhattisgarh\\\\2018', 'C:/Users/Vishaal Grizzly/pulse\\\\data\\\\top\\\\transaction\\\\country\\\\india\\\\state\\\\chhattisgarh\\\\2019', 'C:/Users/Vishaal Grizzly/pulse\\\\data\\\\top\\\\transaction\\\\country\\\\india\\\\state\\\\chhattisgarh\\\\2020', 'C:/Users/Vishaal Grizzly/pulse\\\\data\\\\top\\\\transaction\\\\country\\\\india\\\\state\\\\chhattisgarh\\\\2021', 'C:/Users/Vishaal Grizzly/pulse\\\\data\\\\top\\\\transaction\\\\country\\\\india\\\\state\\\\chhattisgarh\\\\2022', 'C:/Users/Vishaal Grizzly/pulse\\\\data\\\\top\\\\transaction\\\\country\\\\india\\\\state\\\\dadra-&-nagar-haveli-&-daman-&-diu\\\\2018', 'C:/Users/Vishaal Grizzly/pulse\\\\data\\\\top\\\\transaction\\\\country\\\\india\\\\state\\\\dadra-&-nagar-haveli-&-daman-&-diu\\\\2019', 'C:/Users/Vishaal Grizzly/pulse\\\\data\\\\top\\\\transaction\\\\country\\\\india\\\\state\\\\dadra-&-nagar-haveli-&-daman-&-diu\\\\2020', 'C:/Users/Vishaal Grizzly/pulse\\\\data\\\\top\\\\transaction\\\\country\\\\india\\\\state\\\\dadra-&-nagar-haveli-&-daman-&-diu\\\\2021', 'C:/Users/Vishaal Grizzly/pulse\\\\data\\\\top\\\\transaction\\\\country\\\\india\\\\state\\\\dadra-&-nagar-haveli-&-daman-&-diu\\\\2022', 'C:/Users/Vishaal Grizzly/pulse\\\\data\\\\top\\\\transaction\\\\country\\\\india\\\\state\\\\delhi\\\\2018', 'C:/Users/Vishaal Grizzly/pulse\\\\data\\\\top\\\\transaction\\\\country\\\\india\\\\state\\\\delhi\\\\2019', 'C:/Users/Vishaal Grizzly/pulse\\\\data\\\\top\\\\transaction\\\\country\\\\india\\\\state\\\\delhi\\\\2020', 'C:/Users/Vishaal Grizzly/pulse\\\\data\\\\top\\\\transaction\\\\country\\\\india\\\\state\\\\delhi\\\\2021', 'C:/Users/Vishaal Grizzly/pulse\\\\data\\\\top\\\\transaction\\\\country\\\\india\\\\state\\\\delhi\\\\2022', 'C:/Users/Vishaal Grizzly/pulse\\\\data\\\\top\\\\transaction\\\\country\\\\india\\\\state\\\\goa\\\\2018', 'C:/Users/Vishaal Grizzly/pulse\\\\data\\\\top\\\\transaction\\\\country\\\\india\\\\state\\\\goa\\\\2019', 'C:/Users/Vishaal Grizzly/pulse\\\\data\\\\top\\\\transaction\\\\country\\\\india\\\\state\\\\goa\\\\2020', 'C:/Users/Vishaal Grizzly/pulse\\\\data\\\\top\\\\transaction\\\\country\\\\india\\\\state\\\\goa\\\\2021', 'C:/Users/Vishaal Grizzly/pulse\\\\data\\\\top\\\\transaction\\\\country\\\\india\\\\state\\\\goa\\\\2022', 'C:/Users/Vishaal Grizzly/pulse\\\\data\\\\top\\\\transaction\\\\country\\\\india\\\\state\\\\gujarat\\\\2018', 'C:/Users/Vishaal Grizzly/pulse\\\\data\\\\top\\\\transaction\\\\country\\\\india\\\\state\\\\gujarat\\\\2019', 'C:/Users/Vishaal Grizzly/pulse\\\\data\\\\top\\\\transaction\\\\country\\\\india\\\\state\\\\gujarat\\\\2020', 'C:/Users/Vishaal Grizzly/pulse\\\\data\\\\top\\\\transaction\\\\country\\\\india\\\\state\\\\gujarat\\\\2021', 'C:/Users/Vishaal Grizzly/pulse\\\\data\\\\top\\\\transaction\\\\country\\\\india\\\\state\\\\gujarat\\\\2022', 'C:/Users/Vishaal Grizzly/pulse\\\\data\\\\top\\\\transaction\\\\country\\\\india\\\\state\\\\haryana\\\\2018', 'C:/Users/Vishaal Grizzly/pulse\\\\data\\\\top\\\\transaction\\\\country\\\\india\\\\state\\\\haryana\\\\2019', 'C:/Users/Vishaal Grizzly/pulse\\\\data\\\\top\\\\transaction\\\\country\\\\india\\\\state\\\\haryana\\\\2020', 'C:/Users/Vishaal Grizzly/pulse\\\\data\\\\top\\\\transaction\\\\country\\\\india\\\\state\\\\haryana\\\\2021', 'C:/Users/Vishaal Grizzly/pulse\\\\data\\\\top\\\\transaction\\\\country\\\\india\\\\state\\\\haryana\\\\2022', 'C:/Users/Vishaal Grizzly/pulse\\\\data\\\\top\\\\transaction\\\\country\\\\india\\\\state\\\\himachal-pradesh\\\\2018', 'C:/Users/Vishaal Grizzly/pulse\\\\data\\\\top\\\\transaction\\\\country\\\\india\\\\state\\\\himachal-pradesh\\\\2019', 'C:/Users/Vishaal Grizzly/pulse\\\\data\\\\top\\\\transaction\\\\country\\\\india\\\\state\\\\himachal-pradesh\\\\2020', 'C:/Users/Vishaal Grizzly/pulse\\\\data\\\\top\\\\transaction\\\\country\\\\india\\\\state\\\\himachal-pradesh\\\\2021', 'C:/Users/Vishaal Grizzly/pulse\\\\data\\\\top\\\\transaction\\\\country\\\\india\\\\state\\\\himachal-pradesh\\\\2022', 'C:/Users/Vishaal Grizzly/pulse\\\\data\\\\top\\\\transaction\\\\country\\\\india\\\\state\\\\jammu-&-kashmir\\\\2018', 'C:/Users/Vishaal Grizzly/pulse\\\\data\\\\top\\\\transaction\\\\country\\\\india\\\\state\\\\jammu-&-kashmir\\\\2019', 'C:/Users/Vishaal Grizzly/pulse\\\\data\\\\top\\\\transaction\\\\country\\\\india\\\\state\\\\jammu-&-kashmir\\\\2020', 'C:/Users/Vishaal Grizzly/pulse\\\\data\\\\top\\\\transaction\\\\country\\\\india\\\\state\\\\jammu-&-kashmir\\\\2021', 'C:/Users/Vishaal Grizzly/pulse\\\\data\\\\top\\\\transaction\\\\country\\\\india\\\\state\\\\jammu-&-kashmir\\\\2022', 'C:/Users/Vishaal Grizzly/pulse\\\\data\\\\top\\\\transaction\\\\country\\\\india\\\\state\\\\jharkhand\\\\2018', 'C:/Users/Vishaal Grizzly/pulse\\\\data\\\\top\\\\transaction\\\\country\\\\india\\\\state\\\\jharkhand\\\\2019', 'C:/Users/Vishaal Grizzly/pulse\\\\data\\\\top\\\\transaction\\\\country\\\\india\\\\state\\\\jharkhand\\\\2020', 'C:/Users/Vishaal Grizzly/pulse\\\\data\\\\top\\\\transaction\\\\country\\\\india\\\\state\\\\jharkhand\\\\2021', 'C:/Users/Vishaal Grizzly/pulse\\\\data\\\\top\\\\transaction\\\\country\\\\india\\\\state\\\\jharkhand\\\\2022', 'C:/Users/Vishaal Grizzly/pulse\\\\data\\\\top\\\\transaction\\\\country\\\\india\\\\state\\\\karnataka\\\\2018', 'C:/Users/Vishaal Grizzly/pulse\\\\data\\\\top\\\\transaction\\\\country\\\\india\\\\state\\\\karnataka\\\\2019', 'C:/Users/Vishaal Grizzly/pulse\\\\data\\\\top\\\\transaction\\\\country\\\\india\\\\state\\\\karnataka\\\\2020', 'C:/Users/Vishaal Grizzly/pulse\\\\data\\\\top\\\\transaction\\\\country\\\\india\\\\state\\\\karnataka\\\\2021', 'C:/Users/Vishaal Grizzly/pulse\\\\data\\\\top\\\\transaction\\\\country\\\\india\\\\state\\\\karnataka\\\\2022', 'C:/Users/Vishaal Grizzly/pulse\\\\data\\\\top\\\\transaction\\\\country\\\\india\\\\state\\\\kerala\\\\2018', 'C:/Users/Vishaal Grizzly/pulse\\\\data\\\\top\\\\transaction\\\\country\\\\india\\\\state\\\\kerala\\\\2019', 'C:/Users/Vishaal Grizzly/pulse\\\\data\\\\top\\\\transaction\\\\country\\\\india\\\\state\\\\kerala\\\\2020', 'C:/Users/Vishaal Grizzly/pulse\\\\data\\\\top\\\\transaction\\\\country\\\\india\\\\state\\\\kerala\\\\2021', 'C:/Users/Vishaal Grizzly/pulse\\\\data\\\\top\\\\transaction\\\\country\\\\india\\\\state\\\\kerala\\\\2022', 'C:/Users/Vishaal Grizzly/pulse\\\\data\\\\top\\\\transaction\\\\country\\\\india\\\\state\\\\ladakh\\\\2018', 'C:/Users/Vishaal Grizzly/pulse\\\\data\\\\top\\\\transaction\\\\country\\\\india\\\\state\\\\ladakh\\\\2019', 'C:/Users/Vishaal Grizzly/pulse\\\\data\\\\top\\\\transaction\\\\country\\\\india\\\\state\\\\ladakh\\\\2020', 'C:/Users/Vishaal Grizzly/pulse\\\\data\\\\top\\\\transaction\\\\country\\\\india\\\\state\\\\ladakh\\\\2021', 'C:/Users/Vishaal Grizzly/pulse\\\\data\\\\top\\\\transaction\\\\country\\\\india\\\\state\\\\ladakh\\\\2022', 'C:/Users/Vishaal Grizzly/pulse\\\\data\\\\top\\\\transaction\\\\country\\\\india\\\\state\\\\lakshadweep\\\\2018', 'C:/Users/Vishaal Grizzly/pulse\\\\data\\\\top\\\\transaction\\\\country\\\\india\\\\state\\\\lakshadweep\\\\2019', 'C:/Users/Vishaal Grizzly/pulse\\\\data\\\\top\\\\transaction\\\\country\\\\india\\\\state\\\\lakshadweep\\\\2020', 'C:/Users/Vishaal Grizzly/pulse\\\\data\\\\top\\\\transaction\\\\country\\\\india\\\\state\\\\lakshadweep\\\\2021', 'C:/Users/Vishaal Grizzly/pulse\\\\data\\\\top\\\\transaction\\\\country\\\\india\\\\state\\\\lakshadweep\\\\2022', 'C:/Users/Vishaal Grizzly/pulse\\\\data\\\\top\\\\transaction\\\\country\\\\india\\\\state\\\\madhya-pradesh\\\\2018', 'C:/Users/Vishaal Grizzly/pulse\\\\data\\\\top\\\\transaction\\\\country\\\\india\\\\state\\\\madhya-pradesh\\\\2019', 'C:/Users/Vishaal Grizzly/pulse\\\\data\\\\top\\\\transaction\\\\country\\\\india\\\\state\\\\madhya-pradesh\\\\2020', 'C:/Users/Vishaal Grizzly/pulse\\\\data\\\\top\\\\transaction\\\\country\\\\india\\\\state\\\\madhya-pradesh\\\\2021', 'C:/Users/Vishaal Grizzly/pulse\\\\data\\\\top\\\\transaction\\\\country\\\\india\\\\state\\\\madhya-pradesh\\\\2022', 'C:/Users/Vishaal Grizzly/pulse\\\\data\\\\top\\\\transaction\\\\country\\\\india\\\\state\\\\maharashtra\\\\2018', 'C:/Users/Vishaal Grizzly/pulse\\\\data\\\\top\\\\transaction\\\\country\\\\india\\\\state\\\\maharashtra\\\\2019', 'C:/Users/Vishaal Grizzly/pulse\\\\data\\\\top\\\\transaction\\\\country\\\\india\\\\state\\\\maharashtra\\\\2020', 'C:/Users/Vishaal Grizzly/pulse\\\\data\\\\top\\\\transaction\\\\country\\\\india\\\\state\\\\maharashtra\\\\2021', 'C:/Users/Vishaal Grizzly/pulse\\\\data\\\\top\\\\transaction\\\\country\\\\india\\\\state\\\\maharashtra\\\\2022', 'C:/Users/Vishaal Grizzly/pulse\\\\data\\\\top\\\\transaction\\\\country\\\\india\\\\state\\\\manipur\\\\2018', 'C:/Users/Vishaal Grizzly/pulse\\\\data\\\\top\\\\transaction\\\\country\\\\india\\\\state\\\\manipur\\\\2019', 'C:/Users/Vishaal Grizzly/pulse\\\\data\\\\top\\\\transaction\\\\country\\\\india\\\\state\\\\manipur\\\\2020', 'C:/Users/Vishaal Grizzly/pulse\\\\data\\\\top\\\\transaction\\\\country\\\\india\\\\state\\\\manipur\\\\2021', 'C:/Users/Vishaal Grizzly/pulse\\\\data\\\\top\\\\transaction\\\\country\\\\india\\\\state\\\\manipur\\\\2022', 'C:/Users/Vishaal Grizzly/pulse\\\\data\\\\top\\\\transaction\\\\country\\\\india\\\\state\\\\meghalaya\\\\2018', 'C:/Users/Vishaal Grizzly/pulse\\\\data\\\\top\\\\transaction\\\\country\\\\india\\\\state\\\\meghalaya\\\\2019', 'C:/Users/Vishaal Grizzly/pulse\\\\data\\\\top\\\\transaction\\\\country\\\\india\\\\state\\\\meghalaya\\\\2020', 'C:/Users/Vishaal Grizzly/pulse\\\\data\\\\top\\\\transaction\\\\country\\\\india\\\\state\\\\meghalaya\\\\2021', 'C:/Users/Vishaal Grizzly/pulse\\\\data\\\\top\\\\transaction\\\\country\\\\india\\\\state\\\\meghalaya\\\\2022', 'C:/Users/Vishaal Grizzly/pulse\\\\data\\\\top\\\\transaction\\\\country\\\\india\\\\state\\\\mizoram\\\\2018', 'C:/Users/Vishaal Grizzly/pulse\\\\data\\\\top\\\\transaction\\\\country\\\\india\\\\state\\\\mizoram\\\\2019', 'C:/Users/Vishaal Grizzly/pulse\\\\data\\\\top\\\\transaction\\\\country\\\\india\\\\state\\\\mizoram\\\\2020', 'C:/Users/Vishaal Grizzly/pulse\\\\data\\\\top\\\\transaction\\\\country\\\\india\\\\state\\\\mizoram\\\\2021', 'C:/Users/Vishaal Grizzly/pulse\\\\data\\\\top\\\\transaction\\\\country\\\\india\\\\state\\\\mizoram\\\\2022', 'C:/Users/Vishaal Grizzly/pulse\\\\data\\\\top\\\\transaction\\\\country\\\\india\\\\state\\\\nagaland\\\\2018', 'C:/Users/Vishaal Grizzly/pulse\\\\data\\\\top\\\\transaction\\\\country\\\\india\\\\state\\\\nagaland\\\\2019', 'C:/Users/Vishaal Grizzly/pulse\\\\data\\\\top\\\\transaction\\\\country\\\\india\\\\state\\\\nagaland\\\\2020', 'C:/Users/Vishaal Grizzly/pulse\\\\data\\\\top\\\\transaction\\\\country\\\\india\\\\state\\\\nagaland\\\\2021', 'C:/Users/Vishaal Grizzly/pulse\\\\data\\\\top\\\\transaction\\\\country\\\\india\\\\state\\\\nagaland\\\\2022', 'C:/Users/Vishaal Grizzly/pulse\\\\data\\\\top\\\\transaction\\\\country\\\\india\\\\state\\\\odisha\\\\2018', 'C:/Users/Vishaal Grizzly/pulse\\\\data\\\\top\\\\transaction\\\\country\\\\india\\\\state\\\\odisha\\\\2019', 'C:/Users/Vishaal Grizzly/pulse\\\\data\\\\top\\\\transaction\\\\country\\\\india\\\\state\\\\odisha\\\\2020', 'C:/Users/Vishaal Grizzly/pulse\\\\data\\\\top\\\\transaction\\\\country\\\\india\\\\state\\\\odisha\\\\2021', 'C:/Users/Vishaal Grizzly/pulse\\\\data\\\\top\\\\transaction\\\\country\\\\india\\\\state\\\\odisha\\\\2022', 'C:/Users/Vishaal Grizzly/pulse\\\\data\\\\top\\\\transaction\\\\country\\\\india\\\\state\\\\puducherry\\\\2018', 'C:/Users/Vishaal Grizzly/pulse\\\\data\\\\top\\\\transaction\\\\country\\\\india\\\\state\\\\puducherry\\\\2019', 'C:/Users/Vishaal Grizzly/pulse\\\\data\\\\top\\\\transaction\\\\country\\\\india\\\\state\\\\puducherry\\\\2020', 'C:/Users/Vishaal Grizzly/pulse\\\\data\\\\top\\\\transaction\\\\country\\\\india\\\\state\\\\puducherry\\\\2021', 'C:/Users/Vishaal Grizzly/pulse\\\\data\\\\top\\\\transaction\\\\country\\\\india\\\\state\\\\puducherry\\\\2022', 'C:/Users/Vishaal Grizzly/pulse\\\\data\\\\top\\\\transaction\\\\country\\\\india\\\\state\\\\punjab\\\\2018', 'C:/Users/Vishaal Grizzly/pulse\\\\data\\\\top\\\\transaction\\\\country\\\\india\\\\state\\\\punjab\\\\2019', 'C:/Users/Vishaal Grizzly/pulse\\\\data\\\\top\\\\transaction\\\\country\\\\india\\\\state\\\\punjab\\\\2020', 'C:/Users/Vishaal Grizzly/pulse\\\\data\\\\top\\\\transaction\\\\country\\\\india\\\\state\\\\punjab\\\\2021', 'C:/Users/Vishaal Grizzly/pulse\\\\data\\\\top\\\\transaction\\\\country\\\\india\\\\state\\\\punjab\\\\2022', 'C:/Users/Vishaal Grizzly/pulse\\\\data\\\\top\\\\transaction\\\\country\\\\india\\\\state\\\\rajasthan\\\\2018', 'C:/Users/Vishaal Grizzly/pulse\\\\data\\\\top\\\\transaction\\\\country\\\\india\\\\state\\\\rajasthan\\\\2019', 'C:/Users/Vishaal Grizzly/pulse\\\\data\\\\top\\\\transaction\\\\country\\\\india\\\\state\\\\rajasthan\\\\2020', 'C:/Users/Vishaal Grizzly/pulse\\\\data\\\\top\\\\transaction\\\\country\\\\india\\\\state\\\\rajasthan\\\\2021', 'C:/Users/Vishaal Grizzly/pulse\\\\data\\\\top\\\\transaction\\\\country\\\\india\\\\state\\\\rajasthan\\\\2022', 'C:/Users/Vishaal Grizzly/pulse\\\\data\\\\top\\\\transaction\\\\country\\\\india\\\\state\\\\sikkim\\\\2018', 'C:/Users/Vishaal Grizzly/pulse\\\\data\\\\top\\\\transaction\\\\country\\\\india\\\\state\\\\sikkim\\\\2019', 'C:/Users/Vishaal Grizzly/pulse\\\\data\\\\top\\\\transaction\\\\country\\\\india\\\\state\\\\sikkim\\\\2020', 'C:/Users/Vishaal Grizzly/pulse\\\\data\\\\top\\\\transaction\\\\country\\\\india\\\\state\\\\sikkim\\\\2021', 'C:/Users/Vishaal Grizzly/pulse\\\\data\\\\top\\\\transaction\\\\country\\\\india\\\\state\\\\sikkim\\\\2022', 'C:/Users/Vishaal Grizzly/pulse\\\\data\\\\top\\\\transaction\\\\country\\\\india\\\\state\\\\tamil-nadu\\\\2018', 'C:/Users/Vishaal Grizzly/pulse\\\\data\\\\top\\\\transaction\\\\country\\\\india\\\\state\\\\tamil-nadu\\\\2019', 'C:/Users/Vishaal Grizzly/pulse\\\\data\\\\top\\\\transaction\\\\country\\\\india\\\\state\\\\tamil-nadu\\\\2020', 'C:/Users/Vishaal Grizzly/pulse\\\\data\\\\top\\\\transaction\\\\country\\\\india\\\\state\\\\tamil-nadu\\\\2021', 'C:/Users/Vishaal Grizzly/pulse\\\\data\\\\top\\\\transaction\\\\country\\\\india\\\\state\\\\tamil-nadu\\\\2022', 'C:/Users/Vishaal Grizzly/pulse\\\\data\\\\top\\\\transaction\\\\country\\\\india\\\\state\\\\telangana\\\\2018', 'C:/Users/Vishaal Grizzly/pulse\\\\data\\\\top\\\\transaction\\\\country\\\\india\\\\state\\\\telangana\\\\2019', 'C:/Users/Vishaal Grizzly/pulse\\\\data\\\\top\\\\transaction\\\\country\\\\india\\\\state\\\\telangana\\\\2020', 'C:/Users/Vishaal Grizzly/pulse\\\\data\\\\top\\\\transaction\\\\country\\\\india\\\\state\\\\telangana\\\\2021', 'C:/Users/Vishaal Grizzly/pulse\\\\data\\\\top\\\\transaction\\\\country\\\\india\\\\state\\\\telangana\\\\2022', 'C:/Users/Vishaal Grizzly/pulse\\\\data\\\\top\\\\transaction\\\\country\\\\india\\\\state\\\\tripura\\\\2018', 'C:/Users/Vishaal Grizzly/pulse\\\\data\\\\top\\\\transaction\\\\country\\\\india\\\\state\\\\tripura\\\\2019', 'C:/Users/Vishaal Grizzly/pulse\\\\data\\\\top\\\\transaction\\\\country\\\\india\\\\state\\\\tripura\\\\2020', 'C:/Users/Vishaal Grizzly/pulse\\\\data\\\\top\\\\transaction\\\\country\\\\india\\\\state\\\\tripura\\\\2021', 'C:/Users/Vishaal Grizzly/pulse\\\\data\\\\top\\\\transaction\\\\country\\\\india\\\\state\\\\tripura\\\\2022', 'C:/Users/Vishaal Grizzly/pulse\\\\data\\\\top\\\\transaction\\\\country\\\\india\\\\state\\\\uttar-pradesh\\\\2018', 'C:/Users/Vishaal Grizzly/pulse\\\\data\\\\top\\\\transaction\\\\country\\\\india\\\\state\\\\uttar-pradesh\\\\2019', 'C:/Users/Vishaal Grizzly/pulse\\\\data\\\\top\\\\transaction\\\\country\\\\india\\\\state\\\\uttar-pradesh\\\\2020', 'C:/Users/Vishaal Grizzly/pulse\\\\data\\\\top\\\\transaction\\\\country\\\\india\\\\state\\\\uttar-pradesh\\\\2021', 'C:/Users/Vishaal Grizzly/pulse\\\\data\\\\top\\\\transaction\\\\country\\\\india\\\\state\\\\uttar-pradesh\\\\2022', 'C:/Users/Vishaal Grizzly/pulse\\\\data\\\\top\\\\transaction\\\\country\\\\india\\\\state\\\\uttarakhand\\\\2018', 'C:/Users/Vishaal Grizzly/pulse\\\\data\\\\top\\\\transaction\\\\country\\\\india\\\\state\\\\uttarakhand\\\\2019', 'C:/Users/Vishaal Grizzly/pulse\\\\data\\\\top\\\\transaction\\\\country\\\\india\\\\state\\\\uttarakhand\\\\2020', 'C:/Users/Vishaal Grizzly/pulse\\\\data\\\\top\\\\transaction\\\\country\\\\india\\\\state\\\\uttarakhand\\\\2021', 'C:/Users/Vishaal Grizzly/pulse\\\\data\\\\top\\\\transaction\\\\country\\\\india\\\\state\\\\uttarakhand\\\\2022', 'C:/Users/Vishaal Grizzly/pulse\\\\data\\\\top\\\\transaction\\\\country\\\\india\\\\state\\\\west-bengal\\\\2018', 'C:/Users/Vishaal Grizzly/pulse\\\\data\\\\top\\\\transaction\\\\country\\\\india\\\\state\\\\west-bengal\\\\2019', 'C:/Users/Vishaal Grizzly/pulse\\\\data\\\\top\\\\transaction\\\\country\\\\india\\\\state\\\\west-bengal\\\\2020', 'C:/Users/Vishaal Grizzly/pulse\\\\data\\\\top\\\\transaction\\\\country\\\\india\\\\state\\\\west-bengal\\\\2021', 'C:/Users/Vishaal Grizzly/pulse\\\\data\\\\top\\\\transaction\\\\country\\\\india\\\\state\\\\west-bengal\\\\2022', 'C:/Users/Vishaal Grizzly/pulse\\\\data\\\\top\\\\user\\\\country', 'C:/Users/Vishaal Grizzly/pulse\\\\data\\\\top\\\\user\\\\country\\\\india', 'C:/Users/Vishaal Grizzly/pulse\\\\data\\\\top\\\\user\\\\country\\\\india\\\\2018', 'C:/Users/Vishaal Grizzly/pulse\\\\data\\\\top\\\\user\\\\country\\\\india\\\\2019', 'C:/Users/Vishaal Grizzly/pulse\\\\data\\\\top\\\\user\\\\country\\\\india\\\\2020', 'C:/Users/Vishaal Grizzly/pulse\\\\data\\\\top\\\\user\\\\country\\\\india\\\\2021', 'C:/Users/Vishaal Grizzly/pulse\\\\data\\\\top\\\\user\\\\country\\\\india\\\\2022', 'C:/Users/Vishaal Grizzly/pulse\\\\data\\\\top\\\\user\\\\country\\\\india\\\\state', 'C:/Users/Vishaal Grizzly/pulse\\\\data\\\\top\\\\user\\\\country\\\\india\\\\state\\\\andaman-&-nicobar-islands', 'C:/Users/Vishaal Grizzly/pulse\\\\data\\\\top\\\\user\\\\country\\\\india\\\\state\\\\andhra-pradesh', 'C:/Users/Vishaal Grizzly/pulse\\\\data\\\\top\\\\user\\\\country\\\\india\\\\state\\\\arunachal-pradesh', 'C:/Users/Vishaal Grizzly/pulse\\\\data\\\\top\\\\user\\\\country\\\\india\\\\state\\\\assam', 'C:/Users/Vishaal Grizzly/pulse\\\\data\\\\top\\\\user\\\\country\\\\india\\\\state\\\\bihar', 'C:/Users/Vishaal Grizzly/pulse\\\\data\\\\top\\\\user\\\\country\\\\india\\\\state\\\\chandigarh', 'C:/Users/Vishaal Grizzly/pulse\\\\data\\\\top\\\\user\\\\country\\\\india\\\\state\\\\chhattisgarh', 'C:/Users/Vishaal Grizzly/pulse\\\\data\\\\top\\\\user\\\\country\\\\india\\\\state\\\\dadra-&-nagar-haveli-&-daman-&-diu', 'C:/Users/Vishaal Grizzly/pulse\\\\data\\\\top\\\\user\\\\country\\\\india\\\\state\\\\delhi', 'C:/Users/Vishaal Grizzly/pulse\\\\data\\\\top\\\\user\\\\country\\\\india\\\\state\\\\goa', 'C:/Users/Vishaal Grizzly/pulse\\\\data\\\\top\\\\user\\\\country\\\\india\\\\state\\\\gujarat', 'C:/Users/Vishaal Grizzly/pulse\\\\data\\\\top\\\\user\\\\country\\\\india\\\\state\\\\haryana', 'C:/Users/Vishaal Grizzly/pulse\\\\data\\\\top\\\\user\\\\country\\\\india\\\\state\\\\himachal-pradesh', 'C:/Users/Vishaal Grizzly/pulse\\\\data\\\\top\\\\user\\\\country\\\\india\\\\state\\\\jammu-&-kashmir', 'C:/Users/Vishaal Grizzly/pulse\\\\data\\\\top\\\\user\\\\country\\\\india\\\\state\\\\jharkhand', 'C:/Users/Vishaal Grizzly/pulse\\\\data\\\\top\\\\user\\\\country\\\\india\\\\state\\\\karnataka', 'C:/Users/Vishaal Grizzly/pulse\\\\data\\\\top\\\\user\\\\country\\\\india\\\\state\\\\kerala', 'C:/Users/Vishaal Grizzly/pulse\\\\data\\\\top\\\\user\\\\country\\\\india\\\\state\\\\ladakh', 'C:/Users/Vishaal Grizzly/pulse\\\\data\\\\top\\\\user\\\\country\\\\india\\\\state\\\\lakshadweep', 'C:/Users/Vishaal Grizzly/pulse\\\\data\\\\top\\\\user\\\\country\\\\india\\\\state\\\\madhya-pradesh', 'C:/Users/Vishaal Grizzly/pulse\\\\data\\\\top\\\\user\\\\country\\\\india\\\\state\\\\maharashtra', 'C:/Users/Vishaal Grizzly/pulse\\\\data\\\\top\\\\user\\\\country\\\\india\\\\state\\\\manipur', 'C:/Users/Vishaal Grizzly/pulse\\\\data\\\\top\\\\user\\\\country\\\\india\\\\state\\\\meghalaya', 'C:/Users/Vishaal Grizzly/pulse\\\\data\\\\top\\\\user\\\\country\\\\india\\\\state\\\\mizoram', 'C:/Users/Vishaal Grizzly/pulse\\\\data\\\\top\\\\user\\\\country\\\\india\\\\state\\\\nagaland', 'C:/Users/Vishaal Grizzly/pulse\\\\data\\\\top\\\\user\\\\country\\\\india\\\\state\\\\odisha', 'C:/Users/Vishaal Grizzly/pulse\\\\data\\\\top\\\\user\\\\country\\\\india\\\\state\\\\puducherry', 'C:/Users/Vishaal Grizzly/pulse\\\\data\\\\top\\\\user\\\\country\\\\india\\\\state\\\\punjab', 'C:/Users/Vishaal Grizzly/pulse\\\\data\\\\top\\\\user\\\\country\\\\india\\\\state\\\\rajasthan', 'C:/Users/Vishaal Grizzly/pulse\\\\data\\\\top\\\\user\\\\country\\\\india\\\\state\\\\sikkim', 'C:/Users/Vishaal Grizzly/pulse\\\\data\\\\top\\\\user\\\\country\\\\india\\\\state\\\\tamil-nadu', 'C:/Users/Vishaal Grizzly/pulse\\\\data\\\\top\\\\user\\\\country\\\\india\\\\state\\\\telangana', 'C:/Users/Vishaal Grizzly/pulse\\\\data\\\\top\\\\user\\\\country\\\\india\\\\state\\\\tripura', 'C:/Users/Vishaal Grizzly/pulse\\\\data\\\\top\\\\user\\\\country\\\\india\\\\state\\\\uttar-pradesh', 'C:/Users/Vishaal Grizzly/pulse\\\\data\\\\top\\\\user\\\\country\\\\india\\\\state\\\\uttarakhand', 'C:/Users/Vishaal Grizzly/pulse\\\\data\\\\top\\\\user\\\\country\\\\india\\\\state\\\\west-bengal', 'C:/Users/Vishaal Grizzly/pulse\\\\data\\\\top\\\\user\\\\country\\\\india\\\\state\\\\andaman-&-nicobar-islands\\\\2018', 'C:/Users/Vishaal Grizzly/pulse\\\\data\\\\top\\\\user\\\\country\\\\india\\\\state\\\\andaman-&-nicobar-islands\\\\2019', 'C:/Users/Vishaal Grizzly/pulse\\\\data\\\\top\\\\user\\\\country\\\\india\\\\state\\\\andaman-&-nicobar-islands\\\\2020', 'C:/Users/Vishaal Grizzly/pulse\\\\data\\\\top\\\\user\\\\country\\\\india\\\\state\\\\andaman-&-nicobar-islands\\\\2021', 'C:/Users/Vishaal Grizzly/pulse\\\\data\\\\top\\\\user\\\\country\\\\india\\\\state\\\\andaman-&-nicobar-islands\\\\2022', 'C:/Users/Vishaal Grizzly/pulse\\\\data\\\\top\\\\user\\\\country\\\\india\\\\state\\\\andhra-pradesh\\\\2018', 'C:/Users/Vishaal Grizzly/pulse\\\\data\\\\top\\\\user\\\\country\\\\india\\\\state\\\\andhra-pradesh\\\\2019', 'C:/Users/Vishaal Grizzly/pulse\\\\data\\\\top\\\\user\\\\country\\\\india\\\\state\\\\andhra-pradesh\\\\2020', 'C:/Users/Vishaal Grizzly/pulse\\\\data\\\\top\\\\user\\\\country\\\\india\\\\state\\\\andhra-pradesh\\\\2021', 'C:/Users/Vishaal Grizzly/pulse\\\\data\\\\top\\\\user\\\\country\\\\india\\\\state\\\\andhra-pradesh\\\\2022', 'C:/Users/Vishaal Grizzly/pulse\\\\data\\\\top\\\\user\\\\country\\\\india\\\\state\\\\arunachal-pradesh\\\\2018', 'C:/Users/Vishaal Grizzly/pulse\\\\data\\\\top\\\\user\\\\country\\\\india\\\\state\\\\arunachal-pradesh\\\\2019', 'C:/Users/Vishaal Grizzly/pulse\\\\data\\\\top\\\\user\\\\country\\\\india\\\\state\\\\arunachal-pradesh\\\\2020', 'C:/Users/Vishaal Grizzly/pulse\\\\data\\\\top\\\\user\\\\country\\\\india\\\\state\\\\arunachal-pradesh\\\\2021', 'C:/Users/Vishaal Grizzly/pulse\\\\data\\\\top\\\\user\\\\country\\\\india\\\\state\\\\arunachal-pradesh\\\\2022', 'C:/Users/Vishaal Grizzly/pulse\\\\data\\\\top\\\\user\\\\country\\\\india\\\\state\\\\assam\\\\2018', 'C:/Users/Vishaal Grizzly/pulse\\\\data\\\\top\\\\user\\\\country\\\\india\\\\state\\\\assam\\\\2019', 'C:/Users/Vishaal Grizzly/pulse\\\\data\\\\top\\\\user\\\\country\\\\india\\\\state\\\\assam\\\\2020', 'C:/Users/Vishaal Grizzly/pulse\\\\data\\\\top\\\\user\\\\country\\\\india\\\\state\\\\assam\\\\2021', 'C:/Users/Vishaal Grizzly/pulse\\\\data\\\\top\\\\user\\\\country\\\\india\\\\state\\\\assam\\\\2022', 'C:/Users/Vishaal Grizzly/pulse\\\\data\\\\top\\\\user\\\\country\\\\india\\\\state\\\\bihar\\\\2018', 'C:/Users/Vishaal Grizzly/pulse\\\\data\\\\top\\\\user\\\\country\\\\india\\\\state\\\\bihar\\\\2019', 'C:/Users/Vishaal Grizzly/pulse\\\\data\\\\top\\\\user\\\\country\\\\india\\\\state\\\\bihar\\\\2020', 'C:/Users/Vishaal Grizzly/pulse\\\\data\\\\top\\\\user\\\\country\\\\india\\\\state\\\\bihar\\\\2021', 'C:/Users/Vishaal Grizzly/pulse\\\\data\\\\top\\\\user\\\\country\\\\india\\\\state\\\\bihar\\\\2022', 'C:/Users/Vishaal Grizzly/pulse\\\\data\\\\top\\\\user\\\\country\\\\india\\\\state\\\\chandigarh\\\\2018', 'C:/Users/Vishaal Grizzly/pulse\\\\data\\\\top\\\\user\\\\country\\\\india\\\\state\\\\chandigarh\\\\2019', 'C:/Users/Vishaal Grizzly/pulse\\\\data\\\\top\\\\user\\\\country\\\\india\\\\state\\\\chandigarh\\\\2020', 'C:/Users/Vishaal Grizzly/pulse\\\\data\\\\top\\\\user\\\\country\\\\india\\\\state\\\\chandigarh\\\\2021', 'C:/Users/Vishaal Grizzly/pulse\\\\data\\\\top\\\\user\\\\country\\\\india\\\\state\\\\chandigarh\\\\2022', 'C:/Users/Vishaal Grizzly/pulse\\\\data\\\\top\\\\user\\\\country\\\\india\\\\state\\\\chhattisgarh\\\\2018', 'C:/Users/Vishaal Grizzly/pulse\\\\data\\\\top\\\\user\\\\country\\\\india\\\\state\\\\chhattisgarh\\\\2019', 'C:/Users/Vishaal Grizzly/pulse\\\\data\\\\top\\\\user\\\\country\\\\india\\\\state\\\\chhattisgarh\\\\2020', 'C:/Users/Vishaal Grizzly/pulse\\\\data\\\\top\\\\user\\\\country\\\\india\\\\state\\\\chhattisgarh\\\\2021', 'C:/Users/Vishaal Grizzly/pulse\\\\data\\\\top\\\\user\\\\country\\\\india\\\\state\\\\chhattisgarh\\\\2022', 'C:/Users/Vishaal Grizzly/pulse\\\\data\\\\top\\\\user\\\\country\\\\india\\\\state\\\\dadra-&-nagar-haveli-&-daman-&-diu\\\\2018', 'C:/Users/Vishaal Grizzly/pulse\\\\data\\\\top\\\\user\\\\country\\\\india\\\\state\\\\dadra-&-nagar-haveli-&-daman-&-diu\\\\2019', 'C:/Users/Vishaal Grizzly/pulse\\\\data\\\\top\\\\user\\\\country\\\\india\\\\state\\\\dadra-&-nagar-haveli-&-daman-&-diu\\\\2020', 'C:/Users/Vishaal Grizzly/pulse\\\\data\\\\top\\\\user\\\\country\\\\india\\\\state\\\\dadra-&-nagar-haveli-&-daman-&-diu\\\\2021', 'C:/Users/Vishaal Grizzly/pulse\\\\data\\\\top\\\\user\\\\country\\\\india\\\\state\\\\dadra-&-nagar-haveli-&-daman-&-diu\\\\2022', 'C:/Users/Vishaal Grizzly/pulse\\\\data\\\\top\\\\user\\\\country\\\\india\\\\state\\\\delhi\\\\2018', 'C:/Users/Vishaal Grizzly/pulse\\\\data\\\\top\\\\user\\\\country\\\\india\\\\state\\\\delhi\\\\2019', 'C:/Users/Vishaal Grizzly/pulse\\\\data\\\\top\\\\user\\\\country\\\\india\\\\state\\\\delhi\\\\2020', 'C:/Users/Vishaal Grizzly/pulse\\\\data\\\\top\\\\user\\\\country\\\\india\\\\state\\\\delhi\\\\2021', 'C:/Users/Vishaal Grizzly/pulse\\\\data\\\\top\\\\user\\\\country\\\\india\\\\state\\\\delhi\\\\2022', 'C:/Users/Vishaal Grizzly/pulse\\\\data\\\\top\\\\user\\\\country\\\\india\\\\state\\\\goa\\\\2018', 'C:/Users/Vishaal Grizzly/pulse\\\\data\\\\top\\\\user\\\\country\\\\india\\\\state\\\\goa\\\\2019', 'C:/Users/Vishaal Grizzly/pulse\\\\data\\\\top\\\\user\\\\country\\\\india\\\\state\\\\goa\\\\2020', 'C:/Users/Vishaal Grizzly/pulse\\\\data\\\\top\\\\user\\\\country\\\\india\\\\state\\\\goa\\\\2021', 'C:/Users/Vishaal Grizzly/pulse\\\\data\\\\top\\\\user\\\\country\\\\india\\\\state\\\\goa\\\\2022', 'C:/Users/Vishaal Grizzly/pulse\\\\data\\\\top\\\\user\\\\country\\\\india\\\\state\\\\gujarat\\\\2018', 'C:/Users/Vishaal Grizzly/pulse\\\\data\\\\top\\\\user\\\\country\\\\india\\\\state\\\\gujarat\\\\2019', 'C:/Users/Vishaal Grizzly/pulse\\\\data\\\\top\\\\user\\\\country\\\\india\\\\state\\\\gujarat\\\\2020', 'C:/Users/Vishaal Grizzly/pulse\\\\data\\\\top\\\\user\\\\country\\\\india\\\\state\\\\gujarat\\\\2021', 'C:/Users/Vishaal Grizzly/pulse\\\\data\\\\top\\\\user\\\\country\\\\india\\\\state\\\\gujarat\\\\2022', 'C:/Users/Vishaal Grizzly/pulse\\\\data\\\\top\\\\user\\\\country\\\\india\\\\state\\\\haryana\\\\2018', 'C:/Users/Vishaal Grizzly/pulse\\\\data\\\\top\\\\user\\\\country\\\\india\\\\state\\\\haryana\\\\2019', 'C:/Users/Vishaal Grizzly/pulse\\\\data\\\\top\\\\user\\\\country\\\\india\\\\state\\\\haryana\\\\2020', 'C:/Users/Vishaal Grizzly/pulse\\\\data\\\\top\\\\user\\\\country\\\\india\\\\state\\\\haryana\\\\2021', 'C:/Users/Vishaal Grizzly/pulse\\\\data\\\\top\\\\user\\\\country\\\\india\\\\state\\\\haryana\\\\2022', 'C:/Users/Vishaal Grizzly/pulse\\\\data\\\\top\\\\user\\\\country\\\\india\\\\state\\\\himachal-pradesh\\\\2018', 'C:/Users/Vishaal Grizzly/pulse\\\\data\\\\top\\\\user\\\\country\\\\india\\\\state\\\\himachal-pradesh\\\\2019', 'C:/Users/Vishaal Grizzly/pulse\\\\data\\\\top\\\\user\\\\country\\\\india\\\\state\\\\himachal-pradesh\\\\2020', 'C:/Users/Vishaal Grizzly/pulse\\\\data\\\\top\\\\user\\\\country\\\\india\\\\state\\\\himachal-pradesh\\\\2021', 'C:/Users/Vishaal Grizzly/pulse\\\\data\\\\top\\\\user\\\\country\\\\india\\\\state\\\\himachal-pradesh\\\\2022', 'C:/Users/Vishaal Grizzly/pulse\\\\data\\\\top\\\\user\\\\country\\\\india\\\\state\\\\jammu-&-kashmir\\\\2018', 'C:/Users/Vishaal Grizzly/pulse\\\\data\\\\top\\\\user\\\\country\\\\india\\\\state\\\\jammu-&-kashmir\\\\2019', 'C:/Users/Vishaal Grizzly/pulse\\\\data\\\\top\\\\user\\\\country\\\\india\\\\state\\\\jammu-&-kashmir\\\\2020', 'C:/Users/Vishaal Grizzly/pulse\\\\data\\\\top\\\\user\\\\country\\\\india\\\\state\\\\jammu-&-kashmir\\\\2021', 'C:/Users/Vishaal Grizzly/pulse\\\\data\\\\top\\\\user\\\\country\\\\india\\\\state\\\\jammu-&-kashmir\\\\2022', 'C:/Users/Vishaal Grizzly/pulse\\\\data\\\\top\\\\user\\\\country\\\\india\\\\state\\\\jharkhand\\\\2018', 'C:/Users/Vishaal Grizzly/pulse\\\\data\\\\top\\\\user\\\\country\\\\india\\\\state\\\\jharkhand\\\\2019', 'C:/Users/Vishaal Grizzly/pulse\\\\data\\\\top\\\\user\\\\country\\\\india\\\\state\\\\jharkhand\\\\2020', 'C:/Users/Vishaal Grizzly/pulse\\\\data\\\\top\\\\user\\\\country\\\\india\\\\state\\\\jharkhand\\\\2021', 'C:/Users/Vishaal Grizzly/pulse\\\\data\\\\top\\\\user\\\\country\\\\india\\\\state\\\\jharkhand\\\\2022', 'C:/Users/Vishaal Grizzly/pulse\\\\data\\\\top\\\\user\\\\country\\\\india\\\\state\\\\karnataka\\\\2018', 'C:/Users/Vishaal Grizzly/pulse\\\\data\\\\top\\\\user\\\\country\\\\india\\\\state\\\\karnataka\\\\2019', 'C:/Users/Vishaal Grizzly/pulse\\\\data\\\\top\\\\user\\\\country\\\\india\\\\state\\\\karnataka\\\\2020', 'C:/Users/Vishaal Grizzly/pulse\\\\data\\\\top\\\\user\\\\country\\\\india\\\\state\\\\karnataka\\\\2021', 'C:/Users/Vishaal Grizzly/pulse\\\\data\\\\top\\\\user\\\\country\\\\india\\\\state\\\\karnataka\\\\2022', 'C:/Users/Vishaal Grizzly/pulse\\\\data\\\\top\\\\user\\\\country\\\\india\\\\state\\\\kerala\\\\2018', 'C:/Users/Vishaal Grizzly/pulse\\\\data\\\\top\\\\user\\\\country\\\\india\\\\state\\\\kerala\\\\2019', 'C:/Users/Vishaal Grizzly/pulse\\\\data\\\\top\\\\user\\\\country\\\\india\\\\state\\\\kerala\\\\2020', 'C:/Users/Vishaal Grizzly/pulse\\\\data\\\\top\\\\user\\\\country\\\\india\\\\state\\\\kerala\\\\2021', 'C:/Users/Vishaal Grizzly/pulse\\\\data\\\\top\\\\user\\\\country\\\\india\\\\state\\\\kerala\\\\2022', 'C:/Users/Vishaal Grizzly/pulse\\\\data\\\\top\\\\user\\\\country\\\\india\\\\state\\\\ladakh\\\\2018', 'C:/Users/Vishaal Grizzly/pulse\\\\data\\\\top\\\\user\\\\country\\\\india\\\\state\\\\ladakh\\\\2019', 'C:/Users/Vishaal Grizzly/pulse\\\\data\\\\top\\\\user\\\\country\\\\india\\\\state\\\\ladakh\\\\2020', 'C:/Users/Vishaal Grizzly/pulse\\\\data\\\\top\\\\user\\\\country\\\\india\\\\state\\\\ladakh\\\\2021', 'C:/Users/Vishaal Grizzly/pulse\\\\data\\\\top\\\\user\\\\country\\\\india\\\\state\\\\ladakh\\\\2022', 'C:/Users/Vishaal Grizzly/pulse\\\\data\\\\top\\\\user\\\\country\\\\india\\\\state\\\\lakshadweep\\\\2018', 'C:/Users/Vishaal Grizzly/pulse\\\\data\\\\top\\\\user\\\\country\\\\india\\\\state\\\\lakshadweep\\\\2019', 'C:/Users/Vishaal Grizzly/pulse\\\\data\\\\top\\\\user\\\\country\\\\india\\\\state\\\\lakshadweep\\\\2020', 'C:/Users/Vishaal Grizzly/pulse\\\\data\\\\top\\\\user\\\\country\\\\india\\\\state\\\\lakshadweep\\\\2021', 'C:/Users/Vishaal Grizzly/pulse\\\\data\\\\top\\\\user\\\\country\\\\india\\\\state\\\\lakshadweep\\\\2022', 'C:/Users/Vishaal Grizzly/pulse\\\\data\\\\top\\\\user\\\\country\\\\india\\\\state\\\\madhya-pradesh\\\\2018', 'C:/Users/Vishaal Grizzly/pulse\\\\data\\\\top\\\\user\\\\country\\\\india\\\\state\\\\madhya-pradesh\\\\2019', 'C:/Users/Vishaal Grizzly/pulse\\\\data\\\\top\\\\user\\\\country\\\\india\\\\state\\\\madhya-pradesh\\\\2020', 'C:/Users/Vishaal Grizzly/pulse\\\\data\\\\top\\\\user\\\\country\\\\india\\\\state\\\\madhya-pradesh\\\\2021', 'C:/Users/Vishaal Grizzly/pulse\\\\data\\\\top\\\\user\\\\country\\\\india\\\\state\\\\madhya-pradesh\\\\2022', 'C:/Users/Vishaal Grizzly/pulse\\\\data\\\\top\\\\user\\\\country\\\\india\\\\state\\\\maharashtra\\\\2018', 'C:/Users/Vishaal Grizzly/pulse\\\\data\\\\top\\\\user\\\\country\\\\india\\\\state\\\\maharashtra\\\\2019', 'C:/Users/Vishaal Grizzly/pulse\\\\data\\\\top\\\\user\\\\country\\\\india\\\\state\\\\maharashtra\\\\2020', 'C:/Users/Vishaal Grizzly/pulse\\\\data\\\\top\\\\user\\\\country\\\\india\\\\state\\\\maharashtra\\\\2021', 'C:/Users/Vishaal Grizzly/pulse\\\\data\\\\top\\\\user\\\\country\\\\india\\\\state\\\\maharashtra\\\\2022', 'C:/Users/Vishaal Grizzly/pulse\\\\data\\\\top\\\\user\\\\country\\\\india\\\\state\\\\manipur\\\\2018', 'C:/Users/Vishaal Grizzly/pulse\\\\data\\\\top\\\\user\\\\country\\\\india\\\\state\\\\manipur\\\\2019', 'C:/Users/Vishaal Grizzly/pulse\\\\data\\\\top\\\\user\\\\country\\\\india\\\\state\\\\manipur\\\\2020', 'C:/Users/Vishaal Grizzly/pulse\\\\data\\\\top\\\\user\\\\country\\\\india\\\\state\\\\manipur\\\\2021', 'C:/Users/Vishaal Grizzly/pulse\\\\data\\\\top\\\\user\\\\country\\\\india\\\\state\\\\manipur\\\\2022', 'C:/Users/Vishaal Grizzly/pulse\\\\data\\\\top\\\\user\\\\country\\\\india\\\\state\\\\meghalaya\\\\2018', 'C:/Users/Vishaal Grizzly/pulse\\\\data\\\\top\\\\user\\\\country\\\\india\\\\state\\\\meghalaya\\\\2019', 'C:/Users/Vishaal Grizzly/pulse\\\\data\\\\top\\\\user\\\\country\\\\india\\\\state\\\\meghalaya\\\\2020', 'C:/Users/Vishaal Grizzly/pulse\\\\data\\\\top\\\\user\\\\country\\\\india\\\\state\\\\meghalaya\\\\2021', 'C:/Users/Vishaal Grizzly/pulse\\\\data\\\\top\\\\user\\\\country\\\\india\\\\state\\\\meghalaya\\\\2022', 'C:/Users/Vishaal Grizzly/pulse\\\\data\\\\top\\\\user\\\\country\\\\india\\\\state\\\\mizoram\\\\2018', 'C:/Users/Vishaal Grizzly/pulse\\\\data\\\\top\\\\user\\\\country\\\\india\\\\state\\\\mizoram\\\\2019', 'C:/Users/Vishaal Grizzly/pulse\\\\data\\\\top\\\\user\\\\country\\\\india\\\\state\\\\mizoram\\\\2020', 'C:/Users/Vishaal Grizzly/pulse\\\\data\\\\top\\\\user\\\\country\\\\india\\\\state\\\\mizoram\\\\2021', 'C:/Users/Vishaal Grizzly/pulse\\\\data\\\\top\\\\user\\\\country\\\\india\\\\state\\\\mizoram\\\\2022', 'C:/Users/Vishaal Grizzly/pulse\\\\data\\\\top\\\\user\\\\country\\\\india\\\\state\\\\nagaland\\\\2018', 'C:/Users/Vishaal Grizzly/pulse\\\\data\\\\top\\\\user\\\\country\\\\india\\\\state\\\\nagaland\\\\2019', 'C:/Users/Vishaal Grizzly/pulse\\\\data\\\\top\\\\user\\\\country\\\\india\\\\state\\\\nagaland\\\\2020', 'C:/Users/Vishaal Grizzly/pulse\\\\data\\\\top\\\\user\\\\country\\\\india\\\\state\\\\nagaland\\\\2021', 'C:/Users/Vishaal Grizzly/pulse\\\\data\\\\top\\\\user\\\\country\\\\india\\\\state\\\\nagaland\\\\2022', 'C:/Users/Vishaal Grizzly/pulse\\\\data\\\\top\\\\user\\\\country\\\\india\\\\state\\\\odisha\\\\2018', 'C:/Users/Vishaal Grizzly/pulse\\\\data\\\\top\\\\user\\\\country\\\\india\\\\state\\\\odisha\\\\2019', 'C:/Users/Vishaal Grizzly/pulse\\\\data\\\\top\\\\user\\\\country\\\\india\\\\state\\\\odisha\\\\2020', 'C:/Users/Vishaal Grizzly/pulse\\\\data\\\\top\\\\user\\\\country\\\\india\\\\state\\\\odisha\\\\2021', 'C:/Users/Vishaal Grizzly/pulse\\\\data\\\\top\\\\user\\\\country\\\\india\\\\state\\\\odisha\\\\2022', 'C:/Users/Vishaal Grizzly/pulse\\\\data\\\\top\\\\user\\\\country\\\\india\\\\state\\\\puducherry\\\\2018', 'C:/Users/Vishaal Grizzly/pulse\\\\data\\\\top\\\\user\\\\country\\\\india\\\\state\\\\puducherry\\\\2019', 'C:/Users/Vishaal Grizzly/pulse\\\\data\\\\top\\\\user\\\\country\\\\india\\\\state\\\\puducherry\\\\2020', 'C:/Users/Vishaal Grizzly/pulse\\\\data\\\\top\\\\user\\\\country\\\\india\\\\state\\\\puducherry\\\\2021', 'C:/Users/Vishaal Grizzly/pulse\\\\data\\\\top\\\\user\\\\country\\\\india\\\\state\\\\puducherry\\\\2022', 'C:/Users/Vishaal Grizzly/pulse\\\\data\\\\top\\\\user\\\\country\\\\india\\\\state\\\\punjab\\\\2018', 'C:/Users/Vishaal Grizzly/pulse\\\\data\\\\top\\\\user\\\\country\\\\india\\\\state\\\\punjab\\\\2019', 'C:/Users/Vishaal Grizzly/pulse\\\\data\\\\top\\\\user\\\\country\\\\india\\\\state\\\\punjab\\\\2020', 'C:/Users/Vishaal Grizzly/pulse\\\\data\\\\top\\\\user\\\\country\\\\india\\\\state\\\\punjab\\\\2021', 'C:/Users/Vishaal Grizzly/pulse\\\\data\\\\top\\\\user\\\\country\\\\india\\\\state\\\\punjab\\\\2022', 'C:/Users/Vishaal Grizzly/pulse\\\\data\\\\top\\\\user\\\\country\\\\india\\\\state\\\\rajasthan\\\\2018', 'C:/Users/Vishaal Grizzly/pulse\\\\data\\\\top\\\\user\\\\country\\\\india\\\\state\\\\rajasthan\\\\2019', 'C:/Users/Vishaal Grizzly/pulse\\\\data\\\\top\\\\user\\\\country\\\\india\\\\state\\\\rajasthan\\\\2020', 'C:/Users/Vishaal Grizzly/pulse\\\\data\\\\top\\\\user\\\\country\\\\india\\\\state\\\\rajasthan\\\\2021', 'C:/Users/Vishaal Grizzly/pulse\\\\data\\\\top\\\\user\\\\country\\\\india\\\\state\\\\rajasthan\\\\2022', 'C:/Users/Vishaal Grizzly/pulse\\\\data\\\\top\\\\user\\\\country\\\\india\\\\state\\\\sikkim\\\\2018', 'C:/Users/Vishaal Grizzly/pulse\\\\data\\\\top\\\\user\\\\country\\\\india\\\\state\\\\sikkim\\\\2019', 'C:/Users/Vishaal Grizzly/pulse\\\\data\\\\top\\\\user\\\\country\\\\india\\\\state\\\\sikkim\\\\2020', 'C:/Users/Vishaal Grizzly/pulse\\\\data\\\\top\\\\user\\\\country\\\\india\\\\state\\\\sikkim\\\\2021', 'C:/Users/Vishaal Grizzly/pulse\\\\data\\\\top\\\\user\\\\country\\\\india\\\\state\\\\sikkim\\\\2022', 'C:/Users/Vishaal Grizzly/pulse\\\\data\\\\top\\\\user\\\\country\\\\india\\\\state\\\\tamil-nadu\\\\2018', 'C:/Users/Vishaal Grizzly/pulse\\\\data\\\\top\\\\user\\\\country\\\\india\\\\state\\\\tamil-nadu\\\\2019', 'C:/Users/Vishaal Grizzly/pulse\\\\data\\\\top\\\\user\\\\country\\\\india\\\\state\\\\tamil-nadu\\\\2020', 'C:/Users/Vishaal Grizzly/pulse\\\\data\\\\top\\\\user\\\\country\\\\india\\\\state\\\\tamil-nadu\\\\2021', 'C:/Users/Vishaal Grizzly/pulse\\\\data\\\\top\\\\user\\\\country\\\\india\\\\state\\\\tamil-nadu\\\\2022', 'C:/Users/Vishaal Grizzly/pulse\\\\data\\\\top\\\\user\\\\country\\\\india\\\\state\\\\telangana\\\\2018', 'C:/Users/Vishaal Grizzly/pulse\\\\data\\\\top\\\\user\\\\country\\\\india\\\\state\\\\telangana\\\\2019', 'C:/Users/Vishaal Grizzly/pulse\\\\data\\\\top\\\\user\\\\country\\\\india\\\\state\\\\telangana\\\\2020', 'C:/Users/Vishaal Grizzly/pulse\\\\data\\\\top\\\\user\\\\country\\\\india\\\\state\\\\telangana\\\\2021', 'C:/Users/Vishaal Grizzly/pulse\\\\data\\\\top\\\\user\\\\country\\\\india\\\\state\\\\telangana\\\\2022', 'C:/Users/Vishaal Grizzly/pulse\\\\data\\\\top\\\\user\\\\country\\\\india\\\\state\\\\tripura\\\\2018', 'C:/Users/Vishaal Grizzly/pulse\\\\data\\\\top\\\\user\\\\country\\\\india\\\\state\\\\tripura\\\\2019', 'C:/Users/Vishaal Grizzly/pulse\\\\data\\\\top\\\\user\\\\country\\\\india\\\\state\\\\tripura\\\\2020', 'C:/Users/Vishaal Grizzly/pulse\\\\data\\\\top\\\\user\\\\country\\\\india\\\\state\\\\tripura\\\\2021', 'C:/Users/Vishaal Grizzly/pulse\\\\data\\\\top\\\\user\\\\country\\\\india\\\\state\\\\tripura\\\\2022', 'C:/Users/Vishaal Grizzly/pulse\\\\data\\\\top\\\\user\\\\country\\\\india\\\\state\\\\uttar-pradesh\\\\2018', 'C:/Users/Vishaal Grizzly/pulse\\\\data\\\\top\\\\user\\\\country\\\\india\\\\state\\\\uttar-pradesh\\\\2019', 'C:/Users/Vishaal Grizzly/pulse\\\\data\\\\top\\\\user\\\\country\\\\india\\\\state\\\\uttar-pradesh\\\\2020', 'C:/Users/Vishaal Grizzly/pulse\\\\data\\\\top\\\\user\\\\country\\\\india\\\\state\\\\uttar-pradesh\\\\2021', 'C:/Users/Vishaal Grizzly/pulse\\\\data\\\\top\\\\user\\\\country\\\\india\\\\state\\\\uttar-pradesh\\\\2022', 'C:/Users/Vishaal Grizzly/pulse\\\\data\\\\top\\\\user\\\\country\\\\india\\\\state\\\\uttarakhand\\\\2018', 'C:/Users/Vishaal Grizzly/pulse\\\\data\\\\top\\\\user\\\\country\\\\india\\\\state\\\\uttarakhand\\\\2019', 'C:/Users/Vishaal Grizzly/pulse\\\\data\\\\top\\\\user\\\\country\\\\india\\\\state\\\\uttarakhand\\\\2020', 'C:/Users/Vishaal Grizzly/pulse\\\\data\\\\top\\\\user\\\\country\\\\india\\\\state\\\\uttarakhand\\\\2021', 'C:/Users/Vishaal Grizzly/pulse\\\\data\\\\top\\\\user\\\\country\\\\india\\\\state\\\\uttarakhand\\\\2022', 'C:/Users/Vishaal Grizzly/pulse\\\\data\\\\top\\\\user\\\\country\\\\india\\\\state\\\\west-bengal\\\\2018', 'C:/Users/Vishaal Grizzly/pulse\\\\data\\\\top\\\\user\\\\country\\\\india\\\\state\\\\west-bengal\\\\2019', 'C:/Users/Vishaal Grizzly/pulse\\\\data\\\\top\\\\user\\\\country\\\\india\\\\state\\\\west-bengal\\\\2020', 'C:/Users/Vishaal Grizzly/pulse\\\\data\\\\top\\\\user\\\\country\\\\india\\\\state\\\\west-bengal\\\\2021', 'C:/Users/Vishaal Grizzly/pulse\\\\data\\\\top\\\\user\\\\country\\\\india\\\\state\\\\west-bengal\\\\2022', 'C:/Users/Vishaal Grizzly/pulse\\\\pulse\\\\.git', 'C:/Users/Vishaal Grizzly/pulse\\\\pulse\\\\data', 'C:/Users/Vishaal Grizzly/pulse\\\\pulse\\\\.git\\\\hooks', 'C:/Users/Vishaal Grizzly/pulse\\\\pulse\\\\.git\\\\info', 'C:/Users/Vishaal Grizzly/pulse\\\\pulse\\\\.git\\\\logs', 'C:/Users/Vishaal Grizzly/pulse\\\\pulse\\\\.git\\\\objects', 'C:/Users/Vishaal Grizzly/pulse\\\\pulse\\\\.git\\\\refs', 'C:/Users/Vishaal Grizzly/pulse\\\\pulse\\\\.git\\\\logs\\\\refs', 'C:/Users/Vishaal Grizzly/pulse\\\\pulse\\\\.git\\\\logs\\\\refs\\\\heads', 'C:/Users/Vishaal Grizzly/pulse\\\\pulse\\\\.git\\\\logs\\\\refs\\\\remotes', 'C:/Users/Vishaal Grizzly/pulse\\\\pulse\\\\.git\\\\logs\\\\refs\\\\remotes\\\\origin', 'C:/Users/Vishaal Grizzly/pulse\\\\pulse\\\\.git\\\\objects\\\\info', 'C:/Users/Vishaal Grizzly/pulse\\\\pulse\\\\.git\\\\objects\\\\pack', 'C:/Users/Vishaal Grizzly/pulse\\\\pulse\\\\.git\\\\refs\\\\heads', 'C:/Users/Vishaal Grizzly/pulse\\\\pulse\\\\.git\\\\refs\\\\remotes', 'C:/Users/Vishaal Grizzly/pulse\\\\pulse\\\\.git\\\\refs\\\\tags', 'C:/Users/Vishaal Grizzly/pulse\\\\pulse\\\\.git\\\\refs\\\\remotes\\\\origin', 'C:/Users/Vishaal Grizzly/pulse\\\\pulse\\\\data\\\\aggregated', 'C:/Users/Vishaal Grizzly/pulse\\\\pulse\\\\data\\\\map', 'C:/Users/Vishaal Grizzly/pulse\\\\pulse\\\\data\\\\top', 'C:/Users/Vishaal Grizzly/pulse\\\\pulse\\\\data\\\\aggregated\\\\transaction', 'C:/Users/Vishaal Grizzly/pulse\\\\pulse\\\\data\\\\aggregated\\\\user', 'C:/Users/Vishaal Grizzly/pulse\\\\pulse\\\\data\\\\aggregated\\\\transaction\\\\country', 'C:/Users/Vishaal Grizzly/pulse\\\\pulse\\\\data\\\\aggregated\\\\transaction\\\\country\\\\india', 'C:/Users/Vishaal Grizzly/pulse\\\\pulse\\\\data\\\\aggregated\\\\transaction\\\\country\\\\india\\\\2018', 'C:/Users/Vishaal Grizzly/pulse\\\\pulse\\\\data\\\\aggregated\\\\transaction\\\\country\\\\india\\\\2019', 'C:/Users/Vishaal Grizzly/pulse\\\\pulse\\\\data\\\\aggregated\\\\transaction\\\\country\\\\india\\\\2020', 'C:/Users/Vishaal Grizzly/pulse\\\\pulse\\\\data\\\\aggregated\\\\transaction\\\\country\\\\india\\\\2021', 'C:/Users/Vishaal Grizzly/pulse\\\\pulse\\\\data\\\\aggregated\\\\transaction\\\\country\\\\india\\\\2022', 'C:/Users/Vishaal Grizzly/pulse\\\\pulse\\\\data\\\\aggregated\\\\transaction\\\\country\\\\india\\\\state', 'C:/Users/Vishaal Grizzly/pulse\\\\pulse\\\\data\\\\aggregated\\\\transaction\\\\country\\\\india\\\\state\\\\andaman-&-nicobar-islands', 'C:/Users/Vishaal Grizzly/pulse\\\\pulse\\\\data\\\\aggregated\\\\transaction\\\\country\\\\india\\\\state\\\\andhra-pradesh', 'C:/Users/Vishaal Grizzly/pulse\\\\pulse\\\\data\\\\aggregated\\\\transaction\\\\country\\\\india\\\\state\\\\arunachal-pradesh', 'C:/Users/Vishaal Grizzly/pulse\\\\pulse\\\\data\\\\aggregated\\\\transaction\\\\country\\\\india\\\\state\\\\assam', 'C:/Users/Vishaal Grizzly/pulse\\\\pulse\\\\data\\\\aggregated\\\\transaction\\\\country\\\\india\\\\state\\\\bihar', 'C:/Users/Vishaal Grizzly/pulse\\\\pulse\\\\data\\\\aggregated\\\\transaction\\\\country\\\\india\\\\state\\\\chandigarh', 'C:/Users/Vishaal Grizzly/pulse\\\\pulse\\\\data\\\\aggregated\\\\transaction\\\\country\\\\india\\\\state\\\\chhattisgarh', 'C:/Users/Vishaal Grizzly/pulse\\\\pulse\\\\data\\\\aggregated\\\\transaction\\\\country\\\\india\\\\state\\\\dadra-&-nagar-haveli-&-daman-&-diu', 'C:/Users/Vishaal Grizzly/pulse\\\\pulse\\\\data\\\\aggregated\\\\transaction\\\\country\\\\india\\\\state\\\\delhi', 'C:/Users/Vishaal Grizzly/pulse\\\\pulse\\\\data\\\\aggregated\\\\transaction\\\\country\\\\india\\\\state\\\\goa', 'C:/Users/Vishaal Grizzly/pulse\\\\pulse\\\\data\\\\aggregated\\\\transaction\\\\country\\\\india\\\\state\\\\gujarat', 'C:/Users/Vishaal Grizzly/pulse\\\\pulse\\\\data\\\\aggregated\\\\transaction\\\\country\\\\india\\\\state\\\\haryana', 'C:/Users/Vishaal Grizzly/pulse\\\\pulse\\\\data\\\\aggregated\\\\transaction\\\\country\\\\india\\\\state\\\\himachal-pradesh', 'C:/Users/Vishaal Grizzly/pulse\\\\pulse\\\\data\\\\aggregated\\\\transaction\\\\country\\\\india\\\\state\\\\jammu-&-kashmir', 'C:/Users/Vishaal Grizzly/pulse\\\\pulse\\\\data\\\\aggregated\\\\transaction\\\\country\\\\india\\\\state\\\\jharkhand', 'C:/Users/Vishaal Grizzly/pulse\\\\pulse\\\\data\\\\aggregated\\\\transaction\\\\country\\\\india\\\\state\\\\karnataka', 'C:/Users/Vishaal Grizzly/pulse\\\\pulse\\\\data\\\\aggregated\\\\transaction\\\\country\\\\india\\\\state\\\\kerala', 'C:/Users/Vishaal Grizzly/pulse\\\\pulse\\\\data\\\\aggregated\\\\transaction\\\\country\\\\india\\\\state\\\\ladakh', 'C:/Users/Vishaal Grizzly/pulse\\\\pulse\\\\data\\\\aggregated\\\\transaction\\\\country\\\\india\\\\state\\\\lakshadweep', 'C:/Users/Vishaal Grizzly/pulse\\\\pulse\\\\data\\\\aggregated\\\\transaction\\\\country\\\\india\\\\state\\\\madhya-pradesh', 'C:/Users/Vishaal Grizzly/pulse\\\\pulse\\\\data\\\\aggregated\\\\transaction\\\\country\\\\india\\\\state\\\\maharashtra', 'C:/Users/Vishaal Grizzly/pulse\\\\pulse\\\\data\\\\aggregated\\\\transaction\\\\country\\\\india\\\\state\\\\manipur', 'C:/Users/Vishaal Grizzly/pulse\\\\pulse\\\\data\\\\aggregated\\\\transaction\\\\country\\\\india\\\\state\\\\meghalaya', 'C:/Users/Vishaal Grizzly/pulse\\\\pulse\\\\data\\\\aggregated\\\\transaction\\\\country\\\\india\\\\state\\\\mizoram', 'C:/Users/Vishaal Grizzly/pulse\\\\pulse\\\\data\\\\aggregated\\\\transaction\\\\country\\\\india\\\\state\\\\nagaland', 'C:/Users/Vishaal Grizzly/pulse\\\\pulse\\\\data\\\\aggregated\\\\transaction\\\\country\\\\india\\\\state\\\\odisha', 'C:/Users/Vishaal Grizzly/pulse\\\\pulse\\\\data\\\\aggregated\\\\transaction\\\\country\\\\india\\\\state\\\\puducherry', 'C:/Users/Vishaal Grizzly/pulse\\\\pulse\\\\data\\\\aggregated\\\\transaction\\\\country\\\\india\\\\state\\\\punjab', 'C:/Users/Vishaal Grizzly/pulse\\\\pulse\\\\data\\\\aggregated\\\\transaction\\\\country\\\\india\\\\state\\\\rajasthan', 'C:/Users/Vishaal Grizzly/pulse\\\\pulse\\\\data\\\\aggregated\\\\transaction\\\\country\\\\india\\\\state\\\\sikkim', 'C:/Users/Vishaal Grizzly/pulse\\\\pulse\\\\data\\\\aggregated\\\\transaction\\\\country\\\\india\\\\state\\\\tamil-nadu', 'C:/Users/Vishaal Grizzly/pulse\\\\pulse\\\\data\\\\aggregated\\\\transaction\\\\country\\\\india\\\\state\\\\telangana', 'C:/Users/Vishaal Grizzly/pulse\\\\pulse\\\\data\\\\aggregated\\\\transaction\\\\country\\\\india\\\\state\\\\tripura', 'C:/Users/Vishaal Grizzly/pulse\\\\pulse\\\\data\\\\aggregated\\\\transaction\\\\country\\\\india\\\\state\\\\uttar-pradesh', 'C:/Users/Vishaal Grizzly/pulse\\\\pulse\\\\data\\\\aggregated\\\\transaction\\\\country\\\\india\\\\state\\\\uttarakhand', 'C:/Users/Vishaal Grizzly/pulse\\\\pulse\\\\data\\\\aggregated\\\\transaction\\\\country\\\\india\\\\state\\\\west-bengal', 'C:/Users/Vishaal Grizzly/pulse\\\\pulse\\\\data\\\\aggregated\\\\transaction\\\\country\\\\india\\\\state\\\\andaman-&-nicobar-islands\\\\2018', 'C:/Users/Vishaal Grizzly/pulse\\\\pulse\\\\data\\\\aggregated\\\\transaction\\\\country\\\\india\\\\state\\\\andaman-&-nicobar-islands\\\\2019', 'C:/Users/Vishaal Grizzly/pulse\\\\pulse\\\\data\\\\aggregated\\\\transaction\\\\country\\\\india\\\\state\\\\andaman-&-nicobar-islands\\\\2020', 'C:/Users/Vishaal Grizzly/pulse\\\\pulse\\\\data\\\\aggregated\\\\transaction\\\\country\\\\india\\\\state\\\\andaman-&-nicobar-islands\\\\2021', 'C:/Users/Vishaal Grizzly/pulse\\\\pulse\\\\data\\\\aggregated\\\\transaction\\\\country\\\\india\\\\state\\\\andaman-&-nicobar-islands\\\\2022', 'C:/Users/Vishaal Grizzly/pulse\\\\pulse\\\\data\\\\aggregated\\\\transaction\\\\country\\\\india\\\\state\\\\andhra-pradesh\\\\2018', 'C:/Users/Vishaal Grizzly/pulse\\\\pulse\\\\data\\\\aggregated\\\\transaction\\\\country\\\\india\\\\state\\\\andhra-pradesh\\\\2019', 'C:/Users/Vishaal Grizzly/pulse\\\\pulse\\\\data\\\\aggregated\\\\transaction\\\\country\\\\india\\\\state\\\\andhra-pradesh\\\\2020', 'C:/Users/Vishaal Grizzly/pulse\\\\pulse\\\\data\\\\aggregated\\\\transaction\\\\country\\\\india\\\\state\\\\andhra-pradesh\\\\2021', 'C:/Users/Vishaal Grizzly/pulse\\\\pulse\\\\data\\\\aggregated\\\\transaction\\\\country\\\\india\\\\state\\\\andhra-pradesh\\\\2022', 'C:/Users/Vishaal Grizzly/pulse\\\\pulse\\\\data\\\\aggregated\\\\transaction\\\\country\\\\india\\\\state\\\\arunachal-pradesh\\\\2018', 'C:/Users/Vishaal Grizzly/pulse\\\\pulse\\\\data\\\\aggregated\\\\transaction\\\\country\\\\india\\\\state\\\\arunachal-pradesh\\\\2019', 'C:/Users/Vishaal Grizzly/pulse\\\\pulse\\\\data\\\\aggregated\\\\transaction\\\\country\\\\india\\\\state\\\\arunachal-pradesh\\\\2020', 'C:/Users/Vishaal Grizzly/pulse\\\\pulse\\\\data\\\\aggregated\\\\transaction\\\\country\\\\india\\\\state\\\\arunachal-pradesh\\\\2021', 'C:/Users/Vishaal Grizzly/pulse\\\\pulse\\\\data\\\\aggregated\\\\transaction\\\\country\\\\india\\\\state\\\\arunachal-pradesh\\\\2022', 'C:/Users/Vishaal Grizzly/pulse\\\\pulse\\\\data\\\\aggregated\\\\transaction\\\\country\\\\india\\\\state\\\\assam\\\\2018', 'C:/Users/Vishaal Grizzly/pulse\\\\pulse\\\\data\\\\aggregated\\\\transaction\\\\country\\\\india\\\\state\\\\assam\\\\2019', 'C:/Users/Vishaal Grizzly/pulse\\\\pulse\\\\data\\\\aggregated\\\\transaction\\\\country\\\\india\\\\state\\\\assam\\\\2020', 'C:/Users/Vishaal Grizzly/pulse\\\\pulse\\\\data\\\\aggregated\\\\transaction\\\\country\\\\india\\\\state\\\\assam\\\\2021', 'C:/Users/Vishaal Grizzly/pulse\\\\pulse\\\\data\\\\aggregated\\\\transaction\\\\country\\\\india\\\\state\\\\assam\\\\2022', 'C:/Users/Vishaal Grizzly/pulse\\\\pulse\\\\data\\\\aggregated\\\\transaction\\\\country\\\\india\\\\state\\\\bihar\\\\2018', 'C:/Users/Vishaal Grizzly/pulse\\\\pulse\\\\data\\\\aggregated\\\\transaction\\\\country\\\\india\\\\state\\\\bihar\\\\2019', 'C:/Users/Vishaal Grizzly/pulse\\\\pulse\\\\data\\\\aggregated\\\\transaction\\\\country\\\\india\\\\state\\\\bihar\\\\2020', 'C:/Users/Vishaal Grizzly/pulse\\\\pulse\\\\data\\\\aggregated\\\\transaction\\\\country\\\\india\\\\state\\\\bihar\\\\2021', 'C:/Users/Vishaal Grizzly/pulse\\\\pulse\\\\data\\\\aggregated\\\\transaction\\\\country\\\\india\\\\state\\\\bihar\\\\2022', 'C:/Users/Vishaal Grizzly/pulse\\\\pulse\\\\data\\\\aggregated\\\\transaction\\\\country\\\\india\\\\state\\\\chandigarh\\\\2018', 'C:/Users/Vishaal Grizzly/pulse\\\\pulse\\\\data\\\\aggregated\\\\transaction\\\\country\\\\india\\\\state\\\\chandigarh\\\\2019', 'C:/Users/Vishaal Grizzly/pulse\\\\pulse\\\\data\\\\aggregated\\\\transaction\\\\country\\\\india\\\\state\\\\chandigarh\\\\2020', 'C:/Users/Vishaal Grizzly/pulse\\\\pulse\\\\data\\\\aggregated\\\\transaction\\\\country\\\\india\\\\state\\\\chandigarh\\\\2021', 'C:/Users/Vishaal Grizzly/pulse\\\\pulse\\\\data\\\\aggregated\\\\transaction\\\\country\\\\india\\\\state\\\\chandigarh\\\\2022', 'C:/Users/Vishaal Grizzly/pulse\\\\pulse\\\\data\\\\aggregated\\\\transaction\\\\country\\\\india\\\\state\\\\chhattisgarh\\\\2018', 'C:/Users/Vishaal Grizzly/pulse\\\\pulse\\\\data\\\\aggregated\\\\transaction\\\\country\\\\india\\\\state\\\\chhattisgarh\\\\2019', 'C:/Users/Vishaal Grizzly/pulse\\\\pulse\\\\data\\\\aggregated\\\\transaction\\\\country\\\\india\\\\state\\\\chhattisgarh\\\\2020', 'C:/Users/Vishaal Grizzly/pulse\\\\pulse\\\\data\\\\aggregated\\\\transaction\\\\country\\\\india\\\\state\\\\chhattisgarh\\\\2021', 'C:/Users/Vishaal Grizzly/pulse\\\\pulse\\\\data\\\\aggregated\\\\transaction\\\\country\\\\india\\\\state\\\\chhattisgarh\\\\2022', 'C:/Users/Vishaal Grizzly/pulse\\\\pulse\\\\data\\\\aggregated\\\\transaction\\\\country\\\\india\\\\state\\\\dadra-&-nagar-haveli-&-daman-&-diu\\\\2018', 'C:/Users/Vishaal Grizzly/pulse\\\\pulse\\\\data\\\\aggregated\\\\transaction\\\\country\\\\india\\\\state\\\\dadra-&-nagar-haveli-&-daman-&-diu\\\\2019', 'C:/Users/Vishaal Grizzly/pulse\\\\pulse\\\\data\\\\aggregated\\\\transaction\\\\country\\\\india\\\\state\\\\dadra-&-nagar-haveli-&-daman-&-diu\\\\2020', 'C:/Users/Vishaal Grizzly/pulse\\\\pulse\\\\data\\\\aggregated\\\\transaction\\\\country\\\\india\\\\state\\\\dadra-&-nagar-haveli-&-daman-&-diu\\\\2021', 'C:/Users/Vishaal Grizzly/pulse\\\\pulse\\\\data\\\\aggregated\\\\transaction\\\\country\\\\india\\\\state\\\\dadra-&-nagar-haveli-&-daman-&-diu\\\\2022', 'C:/Users/Vishaal Grizzly/pulse\\\\pulse\\\\data\\\\aggregated\\\\transaction\\\\country\\\\india\\\\state\\\\delhi\\\\2018', 'C:/Users/Vishaal Grizzly/pulse\\\\pulse\\\\data\\\\aggregated\\\\transaction\\\\country\\\\india\\\\state\\\\delhi\\\\2019', 'C:/Users/Vishaal Grizzly/pulse\\\\pulse\\\\data\\\\aggregated\\\\transaction\\\\country\\\\india\\\\state\\\\delhi\\\\2020', 'C:/Users/Vishaal Grizzly/pulse\\\\pulse\\\\data\\\\aggregated\\\\transaction\\\\country\\\\india\\\\state\\\\delhi\\\\2021', 'C:/Users/Vishaal Grizzly/pulse\\\\pulse\\\\data\\\\aggregated\\\\transaction\\\\country\\\\india\\\\state\\\\delhi\\\\2022', 'C:/Users/Vishaal Grizzly/pulse\\\\pulse\\\\data\\\\aggregated\\\\transaction\\\\country\\\\india\\\\state\\\\goa\\\\2018', 'C:/Users/Vishaal Grizzly/pulse\\\\pulse\\\\data\\\\aggregated\\\\transaction\\\\country\\\\india\\\\state\\\\goa\\\\2019', 'C:/Users/Vishaal Grizzly/pulse\\\\pulse\\\\data\\\\aggregated\\\\transaction\\\\country\\\\india\\\\state\\\\goa\\\\2020', 'C:/Users/Vishaal Grizzly/pulse\\\\pulse\\\\data\\\\aggregated\\\\transaction\\\\country\\\\india\\\\state\\\\goa\\\\2021', 'C:/Users/Vishaal Grizzly/pulse\\\\pulse\\\\data\\\\aggregated\\\\transaction\\\\country\\\\india\\\\state\\\\goa\\\\2022', 'C:/Users/Vishaal Grizzly/pulse\\\\pulse\\\\data\\\\aggregated\\\\transaction\\\\country\\\\india\\\\state\\\\gujarat\\\\2018', 'C:/Users/Vishaal Grizzly/pulse\\\\pulse\\\\data\\\\aggregated\\\\transaction\\\\country\\\\india\\\\state\\\\gujarat\\\\2019', 'C:/Users/Vishaal Grizzly/pulse\\\\pulse\\\\data\\\\aggregated\\\\transaction\\\\country\\\\india\\\\state\\\\gujarat\\\\2020', 'C:/Users/Vishaal Grizzly/pulse\\\\pulse\\\\data\\\\aggregated\\\\transaction\\\\country\\\\india\\\\state\\\\gujarat\\\\2021', 'C:/Users/Vishaal Grizzly/pulse\\\\pulse\\\\data\\\\aggregated\\\\transaction\\\\country\\\\india\\\\state\\\\gujarat\\\\2022', 'C:/Users/Vishaal Grizzly/pulse\\\\pulse\\\\data\\\\aggregated\\\\transaction\\\\country\\\\india\\\\state\\\\haryana\\\\2018', 'C:/Users/Vishaal Grizzly/pulse\\\\pulse\\\\data\\\\aggregated\\\\transaction\\\\country\\\\india\\\\state\\\\haryana\\\\2019', 'C:/Users/Vishaal Grizzly/pulse\\\\pulse\\\\data\\\\aggregated\\\\transaction\\\\country\\\\india\\\\state\\\\haryana\\\\2020', 'C:/Users/Vishaal Grizzly/pulse\\\\pulse\\\\data\\\\aggregated\\\\transaction\\\\country\\\\india\\\\state\\\\haryana\\\\2021', 'C:/Users/Vishaal Grizzly/pulse\\\\pulse\\\\data\\\\aggregated\\\\transaction\\\\country\\\\india\\\\state\\\\haryana\\\\2022', 'C:/Users/Vishaal Grizzly/pulse\\\\pulse\\\\data\\\\aggregated\\\\transaction\\\\country\\\\india\\\\state\\\\himachal-pradesh\\\\2018', 'C:/Users/Vishaal Grizzly/pulse\\\\pulse\\\\data\\\\aggregated\\\\transaction\\\\country\\\\india\\\\state\\\\himachal-pradesh\\\\2019', 'C:/Users/Vishaal Grizzly/pulse\\\\pulse\\\\data\\\\aggregated\\\\transaction\\\\country\\\\india\\\\state\\\\himachal-pradesh\\\\2020', 'C:/Users/Vishaal Grizzly/pulse\\\\pulse\\\\data\\\\aggregated\\\\transaction\\\\country\\\\india\\\\state\\\\himachal-pradesh\\\\2021', 'C:/Users/Vishaal Grizzly/pulse\\\\pulse\\\\data\\\\aggregated\\\\transaction\\\\country\\\\india\\\\state\\\\himachal-pradesh\\\\2022', 'C:/Users/Vishaal Grizzly/pulse\\\\pulse\\\\data\\\\aggregated\\\\transaction\\\\country\\\\india\\\\state\\\\jammu-&-kashmir\\\\2018', 'C:/Users/Vishaal Grizzly/pulse\\\\pulse\\\\data\\\\aggregated\\\\transaction\\\\country\\\\india\\\\state\\\\jammu-&-kashmir\\\\2019', 'C:/Users/Vishaal Grizzly/pulse\\\\pulse\\\\data\\\\aggregated\\\\transaction\\\\country\\\\india\\\\state\\\\jammu-&-kashmir\\\\2020', 'C:/Users/Vishaal Grizzly/pulse\\\\pulse\\\\data\\\\aggregated\\\\transaction\\\\country\\\\india\\\\state\\\\jammu-&-kashmir\\\\2021', 'C:/Users/Vishaal Grizzly/pulse\\\\pulse\\\\data\\\\aggregated\\\\transaction\\\\country\\\\india\\\\state\\\\jammu-&-kashmir\\\\2022', 'C:/Users/Vishaal Grizzly/pulse\\\\pulse\\\\data\\\\aggregated\\\\transaction\\\\country\\\\india\\\\state\\\\jharkhand\\\\2018', 'C:/Users/Vishaal Grizzly/pulse\\\\pulse\\\\data\\\\aggregated\\\\transaction\\\\country\\\\india\\\\state\\\\jharkhand\\\\2019', 'C:/Users/Vishaal Grizzly/pulse\\\\pulse\\\\data\\\\aggregated\\\\transaction\\\\country\\\\india\\\\state\\\\jharkhand\\\\2020', 'C:/Users/Vishaal Grizzly/pulse\\\\pulse\\\\data\\\\aggregated\\\\transaction\\\\country\\\\india\\\\state\\\\jharkhand\\\\2021', 'C:/Users/Vishaal Grizzly/pulse\\\\pulse\\\\data\\\\aggregated\\\\transaction\\\\country\\\\india\\\\state\\\\jharkhand\\\\2022', 'C:/Users/Vishaal Grizzly/pulse\\\\pulse\\\\data\\\\aggregated\\\\transaction\\\\country\\\\india\\\\state\\\\karnataka\\\\2018', 'C:/Users/Vishaal Grizzly/pulse\\\\pulse\\\\data\\\\aggregated\\\\transaction\\\\country\\\\india\\\\state\\\\karnataka\\\\2019', 'C:/Users/Vishaal Grizzly/pulse\\\\pulse\\\\data\\\\aggregated\\\\transaction\\\\country\\\\india\\\\state\\\\karnataka\\\\2020', 'C:/Users/Vishaal Grizzly/pulse\\\\pulse\\\\data\\\\aggregated\\\\transaction\\\\country\\\\india\\\\state\\\\karnataka\\\\2021', 'C:/Users/Vishaal Grizzly/pulse\\\\pulse\\\\data\\\\aggregated\\\\transaction\\\\country\\\\india\\\\state\\\\karnataka\\\\2022', 'C:/Users/Vishaal Grizzly/pulse\\\\pulse\\\\data\\\\aggregated\\\\transaction\\\\country\\\\india\\\\state\\\\kerala\\\\2018', 'C:/Users/Vishaal Grizzly/pulse\\\\pulse\\\\data\\\\aggregated\\\\transaction\\\\country\\\\india\\\\state\\\\kerala\\\\2019', 'C:/Users/Vishaal Grizzly/pulse\\\\pulse\\\\data\\\\aggregated\\\\transaction\\\\country\\\\india\\\\state\\\\kerala\\\\2020', 'C:/Users/Vishaal Grizzly/pulse\\\\pulse\\\\data\\\\aggregated\\\\transaction\\\\country\\\\india\\\\state\\\\kerala\\\\2021', 'C:/Users/Vishaal Grizzly/pulse\\\\pulse\\\\data\\\\aggregated\\\\transaction\\\\country\\\\india\\\\state\\\\kerala\\\\2022', 'C:/Users/Vishaal Grizzly/pulse\\\\pulse\\\\data\\\\aggregated\\\\transaction\\\\country\\\\india\\\\state\\\\ladakh\\\\2018', 'C:/Users/Vishaal Grizzly/pulse\\\\pulse\\\\data\\\\aggregated\\\\transaction\\\\country\\\\india\\\\state\\\\ladakh\\\\2019', 'C:/Users/Vishaal Grizzly/pulse\\\\pulse\\\\data\\\\aggregated\\\\transaction\\\\country\\\\india\\\\state\\\\ladakh\\\\2020', 'C:/Users/Vishaal Grizzly/pulse\\\\pulse\\\\data\\\\aggregated\\\\transaction\\\\country\\\\india\\\\state\\\\ladakh\\\\2021', 'C:/Users/Vishaal Grizzly/pulse\\\\pulse\\\\data\\\\aggregated\\\\transaction\\\\country\\\\india\\\\state\\\\ladakh\\\\2022', 'C:/Users/Vishaal Grizzly/pulse\\\\pulse\\\\data\\\\aggregated\\\\transaction\\\\country\\\\india\\\\state\\\\lakshadweep\\\\2018', 'C:/Users/Vishaal Grizzly/pulse\\\\pulse\\\\data\\\\aggregated\\\\transaction\\\\country\\\\india\\\\state\\\\lakshadweep\\\\2019', 'C:/Users/Vishaal Grizzly/pulse\\\\pulse\\\\data\\\\aggregated\\\\transaction\\\\country\\\\india\\\\state\\\\lakshadweep\\\\2020', 'C:/Users/Vishaal Grizzly/pulse\\\\pulse\\\\data\\\\aggregated\\\\transaction\\\\country\\\\india\\\\state\\\\lakshadweep\\\\2021', 'C:/Users/Vishaal Grizzly/pulse\\\\pulse\\\\data\\\\aggregated\\\\transaction\\\\country\\\\india\\\\state\\\\lakshadweep\\\\2022', 'C:/Users/Vishaal Grizzly/pulse\\\\pulse\\\\data\\\\aggregated\\\\transaction\\\\country\\\\india\\\\state\\\\madhya-pradesh\\\\2018', 'C:/Users/Vishaal Grizzly/pulse\\\\pulse\\\\data\\\\aggregated\\\\transaction\\\\country\\\\india\\\\state\\\\madhya-pradesh\\\\2019', 'C:/Users/Vishaal Grizzly/pulse\\\\pulse\\\\data\\\\aggregated\\\\transaction\\\\country\\\\india\\\\state\\\\madhya-pradesh\\\\2020', 'C:/Users/Vishaal Grizzly/pulse\\\\pulse\\\\data\\\\aggregated\\\\transaction\\\\country\\\\india\\\\state\\\\madhya-pradesh\\\\2021', 'C:/Users/Vishaal Grizzly/pulse\\\\pulse\\\\data\\\\aggregated\\\\transaction\\\\country\\\\india\\\\state\\\\madhya-pradesh\\\\2022', 'C:/Users/Vishaal Grizzly/pulse\\\\pulse\\\\data\\\\aggregated\\\\transaction\\\\country\\\\india\\\\state\\\\maharashtra\\\\2018', 'C:/Users/Vishaal Grizzly/pulse\\\\pulse\\\\data\\\\aggregated\\\\transaction\\\\country\\\\india\\\\state\\\\maharashtra\\\\2019', 'C:/Users/Vishaal Grizzly/pulse\\\\pulse\\\\data\\\\aggregated\\\\transaction\\\\country\\\\india\\\\state\\\\maharashtra\\\\2020', 'C:/Users/Vishaal Grizzly/pulse\\\\pulse\\\\data\\\\aggregated\\\\transaction\\\\country\\\\india\\\\state\\\\maharashtra\\\\2021', 'C:/Users/Vishaal Grizzly/pulse\\\\pulse\\\\data\\\\aggregated\\\\transaction\\\\country\\\\india\\\\state\\\\maharashtra\\\\2022', 'C:/Users/Vishaal Grizzly/pulse\\\\pulse\\\\data\\\\aggregated\\\\transaction\\\\country\\\\india\\\\state\\\\manipur\\\\2018', 'C:/Users/Vishaal Grizzly/pulse\\\\pulse\\\\data\\\\aggregated\\\\transaction\\\\country\\\\india\\\\state\\\\manipur\\\\2019', 'C:/Users/Vishaal Grizzly/pulse\\\\pulse\\\\data\\\\aggregated\\\\transaction\\\\country\\\\india\\\\state\\\\manipur\\\\2020', 'C:/Users/Vishaal Grizzly/pulse\\\\pulse\\\\data\\\\aggregated\\\\transaction\\\\country\\\\india\\\\state\\\\manipur\\\\2021', 'C:/Users/Vishaal Grizzly/pulse\\\\pulse\\\\data\\\\aggregated\\\\transaction\\\\country\\\\india\\\\state\\\\manipur\\\\2022', 'C:/Users/Vishaal Grizzly/pulse\\\\pulse\\\\data\\\\aggregated\\\\transaction\\\\country\\\\india\\\\state\\\\meghalaya\\\\2018', 'C:/Users/Vishaal Grizzly/pulse\\\\pulse\\\\data\\\\aggregated\\\\transaction\\\\country\\\\india\\\\state\\\\meghalaya\\\\2019', 'C:/Users/Vishaal Grizzly/pulse\\\\pulse\\\\data\\\\aggregated\\\\transaction\\\\country\\\\india\\\\state\\\\meghalaya\\\\2020', 'C:/Users/Vishaal Grizzly/pulse\\\\pulse\\\\data\\\\aggregated\\\\transaction\\\\country\\\\india\\\\state\\\\meghalaya\\\\2021', 'C:/Users/Vishaal Grizzly/pulse\\\\pulse\\\\data\\\\aggregated\\\\transaction\\\\country\\\\india\\\\state\\\\meghalaya\\\\2022', 'C:/Users/Vishaal Grizzly/pulse\\\\pulse\\\\data\\\\aggregated\\\\transaction\\\\country\\\\india\\\\state\\\\mizoram\\\\2018', 'C:/Users/Vishaal Grizzly/pulse\\\\pulse\\\\data\\\\aggregated\\\\transaction\\\\country\\\\india\\\\state\\\\mizoram\\\\2019', 'C:/Users/Vishaal Grizzly/pulse\\\\pulse\\\\data\\\\aggregated\\\\transaction\\\\country\\\\india\\\\state\\\\mizoram\\\\2020', 'C:/Users/Vishaal Grizzly/pulse\\\\pulse\\\\data\\\\aggregated\\\\transaction\\\\country\\\\india\\\\state\\\\mizoram\\\\2021', 'C:/Users/Vishaal Grizzly/pulse\\\\pulse\\\\data\\\\aggregated\\\\transaction\\\\country\\\\india\\\\state\\\\mizoram\\\\2022', 'C:/Users/Vishaal Grizzly/pulse\\\\pulse\\\\data\\\\aggregated\\\\transaction\\\\country\\\\india\\\\state\\\\nagaland\\\\2018', 'C:/Users/Vishaal Grizzly/pulse\\\\pulse\\\\data\\\\aggregated\\\\transaction\\\\country\\\\india\\\\state\\\\nagaland\\\\2019', 'C:/Users/Vishaal Grizzly/pulse\\\\pulse\\\\data\\\\aggregated\\\\transaction\\\\country\\\\india\\\\state\\\\nagaland\\\\2020', 'C:/Users/Vishaal Grizzly/pulse\\\\pulse\\\\data\\\\aggregated\\\\transaction\\\\country\\\\india\\\\state\\\\nagaland\\\\2021', 'C:/Users/Vishaal Grizzly/pulse\\\\pulse\\\\data\\\\aggregated\\\\transaction\\\\country\\\\india\\\\state\\\\nagaland\\\\2022', 'C:/Users/Vishaal Grizzly/pulse\\\\pulse\\\\data\\\\aggregated\\\\transaction\\\\country\\\\india\\\\state\\\\odisha\\\\2018', 'C:/Users/Vishaal Grizzly/pulse\\\\pulse\\\\data\\\\aggregated\\\\transaction\\\\country\\\\india\\\\state\\\\odisha\\\\2019', 'C:/Users/Vishaal Grizzly/pulse\\\\pulse\\\\data\\\\aggregated\\\\transaction\\\\country\\\\india\\\\state\\\\odisha\\\\2020', 'C:/Users/Vishaal Grizzly/pulse\\\\pulse\\\\data\\\\aggregated\\\\transaction\\\\country\\\\india\\\\state\\\\odisha\\\\2021', 'C:/Users/Vishaal Grizzly/pulse\\\\pulse\\\\data\\\\aggregated\\\\transaction\\\\country\\\\india\\\\state\\\\odisha\\\\2022', 'C:/Users/Vishaal Grizzly/pulse\\\\pulse\\\\data\\\\aggregated\\\\transaction\\\\country\\\\india\\\\state\\\\puducherry\\\\2018', 'C:/Users/Vishaal Grizzly/pulse\\\\pulse\\\\data\\\\aggregated\\\\transaction\\\\country\\\\india\\\\state\\\\puducherry\\\\2019', 'C:/Users/Vishaal Grizzly/pulse\\\\pulse\\\\data\\\\aggregated\\\\transaction\\\\country\\\\india\\\\state\\\\puducherry\\\\2020', 'C:/Users/Vishaal Grizzly/pulse\\\\pulse\\\\data\\\\aggregated\\\\transaction\\\\country\\\\india\\\\state\\\\puducherry\\\\2021', 'C:/Users/Vishaal Grizzly/pulse\\\\pulse\\\\data\\\\aggregated\\\\transaction\\\\country\\\\india\\\\state\\\\puducherry\\\\2022', 'C:/Users/Vishaal Grizzly/pulse\\\\pulse\\\\data\\\\aggregated\\\\transaction\\\\country\\\\india\\\\state\\\\punjab\\\\2018', 'C:/Users/Vishaal Grizzly/pulse\\\\pulse\\\\data\\\\aggregated\\\\transaction\\\\country\\\\india\\\\state\\\\punjab\\\\2019', 'C:/Users/Vishaal Grizzly/pulse\\\\pulse\\\\data\\\\aggregated\\\\transaction\\\\country\\\\india\\\\state\\\\punjab\\\\2020', 'C:/Users/Vishaal Grizzly/pulse\\\\pulse\\\\data\\\\aggregated\\\\transaction\\\\country\\\\india\\\\state\\\\punjab\\\\2021', 'C:/Users/Vishaal Grizzly/pulse\\\\pulse\\\\data\\\\aggregated\\\\transaction\\\\country\\\\india\\\\state\\\\punjab\\\\2022', 'C:/Users/Vishaal Grizzly/pulse\\\\pulse\\\\data\\\\aggregated\\\\transaction\\\\country\\\\india\\\\state\\\\rajasthan\\\\2018', 'C:/Users/Vishaal Grizzly/pulse\\\\pulse\\\\data\\\\aggregated\\\\transaction\\\\country\\\\india\\\\state\\\\rajasthan\\\\2019', 'C:/Users/Vishaal Grizzly/pulse\\\\pulse\\\\data\\\\aggregated\\\\transaction\\\\country\\\\india\\\\state\\\\rajasthan\\\\2020', 'C:/Users/Vishaal Grizzly/pulse\\\\pulse\\\\data\\\\aggregated\\\\transaction\\\\country\\\\india\\\\state\\\\rajasthan\\\\2021', 'C:/Users/Vishaal Grizzly/pulse\\\\pulse\\\\data\\\\aggregated\\\\transaction\\\\country\\\\india\\\\state\\\\rajasthan\\\\2022', 'C:/Users/Vishaal Grizzly/pulse\\\\pulse\\\\data\\\\aggregated\\\\transaction\\\\country\\\\india\\\\state\\\\sikkim\\\\2018', 'C:/Users/Vishaal Grizzly/pulse\\\\pulse\\\\data\\\\aggregated\\\\transaction\\\\country\\\\india\\\\state\\\\sikkim\\\\2019', 'C:/Users/Vishaal Grizzly/pulse\\\\pulse\\\\data\\\\aggregated\\\\transaction\\\\country\\\\india\\\\state\\\\sikkim\\\\2020', 'C:/Users/Vishaal Grizzly/pulse\\\\pulse\\\\data\\\\aggregated\\\\transaction\\\\country\\\\india\\\\state\\\\sikkim\\\\2021', 'C:/Users/Vishaal Grizzly/pulse\\\\pulse\\\\data\\\\aggregated\\\\transaction\\\\country\\\\india\\\\state\\\\sikkim\\\\2022', 'C:/Users/Vishaal Grizzly/pulse\\\\pulse\\\\data\\\\aggregated\\\\transaction\\\\country\\\\india\\\\state\\\\tamil-nadu\\\\2018', 'C:/Users/Vishaal Grizzly/pulse\\\\pulse\\\\data\\\\aggregated\\\\transaction\\\\country\\\\india\\\\state\\\\tamil-nadu\\\\2019', 'C:/Users/Vishaal Grizzly/pulse\\\\pulse\\\\data\\\\aggregated\\\\transaction\\\\country\\\\india\\\\state\\\\tamil-nadu\\\\2020', 'C:/Users/Vishaal Grizzly/pulse\\\\pulse\\\\data\\\\aggregated\\\\transaction\\\\country\\\\india\\\\state\\\\tamil-nadu\\\\2021', 'C:/Users/Vishaal Grizzly/pulse\\\\pulse\\\\data\\\\aggregated\\\\transaction\\\\country\\\\india\\\\state\\\\tamil-nadu\\\\2022', 'C:/Users/Vishaal Grizzly/pulse\\\\pulse\\\\data\\\\aggregated\\\\transaction\\\\country\\\\india\\\\state\\\\telangana\\\\2018', 'C:/Users/Vishaal Grizzly/pulse\\\\pulse\\\\data\\\\aggregated\\\\transaction\\\\country\\\\india\\\\state\\\\telangana\\\\2019', 'C:/Users/Vishaal Grizzly/pulse\\\\pulse\\\\data\\\\aggregated\\\\transaction\\\\country\\\\india\\\\state\\\\telangana\\\\2020', 'C:/Users/Vishaal Grizzly/pulse\\\\pulse\\\\data\\\\aggregated\\\\transaction\\\\country\\\\india\\\\state\\\\telangana\\\\2021', 'C:/Users/Vishaal Grizzly/pulse\\\\pulse\\\\data\\\\aggregated\\\\transaction\\\\country\\\\india\\\\state\\\\telangana\\\\2022', 'C:/Users/Vishaal Grizzly/pulse\\\\pulse\\\\data\\\\aggregated\\\\transaction\\\\country\\\\india\\\\state\\\\tripura\\\\2018', 'C:/Users/Vishaal Grizzly/pulse\\\\pulse\\\\data\\\\aggregated\\\\transaction\\\\country\\\\india\\\\state\\\\tripura\\\\2019', 'C:/Users/Vishaal Grizzly/pulse\\\\pulse\\\\data\\\\aggregated\\\\transaction\\\\country\\\\india\\\\state\\\\tripura\\\\2020', 'C:/Users/Vishaal Grizzly/pulse\\\\pulse\\\\data\\\\aggregated\\\\transaction\\\\country\\\\india\\\\state\\\\tripura\\\\2021', 'C:/Users/Vishaal Grizzly/pulse\\\\pulse\\\\data\\\\aggregated\\\\transaction\\\\country\\\\india\\\\state\\\\tripura\\\\2022', 'C:/Users/Vishaal Grizzly/pulse\\\\pulse\\\\data\\\\aggregated\\\\transaction\\\\country\\\\india\\\\state\\\\uttar-pradesh\\\\2018', 'C:/Users/Vishaal Grizzly/pulse\\\\pulse\\\\data\\\\aggregated\\\\transaction\\\\country\\\\india\\\\state\\\\uttar-pradesh\\\\2019', 'C:/Users/Vishaal Grizzly/pulse\\\\pulse\\\\data\\\\aggregated\\\\transaction\\\\country\\\\india\\\\state\\\\uttar-pradesh\\\\2020', 'C:/Users/Vishaal Grizzly/pulse\\\\pulse\\\\data\\\\aggregated\\\\transaction\\\\country\\\\india\\\\state\\\\uttar-pradesh\\\\2021', 'C:/Users/Vishaal Grizzly/pulse\\\\pulse\\\\data\\\\aggregated\\\\transaction\\\\country\\\\india\\\\state\\\\uttar-pradesh\\\\2022', 'C:/Users/Vishaal Grizzly/pulse\\\\pulse\\\\data\\\\aggregated\\\\transaction\\\\country\\\\india\\\\state\\\\uttarakhand\\\\2018', 'C:/Users/Vishaal Grizzly/pulse\\\\pulse\\\\data\\\\aggregated\\\\transaction\\\\country\\\\india\\\\state\\\\uttarakhand\\\\2019', 'C:/Users/Vishaal Grizzly/pulse\\\\pulse\\\\data\\\\aggregated\\\\transaction\\\\country\\\\india\\\\state\\\\uttarakhand\\\\2020', 'C:/Users/Vishaal Grizzly/pulse\\\\pulse\\\\data\\\\aggregated\\\\transaction\\\\country\\\\india\\\\state\\\\uttarakhand\\\\2021', 'C:/Users/Vishaal Grizzly/pulse\\\\pulse\\\\data\\\\aggregated\\\\transaction\\\\country\\\\india\\\\state\\\\uttarakhand\\\\2022', 'C:/Users/Vishaal Grizzly/pulse\\\\pulse\\\\data\\\\aggregated\\\\transaction\\\\country\\\\india\\\\state\\\\west-bengal\\\\2018', 'C:/Users/Vishaal Grizzly/pulse\\\\pulse\\\\data\\\\aggregated\\\\transaction\\\\country\\\\india\\\\state\\\\west-bengal\\\\2019', 'C:/Users/Vishaal Grizzly/pulse\\\\pulse\\\\data\\\\aggregated\\\\transaction\\\\country\\\\india\\\\state\\\\west-bengal\\\\2020', 'C:/Users/Vishaal Grizzly/pulse\\\\pulse\\\\data\\\\aggregated\\\\transaction\\\\country\\\\india\\\\state\\\\west-bengal\\\\2021', 'C:/Users/Vishaal Grizzly/pulse\\\\pulse\\\\data\\\\aggregated\\\\transaction\\\\country\\\\india\\\\state\\\\west-bengal\\\\2022', 'C:/Users/Vishaal Grizzly/pulse\\\\pulse\\\\data\\\\aggregated\\\\user\\\\country', 'C:/Users/Vishaal Grizzly/pulse\\\\pulse\\\\data\\\\aggregated\\\\user\\\\country\\\\india', 'C:/Users/Vishaal Grizzly/pulse\\\\pulse\\\\data\\\\aggregated\\\\user\\\\country\\\\india\\\\2018', 'C:/Users/Vishaal Grizzly/pulse\\\\pulse\\\\data\\\\aggregated\\\\user\\\\country\\\\india\\\\2019', 'C:/Users/Vishaal Grizzly/pulse\\\\pulse\\\\data\\\\aggregated\\\\user\\\\country\\\\india\\\\2020', 'C:/Users/Vishaal Grizzly/pulse\\\\pulse\\\\data\\\\aggregated\\\\user\\\\country\\\\india\\\\2021', 'C:/Users/Vishaal Grizzly/pulse\\\\pulse\\\\data\\\\aggregated\\\\user\\\\country\\\\india\\\\2022', 'C:/Users/Vishaal Grizzly/pulse\\\\pulse\\\\data\\\\aggregated\\\\user\\\\country\\\\india\\\\state', 'C:/Users/Vishaal Grizzly/pulse\\\\pulse\\\\data\\\\aggregated\\\\user\\\\country\\\\india\\\\state\\\\andaman-&-nicobar-islands', 'C:/Users/Vishaal Grizzly/pulse\\\\pulse\\\\data\\\\aggregated\\\\user\\\\country\\\\india\\\\state\\\\andhra-pradesh', 'C:/Users/Vishaal Grizzly/pulse\\\\pulse\\\\data\\\\aggregated\\\\user\\\\country\\\\india\\\\state\\\\arunachal-pradesh', 'C:/Users/Vishaal Grizzly/pulse\\\\pulse\\\\data\\\\aggregated\\\\user\\\\country\\\\india\\\\state\\\\assam', 'C:/Users/Vishaal Grizzly/pulse\\\\pulse\\\\data\\\\aggregated\\\\user\\\\country\\\\india\\\\state\\\\bihar', 'C:/Users/Vishaal Grizzly/pulse\\\\pulse\\\\data\\\\aggregated\\\\user\\\\country\\\\india\\\\state\\\\chandigarh', 'C:/Users/Vishaal Grizzly/pulse\\\\pulse\\\\data\\\\aggregated\\\\user\\\\country\\\\india\\\\state\\\\chhattisgarh', 'C:/Users/Vishaal Grizzly/pulse\\\\pulse\\\\data\\\\aggregated\\\\user\\\\country\\\\india\\\\state\\\\dadra-&-nagar-haveli-&-daman-&-diu', 'C:/Users/Vishaal Grizzly/pulse\\\\pulse\\\\data\\\\aggregated\\\\user\\\\country\\\\india\\\\state\\\\delhi', 'C:/Users/Vishaal Grizzly/pulse\\\\pulse\\\\data\\\\aggregated\\\\user\\\\country\\\\india\\\\state\\\\goa', 'C:/Users/Vishaal Grizzly/pulse\\\\pulse\\\\data\\\\aggregated\\\\user\\\\country\\\\india\\\\state\\\\gujarat', 'C:/Users/Vishaal Grizzly/pulse\\\\pulse\\\\data\\\\aggregated\\\\user\\\\country\\\\india\\\\state\\\\haryana', 'C:/Users/Vishaal Grizzly/pulse\\\\pulse\\\\data\\\\aggregated\\\\user\\\\country\\\\india\\\\state\\\\himachal-pradesh', 'C:/Users/Vishaal Grizzly/pulse\\\\pulse\\\\data\\\\aggregated\\\\user\\\\country\\\\india\\\\state\\\\jammu-&-kashmir', 'C:/Users/Vishaal Grizzly/pulse\\\\pulse\\\\data\\\\aggregated\\\\user\\\\country\\\\india\\\\state\\\\jharkhand', 'C:/Users/Vishaal Grizzly/pulse\\\\pulse\\\\data\\\\aggregated\\\\user\\\\country\\\\india\\\\state\\\\karnataka', 'C:/Users/Vishaal Grizzly/pulse\\\\pulse\\\\data\\\\aggregated\\\\user\\\\country\\\\india\\\\state\\\\kerala', 'C:/Users/Vishaal Grizzly/pulse\\\\pulse\\\\data\\\\aggregated\\\\user\\\\country\\\\india\\\\state\\\\ladakh', 'C:/Users/Vishaal Grizzly/pulse\\\\pulse\\\\data\\\\aggregated\\\\user\\\\country\\\\india\\\\state\\\\lakshadweep', 'C:/Users/Vishaal Grizzly/pulse\\\\pulse\\\\data\\\\aggregated\\\\user\\\\country\\\\india\\\\state\\\\madhya-pradesh', 'C:/Users/Vishaal Grizzly/pulse\\\\pulse\\\\data\\\\aggregated\\\\user\\\\country\\\\india\\\\state\\\\maharashtra', 'C:/Users/Vishaal Grizzly/pulse\\\\pulse\\\\data\\\\aggregated\\\\user\\\\country\\\\india\\\\state\\\\manipur', 'C:/Users/Vishaal Grizzly/pulse\\\\pulse\\\\data\\\\aggregated\\\\user\\\\country\\\\india\\\\state\\\\meghalaya', 'C:/Users/Vishaal Grizzly/pulse\\\\pulse\\\\data\\\\aggregated\\\\user\\\\country\\\\india\\\\state\\\\mizoram', 'C:/Users/Vishaal Grizzly/pulse\\\\pulse\\\\data\\\\aggregated\\\\user\\\\country\\\\india\\\\state\\\\nagaland', 'C:/Users/Vishaal Grizzly/pulse\\\\pulse\\\\data\\\\aggregated\\\\user\\\\country\\\\india\\\\state\\\\odisha', 'C:/Users/Vishaal Grizzly/pulse\\\\pulse\\\\data\\\\aggregated\\\\user\\\\country\\\\india\\\\state\\\\puducherry', 'C:/Users/Vishaal Grizzly/pulse\\\\pulse\\\\data\\\\aggregated\\\\user\\\\country\\\\india\\\\state\\\\punjab', 'C:/Users/Vishaal Grizzly/pulse\\\\pulse\\\\data\\\\aggregated\\\\user\\\\country\\\\india\\\\state\\\\rajasthan', 'C:/Users/Vishaal Grizzly/pulse\\\\pulse\\\\data\\\\aggregated\\\\user\\\\country\\\\india\\\\state\\\\sikkim', 'C:/Users/Vishaal Grizzly/pulse\\\\pulse\\\\data\\\\aggregated\\\\user\\\\country\\\\india\\\\state\\\\tamil-nadu', 'C:/Users/Vishaal Grizzly/pulse\\\\pulse\\\\data\\\\aggregated\\\\user\\\\country\\\\india\\\\state\\\\telangana', 'C:/Users/Vishaal Grizzly/pulse\\\\pulse\\\\data\\\\aggregated\\\\user\\\\country\\\\india\\\\state\\\\tripura', 'C:/Users/Vishaal Grizzly/pulse\\\\pulse\\\\data\\\\aggregated\\\\user\\\\country\\\\india\\\\state\\\\uttar-pradesh', 'C:/Users/Vishaal Grizzly/pulse\\\\pulse\\\\data\\\\aggregated\\\\user\\\\country\\\\india\\\\state\\\\uttarakhand', 'C:/Users/Vishaal Grizzly/pulse\\\\pulse\\\\data\\\\aggregated\\\\user\\\\country\\\\india\\\\state\\\\west-bengal', 'C:/Users/Vishaal Grizzly/pulse\\\\pulse\\\\data\\\\aggregated\\\\user\\\\country\\\\india\\\\state\\\\andaman-&-nicobar-islands\\\\2018', 'C:/Users/Vishaal Grizzly/pulse\\\\pulse\\\\data\\\\aggregated\\\\user\\\\country\\\\india\\\\state\\\\andaman-&-nicobar-islands\\\\2019', 'C:/Users/Vishaal Grizzly/pulse\\\\pulse\\\\data\\\\aggregated\\\\user\\\\country\\\\india\\\\state\\\\andaman-&-nicobar-islands\\\\2020', 'C:/Users/Vishaal Grizzly/pulse\\\\pulse\\\\data\\\\aggregated\\\\user\\\\country\\\\india\\\\state\\\\andaman-&-nicobar-islands\\\\2021', 'C:/Users/Vishaal Grizzly/pulse\\\\pulse\\\\data\\\\aggregated\\\\user\\\\country\\\\india\\\\state\\\\andaman-&-nicobar-islands\\\\2022', 'C:/Users/Vishaal Grizzly/pulse\\\\pulse\\\\data\\\\aggregated\\\\user\\\\country\\\\india\\\\state\\\\andhra-pradesh\\\\2018', 'C:/Users/Vishaal Grizzly/pulse\\\\pulse\\\\data\\\\aggregated\\\\user\\\\country\\\\india\\\\state\\\\andhra-pradesh\\\\2019', 'C:/Users/Vishaal Grizzly/pulse\\\\pulse\\\\data\\\\aggregated\\\\user\\\\country\\\\india\\\\state\\\\andhra-pradesh\\\\2020', 'C:/Users/Vishaal Grizzly/pulse\\\\pulse\\\\data\\\\aggregated\\\\user\\\\country\\\\india\\\\state\\\\andhra-pradesh\\\\2021', 'C:/Users/Vishaal Grizzly/pulse\\\\pulse\\\\data\\\\aggregated\\\\user\\\\country\\\\india\\\\state\\\\andhra-pradesh\\\\2022', 'C:/Users/Vishaal Grizzly/pulse\\\\pulse\\\\data\\\\aggregated\\\\user\\\\country\\\\india\\\\state\\\\arunachal-pradesh\\\\2018', 'C:/Users/Vishaal Grizzly/pulse\\\\pulse\\\\data\\\\aggregated\\\\user\\\\country\\\\india\\\\state\\\\arunachal-pradesh\\\\2019', 'C:/Users/Vishaal Grizzly/pulse\\\\pulse\\\\data\\\\aggregated\\\\user\\\\country\\\\india\\\\state\\\\arunachal-pradesh\\\\2020', 'C:/Users/Vishaal Grizzly/pulse\\\\pulse\\\\data\\\\aggregated\\\\user\\\\country\\\\india\\\\state\\\\arunachal-pradesh\\\\2021', 'C:/Users/Vishaal Grizzly/pulse\\\\pulse\\\\data\\\\aggregated\\\\user\\\\country\\\\india\\\\state\\\\arunachal-pradesh\\\\2022', 'C:/Users/Vishaal Grizzly/pulse\\\\pulse\\\\data\\\\aggregated\\\\user\\\\country\\\\india\\\\state\\\\assam\\\\2018', 'C:/Users/Vishaal Grizzly/pulse\\\\pulse\\\\data\\\\aggregated\\\\user\\\\country\\\\india\\\\state\\\\assam\\\\2019', 'C:/Users/Vishaal Grizzly/pulse\\\\pulse\\\\data\\\\aggregated\\\\user\\\\country\\\\india\\\\state\\\\assam\\\\2020', 'C:/Users/Vishaal Grizzly/pulse\\\\pulse\\\\data\\\\aggregated\\\\user\\\\country\\\\india\\\\state\\\\assam\\\\2021', 'C:/Users/Vishaal Grizzly/pulse\\\\pulse\\\\data\\\\aggregated\\\\user\\\\country\\\\india\\\\state\\\\assam\\\\2022', 'C:/Users/Vishaal Grizzly/pulse\\\\pulse\\\\data\\\\aggregated\\\\user\\\\country\\\\india\\\\state\\\\bihar\\\\2018', 'C:/Users/Vishaal Grizzly/pulse\\\\pulse\\\\data\\\\aggregated\\\\user\\\\country\\\\india\\\\state\\\\bihar\\\\2019', 'C:/Users/Vishaal Grizzly/pulse\\\\pulse\\\\data\\\\aggregated\\\\user\\\\country\\\\india\\\\state\\\\bihar\\\\2020', 'C:/Users/Vishaal Grizzly/pulse\\\\pulse\\\\data\\\\aggregated\\\\user\\\\country\\\\india\\\\state\\\\bihar\\\\2021', 'C:/Users/Vishaal Grizzly/pulse\\\\pulse\\\\data\\\\aggregated\\\\user\\\\country\\\\india\\\\state\\\\bihar\\\\2022', 'C:/Users/Vishaal Grizzly/pulse\\\\pulse\\\\data\\\\aggregated\\\\user\\\\country\\\\india\\\\state\\\\chandigarh\\\\2018', 'C:/Users/Vishaal Grizzly/pulse\\\\pulse\\\\data\\\\aggregated\\\\user\\\\country\\\\india\\\\state\\\\chandigarh\\\\2019', 'C:/Users/Vishaal Grizzly/pulse\\\\pulse\\\\data\\\\aggregated\\\\user\\\\country\\\\india\\\\state\\\\chandigarh\\\\2020', 'C:/Users/Vishaal Grizzly/pulse\\\\pulse\\\\data\\\\aggregated\\\\user\\\\country\\\\india\\\\state\\\\chandigarh\\\\2021', 'C:/Users/Vishaal Grizzly/pulse\\\\pulse\\\\data\\\\aggregated\\\\user\\\\country\\\\india\\\\state\\\\chandigarh\\\\2022', 'C:/Users/Vishaal Grizzly/pulse\\\\pulse\\\\data\\\\aggregated\\\\user\\\\country\\\\india\\\\state\\\\chhattisgarh\\\\2018', 'C:/Users/Vishaal Grizzly/pulse\\\\pulse\\\\data\\\\aggregated\\\\user\\\\country\\\\india\\\\state\\\\chhattisgarh\\\\2019', 'C:/Users/Vishaal Grizzly/pulse\\\\pulse\\\\data\\\\aggregated\\\\user\\\\country\\\\india\\\\state\\\\chhattisgarh\\\\2020', 'C:/Users/Vishaal Grizzly/pulse\\\\pulse\\\\data\\\\aggregated\\\\user\\\\country\\\\india\\\\state\\\\chhattisgarh\\\\2021', 'C:/Users/Vishaal Grizzly/pulse\\\\pulse\\\\data\\\\aggregated\\\\user\\\\country\\\\india\\\\state\\\\chhattisgarh\\\\2022', 'C:/Users/Vishaal Grizzly/pulse\\\\pulse\\\\data\\\\aggregated\\\\user\\\\country\\\\india\\\\state\\\\dadra-&-nagar-haveli-&-daman-&-diu\\\\2018', 'C:/Users/Vishaal Grizzly/pulse\\\\pulse\\\\data\\\\aggregated\\\\user\\\\country\\\\india\\\\state\\\\dadra-&-nagar-haveli-&-daman-&-diu\\\\2019', 'C:/Users/Vishaal Grizzly/pulse\\\\pulse\\\\data\\\\aggregated\\\\user\\\\country\\\\india\\\\state\\\\dadra-&-nagar-haveli-&-daman-&-diu\\\\2020', 'C:/Users/Vishaal Grizzly/pulse\\\\pulse\\\\data\\\\aggregated\\\\user\\\\country\\\\india\\\\state\\\\dadra-&-nagar-haveli-&-daman-&-diu\\\\2021', 'C:/Users/Vishaal Grizzly/pulse\\\\pulse\\\\data\\\\aggregated\\\\user\\\\country\\\\india\\\\state\\\\dadra-&-nagar-haveli-&-daman-&-diu\\\\2022', 'C:/Users/Vishaal Grizzly/pulse\\\\pulse\\\\data\\\\aggregated\\\\user\\\\country\\\\india\\\\state\\\\delhi\\\\2018', 'C:/Users/Vishaal Grizzly/pulse\\\\pulse\\\\data\\\\aggregated\\\\user\\\\country\\\\india\\\\state\\\\delhi\\\\2019', 'C:/Users/Vishaal Grizzly/pulse\\\\pulse\\\\data\\\\aggregated\\\\user\\\\country\\\\india\\\\state\\\\delhi\\\\2020', 'C:/Users/Vishaal Grizzly/pulse\\\\pulse\\\\data\\\\aggregated\\\\user\\\\country\\\\india\\\\state\\\\delhi\\\\2021', 'C:/Users/Vishaal Grizzly/pulse\\\\pulse\\\\data\\\\aggregated\\\\user\\\\country\\\\india\\\\state\\\\delhi\\\\2022', 'C:/Users/Vishaal Grizzly/pulse\\\\pulse\\\\data\\\\aggregated\\\\user\\\\country\\\\india\\\\state\\\\goa\\\\2018', 'C:/Users/Vishaal Grizzly/pulse\\\\pulse\\\\data\\\\aggregated\\\\user\\\\country\\\\india\\\\state\\\\goa\\\\2019', 'C:/Users/Vishaal Grizzly/pulse\\\\pulse\\\\data\\\\aggregated\\\\user\\\\country\\\\india\\\\state\\\\goa\\\\2020', 'C:/Users/Vishaal Grizzly/pulse\\\\pulse\\\\data\\\\aggregated\\\\user\\\\country\\\\india\\\\state\\\\goa\\\\2021', 'C:/Users/Vishaal Grizzly/pulse\\\\pulse\\\\data\\\\aggregated\\\\user\\\\country\\\\india\\\\state\\\\goa\\\\2022', 'C:/Users/Vishaal Grizzly/pulse\\\\pulse\\\\data\\\\aggregated\\\\user\\\\country\\\\india\\\\state\\\\gujarat\\\\2018', 'C:/Users/Vishaal Grizzly/pulse\\\\pulse\\\\data\\\\aggregated\\\\user\\\\country\\\\india\\\\state\\\\gujarat\\\\2019', 'C:/Users/Vishaal Grizzly/pulse\\\\pulse\\\\data\\\\aggregated\\\\user\\\\country\\\\india\\\\state\\\\gujarat\\\\2020', 'C:/Users/Vishaal Grizzly/pulse\\\\pulse\\\\data\\\\aggregated\\\\user\\\\country\\\\india\\\\state\\\\gujarat\\\\2021', 'C:/Users/Vishaal Grizzly/pulse\\\\pulse\\\\data\\\\aggregated\\\\user\\\\country\\\\india\\\\state\\\\gujarat\\\\2022', 'C:/Users/Vishaal Grizzly/pulse\\\\pulse\\\\data\\\\aggregated\\\\user\\\\country\\\\india\\\\state\\\\haryana\\\\2018', 'C:/Users/Vishaal Grizzly/pulse\\\\pulse\\\\data\\\\aggregated\\\\user\\\\country\\\\india\\\\state\\\\haryana\\\\2019', 'C:/Users/Vishaal Grizzly/pulse\\\\pulse\\\\data\\\\aggregated\\\\user\\\\country\\\\india\\\\state\\\\haryana\\\\2020', 'C:/Users/Vishaal Grizzly/pulse\\\\pulse\\\\data\\\\aggregated\\\\user\\\\country\\\\india\\\\state\\\\haryana\\\\2021', 'C:/Users/Vishaal Grizzly/pulse\\\\pulse\\\\data\\\\aggregated\\\\user\\\\country\\\\india\\\\state\\\\haryana\\\\2022', 'C:/Users/Vishaal Grizzly/pulse\\\\pulse\\\\data\\\\aggregated\\\\user\\\\country\\\\india\\\\state\\\\himachal-pradesh\\\\2018', 'C:/Users/Vishaal Grizzly/pulse\\\\pulse\\\\data\\\\aggregated\\\\user\\\\country\\\\india\\\\state\\\\himachal-pradesh\\\\2019', 'C:/Users/Vishaal Grizzly/pulse\\\\pulse\\\\data\\\\aggregated\\\\user\\\\country\\\\india\\\\state\\\\himachal-pradesh\\\\2020', 'C:/Users/Vishaal Grizzly/pulse\\\\pulse\\\\data\\\\aggregated\\\\user\\\\country\\\\india\\\\state\\\\himachal-pradesh\\\\2021', 'C:/Users/Vishaal Grizzly/pulse\\\\pulse\\\\data\\\\aggregated\\\\user\\\\country\\\\india\\\\state\\\\himachal-pradesh\\\\2022', 'C:/Users/Vishaal Grizzly/pulse\\\\pulse\\\\data\\\\aggregated\\\\user\\\\country\\\\india\\\\state\\\\jammu-&-kashmir\\\\2018', 'C:/Users/Vishaal Grizzly/pulse\\\\pulse\\\\data\\\\aggregated\\\\user\\\\country\\\\india\\\\state\\\\jammu-&-kashmir\\\\2019', 'C:/Users/Vishaal Grizzly/pulse\\\\pulse\\\\data\\\\aggregated\\\\user\\\\country\\\\india\\\\state\\\\jammu-&-kashmir\\\\2020', 'C:/Users/Vishaal Grizzly/pulse\\\\pulse\\\\data\\\\aggregated\\\\user\\\\country\\\\india\\\\state\\\\jammu-&-kashmir\\\\2021', 'C:/Users/Vishaal Grizzly/pulse\\\\pulse\\\\data\\\\aggregated\\\\user\\\\country\\\\india\\\\state\\\\jammu-&-kashmir\\\\2022', 'C:/Users/Vishaal Grizzly/pulse\\\\pulse\\\\data\\\\aggregated\\\\user\\\\country\\\\india\\\\state\\\\jharkhand\\\\2018', 'C:/Users/Vishaal Grizzly/pulse\\\\pulse\\\\data\\\\aggregated\\\\user\\\\country\\\\india\\\\state\\\\jharkhand\\\\2019', 'C:/Users/Vishaal Grizzly/pulse\\\\pulse\\\\data\\\\aggregated\\\\user\\\\country\\\\india\\\\state\\\\jharkhand\\\\2020', 'C:/Users/Vishaal Grizzly/pulse\\\\pulse\\\\data\\\\aggregated\\\\user\\\\country\\\\india\\\\state\\\\jharkhand\\\\2021', 'C:/Users/Vishaal Grizzly/pulse\\\\pulse\\\\data\\\\aggregated\\\\user\\\\country\\\\india\\\\state\\\\jharkhand\\\\2022', 'C:/Users/Vishaal Grizzly/pulse\\\\pulse\\\\data\\\\aggregated\\\\user\\\\country\\\\india\\\\state\\\\karnataka\\\\2018', 'C:/Users/Vishaal Grizzly/pulse\\\\pulse\\\\data\\\\aggregated\\\\user\\\\country\\\\india\\\\state\\\\karnataka\\\\2019', 'C:/Users/Vishaal Grizzly/pulse\\\\pulse\\\\data\\\\aggregated\\\\user\\\\country\\\\india\\\\state\\\\karnataka\\\\2020', 'C:/Users/Vishaal Grizzly/pulse\\\\pulse\\\\data\\\\aggregated\\\\user\\\\country\\\\india\\\\state\\\\karnataka\\\\2021', 'C:/Users/Vishaal Grizzly/pulse\\\\pulse\\\\data\\\\aggregated\\\\user\\\\country\\\\india\\\\state\\\\karnataka\\\\2022', 'C:/Users/Vishaal Grizzly/pulse\\\\pulse\\\\data\\\\aggregated\\\\user\\\\country\\\\india\\\\state\\\\kerala\\\\2018', 'C:/Users/Vishaal Grizzly/pulse\\\\pulse\\\\data\\\\aggregated\\\\user\\\\country\\\\india\\\\state\\\\kerala\\\\2019', 'C:/Users/Vishaal Grizzly/pulse\\\\pulse\\\\data\\\\aggregated\\\\user\\\\country\\\\india\\\\state\\\\kerala\\\\2020', 'C:/Users/Vishaal Grizzly/pulse\\\\pulse\\\\data\\\\aggregated\\\\user\\\\country\\\\india\\\\state\\\\kerala\\\\2021', 'C:/Users/Vishaal Grizzly/pulse\\\\pulse\\\\data\\\\aggregated\\\\user\\\\country\\\\india\\\\state\\\\kerala\\\\2022', 'C:/Users/Vishaal Grizzly/pulse\\\\pulse\\\\data\\\\aggregated\\\\user\\\\country\\\\india\\\\state\\\\ladakh\\\\2018', 'C:/Users/Vishaal Grizzly/pulse\\\\pulse\\\\data\\\\aggregated\\\\user\\\\country\\\\india\\\\state\\\\ladakh\\\\2019', 'C:/Users/Vishaal Grizzly/pulse\\\\pulse\\\\data\\\\aggregated\\\\user\\\\country\\\\india\\\\state\\\\ladakh\\\\2020', 'C:/Users/Vishaal Grizzly/pulse\\\\pulse\\\\data\\\\aggregated\\\\user\\\\country\\\\india\\\\state\\\\ladakh\\\\2021', 'C:/Users/Vishaal Grizzly/pulse\\\\pulse\\\\data\\\\aggregated\\\\user\\\\country\\\\india\\\\state\\\\ladakh\\\\2022', 'C:/Users/Vishaal Grizzly/pulse\\\\pulse\\\\data\\\\aggregated\\\\user\\\\country\\\\india\\\\state\\\\lakshadweep\\\\2018', 'C:/Users/Vishaal Grizzly/pulse\\\\pulse\\\\data\\\\aggregated\\\\user\\\\country\\\\india\\\\state\\\\lakshadweep\\\\2019', 'C:/Users/Vishaal Grizzly/pulse\\\\pulse\\\\data\\\\aggregated\\\\user\\\\country\\\\india\\\\state\\\\lakshadweep\\\\2020', 'C:/Users/Vishaal Grizzly/pulse\\\\pulse\\\\data\\\\aggregated\\\\user\\\\country\\\\india\\\\state\\\\lakshadweep\\\\2021', 'C:/Users/Vishaal Grizzly/pulse\\\\pulse\\\\data\\\\aggregated\\\\user\\\\country\\\\india\\\\state\\\\lakshadweep\\\\2022', 'C:/Users/Vishaal Grizzly/pulse\\\\pulse\\\\data\\\\aggregated\\\\user\\\\country\\\\india\\\\state\\\\madhya-pradesh\\\\2018', 'C:/Users/Vishaal Grizzly/pulse\\\\pulse\\\\data\\\\aggregated\\\\user\\\\country\\\\india\\\\state\\\\madhya-pradesh\\\\2019', 'C:/Users/Vishaal Grizzly/pulse\\\\pulse\\\\data\\\\aggregated\\\\user\\\\country\\\\india\\\\state\\\\madhya-pradesh\\\\2020', 'C:/Users/Vishaal Grizzly/pulse\\\\pulse\\\\data\\\\aggregated\\\\user\\\\country\\\\india\\\\state\\\\madhya-pradesh\\\\2021', 'C:/Users/Vishaal Grizzly/pulse\\\\pulse\\\\data\\\\aggregated\\\\user\\\\country\\\\india\\\\state\\\\madhya-pradesh\\\\2022', 'C:/Users/Vishaal Grizzly/pulse\\\\pulse\\\\data\\\\aggregated\\\\user\\\\country\\\\india\\\\state\\\\maharashtra\\\\2018', 'C:/Users/Vishaal Grizzly/pulse\\\\pulse\\\\data\\\\aggregated\\\\user\\\\country\\\\india\\\\state\\\\maharashtra\\\\2019', 'C:/Users/Vishaal Grizzly/pulse\\\\pulse\\\\data\\\\aggregated\\\\user\\\\country\\\\india\\\\state\\\\maharashtra\\\\2020', 'C:/Users/Vishaal Grizzly/pulse\\\\pulse\\\\data\\\\aggregated\\\\user\\\\country\\\\india\\\\state\\\\maharashtra\\\\2021', 'C:/Users/Vishaal Grizzly/pulse\\\\pulse\\\\data\\\\aggregated\\\\user\\\\country\\\\india\\\\state\\\\maharashtra\\\\2022', 'C:/Users/Vishaal Grizzly/pulse\\\\pulse\\\\data\\\\aggregated\\\\user\\\\country\\\\india\\\\state\\\\manipur\\\\2018', 'C:/Users/Vishaal Grizzly/pulse\\\\pulse\\\\data\\\\aggregated\\\\user\\\\country\\\\india\\\\state\\\\manipur\\\\2019', 'C:/Users/Vishaal Grizzly/pulse\\\\pulse\\\\data\\\\aggregated\\\\user\\\\country\\\\india\\\\state\\\\manipur\\\\2020', 'C:/Users/Vishaal Grizzly/pulse\\\\pulse\\\\data\\\\aggregated\\\\user\\\\country\\\\india\\\\state\\\\manipur\\\\2021', 'C:/Users/Vishaal Grizzly/pulse\\\\pulse\\\\data\\\\aggregated\\\\user\\\\country\\\\india\\\\state\\\\manipur\\\\2022', 'C:/Users/Vishaal Grizzly/pulse\\\\pulse\\\\data\\\\aggregated\\\\user\\\\country\\\\india\\\\state\\\\meghalaya\\\\2018', 'C:/Users/Vishaal Grizzly/pulse\\\\pulse\\\\data\\\\aggregated\\\\user\\\\country\\\\india\\\\state\\\\meghalaya\\\\2019', 'C:/Users/Vishaal Grizzly/pulse\\\\pulse\\\\data\\\\aggregated\\\\user\\\\country\\\\india\\\\state\\\\meghalaya\\\\2020', 'C:/Users/Vishaal Grizzly/pulse\\\\pulse\\\\data\\\\aggregated\\\\user\\\\country\\\\india\\\\state\\\\meghalaya\\\\2021', 'C:/Users/Vishaal Grizzly/pulse\\\\pulse\\\\data\\\\aggregated\\\\user\\\\country\\\\india\\\\state\\\\meghalaya\\\\2022', 'C:/Users/Vishaal Grizzly/pulse\\\\pulse\\\\data\\\\aggregated\\\\user\\\\country\\\\india\\\\state\\\\mizoram\\\\2018', 'C:/Users/Vishaal Grizzly/pulse\\\\pulse\\\\data\\\\aggregated\\\\user\\\\country\\\\india\\\\state\\\\mizoram\\\\2019', 'C:/Users/Vishaal Grizzly/pulse\\\\pulse\\\\data\\\\aggregated\\\\user\\\\country\\\\india\\\\state\\\\mizoram\\\\2020', 'C:/Users/Vishaal Grizzly/pulse\\\\pulse\\\\data\\\\aggregated\\\\user\\\\country\\\\india\\\\state\\\\mizoram\\\\2021', 'C:/Users/Vishaal Grizzly/pulse\\\\pulse\\\\data\\\\aggregated\\\\user\\\\country\\\\india\\\\state\\\\mizoram\\\\2022', 'C:/Users/Vishaal Grizzly/pulse\\\\pulse\\\\data\\\\aggregated\\\\user\\\\country\\\\india\\\\state\\\\nagaland\\\\2018', 'C:/Users/Vishaal Grizzly/pulse\\\\pulse\\\\data\\\\aggregated\\\\user\\\\country\\\\india\\\\state\\\\nagaland\\\\2019', 'C:/Users/Vishaal Grizzly/pulse\\\\pulse\\\\data\\\\aggregated\\\\user\\\\country\\\\india\\\\state\\\\nagaland\\\\2020', 'C:/Users/Vishaal Grizzly/pulse\\\\pulse\\\\data\\\\aggregated\\\\user\\\\country\\\\india\\\\state\\\\nagaland\\\\2021', 'C:/Users/Vishaal Grizzly/pulse\\\\pulse\\\\data\\\\aggregated\\\\user\\\\country\\\\india\\\\state\\\\nagaland\\\\2022', 'C:/Users/Vishaal Grizzly/pulse\\\\pulse\\\\data\\\\aggregated\\\\user\\\\country\\\\india\\\\state\\\\odisha\\\\2018', 'C:/Users/Vishaal Grizzly/pulse\\\\pulse\\\\data\\\\aggregated\\\\user\\\\country\\\\india\\\\state\\\\odisha\\\\2019', 'C:/Users/Vishaal Grizzly/pulse\\\\pulse\\\\data\\\\aggregated\\\\user\\\\country\\\\india\\\\state\\\\odisha\\\\2020', 'C:/Users/Vishaal Grizzly/pulse\\\\pulse\\\\data\\\\aggregated\\\\user\\\\country\\\\india\\\\state\\\\odisha\\\\2021', 'C:/Users/Vishaal Grizzly/pulse\\\\pulse\\\\data\\\\aggregated\\\\user\\\\country\\\\india\\\\state\\\\odisha\\\\2022', 'C:/Users/Vishaal Grizzly/pulse\\\\pulse\\\\data\\\\aggregated\\\\user\\\\country\\\\india\\\\state\\\\puducherry\\\\2018', 'C:/Users/Vishaal Grizzly/pulse\\\\pulse\\\\data\\\\aggregated\\\\user\\\\country\\\\india\\\\state\\\\puducherry\\\\2019', 'C:/Users/Vishaal Grizzly/pulse\\\\pulse\\\\data\\\\aggregated\\\\user\\\\country\\\\india\\\\state\\\\puducherry\\\\2020', 'C:/Users/Vishaal Grizzly/pulse\\\\pulse\\\\data\\\\aggregated\\\\user\\\\country\\\\india\\\\state\\\\puducherry\\\\2021', 'C:/Users/Vishaal Grizzly/pulse\\\\pulse\\\\data\\\\aggregated\\\\user\\\\country\\\\india\\\\state\\\\puducherry\\\\2022', 'C:/Users/Vishaal Grizzly/pulse\\\\pulse\\\\data\\\\aggregated\\\\user\\\\country\\\\india\\\\state\\\\punjab\\\\2018', 'C:/Users/Vishaal Grizzly/pulse\\\\pulse\\\\data\\\\aggregated\\\\user\\\\country\\\\india\\\\state\\\\punjab\\\\2019', 'C:/Users/Vishaal Grizzly/pulse\\\\pulse\\\\data\\\\aggregated\\\\user\\\\country\\\\india\\\\state\\\\punjab\\\\2020', 'C:/Users/Vishaal Grizzly/pulse\\\\pulse\\\\data\\\\aggregated\\\\user\\\\country\\\\india\\\\state\\\\punjab\\\\2021', 'C:/Users/Vishaal Grizzly/pulse\\\\pulse\\\\data\\\\aggregated\\\\user\\\\country\\\\india\\\\state\\\\punjab\\\\2022', 'C:/Users/Vishaal Grizzly/pulse\\\\pulse\\\\data\\\\aggregated\\\\user\\\\country\\\\india\\\\state\\\\rajasthan\\\\2018', 'C:/Users/Vishaal Grizzly/pulse\\\\pulse\\\\data\\\\aggregated\\\\user\\\\country\\\\india\\\\state\\\\rajasthan\\\\2019', 'C:/Users/Vishaal Grizzly/pulse\\\\pulse\\\\data\\\\aggregated\\\\user\\\\country\\\\india\\\\state\\\\rajasthan\\\\2020', 'C:/Users/Vishaal Grizzly/pulse\\\\pulse\\\\data\\\\aggregated\\\\user\\\\country\\\\india\\\\state\\\\rajasthan\\\\2021', 'C:/Users/Vishaal Grizzly/pulse\\\\pulse\\\\data\\\\aggregated\\\\user\\\\country\\\\india\\\\state\\\\rajasthan\\\\2022', 'C:/Users/Vishaal Grizzly/pulse\\\\pulse\\\\data\\\\aggregated\\\\user\\\\country\\\\india\\\\state\\\\sikkim\\\\2018', 'C:/Users/Vishaal Grizzly/pulse\\\\pulse\\\\data\\\\aggregated\\\\user\\\\country\\\\india\\\\state\\\\sikkim\\\\2019', 'C:/Users/Vishaal Grizzly/pulse\\\\pulse\\\\data\\\\aggregated\\\\user\\\\country\\\\india\\\\state\\\\sikkim\\\\2020', 'C:/Users/Vishaal Grizzly/pulse\\\\pulse\\\\data\\\\aggregated\\\\user\\\\country\\\\india\\\\state\\\\sikkim\\\\2021', 'C:/Users/Vishaal Grizzly/pulse\\\\pulse\\\\data\\\\aggregated\\\\user\\\\country\\\\india\\\\state\\\\sikkim\\\\2022', 'C:/Users/Vishaal Grizzly/pulse\\\\pulse\\\\data\\\\aggregated\\\\user\\\\country\\\\india\\\\state\\\\tamil-nadu\\\\2018', 'C:/Users/Vishaal Grizzly/pulse\\\\pulse\\\\data\\\\aggregated\\\\user\\\\country\\\\india\\\\state\\\\tamil-nadu\\\\2019', 'C:/Users/Vishaal Grizzly/pulse\\\\pulse\\\\data\\\\aggregated\\\\user\\\\country\\\\india\\\\state\\\\tamil-nadu\\\\2020', 'C:/Users/Vishaal Grizzly/pulse\\\\pulse\\\\data\\\\aggregated\\\\user\\\\country\\\\india\\\\state\\\\tamil-nadu\\\\2021', 'C:/Users/Vishaal Grizzly/pulse\\\\pulse\\\\data\\\\aggregated\\\\user\\\\country\\\\india\\\\state\\\\tamil-nadu\\\\2022', 'C:/Users/Vishaal Grizzly/pulse\\\\pulse\\\\data\\\\aggregated\\\\user\\\\country\\\\india\\\\state\\\\telangana\\\\2018', 'C:/Users/Vishaal Grizzly/pulse\\\\pulse\\\\data\\\\aggregated\\\\user\\\\country\\\\india\\\\state\\\\telangana\\\\2019', 'C:/Users/Vishaal Grizzly/pulse\\\\pulse\\\\data\\\\aggregated\\\\user\\\\country\\\\india\\\\state\\\\telangana\\\\2020', 'C:/Users/Vishaal Grizzly/pulse\\\\pulse\\\\data\\\\aggregated\\\\user\\\\country\\\\india\\\\state\\\\telangana\\\\2021', 'C:/Users/Vishaal Grizzly/pulse\\\\pulse\\\\data\\\\aggregated\\\\user\\\\country\\\\india\\\\state\\\\telangana\\\\2022', 'C:/Users/Vishaal Grizzly/pulse\\\\pulse\\\\data\\\\aggregated\\\\user\\\\country\\\\india\\\\state\\\\tripura\\\\2018', 'C:/Users/Vishaal Grizzly/pulse\\\\pulse\\\\data\\\\aggregated\\\\user\\\\country\\\\india\\\\state\\\\tripura\\\\2019', 'C:/Users/Vishaal Grizzly/pulse\\\\pulse\\\\data\\\\aggregated\\\\user\\\\country\\\\india\\\\state\\\\tripura\\\\2020', 'C:/Users/Vishaal Grizzly/pulse\\\\pulse\\\\data\\\\aggregated\\\\user\\\\country\\\\india\\\\state\\\\tripura\\\\2021', 'C:/Users/Vishaal Grizzly/pulse\\\\pulse\\\\data\\\\aggregated\\\\user\\\\country\\\\india\\\\state\\\\tripura\\\\2022', 'C:/Users/Vishaal Grizzly/pulse\\\\pulse\\\\data\\\\aggregated\\\\user\\\\country\\\\india\\\\state\\\\uttar-pradesh\\\\2018', 'C:/Users/Vishaal Grizzly/pulse\\\\pulse\\\\data\\\\aggregated\\\\user\\\\country\\\\india\\\\state\\\\uttar-pradesh\\\\2019', 'C:/Users/Vishaal Grizzly/pulse\\\\pulse\\\\data\\\\aggregated\\\\user\\\\country\\\\india\\\\state\\\\uttar-pradesh\\\\2020', 'C:/Users/Vishaal Grizzly/pulse\\\\pulse\\\\data\\\\aggregated\\\\user\\\\country\\\\india\\\\state\\\\uttar-pradesh\\\\2021', 'C:/Users/Vishaal Grizzly/pulse\\\\pulse\\\\data\\\\aggregated\\\\user\\\\country\\\\india\\\\state\\\\uttar-pradesh\\\\2022', 'C:/Users/Vishaal Grizzly/pulse\\\\pulse\\\\data\\\\aggregated\\\\user\\\\country\\\\india\\\\state\\\\uttarakhand\\\\2018', 'C:/Users/Vishaal Grizzly/pulse\\\\pulse\\\\data\\\\aggregated\\\\user\\\\country\\\\india\\\\state\\\\uttarakhand\\\\2019', 'C:/Users/Vishaal Grizzly/pulse\\\\pulse\\\\data\\\\aggregated\\\\user\\\\country\\\\india\\\\state\\\\uttarakhand\\\\2020', 'C:/Users/Vishaal Grizzly/pulse\\\\pulse\\\\data\\\\aggregated\\\\user\\\\country\\\\india\\\\state\\\\uttarakhand\\\\2021', 'C:/Users/Vishaal Grizzly/pulse\\\\pulse\\\\data\\\\aggregated\\\\user\\\\country\\\\india\\\\state\\\\uttarakhand\\\\2022', 'C:/Users/Vishaal Grizzly/pulse\\\\pulse\\\\data\\\\aggregated\\\\user\\\\country\\\\india\\\\state\\\\west-bengal\\\\2018', 'C:/Users/Vishaal Grizzly/pulse\\\\pulse\\\\data\\\\aggregated\\\\user\\\\country\\\\india\\\\state\\\\west-bengal\\\\2019', 'C:/Users/Vishaal Grizzly/pulse\\\\pulse\\\\data\\\\aggregated\\\\user\\\\country\\\\india\\\\state\\\\west-bengal\\\\2020', 'C:/Users/Vishaal Grizzly/pulse\\\\pulse\\\\data\\\\aggregated\\\\user\\\\country\\\\india\\\\state\\\\west-bengal\\\\2021', 'C:/Users/Vishaal Grizzly/pulse\\\\pulse\\\\data\\\\aggregated\\\\user\\\\country\\\\india\\\\state\\\\west-bengal\\\\2022', 'C:/Users/Vishaal Grizzly/pulse\\\\pulse\\\\data\\\\map\\\\transaction', 'C:/Users/Vishaal Grizzly/pulse\\\\pulse\\\\data\\\\map\\\\user', 'C:/Users/Vishaal Grizzly/pulse\\\\pulse\\\\data\\\\map\\\\transaction\\\\hover', 'C:/Users/Vishaal Grizzly/pulse\\\\pulse\\\\data\\\\map\\\\transaction\\\\hover\\\\country', 'C:/Users/Vishaal Grizzly/pulse\\\\pulse\\\\data\\\\map\\\\transaction\\\\hover\\\\country\\\\india', 'C:/Users/Vishaal Grizzly/pulse\\\\pulse\\\\data\\\\map\\\\transaction\\\\hover\\\\country\\\\india\\\\2018', 'C:/Users/Vishaal Grizzly/pulse\\\\pulse\\\\data\\\\map\\\\transaction\\\\hover\\\\country\\\\india\\\\2019', 'C:/Users/Vishaal Grizzly/pulse\\\\pulse\\\\data\\\\map\\\\transaction\\\\hover\\\\country\\\\india\\\\2020', 'C:/Users/Vishaal Grizzly/pulse\\\\pulse\\\\data\\\\map\\\\transaction\\\\hover\\\\country\\\\india\\\\2021', 'C:/Users/Vishaal Grizzly/pulse\\\\pulse\\\\data\\\\map\\\\transaction\\\\hover\\\\country\\\\india\\\\2022', 'C:/Users/Vishaal Grizzly/pulse\\\\pulse\\\\data\\\\map\\\\transaction\\\\hover\\\\country\\\\india\\\\state', 'C:/Users/Vishaal Grizzly/pulse\\\\pulse\\\\data\\\\map\\\\transaction\\\\hover\\\\country\\\\india\\\\state\\\\andaman-&-nicobar-islands', 'C:/Users/Vishaal Grizzly/pulse\\\\pulse\\\\data\\\\map\\\\transaction\\\\hover\\\\country\\\\india\\\\state\\\\andhra-pradesh', 'C:/Users/Vishaal Grizzly/pulse\\\\pulse\\\\data\\\\map\\\\transaction\\\\hover\\\\country\\\\india\\\\state\\\\arunachal-pradesh', 'C:/Users/Vishaal Grizzly/pulse\\\\pulse\\\\data\\\\map\\\\transaction\\\\hover\\\\country\\\\india\\\\state\\\\assam', 'C:/Users/Vishaal Grizzly/pulse\\\\pulse\\\\data\\\\map\\\\transaction\\\\hover\\\\country\\\\india\\\\state\\\\bihar', 'C:/Users/Vishaal Grizzly/pulse\\\\pulse\\\\data\\\\map\\\\transaction\\\\hover\\\\country\\\\india\\\\state\\\\chandigarh', 'C:/Users/Vishaal Grizzly/pulse\\\\pulse\\\\data\\\\map\\\\transaction\\\\hover\\\\country\\\\india\\\\state\\\\chhattisgarh', 'C:/Users/Vishaal Grizzly/pulse\\\\pulse\\\\data\\\\map\\\\transaction\\\\hover\\\\country\\\\india\\\\state\\\\dadra-&-nagar-haveli-&-daman-&-diu', 'C:/Users/Vishaal Grizzly/pulse\\\\pulse\\\\data\\\\map\\\\transaction\\\\hover\\\\country\\\\india\\\\state\\\\delhi', 'C:/Users/Vishaal Grizzly/pulse\\\\pulse\\\\data\\\\map\\\\transaction\\\\hover\\\\country\\\\india\\\\state\\\\goa', 'C:/Users/Vishaal Grizzly/pulse\\\\pulse\\\\data\\\\map\\\\transaction\\\\hover\\\\country\\\\india\\\\state\\\\gujarat', 'C:/Users/Vishaal Grizzly/pulse\\\\pulse\\\\data\\\\map\\\\transaction\\\\hover\\\\country\\\\india\\\\state\\\\haryana', 'C:/Users/Vishaal Grizzly/pulse\\\\pulse\\\\data\\\\map\\\\transaction\\\\hover\\\\country\\\\india\\\\state\\\\himachal-pradesh', 'C:/Users/Vishaal Grizzly/pulse\\\\pulse\\\\data\\\\map\\\\transaction\\\\hover\\\\country\\\\india\\\\state\\\\jammu-&-kashmir', 'C:/Users/Vishaal Grizzly/pulse\\\\pulse\\\\data\\\\map\\\\transaction\\\\hover\\\\country\\\\india\\\\state\\\\jharkhand', 'C:/Users/Vishaal Grizzly/pulse\\\\pulse\\\\data\\\\map\\\\transaction\\\\hover\\\\country\\\\india\\\\state\\\\karnataka', 'C:/Users/Vishaal Grizzly/pulse\\\\pulse\\\\data\\\\map\\\\transaction\\\\hover\\\\country\\\\india\\\\state\\\\kerala', 'C:/Users/Vishaal Grizzly/pulse\\\\pulse\\\\data\\\\map\\\\transaction\\\\hover\\\\country\\\\india\\\\state\\\\ladakh', 'C:/Users/Vishaal Grizzly/pulse\\\\pulse\\\\data\\\\map\\\\transaction\\\\hover\\\\country\\\\india\\\\state\\\\lakshadweep', 'C:/Users/Vishaal Grizzly/pulse\\\\pulse\\\\data\\\\map\\\\transaction\\\\hover\\\\country\\\\india\\\\state\\\\madhya-pradesh', 'C:/Users/Vishaal Grizzly/pulse\\\\pulse\\\\data\\\\map\\\\transaction\\\\hover\\\\country\\\\india\\\\state\\\\maharashtra', 'C:/Users/Vishaal Grizzly/pulse\\\\pulse\\\\data\\\\map\\\\transaction\\\\hover\\\\country\\\\india\\\\state\\\\manipur', 'C:/Users/Vishaal Grizzly/pulse\\\\pulse\\\\data\\\\map\\\\transaction\\\\hover\\\\country\\\\india\\\\state\\\\meghalaya', 'C:/Users/Vishaal Grizzly/pulse\\\\pulse\\\\data\\\\map\\\\transaction\\\\hover\\\\country\\\\india\\\\state\\\\mizoram', 'C:/Users/Vishaal Grizzly/pulse\\\\pulse\\\\data\\\\map\\\\transaction\\\\hover\\\\country\\\\india\\\\state\\\\nagaland', 'C:/Users/Vishaal Grizzly/pulse\\\\pulse\\\\data\\\\map\\\\transaction\\\\hover\\\\country\\\\india\\\\state\\\\odisha', 'C:/Users/Vishaal Grizzly/pulse\\\\pulse\\\\data\\\\map\\\\transaction\\\\hover\\\\country\\\\india\\\\state\\\\puducherry', 'C:/Users/Vishaal Grizzly/pulse\\\\pulse\\\\data\\\\map\\\\transaction\\\\hover\\\\country\\\\india\\\\state\\\\punjab', 'C:/Users/Vishaal Grizzly/pulse\\\\pulse\\\\data\\\\map\\\\transaction\\\\hover\\\\country\\\\india\\\\state\\\\rajasthan', 'C:/Users/Vishaal Grizzly/pulse\\\\pulse\\\\data\\\\map\\\\transaction\\\\hover\\\\country\\\\india\\\\state\\\\sikkim', 'C:/Users/Vishaal Grizzly/pulse\\\\pulse\\\\data\\\\map\\\\transaction\\\\hover\\\\country\\\\india\\\\state\\\\tamil-nadu', 'C:/Users/Vishaal Grizzly/pulse\\\\pulse\\\\data\\\\map\\\\transaction\\\\hover\\\\country\\\\india\\\\state\\\\telangana', 'C:/Users/Vishaal Grizzly/pulse\\\\pulse\\\\data\\\\map\\\\transaction\\\\hover\\\\country\\\\india\\\\state\\\\tripura', 'C:/Users/Vishaal Grizzly/pulse\\\\pulse\\\\data\\\\map\\\\transaction\\\\hover\\\\country\\\\india\\\\state\\\\uttar-pradesh', 'C:/Users/Vishaal Grizzly/pulse\\\\pulse\\\\data\\\\map\\\\transaction\\\\hover\\\\country\\\\india\\\\state\\\\uttarakhand', 'C:/Users/Vishaal Grizzly/pulse\\\\pulse\\\\data\\\\map\\\\transaction\\\\hover\\\\country\\\\india\\\\state\\\\west-bengal', 'C:/Users/Vishaal Grizzly/pulse\\\\pulse\\\\data\\\\map\\\\transaction\\\\hover\\\\country\\\\india\\\\state\\\\andaman-&-nicobar-islands\\\\2018', 'C:/Users/Vishaal Grizzly/pulse\\\\pulse\\\\data\\\\map\\\\transaction\\\\hover\\\\country\\\\india\\\\state\\\\andaman-&-nicobar-islands\\\\2019', 'C:/Users/Vishaal Grizzly/pulse\\\\pulse\\\\data\\\\map\\\\transaction\\\\hover\\\\country\\\\india\\\\state\\\\andaman-&-nicobar-islands\\\\2020', 'C:/Users/Vishaal Grizzly/pulse\\\\pulse\\\\data\\\\map\\\\transaction\\\\hover\\\\country\\\\india\\\\state\\\\andaman-&-nicobar-islands\\\\2021', 'C:/Users/Vishaal Grizzly/pulse\\\\pulse\\\\data\\\\map\\\\transaction\\\\hover\\\\country\\\\india\\\\state\\\\andaman-&-nicobar-islands\\\\2022', 'C:/Users/Vishaal Grizzly/pulse\\\\pulse\\\\data\\\\map\\\\transaction\\\\hover\\\\country\\\\india\\\\state\\\\andhra-pradesh\\\\2018', 'C:/Users/Vishaal Grizzly/pulse\\\\pulse\\\\data\\\\map\\\\transaction\\\\hover\\\\country\\\\india\\\\state\\\\andhra-pradesh\\\\2019', 'C:/Users/Vishaal Grizzly/pulse\\\\pulse\\\\data\\\\map\\\\transaction\\\\hover\\\\country\\\\india\\\\state\\\\andhra-pradesh\\\\2020', 'C:/Users/Vishaal Grizzly/pulse\\\\pulse\\\\data\\\\map\\\\transaction\\\\hover\\\\country\\\\india\\\\state\\\\andhra-pradesh\\\\2021', 'C:/Users/Vishaal Grizzly/pulse\\\\pulse\\\\data\\\\map\\\\transaction\\\\hover\\\\country\\\\india\\\\state\\\\andhra-pradesh\\\\2022', 'C:/Users/Vishaal Grizzly/pulse\\\\pulse\\\\data\\\\map\\\\transaction\\\\hover\\\\country\\\\india\\\\state\\\\arunachal-pradesh\\\\2018', 'C:/Users/Vishaal Grizzly/pulse\\\\pulse\\\\data\\\\map\\\\transaction\\\\hover\\\\country\\\\india\\\\state\\\\arunachal-pradesh\\\\2019', 'C:/Users/Vishaal Grizzly/pulse\\\\pulse\\\\data\\\\map\\\\transaction\\\\hover\\\\country\\\\india\\\\state\\\\arunachal-pradesh\\\\2020', 'C:/Users/Vishaal Grizzly/pulse\\\\pulse\\\\data\\\\map\\\\transaction\\\\hover\\\\country\\\\india\\\\state\\\\arunachal-pradesh\\\\2021', 'C:/Users/Vishaal Grizzly/pulse\\\\pulse\\\\data\\\\map\\\\transaction\\\\hover\\\\country\\\\india\\\\state\\\\arunachal-pradesh\\\\2022', 'C:/Users/Vishaal Grizzly/pulse\\\\pulse\\\\data\\\\map\\\\transaction\\\\hover\\\\country\\\\india\\\\state\\\\assam\\\\2018', 'C:/Users/Vishaal Grizzly/pulse\\\\pulse\\\\data\\\\map\\\\transaction\\\\hover\\\\country\\\\india\\\\state\\\\assam\\\\2019', 'C:/Users/Vishaal Grizzly/pulse\\\\pulse\\\\data\\\\map\\\\transaction\\\\hover\\\\country\\\\india\\\\state\\\\assam\\\\2020', 'C:/Users/Vishaal Grizzly/pulse\\\\pulse\\\\data\\\\map\\\\transaction\\\\hover\\\\country\\\\india\\\\state\\\\assam\\\\2021', 'C:/Users/Vishaal Grizzly/pulse\\\\pulse\\\\data\\\\map\\\\transaction\\\\hover\\\\country\\\\india\\\\state\\\\assam\\\\2022', 'C:/Users/Vishaal Grizzly/pulse\\\\pulse\\\\data\\\\map\\\\transaction\\\\hover\\\\country\\\\india\\\\state\\\\bihar\\\\2018', 'C:/Users/Vishaal Grizzly/pulse\\\\pulse\\\\data\\\\map\\\\transaction\\\\hover\\\\country\\\\india\\\\state\\\\bihar\\\\2019', 'C:/Users/Vishaal Grizzly/pulse\\\\pulse\\\\data\\\\map\\\\transaction\\\\hover\\\\country\\\\india\\\\state\\\\bihar\\\\2020', 'C:/Users/Vishaal Grizzly/pulse\\\\pulse\\\\data\\\\map\\\\transaction\\\\hover\\\\country\\\\india\\\\state\\\\bihar\\\\2021', 'C:/Users/Vishaal Grizzly/pulse\\\\pulse\\\\data\\\\map\\\\transaction\\\\hover\\\\country\\\\india\\\\state\\\\bihar\\\\2022', 'C:/Users/Vishaal Grizzly/pulse\\\\pulse\\\\data\\\\map\\\\transaction\\\\hover\\\\country\\\\india\\\\state\\\\chandigarh\\\\2018', 'C:/Users/Vishaal Grizzly/pulse\\\\pulse\\\\data\\\\map\\\\transaction\\\\hover\\\\country\\\\india\\\\state\\\\chandigarh\\\\2019', 'C:/Users/Vishaal Grizzly/pulse\\\\pulse\\\\data\\\\map\\\\transaction\\\\hover\\\\country\\\\india\\\\state\\\\chandigarh\\\\2020', 'C:/Users/Vishaal Grizzly/pulse\\\\pulse\\\\data\\\\map\\\\transaction\\\\hover\\\\country\\\\india\\\\state\\\\chandigarh\\\\2021', 'C:/Users/Vishaal Grizzly/pulse\\\\pulse\\\\data\\\\map\\\\transaction\\\\hover\\\\country\\\\india\\\\state\\\\chandigarh\\\\2022', 'C:/Users/Vishaal Grizzly/pulse\\\\pulse\\\\data\\\\map\\\\transaction\\\\hover\\\\country\\\\india\\\\state\\\\chhattisgarh\\\\2018', 'C:/Users/Vishaal Grizzly/pulse\\\\pulse\\\\data\\\\map\\\\transaction\\\\hover\\\\country\\\\india\\\\state\\\\chhattisgarh\\\\2019', 'C:/Users/Vishaal Grizzly/pulse\\\\pulse\\\\data\\\\map\\\\transaction\\\\hover\\\\country\\\\india\\\\state\\\\chhattisgarh\\\\2020', 'C:/Users/Vishaal Grizzly/pulse\\\\pulse\\\\data\\\\map\\\\transaction\\\\hover\\\\country\\\\india\\\\state\\\\chhattisgarh\\\\2021', 'C:/Users/Vishaal Grizzly/pulse\\\\pulse\\\\data\\\\map\\\\transaction\\\\hover\\\\country\\\\india\\\\state\\\\chhattisgarh\\\\2022', 'C:/Users/Vishaal Grizzly/pulse\\\\pulse\\\\data\\\\map\\\\transaction\\\\hover\\\\country\\\\india\\\\state\\\\dadra-&-nagar-haveli-&-daman-&-diu\\\\2018', 'C:/Users/Vishaal Grizzly/pulse\\\\pulse\\\\data\\\\map\\\\transaction\\\\hover\\\\country\\\\india\\\\state\\\\dadra-&-nagar-haveli-&-daman-&-diu\\\\2019', 'C:/Users/Vishaal Grizzly/pulse\\\\pulse\\\\data\\\\map\\\\transaction\\\\hover\\\\country\\\\india\\\\state\\\\dadra-&-nagar-haveli-&-daman-&-diu\\\\2020', 'C:/Users/Vishaal Grizzly/pulse\\\\pulse\\\\data\\\\map\\\\transaction\\\\hover\\\\country\\\\india\\\\state\\\\dadra-&-nagar-haveli-&-daman-&-diu\\\\2021', 'C:/Users/Vishaal Grizzly/pulse\\\\pulse\\\\data\\\\map\\\\transaction\\\\hover\\\\country\\\\india\\\\state\\\\dadra-&-nagar-haveli-&-daman-&-diu\\\\2022', 'C:/Users/Vishaal Grizzly/pulse\\\\pulse\\\\data\\\\map\\\\transaction\\\\hover\\\\country\\\\india\\\\state\\\\delhi\\\\2018', 'C:/Users/Vishaal Grizzly/pulse\\\\pulse\\\\data\\\\map\\\\transaction\\\\hover\\\\country\\\\india\\\\state\\\\delhi\\\\2019', 'C:/Users/Vishaal Grizzly/pulse\\\\pulse\\\\data\\\\map\\\\transaction\\\\hover\\\\country\\\\india\\\\state\\\\delhi\\\\2020', 'C:/Users/Vishaal Grizzly/pulse\\\\pulse\\\\data\\\\map\\\\transaction\\\\hover\\\\country\\\\india\\\\state\\\\delhi\\\\2021', 'C:/Users/Vishaal Grizzly/pulse\\\\pulse\\\\data\\\\map\\\\transaction\\\\hover\\\\country\\\\india\\\\state\\\\delhi\\\\2022', 'C:/Users/Vishaal Grizzly/pulse\\\\pulse\\\\data\\\\map\\\\transaction\\\\hover\\\\country\\\\india\\\\state\\\\goa\\\\2018', 'C:/Users/Vishaal Grizzly/pulse\\\\pulse\\\\data\\\\map\\\\transaction\\\\hover\\\\country\\\\india\\\\state\\\\goa\\\\2019', 'C:/Users/Vishaal Grizzly/pulse\\\\pulse\\\\data\\\\map\\\\transaction\\\\hover\\\\country\\\\india\\\\state\\\\goa\\\\2020', 'C:/Users/Vishaal Grizzly/pulse\\\\pulse\\\\data\\\\map\\\\transaction\\\\hover\\\\country\\\\india\\\\state\\\\goa\\\\2021', 'C:/Users/Vishaal Grizzly/pulse\\\\pulse\\\\data\\\\map\\\\transaction\\\\hover\\\\country\\\\india\\\\state\\\\goa\\\\2022', 'C:/Users/Vishaal Grizzly/pulse\\\\pulse\\\\data\\\\map\\\\transaction\\\\hover\\\\country\\\\india\\\\state\\\\gujarat\\\\2018', 'C:/Users/Vishaal Grizzly/pulse\\\\pulse\\\\data\\\\map\\\\transaction\\\\hover\\\\country\\\\india\\\\state\\\\gujarat\\\\2019', 'C:/Users/Vishaal Grizzly/pulse\\\\pulse\\\\data\\\\map\\\\transaction\\\\hover\\\\country\\\\india\\\\state\\\\gujarat\\\\2020', 'C:/Users/Vishaal Grizzly/pulse\\\\pulse\\\\data\\\\map\\\\transaction\\\\hover\\\\country\\\\india\\\\state\\\\gujarat\\\\2021', 'C:/Users/Vishaal Grizzly/pulse\\\\pulse\\\\data\\\\map\\\\transaction\\\\hover\\\\country\\\\india\\\\state\\\\gujarat\\\\2022', 'C:/Users/Vishaal Grizzly/pulse\\\\pulse\\\\data\\\\map\\\\transaction\\\\hover\\\\country\\\\india\\\\state\\\\haryana\\\\2018', 'C:/Users/Vishaal Grizzly/pulse\\\\pulse\\\\data\\\\map\\\\transaction\\\\hover\\\\country\\\\india\\\\state\\\\haryana\\\\2019', 'C:/Users/Vishaal Grizzly/pulse\\\\pulse\\\\data\\\\map\\\\transaction\\\\hover\\\\country\\\\india\\\\state\\\\haryana\\\\2020', 'C:/Users/Vishaal Grizzly/pulse\\\\pulse\\\\data\\\\map\\\\transaction\\\\hover\\\\country\\\\india\\\\state\\\\haryana\\\\2021', 'C:/Users/Vishaal Grizzly/pulse\\\\pulse\\\\data\\\\map\\\\transaction\\\\hover\\\\country\\\\india\\\\state\\\\haryana\\\\2022', 'C:/Users/Vishaal Grizzly/pulse\\\\pulse\\\\data\\\\map\\\\transaction\\\\hover\\\\country\\\\india\\\\state\\\\himachal-pradesh\\\\2018', 'C:/Users/Vishaal Grizzly/pulse\\\\pulse\\\\data\\\\map\\\\transaction\\\\hover\\\\country\\\\india\\\\state\\\\himachal-pradesh\\\\2019', 'C:/Users/Vishaal Grizzly/pulse\\\\pulse\\\\data\\\\map\\\\transaction\\\\hover\\\\country\\\\india\\\\state\\\\himachal-pradesh\\\\2020', 'C:/Users/Vishaal Grizzly/pulse\\\\pulse\\\\data\\\\map\\\\transaction\\\\hover\\\\country\\\\india\\\\state\\\\himachal-pradesh\\\\2021', 'C:/Users/Vishaal Grizzly/pulse\\\\pulse\\\\data\\\\map\\\\transaction\\\\hover\\\\country\\\\india\\\\state\\\\himachal-pradesh\\\\2022', 'C:/Users/Vishaal Grizzly/pulse\\\\pulse\\\\data\\\\map\\\\transaction\\\\hover\\\\country\\\\india\\\\state\\\\jammu-&-kashmir\\\\2018', 'C:/Users/Vishaal Grizzly/pulse\\\\pulse\\\\data\\\\map\\\\transaction\\\\hover\\\\country\\\\india\\\\state\\\\jammu-&-kashmir\\\\2019', 'C:/Users/Vishaal Grizzly/pulse\\\\pulse\\\\data\\\\map\\\\transaction\\\\hover\\\\country\\\\india\\\\state\\\\jammu-&-kashmir\\\\2020', 'C:/Users/Vishaal Grizzly/pulse\\\\pulse\\\\data\\\\map\\\\transaction\\\\hover\\\\country\\\\india\\\\state\\\\jammu-&-kashmir\\\\2021', 'C:/Users/Vishaal Grizzly/pulse\\\\pulse\\\\data\\\\map\\\\transaction\\\\hover\\\\country\\\\india\\\\state\\\\jammu-&-kashmir\\\\2022', 'C:/Users/Vishaal Grizzly/pulse\\\\pulse\\\\data\\\\map\\\\transaction\\\\hover\\\\country\\\\india\\\\state\\\\jharkhand\\\\2018', 'C:/Users/Vishaal Grizzly/pulse\\\\pulse\\\\data\\\\map\\\\transaction\\\\hover\\\\country\\\\india\\\\state\\\\jharkhand\\\\2019', 'C:/Users/Vishaal Grizzly/pulse\\\\pulse\\\\data\\\\map\\\\transaction\\\\hover\\\\country\\\\india\\\\state\\\\jharkhand\\\\2020', 'C:/Users/Vishaal Grizzly/pulse\\\\pulse\\\\data\\\\map\\\\transaction\\\\hover\\\\country\\\\india\\\\state\\\\jharkhand\\\\2021', 'C:/Users/Vishaal Grizzly/pulse\\\\pulse\\\\data\\\\map\\\\transaction\\\\hover\\\\country\\\\india\\\\state\\\\jharkhand\\\\2022', 'C:/Users/Vishaal Grizzly/pulse\\\\pulse\\\\data\\\\map\\\\transaction\\\\hover\\\\country\\\\india\\\\state\\\\karnataka\\\\2018', 'C:/Users/Vishaal Grizzly/pulse\\\\pulse\\\\data\\\\map\\\\transaction\\\\hover\\\\country\\\\india\\\\state\\\\karnataka\\\\2019', 'C:/Users/Vishaal Grizzly/pulse\\\\pulse\\\\data\\\\map\\\\transaction\\\\hover\\\\country\\\\india\\\\state\\\\karnataka\\\\2020', 'C:/Users/Vishaal Grizzly/pulse\\\\pulse\\\\data\\\\map\\\\transaction\\\\hover\\\\country\\\\india\\\\state\\\\karnataka\\\\2021', 'C:/Users/Vishaal Grizzly/pulse\\\\pulse\\\\data\\\\map\\\\transaction\\\\hover\\\\country\\\\india\\\\state\\\\karnataka\\\\2022', 'C:/Users/Vishaal Grizzly/pulse\\\\pulse\\\\data\\\\map\\\\transaction\\\\hover\\\\country\\\\india\\\\state\\\\kerala\\\\2018', 'C:/Users/Vishaal Grizzly/pulse\\\\pulse\\\\data\\\\map\\\\transaction\\\\hover\\\\country\\\\india\\\\state\\\\kerala\\\\2019', 'C:/Users/Vishaal Grizzly/pulse\\\\pulse\\\\data\\\\map\\\\transaction\\\\hover\\\\country\\\\india\\\\state\\\\kerala\\\\2020', 'C:/Users/Vishaal Grizzly/pulse\\\\pulse\\\\data\\\\map\\\\transaction\\\\hover\\\\country\\\\india\\\\state\\\\kerala\\\\2021', 'C:/Users/Vishaal Grizzly/pulse\\\\pulse\\\\data\\\\map\\\\transaction\\\\hover\\\\country\\\\india\\\\state\\\\kerala\\\\2022', 'C:/Users/Vishaal Grizzly/pulse\\\\pulse\\\\data\\\\map\\\\transaction\\\\hover\\\\country\\\\india\\\\state\\\\ladakh\\\\2018', 'C:/Users/Vishaal Grizzly/pulse\\\\pulse\\\\data\\\\map\\\\transaction\\\\hover\\\\country\\\\india\\\\state\\\\ladakh\\\\2019', 'C:/Users/Vishaal Grizzly/pulse\\\\pulse\\\\data\\\\map\\\\transaction\\\\hover\\\\country\\\\india\\\\state\\\\ladakh\\\\2020', 'C:/Users/Vishaal Grizzly/pulse\\\\pulse\\\\data\\\\map\\\\transaction\\\\hover\\\\country\\\\india\\\\state\\\\ladakh\\\\2021', 'C:/Users/Vishaal Grizzly/pulse\\\\pulse\\\\data\\\\map\\\\transaction\\\\hover\\\\country\\\\india\\\\state\\\\ladakh\\\\2022', 'C:/Users/Vishaal Grizzly/pulse\\\\pulse\\\\data\\\\map\\\\transaction\\\\hover\\\\country\\\\india\\\\state\\\\lakshadweep\\\\2018', 'C:/Users/Vishaal Grizzly/pulse\\\\pulse\\\\data\\\\map\\\\transaction\\\\hover\\\\country\\\\india\\\\state\\\\lakshadweep\\\\2019', 'C:/Users/Vishaal Grizzly/pulse\\\\pulse\\\\data\\\\map\\\\transaction\\\\hover\\\\country\\\\india\\\\state\\\\lakshadweep\\\\2020', 'C:/Users/Vishaal Grizzly/pulse\\\\pulse\\\\data\\\\map\\\\transaction\\\\hover\\\\country\\\\india\\\\state\\\\lakshadweep\\\\2021', 'C:/Users/Vishaal Grizzly/pulse\\\\pulse\\\\data\\\\map\\\\transaction\\\\hover\\\\country\\\\india\\\\state\\\\lakshadweep\\\\2022', 'C:/Users/Vishaal Grizzly/pulse\\\\pulse\\\\data\\\\map\\\\transaction\\\\hover\\\\country\\\\india\\\\state\\\\madhya-pradesh\\\\2018', 'C:/Users/Vishaal Grizzly/pulse\\\\pulse\\\\data\\\\map\\\\transaction\\\\hover\\\\country\\\\india\\\\state\\\\madhya-pradesh\\\\2019', 'C:/Users/Vishaal Grizzly/pulse\\\\pulse\\\\data\\\\map\\\\transaction\\\\hover\\\\country\\\\india\\\\state\\\\madhya-pradesh\\\\2020', 'C:/Users/Vishaal Grizzly/pulse\\\\pulse\\\\data\\\\map\\\\transaction\\\\hover\\\\country\\\\india\\\\state\\\\madhya-pradesh\\\\2021', 'C:/Users/Vishaal Grizzly/pulse\\\\pulse\\\\data\\\\map\\\\transaction\\\\hover\\\\country\\\\india\\\\state\\\\madhya-pradesh\\\\2022', 'C:/Users/Vishaal Grizzly/pulse\\\\pulse\\\\data\\\\map\\\\transaction\\\\hover\\\\country\\\\india\\\\state\\\\maharashtra\\\\2018', 'C:/Users/Vishaal Grizzly/pulse\\\\pulse\\\\data\\\\map\\\\transaction\\\\hover\\\\country\\\\india\\\\state\\\\maharashtra\\\\2019', 'C:/Users/Vishaal Grizzly/pulse\\\\pulse\\\\data\\\\map\\\\transaction\\\\hover\\\\country\\\\india\\\\state\\\\maharashtra\\\\2020', 'C:/Users/Vishaal Grizzly/pulse\\\\pulse\\\\data\\\\map\\\\transaction\\\\hover\\\\country\\\\india\\\\state\\\\maharashtra\\\\2021', 'C:/Users/Vishaal Grizzly/pulse\\\\pulse\\\\data\\\\map\\\\transaction\\\\hover\\\\country\\\\india\\\\state\\\\maharashtra\\\\2022', 'C:/Users/Vishaal Grizzly/pulse\\\\pulse\\\\data\\\\map\\\\transaction\\\\hover\\\\country\\\\india\\\\state\\\\manipur\\\\2018', 'C:/Users/Vishaal Grizzly/pulse\\\\pulse\\\\data\\\\map\\\\transaction\\\\hover\\\\country\\\\india\\\\state\\\\manipur\\\\2019', 'C:/Users/Vishaal Grizzly/pulse\\\\pulse\\\\data\\\\map\\\\transaction\\\\hover\\\\country\\\\india\\\\state\\\\manipur\\\\2020', 'C:/Users/Vishaal Grizzly/pulse\\\\pulse\\\\data\\\\map\\\\transaction\\\\hover\\\\country\\\\india\\\\state\\\\manipur\\\\2021', 'C:/Users/Vishaal Grizzly/pulse\\\\pulse\\\\data\\\\map\\\\transaction\\\\hover\\\\country\\\\india\\\\state\\\\manipur\\\\2022', 'C:/Users/Vishaal Grizzly/pulse\\\\pulse\\\\data\\\\map\\\\transaction\\\\hover\\\\country\\\\india\\\\state\\\\meghalaya\\\\2018', 'C:/Users/Vishaal Grizzly/pulse\\\\pulse\\\\data\\\\map\\\\transaction\\\\hover\\\\country\\\\india\\\\state\\\\meghalaya\\\\2019', 'C:/Users/Vishaal Grizzly/pulse\\\\pulse\\\\data\\\\map\\\\transaction\\\\hover\\\\country\\\\india\\\\state\\\\meghalaya\\\\2020', 'C:/Users/Vishaal Grizzly/pulse\\\\pulse\\\\data\\\\map\\\\transaction\\\\hover\\\\country\\\\india\\\\state\\\\meghalaya\\\\2021', 'C:/Users/Vishaal Grizzly/pulse\\\\pulse\\\\data\\\\map\\\\transaction\\\\hover\\\\country\\\\india\\\\state\\\\meghalaya\\\\2022', 'C:/Users/Vishaal Grizzly/pulse\\\\pulse\\\\data\\\\map\\\\transaction\\\\hover\\\\country\\\\india\\\\state\\\\mizoram\\\\2018', 'C:/Users/Vishaal Grizzly/pulse\\\\pulse\\\\data\\\\map\\\\transaction\\\\hover\\\\country\\\\india\\\\state\\\\mizoram\\\\2019', 'C:/Users/Vishaal Grizzly/pulse\\\\pulse\\\\data\\\\map\\\\transaction\\\\hover\\\\country\\\\india\\\\state\\\\mizoram\\\\2020', 'C:/Users/Vishaal Grizzly/pulse\\\\pulse\\\\data\\\\map\\\\transaction\\\\hover\\\\country\\\\india\\\\state\\\\mizoram\\\\2021', 'C:/Users/Vishaal Grizzly/pulse\\\\pulse\\\\data\\\\map\\\\transaction\\\\hover\\\\country\\\\india\\\\state\\\\mizoram\\\\2022', 'C:/Users/Vishaal Grizzly/pulse\\\\pulse\\\\data\\\\map\\\\transaction\\\\hover\\\\country\\\\india\\\\state\\\\nagaland\\\\2018', 'C:/Users/Vishaal Grizzly/pulse\\\\pulse\\\\data\\\\map\\\\transaction\\\\hover\\\\country\\\\india\\\\state\\\\nagaland\\\\2019', 'C:/Users/Vishaal Grizzly/pulse\\\\pulse\\\\data\\\\map\\\\transaction\\\\hover\\\\country\\\\india\\\\state\\\\nagaland\\\\2020', 'C:/Users/Vishaal Grizzly/pulse\\\\pulse\\\\data\\\\map\\\\transaction\\\\hover\\\\country\\\\india\\\\state\\\\nagaland\\\\2021', 'C:/Users/Vishaal Grizzly/pulse\\\\pulse\\\\data\\\\map\\\\transaction\\\\hover\\\\country\\\\india\\\\state\\\\nagaland\\\\2022', 'C:/Users/Vishaal Grizzly/pulse\\\\pulse\\\\data\\\\map\\\\transaction\\\\hover\\\\country\\\\india\\\\state\\\\odisha\\\\2018', 'C:/Users/Vishaal Grizzly/pulse\\\\pulse\\\\data\\\\map\\\\transaction\\\\hover\\\\country\\\\india\\\\state\\\\odisha\\\\2019', 'C:/Users/Vishaal Grizzly/pulse\\\\pulse\\\\data\\\\map\\\\transaction\\\\hover\\\\country\\\\india\\\\state\\\\odisha\\\\2020', 'C:/Users/Vishaal Grizzly/pulse\\\\pulse\\\\data\\\\map\\\\transaction\\\\hover\\\\country\\\\india\\\\state\\\\odisha\\\\2021', 'C:/Users/Vishaal Grizzly/pulse\\\\pulse\\\\data\\\\map\\\\transaction\\\\hover\\\\country\\\\india\\\\state\\\\odisha\\\\2022', 'C:/Users/Vishaal Grizzly/pulse\\\\pulse\\\\data\\\\map\\\\transaction\\\\hover\\\\country\\\\india\\\\state\\\\puducherry\\\\2018', 'C:/Users/Vishaal Grizzly/pulse\\\\pulse\\\\data\\\\map\\\\transaction\\\\hover\\\\country\\\\india\\\\state\\\\puducherry\\\\2019', 'C:/Users/Vishaal Grizzly/pulse\\\\pulse\\\\data\\\\map\\\\transaction\\\\hover\\\\country\\\\india\\\\state\\\\puducherry\\\\2020', 'C:/Users/Vishaal Grizzly/pulse\\\\pulse\\\\data\\\\map\\\\transaction\\\\hover\\\\country\\\\india\\\\state\\\\puducherry\\\\2021', 'C:/Users/Vishaal Grizzly/pulse\\\\pulse\\\\data\\\\map\\\\transaction\\\\hover\\\\country\\\\india\\\\state\\\\puducherry\\\\2022', 'C:/Users/Vishaal Grizzly/pulse\\\\pulse\\\\data\\\\map\\\\transaction\\\\hover\\\\country\\\\india\\\\state\\\\punjab\\\\2018', 'C:/Users/Vishaal Grizzly/pulse\\\\pulse\\\\data\\\\map\\\\transaction\\\\hover\\\\country\\\\india\\\\state\\\\punjab\\\\2019', 'C:/Users/Vishaal Grizzly/pulse\\\\pulse\\\\data\\\\map\\\\transaction\\\\hover\\\\country\\\\india\\\\state\\\\punjab\\\\2020', 'C:/Users/Vishaal Grizzly/pulse\\\\pulse\\\\data\\\\map\\\\transaction\\\\hover\\\\country\\\\india\\\\state\\\\punjab\\\\2021', 'C:/Users/Vishaal Grizzly/pulse\\\\pulse\\\\data\\\\map\\\\transaction\\\\hover\\\\country\\\\india\\\\state\\\\punjab\\\\2022', 'C:/Users/Vishaal Grizzly/pulse\\\\pulse\\\\data\\\\map\\\\transaction\\\\hover\\\\country\\\\india\\\\state\\\\rajasthan\\\\2018', 'C:/Users/Vishaal Grizzly/pulse\\\\pulse\\\\data\\\\map\\\\transaction\\\\hover\\\\country\\\\india\\\\state\\\\rajasthan\\\\2019', 'C:/Users/Vishaal Grizzly/pulse\\\\pulse\\\\data\\\\map\\\\transaction\\\\hover\\\\country\\\\india\\\\state\\\\rajasthan\\\\2020', 'C:/Users/Vishaal Grizzly/pulse\\\\pulse\\\\data\\\\map\\\\transaction\\\\hover\\\\country\\\\india\\\\state\\\\rajasthan\\\\2021', 'C:/Users/Vishaal Grizzly/pulse\\\\pulse\\\\data\\\\map\\\\transaction\\\\hover\\\\country\\\\india\\\\state\\\\rajasthan\\\\2022', 'C:/Users/Vishaal Grizzly/pulse\\\\pulse\\\\data\\\\map\\\\transaction\\\\hover\\\\country\\\\india\\\\state\\\\sikkim\\\\2018', 'C:/Users/Vishaal Grizzly/pulse\\\\pulse\\\\data\\\\map\\\\transaction\\\\hover\\\\country\\\\india\\\\state\\\\sikkim\\\\2019', 'C:/Users/Vishaal Grizzly/pulse\\\\pulse\\\\data\\\\map\\\\transaction\\\\hover\\\\country\\\\india\\\\state\\\\sikkim\\\\2020', 'C:/Users/Vishaal Grizzly/pulse\\\\pulse\\\\data\\\\map\\\\transaction\\\\hover\\\\country\\\\india\\\\state\\\\sikkim\\\\2021', 'C:/Users/Vishaal Grizzly/pulse\\\\pulse\\\\data\\\\map\\\\transaction\\\\hover\\\\country\\\\india\\\\state\\\\sikkim\\\\2022', 'C:/Users/Vishaal Grizzly/pulse\\\\pulse\\\\data\\\\map\\\\transaction\\\\hover\\\\country\\\\india\\\\state\\\\tamil-nadu\\\\2018', 'C:/Users/Vishaal Grizzly/pulse\\\\pulse\\\\data\\\\map\\\\transaction\\\\hover\\\\country\\\\india\\\\state\\\\tamil-nadu\\\\2019', 'C:/Users/Vishaal Grizzly/pulse\\\\pulse\\\\data\\\\map\\\\transaction\\\\hover\\\\country\\\\india\\\\state\\\\tamil-nadu\\\\2020', 'C:/Users/Vishaal Grizzly/pulse\\\\pulse\\\\data\\\\map\\\\transaction\\\\hover\\\\country\\\\india\\\\state\\\\tamil-nadu\\\\2021', 'C:/Users/Vishaal Grizzly/pulse\\\\pulse\\\\data\\\\map\\\\transaction\\\\hover\\\\country\\\\india\\\\state\\\\tamil-nadu\\\\2022', 'C:/Users/Vishaal Grizzly/pulse\\\\pulse\\\\data\\\\map\\\\transaction\\\\hover\\\\country\\\\india\\\\state\\\\telangana\\\\2018', 'C:/Users/Vishaal Grizzly/pulse\\\\pulse\\\\data\\\\map\\\\transaction\\\\hover\\\\country\\\\india\\\\state\\\\telangana\\\\2019', 'C:/Users/Vishaal Grizzly/pulse\\\\pulse\\\\data\\\\map\\\\transaction\\\\hover\\\\country\\\\india\\\\state\\\\telangana\\\\2020', 'C:/Users/Vishaal Grizzly/pulse\\\\pulse\\\\data\\\\map\\\\transaction\\\\hover\\\\country\\\\india\\\\state\\\\telangana\\\\2021', 'C:/Users/Vishaal Grizzly/pulse\\\\pulse\\\\data\\\\map\\\\transaction\\\\hover\\\\country\\\\india\\\\state\\\\telangana\\\\2022', 'C:/Users/Vishaal Grizzly/pulse\\\\pulse\\\\data\\\\map\\\\transaction\\\\hover\\\\country\\\\india\\\\state\\\\tripura\\\\2018', 'C:/Users/Vishaal Grizzly/pulse\\\\pulse\\\\data\\\\map\\\\transaction\\\\hover\\\\country\\\\india\\\\state\\\\tripura\\\\2019', 'C:/Users/Vishaal Grizzly/pulse\\\\pulse\\\\data\\\\map\\\\transaction\\\\hover\\\\country\\\\india\\\\state\\\\tripura\\\\2020', 'C:/Users/Vishaal Grizzly/pulse\\\\pulse\\\\data\\\\map\\\\transaction\\\\hover\\\\country\\\\india\\\\state\\\\tripura\\\\2021', 'C:/Users/Vishaal Grizzly/pulse\\\\pulse\\\\data\\\\map\\\\transaction\\\\hover\\\\country\\\\india\\\\state\\\\tripura\\\\2022', 'C:/Users/Vishaal Grizzly/pulse\\\\pulse\\\\data\\\\map\\\\transaction\\\\hover\\\\country\\\\india\\\\state\\\\uttar-pradesh\\\\2018', 'C:/Users/Vishaal Grizzly/pulse\\\\pulse\\\\data\\\\map\\\\transaction\\\\hover\\\\country\\\\india\\\\state\\\\uttar-pradesh\\\\2019', 'C:/Users/Vishaal Grizzly/pulse\\\\pulse\\\\data\\\\map\\\\transaction\\\\hover\\\\country\\\\india\\\\state\\\\uttar-pradesh\\\\2020', 'C:/Users/Vishaal Grizzly/pulse\\\\pulse\\\\data\\\\map\\\\transaction\\\\hover\\\\country\\\\india\\\\state\\\\uttar-pradesh\\\\2021', 'C:/Users/Vishaal Grizzly/pulse\\\\pulse\\\\data\\\\map\\\\transaction\\\\hover\\\\country\\\\india\\\\state\\\\uttar-pradesh\\\\2022', 'C:/Users/Vishaal Grizzly/pulse\\\\pulse\\\\data\\\\map\\\\transaction\\\\hover\\\\country\\\\india\\\\state\\\\uttarakhand\\\\2018', 'C:/Users/Vishaal Grizzly/pulse\\\\pulse\\\\data\\\\map\\\\transaction\\\\hover\\\\country\\\\india\\\\state\\\\uttarakhand\\\\2019', 'C:/Users/Vishaal Grizzly/pulse\\\\pulse\\\\data\\\\map\\\\transaction\\\\hover\\\\country\\\\india\\\\state\\\\uttarakhand\\\\2020', 'C:/Users/Vishaal Grizzly/pulse\\\\pulse\\\\data\\\\map\\\\transaction\\\\hover\\\\country\\\\india\\\\state\\\\uttarakhand\\\\2021', 'C:/Users/Vishaal Grizzly/pulse\\\\pulse\\\\data\\\\map\\\\transaction\\\\hover\\\\country\\\\india\\\\state\\\\uttarakhand\\\\2022', 'C:/Users/Vishaal Grizzly/pulse\\\\pulse\\\\data\\\\map\\\\transaction\\\\hover\\\\country\\\\india\\\\state\\\\west-bengal\\\\2018', 'C:/Users/Vishaal Grizzly/pulse\\\\pulse\\\\data\\\\map\\\\transaction\\\\hover\\\\country\\\\india\\\\state\\\\west-bengal\\\\2019', 'C:/Users/Vishaal Grizzly/pulse\\\\pulse\\\\data\\\\map\\\\transaction\\\\hover\\\\country\\\\india\\\\state\\\\west-bengal\\\\2020', 'C:/Users/Vishaal Grizzly/pulse\\\\pulse\\\\data\\\\map\\\\transaction\\\\hover\\\\country\\\\india\\\\state\\\\west-bengal\\\\2021', 'C:/Users/Vishaal Grizzly/pulse\\\\pulse\\\\data\\\\map\\\\transaction\\\\hover\\\\country\\\\india\\\\state\\\\west-bengal\\\\2022', 'C:/Users/Vishaal Grizzly/pulse\\\\pulse\\\\data\\\\map\\\\user\\\\hover', 'C:/Users/Vishaal Grizzly/pulse\\\\pulse\\\\data\\\\map\\\\user\\\\hover\\\\country', 'C:/Users/Vishaal Grizzly/pulse\\\\pulse\\\\data\\\\map\\\\user\\\\hover\\\\country\\\\india', 'C:/Users/Vishaal Grizzly/pulse\\\\pulse\\\\data\\\\map\\\\user\\\\hover\\\\country\\\\india\\\\2018', 'C:/Users/Vishaal Grizzly/pulse\\\\pulse\\\\data\\\\map\\\\user\\\\hover\\\\country\\\\india\\\\2019', 'C:/Users/Vishaal Grizzly/pulse\\\\pulse\\\\data\\\\map\\\\user\\\\hover\\\\country\\\\india\\\\2020', 'C:/Users/Vishaal Grizzly/pulse\\\\pulse\\\\data\\\\map\\\\user\\\\hover\\\\country\\\\india\\\\2021', 'C:/Users/Vishaal Grizzly/pulse\\\\pulse\\\\data\\\\map\\\\user\\\\hover\\\\country\\\\india\\\\2022', 'C:/Users/Vishaal Grizzly/pulse\\\\pulse\\\\data\\\\map\\\\user\\\\hover\\\\country\\\\india\\\\state', 'C:/Users/Vishaal Grizzly/pulse\\\\pulse\\\\data\\\\map\\\\user\\\\hover\\\\country\\\\india\\\\state\\\\andaman-&-nicobar-islands', 'C:/Users/Vishaal Grizzly/pulse\\\\pulse\\\\data\\\\map\\\\user\\\\hover\\\\country\\\\india\\\\state\\\\andhra-pradesh', 'C:/Users/Vishaal Grizzly/pulse\\\\pulse\\\\data\\\\map\\\\user\\\\hover\\\\country\\\\india\\\\state\\\\arunachal-pradesh', 'C:/Users/Vishaal Grizzly/pulse\\\\pulse\\\\data\\\\map\\\\user\\\\hover\\\\country\\\\india\\\\state\\\\assam', 'C:/Users/Vishaal Grizzly/pulse\\\\pulse\\\\data\\\\map\\\\user\\\\hover\\\\country\\\\india\\\\state\\\\bihar', 'C:/Users/Vishaal Grizzly/pulse\\\\pulse\\\\data\\\\map\\\\user\\\\hover\\\\country\\\\india\\\\state\\\\chandigarh', 'C:/Users/Vishaal Grizzly/pulse\\\\pulse\\\\data\\\\map\\\\user\\\\hover\\\\country\\\\india\\\\state\\\\chhattisgarh', 'C:/Users/Vishaal Grizzly/pulse\\\\pulse\\\\data\\\\map\\\\user\\\\hover\\\\country\\\\india\\\\state\\\\dadra-&-nagar-haveli-&-daman-&-diu', 'C:/Users/Vishaal Grizzly/pulse\\\\pulse\\\\data\\\\map\\\\user\\\\hover\\\\country\\\\india\\\\state\\\\delhi', 'C:/Users/Vishaal Grizzly/pulse\\\\pulse\\\\data\\\\map\\\\user\\\\hover\\\\country\\\\india\\\\state\\\\goa', 'C:/Users/Vishaal Grizzly/pulse\\\\pulse\\\\data\\\\map\\\\user\\\\hover\\\\country\\\\india\\\\state\\\\gujarat', 'C:/Users/Vishaal Grizzly/pulse\\\\pulse\\\\data\\\\map\\\\user\\\\hover\\\\country\\\\india\\\\state\\\\haryana', 'C:/Users/Vishaal Grizzly/pulse\\\\pulse\\\\data\\\\map\\\\user\\\\hover\\\\country\\\\india\\\\state\\\\himachal-pradesh', 'C:/Users/Vishaal Grizzly/pulse\\\\pulse\\\\data\\\\map\\\\user\\\\hover\\\\country\\\\india\\\\state\\\\jammu-&-kashmir', 'C:/Users/Vishaal Grizzly/pulse\\\\pulse\\\\data\\\\map\\\\user\\\\hover\\\\country\\\\india\\\\state\\\\jharkhand', 'C:/Users/Vishaal Grizzly/pulse\\\\pulse\\\\data\\\\map\\\\user\\\\hover\\\\country\\\\india\\\\state\\\\karnataka', 'C:/Users/Vishaal Grizzly/pulse\\\\pulse\\\\data\\\\map\\\\user\\\\hover\\\\country\\\\india\\\\state\\\\kerala', 'C:/Users/Vishaal Grizzly/pulse\\\\pulse\\\\data\\\\map\\\\user\\\\hover\\\\country\\\\india\\\\state\\\\ladakh', 'C:/Users/Vishaal Grizzly/pulse\\\\pulse\\\\data\\\\map\\\\user\\\\hover\\\\country\\\\india\\\\state\\\\lakshadweep', 'C:/Users/Vishaal Grizzly/pulse\\\\pulse\\\\data\\\\map\\\\user\\\\hover\\\\country\\\\india\\\\state\\\\madhya-pradesh', 'C:/Users/Vishaal Grizzly/pulse\\\\pulse\\\\data\\\\map\\\\user\\\\hover\\\\country\\\\india\\\\state\\\\maharashtra', 'C:/Users/Vishaal Grizzly/pulse\\\\pulse\\\\data\\\\map\\\\user\\\\hover\\\\country\\\\india\\\\state\\\\manipur', 'C:/Users/Vishaal Grizzly/pulse\\\\pulse\\\\data\\\\map\\\\user\\\\hover\\\\country\\\\india\\\\state\\\\meghalaya', 'C:/Users/Vishaal Grizzly/pulse\\\\pulse\\\\data\\\\map\\\\user\\\\hover\\\\country\\\\india\\\\state\\\\mizoram', 'C:/Users/Vishaal Grizzly/pulse\\\\pulse\\\\data\\\\map\\\\user\\\\hover\\\\country\\\\india\\\\state\\\\nagaland', 'C:/Users/Vishaal Grizzly/pulse\\\\pulse\\\\data\\\\map\\\\user\\\\hover\\\\country\\\\india\\\\state\\\\odisha', 'C:/Users/Vishaal Grizzly/pulse\\\\pulse\\\\data\\\\map\\\\user\\\\hover\\\\country\\\\india\\\\state\\\\puducherry', 'C:/Users/Vishaal Grizzly/pulse\\\\pulse\\\\data\\\\map\\\\user\\\\hover\\\\country\\\\india\\\\state\\\\punjab', 'C:/Users/Vishaal Grizzly/pulse\\\\pulse\\\\data\\\\map\\\\user\\\\hover\\\\country\\\\india\\\\state\\\\rajasthan', 'C:/Users/Vishaal Grizzly/pulse\\\\pulse\\\\data\\\\map\\\\user\\\\hover\\\\country\\\\india\\\\state\\\\sikkim', 'C:/Users/Vishaal Grizzly/pulse\\\\pulse\\\\data\\\\map\\\\user\\\\hover\\\\country\\\\india\\\\state\\\\tamil-nadu', 'C:/Users/Vishaal Grizzly/pulse\\\\pulse\\\\data\\\\map\\\\user\\\\hover\\\\country\\\\india\\\\state\\\\telangana', 'C:/Users/Vishaal Grizzly/pulse\\\\pulse\\\\data\\\\map\\\\user\\\\hover\\\\country\\\\india\\\\state\\\\tripura', 'C:/Users/Vishaal Grizzly/pulse\\\\pulse\\\\data\\\\map\\\\user\\\\hover\\\\country\\\\india\\\\state\\\\uttar-pradesh', 'C:/Users/Vishaal Grizzly/pulse\\\\pulse\\\\data\\\\map\\\\user\\\\hover\\\\country\\\\india\\\\state\\\\uttarakhand', 'C:/Users/Vishaal Grizzly/pulse\\\\pulse\\\\data\\\\map\\\\user\\\\hover\\\\country\\\\india\\\\state\\\\west-bengal', 'C:/Users/Vishaal Grizzly/pulse\\\\pulse\\\\data\\\\map\\\\user\\\\hover\\\\country\\\\india\\\\state\\\\andaman-&-nicobar-islands\\\\2018', 'C:/Users/Vishaal Grizzly/pulse\\\\pulse\\\\data\\\\map\\\\user\\\\hover\\\\country\\\\india\\\\state\\\\andaman-&-nicobar-islands\\\\2019', 'C:/Users/Vishaal Grizzly/pulse\\\\pulse\\\\data\\\\map\\\\user\\\\hover\\\\country\\\\india\\\\state\\\\andaman-&-nicobar-islands\\\\2020', 'C:/Users/Vishaal Grizzly/pulse\\\\pulse\\\\data\\\\map\\\\user\\\\hover\\\\country\\\\india\\\\state\\\\andaman-&-nicobar-islands\\\\2021', 'C:/Users/Vishaal Grizzly/pulse\\\\pulse\\\\data\\\\map\\\\user\\\\hover\\\\country\\\\india\\\\state\\\\andaman-&-nicobar-islands\\\\2022', 'C:/Users/Vishaal Grizzly/pulse\\\\pulse\\\\data\\\\map\\\\user\\\\hover\\\\country\\\\india\\\\state\\\\andhra-pradesh\\\\2018', 'C:/Users/Vishaal Grizzly/pulse\\\\pulse\\\\data\\\\map\\\\user\\\\hover\\\\country\\\\india\\\\state\\\\andhra-pradesh\\\\2019', 'C:/Users/Vishaal Grizzly/pulse\\\\pulse\\\\data\\\\map\\\\user\\\\hover\\\\country\\\\india\\\\state\\\\andhra-pradesh\\\\2020', 'C:/Users/Vishaal Grizzly/pulse\\\\pulse\\\\data\\\\map\\\\user\\\\hover\\\\country\\\\india\\\\state\\\\andhra-pradesh\\\\2021', 'C:/Users/Vishaal Grizzly/pulse\\\\pulse\\\\data\\\\map\\\\user\\\\hover\\\\country\\\\india\\\\state\\\\andhra-pradesh\\\\2022', 'C:/Users/Vishaal Grizzly/pulse\\\\pulse\\\\data\\\\map\\\\user\\\\hover\\\\country\\\\india\\\\state\\\\arunachal-pradesh\\\\2018', 'C:/Users/Vishaal Grizzly/pulse\\\\pulse\\\\data\\\\map\\\\user\\\\hover\\\\country\\\\india\\\\state\\\\arunachal-pradesh\\\\2019', 'C:/Users/Vishaal Grizzly/pulse\\\\pulse\\\\data\\\\map\\\\user\\\\hover\\\\country\\\\india\\\\state\\\\arunachal-pradesh\\\\2020', 'C:/Users/Vishaal Grizzly/pulse\\\\pulse\\\\data\\\\map\\\\user\\\\hover\\\\country\\\\india\\\\state\\\\arunachal-pradesh\\\\2021', 'C:/Users/Vishaal Grizzly/pulse\\\\pulse\\\\data\\\\map\\\\user\\\\hover\\\\country\\\\india\\\\state\\\\arunachal-pradesh\\\\2022', 'C:/Users/Vishaal Grizzly/pulse\\\\pulse\\\\data\\\\map\\\\user\\\\hover\\\\country\\\\india\\\\state\\\\assam\\\\2018', 'C:/Users/Vishaal Grizzly/pulse\\\\pulse\\\\data\\\\map\\\\user\\\\hover\\\\country\\\\india\\\\state\\\\assam\\\\2019', 'C:/Users/Vishaal Grizzly/pulse\\\\pulse\\\\data\\\\map\\\\user\\\\hover\\\\country\\\\india\\\\state\\\\assam\\\\2020', 'C:/Users/Vishaal Grizzly/pulse\\\\pulse\\\\data\\\\map\\\\user\\\\hover\\\\country\\\\india\\\\state\\\\assam\\\\2021', 'C:/Users/Vishaal Grizzly/pulse\\\\pulse\\\\data\\\\map\\\\user\\\\hover\\\\country\\\\india\\\\state\\\\assam\\\\2022', 'C:/Users/Vishaal Grizzly/pulse\\\\pulse\\\\data\\\\map\\\\user\\\\hover\\\\country\\\\india\\\\state\\\\bihar\\\\2018', 'C:/Users/Vishaal Grizzly/pulse\\\\pulse\\\\data\\\\map\\\\user\\\\hover\\\\country\\\\india\\\\state\\\\bihar\\\\2019', 'C:/Users/Vishaal Grizzly/pulse\\\\pulse\\\\data\\\\map\\\\user\\\\hover\\\\country\\\\india\\\\state\\\\bihar\\\\2020', 'C:/Users/Vishaal Grizzly/pulse\\\\pulse\\\\data\\\\map\\\\user\\\\hover\\\\country\\\\india\\\\state\\\\bihar\\\\2021', 'C:/Users/Vishaal Grizzly/pulse\\\\pulse\\\\data\\\\map\\\\user\\\\hover\\\\country\\\\india\\\\state\\\\bihar\\\\2022', 'C:/Users/Vishaal Grizzly/pulse\\\\pulse\\\\data\\\\map\\\\user\\\\hover\\\\country\\\\india\\\\state\\\\chandigarh\\\\2018', 'C:/Users/Vishaal Grizzly/pulse\\\\pulse\\\\data\\\\map\\\\user\\\\hover\\\\country\\\\india\\\\state\\\\chandigarh\\\\2019', 'C:/Users/Vishaal Grizzly/pulse\\\\pulse\\\\data\\\\map\\\\user\\\\hover\\\\country\\\\india\\\\state\\\\chandigarh\\\\2020', 'C:/Users/Vishaal Grizzly/pulse\\\\pulse\\\\data\\\\map\\\\user\\\\hover\\\\country\\\\india\\\\state\\\\chandigarh\\\\2021', 'C:/Users/Vishaal Grizzly/pulse\\\\pulse\\\\data\\\\map\\\\user\\\\hover\\\\country\\\\india\\\\state\\\\chandigarh\\\\2022', 'C:/Users/Vishaal Grizzly/pulse\\\\pulse\\\\data\\\\map\\\\user\\\\hover\\\\country\\\\india\\\\state\\\\chhattisgarh\\\\2018', 'C:/Users/Vishaal Grizzly/pulse\\\\pulse\\\\data\\\\map\\\\user\\\\hover\\\\country\\\\india\\\\state\\\\chhattisgarh\\\\2019', 'C:/Users/Vishaal Grizzly/pulse\\\\pulse\\\\data\\\\map\\\\user\\\\hover\\\\country\\\\india\\\\state\\\\chhattisgarh\\\\2020', 'C:/Users/Vishaal Grizzly/pulse\\\\pulse\\\\data\\\\map\\\\user\\\\hover\\\\country\\\\india\\\\state\\\\chhattisgarh\\\\2021', 'C:/Users/Vishaal Grizzly/pulse\\\\pulse\\\\data\\\\map\\\\user\\\\hover\\\\country\\\\india\\\\state\\\\chhattisgarh\\\\2022', 'C:/Users/Vishaal Grizzly/pulse\\\\pulse\\\\data\\\\map\\\\user\\\\hover\\\\country\\\\india\\\\state\\\\dadra-&-nagar-haveli-&-daman-&-diu\\\\2018', 'C:/Users/Vishaal Grizzly/pulse\\\\pulse\\\\data\\\\map\\\\user\\\\hover\\\\country\\\\india\\\\state\\\\dadra-&-nagar-haveli-&-daman-&-diu\\\\2019', 'C:/Users/Vishaal Grizzly/pulse\\\\pulse\\\\data\\\\map\\\\user\\\\hover\\\\country\\\\india\\\\state\\\\dadra-&-nagar-haveli-&-daman-&-diu\\\\2020', 'C:/Users/Vishaal Grizzly/pulse\\\\pulse\\\\data\\\\map\\\\user\\\\hover\\\\country\\\\india\\\\state\\\\dadra-&-nagar-haveli-&-daman-&-diu\\\\2021', 'C:/Users/Vishaal Grizzly/pulse\\\\pulse\\\\data\\\\map\\\\user\\\\hover\\\\country\\\\india\\\\state\\\\dadra-&-nagar-haveli-&-daman-&-diu\\\\2022', 'C:/Users/Vishaal Grizzly/pulse\\\\pulse\\\\data\\\\map\\\\user\\\\hover\\\\country\\\\india\\\\state\\\\delhi\\\\2018', 'C:/Users/Vishaal Grizzly/pulse\\\\pulse\\\\data\\\\map\\\\user\\\\hover\\\\country\\\\india\\\\state\\\\delhi\\\\2019', 'C:/Users/Vishaal Grizzly/pulse\\\\pulse\\\\data\\\\map\\\\user\\\\hover\\\\country\\\\india\\\\state\\\\delhi\\\\2020', 'C:/Users/Vishaal Grizzly/pulse\\\\pulse\\\\data\\\\map\\\\user\\\\hover\\\\country\\\\india\\\\state\\\\delhi\\\\2021', 'C:/Users/Vishaal Grizzly/pulse\\\\pulse\\\\data\\\\map\\\\user\\\\hover\\\\country\\\\india\\\\state\\\\delhi\\\\2022', 'C:/Users/Vishaal Grizzly/pulse\\\\pulse\\\\data\\\\map\\\\user\\\\hover\\\\country\\\\india\\\\state\\\\goa\\\\2018', 'C:/Users/Vishaal Grizzly/pulse\\\\pulse\\\\data\\\\map\\\\user\\\\hover\\\\country\\\\india\\\\state\\\\goa\\\\2019', 'C:/Users/Vishaal Grizzly/pulse\\\\pulse\\\\data\\\\map\\\\user\\\\hover\\\\country\\\\india\\\\state\\\\goa\\\\2020', 'C:/Users/Vishaal Grizzly/pulse\\\\pulse\\\\data\\\\map\\\\user\\\\hover\\\\country\\\\india\\\\state\\\\goa\\\\2021', 'C:/Users/Vishaal Grizzly/pulse\\\\pulse\\\\data\\\\map\\\\user\\\\hover\\\\country\\\\india\\\\state\\\\goa\\\\2022', 'C:/Users/Vishaal Grizzly/pulse\\\\pulse\\\\data\\\\map\\\\user\\\\hover\\\\country\\\\india\\\\state\\\\gujarat\\\\2018', 'C:/Users/Vishaal Grizzly/pulse\\\\pulse\\\\data\\\\map\\\\user\\\\hover\\\\country\\\\india\\\\state\\\\gujarat\\\\2019', 'C:/Users/Vishaal Grizzly/pulse\\\\pulse\\\\data\\\\map\\\\user\\\\hover\\\\country\\\\india\\\\state\\\\gujarat\\\\2020', 'C:/Users/Vishaal Grizzly/pulse\\\\pulse\\\\data\\\\map\\\\user\\\\hover\\\\country\\\\india\\\\state\\\\gujarat\\\\2021', 'C:/Users/Vishaal Grizzly/pulse\\\\pulse\\\\data\\\\map\\\\user\\\\hover\\\\country\\\\india\\\\state\\\\gujarat\\\\2022', 'C:/Users/Vishaal Grizzly/pulse\\\\pulse\\\\data\\\\map\\\\user\\\\hover\\\\country\\\\india\\\\state\\\\haryana\\\\2018', 'C:/Users/Vishaal Grizzly/pulse\\\\pulse\\\\data\\\\map\\\\user\\\\hover\\\\country\\\\india\\\\state\\\\haryana\\\\2019', 'C:/Users/Vishaal Grizzly/pulse\\\\pulse\\\\data\\\\map\\\\user\\\\hover\\\\country\\\\india\\\\state\\\\haryana\\\\2020', 'C:/Users/Vishaal Grizzly/pulse\\\\pulse\\\\data\\\\map\\\\user\\\\hover\\\\country\\\\india\\\\state\\\\haryana\\\\2021', 'C:/Users/Vishaal Grizzly/pulse\\\\pulse\\\\data\\\\map\\\\user\\\\hover\\\\country\\\\india\\\\state\\\\haryana\\\\2022', 'C:/Users/Vishaal Grizzly/pulse\\\\pulse\\\\data\\\\map\\\\user\\\\hover\\\\country\\\\india\\\\state\\\\himachal-pradesh\\\\2018', 'C:/Users/Vishaal Grizzly/pulse\\\\pulse\\\\data\\\\map\\\\user\\\\hover\\\\country\\\\india\\\\state\\\\himachal-pradesh\\\\2019', 'C:/Users/Vishaal Grizzly/pulse\\\\pulse\\\\data\\\\map\\\\user\\\\hover\\\\country\\\\india\\\\state\\\\himachal-pradesh\\\\2020', 'C:/Users/Vishaal Grizzly/pulse\\\\pulse\\\\data\\\\map\\\\user\\\\hover\\\\country\\\\india\\\\state\\\\himachal-pradesh\\\\2021', 'C:/Users/Vishaal Grizzly/pulse\\\\pulse\\\\data\\\\map\\\\user\\\\hover\\\\country\\\\india\\\\state\\\\himachal-pradesh\\\\2022', 'C:/Users/Vishaal Grizzly/pulse\\\\pulse\\\\data\\\\map\\\\user\\\\hover\\\\country\\\\india\\\\state\\\\jammu-&-kashmir\\\\2018', 'C:/Users/Vishaal Grizzly/pulse\\\\pulse\\\\data\\\\map\\\\user\\\\hover\\\\country\\\\india\\\\state\\\\jammu-&-kashmir\\\\2019', 'C:/Users/Vishaal Grizzly/pulse\\\\pulse\\\\data\\\\map\\\\user\\\\hover\\\\country\\\\india\\\\state\\\\jammu-&-kashmir\\\\2020', 'C:/Users/Vishaal Grizzly/pulse\\\\pulse\\\\data\\\\map\\\\user\\\\hover\\\\country\\\\india\\\\state\\\\jammu-&-kashmir\\\\2021', 'C:/Users/Vishaal Grizzly/pulse\\\\pulse\\\\data\\\\map\\\\user\\\\hover\\\\country\\\\india\\\\state\\\\jammu-&-kashmir\\\\2022', 'C:/Users/Vishaal Grizzly/pulse\\\\pulse\\\\data\\\\map\\\\user\\\\hover\\\\country\\\\india\\\\state\\\\jharkhand\\\\2018', 'C:/Users/Vishaal Grizzly/pulse\\\\pulse\\\\data\\\\map\\\\user\\\\hover\\\\country\\\\india\\\\state\\\\jharkhand\\\\2019', 'C:/Users/Vishaal Grizzly/pulse\\\\pulse\\\\data\\\\map\\\\user\\\\hover\\\\country\\\\india\\\\state\\\\jharkhand\\\\2020', 'C:/Users/Vishaal Grizzly/pulse\\\\pulse\\\\data\\\\map\\\\user\\\\hover\\\\country\\\\india\\\\state\\\\jharkhand\\\\2021', 'C:/Users/Vishaal Grizzly/pulse\\\\pulse\\\\data\\\\map\\\\user\\\\hover\\\\country\\\\india\\\\state\\\\jharkhand\\\\2022', 'C:/Users/Vishaal Grizzly/pulse\\\\pulse\\\\data\\\\map\\\\user\\\\hover\\\\country\\\\india\\\\state\\\\karnataka\\\\2018', 'C:/Users/Vishaal Grizzly/pulse\\\\pulse\\\\data\\\\map\\\\user\\\\hover\\\\country\\\\india\\\\state\\\\karnataka\\\\2019', 'C:/Users/Vishaal Grizzly/pulse\\\\pulse\\\\data\\\\map\\\\user\\\\hover\\\\country\\\\india\\\\state\\\\karnataka\\\\2020', 'C:/Users/Vishaal Grizzly/pulse\\\\pulse\\\\data\\\\map\\\\user\\\\hover\\\\country\\\\india\\\\state\\\\karnataka\\\\2021', 'C:/Users/Vishaal Grizzly/pulse\\\\pulse\\\\data\\\\map\\\\user\\\\hover\\\\country\\\\india\\\\state\\\\karnataka\\\\2022', 'C:/Users/Vishaal Grizzly/pulse\\\\pulse\\\\data\\\\map\\\\user\\\\hover\\\\country\\\\india\\\\state\\\\kerala\\\\2018', 'C:/Users/Vishaal Grizzly/pulse\\\\pulse\\\\data\\\\map\\\\user\\\\hover\\\\country\\\\india\\\\state\\\\kerala\\\\2019', 'C:/Users/Vishaal Grizzly/pulse\\\\pulse\\\\data\\\\map\\\\user\\\\hover\\\\country\\\\india\\\\state\\\\kerala\\\\2020', 'C:/Users/Vishaal Grizzly/pulse\\\\pulse\\\\data\\\\map\\\\user\\\\hover\\\\country\\\\india\\\\state\\\\kerala\\\\2021', 'C:/Users/Vishaal Grizzly/pulse\\\\pulse\\\\data\\\\map\\\\user\\\\hover\\\\country\\\\india\\\\state\\\\kerala\\\\2022', 'C:/Users/Vishaal Grizzly/pulse\\\\pulse\\\\data\\\\map\\\\user\\\\hover\\\\country\\\\india\\\\state\\\\ladakh\\\\2018', 'C:/Users/Vishaal Grizzly/pulse\\\\pulse\\\\data\\\\map\\\\user\\\\hover\\\\country\\\\india\\\\state\\\\ladakh\\\\2019', 'C:/Users/Vishaal Grizzly/pulse\\\\pulse\\\\data\\\\map\\\\user\\\\hover\\\\country\\\\india\\\\state\\\\ladakh\\\\2020', 'C:/Users/Vishaal Grizzly/pulse\\\\pulse\\\\data\\\\map\\\\user\\\\hover\\\\country\\\\india\\\\state\\\\ladakh\\\\2021', 'C:/Users/Vishaal Grizzly/pulse\\\\pulse\\\\data\\\\map\\\\user\\\\hover\\\\country\\\\india\\\\state\\\\ladakh\\\\2022', 'C:/Users/Vishaal Grizzly/pulse\\\\pulse\\\\data\\\\map\\\\user\\\\hover\\\\country\\\\india\\\\state\\\\lakshadweep\\\\2018', 'C:/Users/Vishaal Grizzly/pulse\\\\pulse\\\\data\\\\map\\\\user\\\\hover\\\\country\\\\india\\\\state\\\\lakshadweep\\\\2019', 'C:/Users/Vishaal Grizzly/pulse\\\\pulse\\\\data\\\\map\\\\user\\\\hover\\\\country\\\\india\\\\state\\\\lakshadweep\\\\2020', 'C:/Users/Vishaal Grizzly/pulse\\\\pulse\\\\data\\\\map\\\\user\\\\hover\\\\country\\\\india\\\\state\\\\lakshadweep\\\\2021', 'C:/Users/Vishaal Grizzly/pulse\\\\pulse\\\\data\\\\map\\\\user\\\\hover\\\\country\\\\india\\\\state\\\\lakshadweep\\\\2022', 'C:/Users/Vishaal Grizzly/pulse\\\\pulse\\\\data\\\\map\\\\user\\\\hover\\\\country\\\\india\\\\state\\\\madhya-pradesh\\\\2018', 'C:/Users/Vishaal Grizzly/pulse\\\\pulse\\\\data\\\\map\\\\user\\\\hover\\\\country\\\\india\\\\state\\\\madhya-pradesh\\\\2019', 'C:/Users/Vishaal Grizzly/pulse\\\\pulse\\\\data\\\\map\\\\user\\\\hover\\\\country\\\\india\\\\state\\\\madhya-pradesh\\\\2020', 'C:/Users/Vishaal Grizzly/pulse\\\\pulse\\\\data\\\\map\\\\user\\\\hover\\\\country\\\\india\\\\state\\\\madhya-pradesh\\\\2021', 'C:/Users/Vishaal Grizzly/pulse\\\\pulse\\\\data\\\\map\\\\user\\\\hover\\\\country\\\\india\\\\state\\\\madhya-pradesh\\\\2022', 'C:/Users/Vishaal Grizzly/pulse\\\\pulse\\\\data\\\\map\\\\user\\\\hover\\\\country\\\\india\\\\state\\\\maharashtra\\\\2018', 'C:/Users/Vishaal Grizzly/pulse\\\\pulse\\\\data\\\\map\\\\user\\\\hover\\\\country\\\\india\\\\state\\\\maharashtra\\\\2019', 'C:/Users/Vishaal Grizzly/pulse\\\\pulse\\\\data\\\\map\\\\user\\\\hover\\\\country\\\\india\\\\state\\\\maharashtra\\\\2020', 'C:/Users/Vishaal Grizzly/pulse\\\\pulse\\\\data\\\\map\\\\user\\\\hover\\\\country\\\\india\\\\state\\\\maharashtra\\\\2021', 'C:/Users/Vishaal Grizzly/pulse\\\\pulse\\\\data\\\\map\\\\user\\\\hover\\\\country\\\\india\\\\state\\\\maharashtra\\\\2022', 'C:/Users/Vishaal Grizzly/pulse\\\\pulse\\\\data\\\\map\\\\user\\\\hover\\\\country\\\\india\\\\state\\\\manipur\\\\2018', 'C:/Users/Vishaal Grizzly/pulse\\\\pulse\\\\data\\\\map\\\\user\\\\hover\\\\country\\\\india\\\\state\\\\manipur\\\\2019', 'C:/Users/Vishaal Grizzly/pulse\\\\pulse\\\\data\\\\map\\\\user\\\\hover\\\\country\\\\india\\\\state\\\\manipur\\\\2020', 'C:/Users/Vishaal Grizzly/pulse\\\\pulse\\\\data\\\\map\\\\user\\\\hover\\\\country\\\\india\\\\state\\\\manipur\\\\2021', 'C:/Users/Vishaal Grizzly/pulse\\\\pulse\\\\data\\\\map\\\\user\\\\hover\\\\country\\\\india\\\\state\\\\manipur\\\\2022', 'C:/Users/Vishaal Grizzly/pulse\\\\pulse\\\\data\\\\map\\\\user\\\\hover\\\\country\\\\india\\\\state\\\\meghalaya\\\\2018', 'C:/Users/Vishaal Grizzly/pulse\\\\pulse\\\\data\\\\map\\\\user\\\\hover\\\\country\\\\india\\\\state\\\\meghalaya\\\\2019', 'C:/Users/Vishaal Grizzly/pulse\\\\pulse\\\\data\\\\map\\\\user\\\\hover\\\\country\\\\india\\\\state\\\\meghalaya\\\\2020', 'C:/Users/Vishaal Grizzly/pulse\\\\pulse\\\\data\\\\map\\\\user\\\\hover\\\\country\\\\india\\\\state\\\\meghalaya\\\\2021', 'C:/Users/Vishaal Grizzly/pulse\\\\pulse\\\\data\\\\map\\\\user\\\\hover\\\\country\\\\india\\\\state\\\\meghalaya\\\\2022', 'C:/Users/Vishaal Grizzly/pulse\\\\pulse\\\\data\\\\map\\\\user\\\\hover\\\\country\\\\india\\\\state\\\\mizoram\\\\2018', 'C:/Users/Vishaal Grizzly/pulse\\\\pulse\\\\data\\\\map\\\\user\\\\hover\\\\country\\\\india\\\\state\\\\mizoram\\\\2019', 'C:/Users/Vishaal Grizzly/pulse\\\\pulse\\\\data\\\\map\\\\user\\\\hover\\\\country\\\\india\\\\state\\\\mizoram\\\\2020', 'C:/Users/Vishaal Grizzly/pulse\\\\pulse\\\\data\\\\map\\\\user\\\\hover\\\\country\\\\india\\\\state\\\\mizoram\\\\2021', 'C:/Users/Vishaal Grizzly/pulse\\\\pulse\\\\data\\\\map\\\\user\\\\hover\\\\country\\\\india\\\\state\\\\mizoram\\\\2022', 'C:/Users/Vishaal Grizzly/pulse\\\\pulse\\\\data\\\\map\\\\user\\\\hover\\\\country\\\\india\\\\state\\\\nagaland\\\\2018', 'C:/Users/Vishaal Grizzly/pulse\\\\pulse\\\\data\\\\map\\\\user\\\\hover\\\\country\\\\india\\\\state\\\\nagaland\\\\2019', 'C:/Users/Vishaal Grizzly/pulse\\\\pulse\\\\data\\\\map\\\\user\\\\hover\\\\country\\\\india\\\\state\\\\nagaland\\\\2020', 'C:/Users/Vishaal Grizzly/pulse\\\\pulse\\\\data\\\\map\\\\user\\\\hover\\\\country\\\\india\\\\state\\\\nagaland\\\\2021', 'C:/Users/Vishaal Grizzly/pulse\\\\pulse\\\\data\\\\map\\\\user\\\\hover\\\\country\\\\india\\\\state\\\\nagaland\\\\2022', 'C:/Users/Vishaal Grizzly/pulse\\\\pulse\\\\data\\\\map\\\\user\\\\hover\\\\country\\\\india\\\\state\\\\odisha\\\\2018', 'C:/Users/Vishaal Grizzly/pulse\\\\pulse\\\\data\\\\map\\\\user\\\\hover\\\\country\\\\india\\\\state\\\\odisha\\\\2019', 'C:/Users/Vishaal Grizzly/pulse\\\\pulse\\\\data\\\\map\\\\user\\\\hover\\\\country\\\\india\\\\state\\\\odisha\\\\2020', 'C:/Users/Vishaal Grizzly/pulse\\\\pulse\\\\data\\\\map\\\\user\\\\hover\\\\country\\\\india\\\\state\\\\odisha\\\\2021', 'C:/Users/Vishaal Grizzly/pulse\\\\pulse\\\\data\\\\map\\\\user\\\\hover\\\\country\\\\india\\\\state\\\\odisha\\\\2022', 'C:/Users/Vishaal Grizzly/pulse\\\\pulse\\\\data\\\\map\\\\user\\\\hover\\\\country\\\\india\\\\state\\\\puducherry\\\\2018', 'C:/Users/Vishaal Grizzly/pulse\\\\pulse\\\\data\\\\map\\\\user\\\\hover\\\\country\\\\india\\\\state\\\\puducherry\\\\2019', 'C:/Users/Vishaal Grizzly/pulse\\\\pulse\\\\data\\\\map\\\\user\\\\hover\\\\country\\\\india\\\\state\\\\puducherry\\\\2020', 'C:/Users/Vishaal Grizzly/pulse\\\\pulse\\\\data\\\\map\\\\user\\\\hover\\\\country\\\\india\\\\state\\\\puducherry\\\\2021', 'C:/Users/Vishaal Grizzly/pulse\\\\pulse\\\\data\\\\map\\\\user\\\\hover\\\\country\\\\india\\\\state\\\\puducherry\\\\2022', 'C:/Users/Vishaal Grizzly/pulse\\\\pulse\\\\data\\\\map\\\\user\\\\hover\\\\country\\\\india\\\\state\\\\punjab\\\\2018', 'C:/Users/Vishaal Grizzly/pulse\\\\pulse\\\\data\\\\map\\\\user\\\\hover\\\\country\\\\india\\\\state\\\\punjab\\\\2019', 'C:/Users/Vishaal Grizzly/pulse\\\\pulse\\\\data\\\\map\\\\user\\\\hover\\\\country\\\\india\\\\state\\\\punjab\\\\2020', 'C:/Users/Vishaal Grizzly/pulse\\\\pulse\\\\data\\\\map\\\\user\\\\hover\\\\country\\\\india\\\\state\\\\punjab\\\\2021', 'C:/Users/Vishaal Grizzly/pulse\\\\pulse\\\\data\\\\map\\\\user\\\\hover\\\\country\\\\india\\\\state\\\\punjab\\\\2022', 'C:/Users/Vishaal Grizzly/pulse\\\\pulse\\\\data\\\\map\\\\user\\\\hover\\\\country\\\\india\\\\state\\\\rajasthan\\\\2018', 'C:/Users/Vishaal Grizzly/pulse\\\\pulse\\\\data\\\\map\\\\user\\\\hover\\\\country\\\\india\\\\state\\\\rajasthan\\\\2019', 'C:/Users/Vishaal Grizzly/pulse\\\\pulse\\\\data\\\\map\\\\user\\\\hover\\\\country\\\\india\\\\state\\\\rajasthan\\\\2020', 'C:/Users/Vishaal Grizzly/pulse\\\\pulse\\\\data\\\\map\\\\user\\\\hover\\\\country\\\\india\\\\state\\\\rajasthan\\\\2021', 'C:/Users/Vishaal Grizzly/pulse\\\\pulse\\\\data\\\\map\\\\user\\\\hover\\\\country\\\\india\\\\state\\\\rajasthan\\\\2022', 'C:/Users/Vishaal Grizzly/pulse\\\\pulse\\\\data\\\\map\\\\user\\\\hover\\\\country\\\\india\\\\state\\\\sikkim\\\\2018', 'C:/Users/Vishaal Grizzly/pulse\\\\pulse\\\\data\\\\map\\\\user\\\\hover\\\\country\\\\india\\\\state\\\\sikkim\\\\2019', 'C:/Users/Vishaal Grizzly/pulse\\\\pulse\\\\data\\\\map\\\\user\\\\hover\\\\country\\\\india\\\\state\\\\sikkim\\\\2020', 'C:/Users/Vishaal Grizzly/pulse\\\\pulse\\\\data\\\\map\\\\user\\\\hover\\\\country\\\\india\\\\state\\\\sikkim\\\\2021', 'C:/Users/Vishaal Grizzly/pulse\\\\pulse\\\\data\\\\map\\\\user\\\\hover\\\\country\\\\india\\\\state\\\\sikkim\\\\2022', 'C:/Users/Vishaal Grizzly/pulse\\\\pulse\\\\data\\\\map\\\\user\\\\hover\\\\country\\\\india\\\\state\\\\tamil-nadu\\\\2018', 'C:/Users/Vishaal Grizzly/pulse\\\\pulse\\\\data\\\\map\\\\user\\\\hover\\\\country\\\\india\\\\state\\\\tamil-nadu\\\\2019', 'C:/Users/Vishaal Grizzly/pulse\\\\pulse\\\\data\\\\map\\\\user\\\\hover\\\\country\\\\india\\\\state\\\\tamil-nadu\\\\2020', 'C:/Users/Vishaal Grizzly/pulse\\\\pulse\\\\data\\\\map\\\\user\\\\hover\\\\country\\\\india\\\\state\\\\tamil-nadu\\\\2021', 'C:/Users/Vishaal Grizzly/pulse\\\\pulse\\\\data\\\\map\\\\user\\\\hover\\\\country\\\\india\\\\state\\\\tamil-nadu\\\\2022', 'C:/Users/Vishaal Grizzly/pulse\\\\pulse\\\\data\\\\map\\\\user\\\\hover\\\\country\\\\india\\\\state\\\\telangana\\\\2018', 'C:/Users/Vishaal Grizzly/pulse\\\\pulse\\\\data\\\\map\\\\user\\\\hover\\\\country\\\\india\\\\state\\\\telangana\\\\2019', 'C:/Users/Vishaal Grizzly/pulse\\\\pulse\\\\data\\\\map\\\\user\\\\hover\\\\country\\\\india\\\\state\\\\telangana\\\\2020', 'C:/Users/Vishaal Grizzly/pulse\\\\pulse\\\\data\\\\map\\\\user\\\\hover\\\\country\\\\india\\\\state\\\\telangana\\\\2021', 'C:/Users/Vishaal Grizzly/pulse\\\\pulse\\\\data\\\\map\\\\user\\\\hover\\\\country\\\\india\\\\state\\\\telangana\\\\2022', 'C:/Users/Vishaal Grizzly/pulse\\\\pulse\\\\data\\\\map\\\\user\\\\hover\\\\country\\\\india\\\\state\\\\tripura\\\\2018', 'C:/Users/Vishaal Grizzly/pulse\\\\pulse\\\\data\\\\map\\\\user\\\\hover\\\\country\\\\india\\\\state\\\\tripura\\\\2019', 'C:/Users/Vishaal Grizzly/pulse\\\\pulse\\\\data\\\\map\\\\user\\\\hover\\\\country\\\\india\\\\state\\\\tripura\\\\2020', 'C:/Users/Vishaal Grizzly/pulse\\\\pulse\\\\data\\\\map\\\\user\\\\hover\\\\country\\\\india\\\\state\\\\tripura\\\\2021', 'C:/Users/Vishaal Grizzly/pulse\\\\pulse\\\\data\\\\map\\\\user\\\\hover\\\\country\\\\india\\\\state\\\\tripura\\\\2022', 'C:/Users/Vishaal Grizzly/pulse\\\\pulse\\\\data\\\\map\\\\user\\\\hover\\\\country\\\\india\\\\state\\\\uttar-pradesh\\\\2018', 'C:/Users/Vishaal Grizzly/pulse\\\\pulse\\\\data\\\\map\\\\user\\\\hover\\\\country\\\\india\\\\state\\\\uttar-pradesh\\\\2019', 'C:/Users/Vishaal Grizzly/pulse\\\\pulse\\\\data\\\\map\\\\user\\\\hover\\\\country\\\\india\\\\state\\\\uttar-pradesh\\\\2020', 'C:/Users/Vishaal Grizzly/pulse\\\\pulse\\\\data\\\\map\\\\user\\\\hover\\\\country\\\\india\\\\state\\\\uttar-pradesh\\\\2021', 'C:/Users/Vishaal Grizzly/pulse\\\\pulse\\\\data\\\\map\\\\user\\\\hover\\\\country\\\\india\\\\state\\\\uttar-pradesh\\\\2022', 'C:/Users/Vishaal Grizzly/pulse\\\\pulse\\\\data\\\\map\\\\user\\\\hover\\\\country\\\\india\\\\state\\\\uttarakhand\\\\2018', 'C:/Users/Vishaal Grizzly/pulse\\\\pulse\\\\data\\\\map\\\\user\\\\hover\\\\country\\\\india\\\\state\\\\uttarakhand\\\\2019', 'C:/Users/Vishaal Grizzly/pulse\\\\pulse\\\\data\\\\map\\\\user\\\\hover\\\\country\\\\india\\\\state\\\\uttarakhand\\\\2020', 'C:/Users/Vishaal Grizzly/pulse\\\\pulse\\\\data\\\\map\\\\user\\\\hover\\\\country\\\\india\\\\state\\\\uttarakhand\\\\2021', 'C:/Users/Vishaal Grizzly/pulse\\\\pulse\\\\data\\\\map\\\\user\\\\hover\\\\country\\\\india\\\\state\\\\uttarakhand\\\\2022', 'C:/Users/Vishaal Grizzly/pulse\\\\pulse\\\\data\\\\map\\\\user\\\\hover\\\\country\\\\india\\\\state\\\\west-bengal\\\\2018', 'C:/Users/Vishaal Grizzly/pulse\\\\pulse\\\\data\\\\map\\\\user\\\\hover\\\\country\\\\india\\\\state\\\\west-bengal\\\\2019', 'C:/Users/Vishaal Grizzly/pulse\\\\pulse\\\\data\\\\map\\\\user\\\\hover\\\\country\\\\india\\\\state\\\\west-bengal\\\\2020', 'C:/Users/Vishaal Grizzly/pulse\\\\pulse\\\\data\\\\map\\\\user\\\\hover\\\\country\\\\india\\\\state\\\\west-bengal\\\\2021', 'C:/Users/Vishaal Grizzly/pulse\\\\pulse\\\\data\\\\map\\\\user\\\\hover\\\\country\\\\india\\\\state\\\\west-bengal\\\\2022', 'C:/Users/Vishaal Grizzly/pulse\\\\pulse\\\\data\\\\top\\\\transaction', 'C:/Users/Vishaal Grizzly/pulse\\\\pulse\\\\data\\\\top\\\\user', 'C:/Users/Vishaal Grizzly/pulse\\\\pulse\\\\data\\\\top\\\\transaction\\\\country', 'C:/Users/Vishaal Grizzly/pulse\\\\pulse\\\\data\\\\top\\\\transaction\\\\country\\\\india', 'C:/Users/Vishaal Grizzly/pulse\\\\pulse\\\\data\\\\top\\\\transaction\\\\country\\\\india\\\\2018', 'C:/Users/Vishaal Grizzly/pulse\\\\pulse\\\\data\\\\top\\\\transaction\\\\country\\\\india\\\\2019', 'C:/Users/Vishaal Grizzly/pulse\\\\pulse\\\\data\\\\top\\\\transaction\\\\country\\\\india\\\\2020', 'C:/Users/Vishaal Grizzly/pulse\\\\pulse\\\\data\\\\top\\\\transaction\\\\country\\\\india\\\\2021', 'C:/Users/Vishaal Grizzly/pulse\\\\pulse\\\\data\\\\top\\\\transaction\\\\country\\\\india\\\\2022', 'C:/Users/Vishaal Grizzly/pulse\\\\pulse\\\\data\\\\top\\\\transaction\\\\country\\\\india\\\\state', 'C:/Users/Vishaal Grizzly/pulse\\\\pulse\\\\data\\\\top\\\\transaction\\\\country\\\\india\\\\state\\\\andaman-&-nicobar-islands', 'C:/Users/Vishaal Grizzly/pulse\\\\pulse\\\\data\\\\top\\\\transaction\\\\country\\\\india\\\\state\\\\andhra-pradesh', 'C:/Users/Vishaal Grizzly/pulse\\\\pulse\\\\data\\\\top\\\\transaction\\\\country\\\\india\\\\state\\\\arunachal-pradesh', 'C:/Users/Vishaal Grizzly/pulse\\\\pulse\\\\data\\\\top\\\\transaction\\\\country\\\\india\\\\state\\\\assam', 'C:/Users/Vishaal Grizzly/pulse\\\\pulse\\\\data\\\\top\\\\transaction\\\\country\\\\india\\\\state\\\\bihar', 'C:/Users/Vishaal Grizzly/pulse\\\\pulse\\\\data\\\\top\\\\transaction\\\\country\\\\india\\\\state\\\\chandigarh', 'C:/Users/Vishaal Grizzly/pulse\\\\pulse\\\\data\\\\top\\\\transaction\\\\country\\\\india\\\\state\\\\chhattisgarh', 'C:/Users/Vishaal Grizzly/pulse\\\\pulse\\\\data\\\\top\\\\transaction\\\\country\\\\india\\\\state\\\\dadra-&-nagar-haveli-&-daman-&-diu', 'C:/Users/Vishaal Grizzly/pulse\\\\pulse\\\\data\\\\top\\\\transaction\\\\country\\\\india\\\\state\\\\delhi', 'C:/Users/Vishaal Grizzly/pulse\\\\pulse\\\\data\\\\top\\\\transaction\\\\country\\\\india\\\\state\\\\goa', 'C:/Users/Vishaal Grizzly/pulse\\\\pulse\\\\data\\\\top\\\\transaction\\\\country\\\\india\\\\state\\\\gujarat', 'C:/Users/Vishaal Grizzly/pulse\\\\pulse\\\\data\\\\top\\\\transaction\\\\country\\\\india\\\\state\\\\haryana', 'C:/Users/Vishaal Grizzly/pulse\\\\pulse\\\\data\\\\top\\\\transaction\\\\country\\\\india\\\\state\\\\himachal-pradesh', 'C:/Users/Vishaal Grizzly/pulse\\\\pulse\\\\data\\\\top\\\\transaction\\\\country\\\\india\\\\state\\\\jammu-&-kashmir', 'C:/Users/Vishaal Grizzly/pulse\\\\pulse\\\\data\\\\top\\\\transaction\\\\country\\\\india\\\\state\\\\jharkhand', 'C:/Users/Vishaal Grizzly/pulse\\\\pulse\\\\data\\\\top\\\\transaction\\\\country\\\\india\\\\state\\\\karnataka', 'C:/Users/Vishaal Grizzly/pulse\\\\pulse\\\\data\\\\top\\\\transaction\\\\country\\\\india\\\\state\\\\kerala', 'C:/Users/Vishaal Grizzly/pulse\\\\pulse\\\\data\\\\top\\\\transaction\\\\country\\\\india\\\\state\\\\ladakh', 'C:/Users/Vishaal Grizzly/pulse\\\\pulse\\\\data\\\\top\\\\transaction\\\\country\\\\india\\\\state\\\\lakshadweep', 'C:/Users/Vishaal Grizzly/pulse\\\\pulse\\\\data\\\\top\\\\transaction\\\\country\\\\india\\\\state\\\\madhya-pradesh', 'C:/Users/Vishaal Grizzly/pulse\\\\pulse\\\\data\\\\top\\\\transaction\\\\country\\\\india\\\\state\\\\maharashtra', 'C:/Users/Vishaal Grizzly/pulse\\\\pulse\\\\data\\\\top\\\\transaction\\\\country\\\\india\\\\state\\\\manipur', 'C:/Users/Vishaal Grizzly/pulse\\\\pulse\\\\data\\\\top\\\\transaction\\\\country\\\\india\\\\state\\\\meghalaya', 'C:/Users/Vishaal Grizzly/pulse\\\\pulse\\\\data\\\\top\\\\transaction\\\\country\\\\india\\\\state\\\\mizoram', 'C:/Users/Vishaal Grizzly/pulse\\\\pulse\\\\data\\\\top\\\\transaction\\\\country\\\\india\\\\state\\\\nagaland', 'C:/Users/Vishaal Grizzly/pulse\\\\pulse\\\\data\\\\top\\\\transaction\\\\country\\\\india\\\\state\\\\odisha', 'C:/Users/Vishaal Grizzly/pulse\\\\pulse\\\\data\\\\top\\\\transaction\\\\country\\\\india\\\\state\\\\puducherry', 'C:/Users/Vishaal Grizzly/pulse\\\\pulse\\\\data\\\\top\\\\transaction\\\\country\\\\india\\\\state\\\\punjab', 'C:/Users/Vishaal Grizzly/pulse\\\\pulse\\\\data\\\\top\\\\transaction\\\\country\\\\india\\\\state\\\\rajasthan', 'C:/Users/Vishaal Grizzly/pulse\\\\pulse\\\\data\\\\top\\\\transaction\\\\country\\\\india\\\\state\\\\sikkim', 'C:/Users/Vishaal Grizzly/pulse\\\\pulse\\\\data\\\\top\\\\transaction\\\\country\\\\india\\\\state\\\\tamil-nadu', 'C:/Users/Vishaal Grizzly/pulse\\\\pulse\\\\data\\\\top\\\\transaction\\\\country\\\\india\\\\state\\\\telangana', 'C:/Users/Vishaal Grizzly/pulse\\\\pulse\\\\data\\\\top\\\\transaction\\\\country\\\\india\\\\state\\\\tripura', 'C:/Users/Vishaal Grizzly/pulse\\\\pulse\\\\data\\\\top\\\\transaction\\\\country\\\\india\\\\state\\\\uttar-pradesh', 'C:/Users/Vishaal Grizzly/pulse\\\\pulse\\\\data\\\\top\\\\transaction\\\\country\\\\india\\\\state\\\\uttarakhand', 'C:/Users/Vishaal Grizzly/pulse\\\\pulse\\\\data\\\\top\\\\transaction\\\\country\\\\india\\\\state\\\\west-bengal', 'C:/Users/Vishaal Grizzly/pulse\\\\pulse\\\\data\\\\top\\\\transaction\\\\country\\\\india\\\\state\\\\andaman-&-nicobar-islands\\\\2018', 'C:/Users/Vishaal Grizzly/pulse\\\\pulse\\\\data\\\\top\\\\transaction\\\\country\\\\india\\\\state\\\\andaman-&-nicobar-islands\\\\2019', 'C:/Users/Vishaal Grizzly/pulse\\\\pulse\\\\data\\\\top\\\\transaction\\\\country\\\\india\\\\state\\\\andaman-&-nicobar-islands\\\\2020', 'C:/Users/Vishaal Grizzly/pulse\\\\pulse\\\\data\\\\top\\\\transaction\\\\country\\\\india\\\\state\\\\andaman-&-nicobar-islands\\\\2021', 'C:/Users/Vishaal Grizzly/pulse\\\\pulse\\\\data\\\\top\\\\transaction\\\\country\\\\india\\\\state\\\\andaman-&-nicobar-islands\\\\2022', 'C:/Users/Vishaal Grizzly/pulse\\\\pulse\\\\data\\\\top\\\\transaction\\\\country\\\\india\\\\state\\\\andhra-pradesh\\\\2018', 'C:/Users/Vishaal Grizzly/pulse\\\\pulse\\\\data\\\\top\\\\transaction\\\\country\\\\india\\\\state\\\\andhra-pradesh\\\\2019', 'C:/Users/Vishaal Grizzly/pulse\\\\pulse\\\\data\\\\top\\\\transaction\\\\country\\\\india\\\\state\\\\andhra-pradesh\\\\2020', 'C:/Users/Vishaal Grizzly/pulse\\\\pulse\\\\data\\\\top\\\\transaction\\\\country\\\\india\\\\state\\\\andhra-pradesh\\\\2021', 'C:/Users/Vishaal Grizzly/pulse\\\\pulse\\\\data\\\\top\\\\transaction\\\\country\\\\india\\\\state\\\\andhra-pradesh\\\\2022', 'C:/Users/Vishaal Grizzly/pulse\\\\pulse\\\\data\\\\top\\\\transaction\\\\country\\\\india\\\\state\\\\arunachal-pradesh\\\\2018', 'C:/Users/Vishaal Grizzly/pulse\\\\pulse\\\\data\\\\top\\\\transaction\\\\country\\\\india\\\\state\\\\arunachal-pradesh\\\\2019', 'C:/Users/Vishaal Grizzly/pulse\\\\pulse\\\\data\\\\top\\\\transaction\\\\country\\\\india\\\\state\\\\arunachal-pradesh\\\\2020', 'C:/Users/Vishaal Grizzly/pulse\\\\pulse\\\\data\\\\top\\\\transaction\\\\country\\\\india\\\\state\\\\arunachal-pradesh\\\\2021', 'C:/Users/Vishaal Grizzly/pulse\\\\pulse\\\\data\\\\top\\\\transaction\\\\country\\\\india\\\\state\\\\arunachal-pradesh\\\\2022', 'C:/Users/Vishaal Grizzly/pulse\\\\pulse\\\\data\\\\top\\\\transaction\\\\country\\\\india\\\\state\\\\assam\\\\2018', 'C:/Users/Vishaal Grizzly/pulse\\\\pulse\\\\data\\\\top\\\\transaction\\\\country\\\\india\\\\state\\\\assam\\\\2019', 'C:/Users/Vishaal Grizzly/pulse\\\\pulse\\\\data\\\\top\\\\transaction\\\\country\\\\india\\\\state\\\\assam\\\\2020', 'C:/Users/Vishaal Grizzly/pulse\\\\pulse\\\\data\\\\top\\\\transaction\\\\country\\\\india\\\\state\\\\assam\\\\2021', 'C:/Users/Vishaal Grizzly/pulse\\\\pulse\\\\data\\\\top\\\\transaction\\\\country\\\\india\\\\state\\\\assam\\\\2022', 'C:/Users/Vishaal Grizzly/pulse\\\\pulse\\\\data\\\\top\\\\transaction\\\\country\\\\india\\\\state\\\\bihar\\\\2018', 'C:/Users/Vishaal Grizzly/pulse\\\\pulse\\\\data\\\\top\\\\transaction\\\\country\\\\india\\\\state\\\\bihar\\\\2019', 'C:/Users/Vishaal Grizzly/pulse\\\\pulse\\\\data\\\\top\\\\transaction\\\\country\\\\india\\\\state\\\\bihar\\\\2020', 'C:/Users/Vishaal Grizzly/pulse\\\\pulse\\\\data\\\\top\\\\transaction\\\\country\\\\india\\\\state\\\\bihar\\\\2021', 'C:/Users/Vishaal Grizzly/pulse\\\\pulse\\\\data\\\\top\\\\transaction\\\\country\\\\india\\\\state\\\\bihar\\\\2022', 'C:/Users/Vishaal Grizzly/pulse\\\\pulse\\\\data\\\\top\\\\transaction\\\\country\\\\india\\\\state\\\\chandigarh\\\\2018', 'C:/Users/Vishaal Grizzly/pulse\\\\pulse\\\\data\\\\top\\\\transaction\\\\country\\\\india\\\\state\\\\chandigarh\\\\2019', 'C:/Users/Vishaal Grizzly/pulse\\\\pulse\\\\data\\\\top\\\\transaction\\\\country\\\\india\\\\state\\\\chandigarh\\\\2020', 'C:/Users/Vishaal Grizzly/pulse\\\\pulse\\\\data\\\\top\\\\transaction\\\\country\\\\india\\\\state\\\\chandigarh\\\\2021', 'C:/Users/Vishaal Grizzly/pulse\\\\pulse\\\\data\\\\top\\\\transaction\\\\country\\\\india\\\\state\\\\chandigarh\\\\2022', 'C:/Users/Vishaal Grizzly/pulse\\\\pulse\\\\data\\\\top\\\\transaction\\\\country\\\\india\\\\state\\\\chhattisgarh\\\\2018', 'C:/Users/Vishaal Grizzly/pulse\\\\pulse\\\\data\\\\top\\\\transaction\\\\country\\\\india\\\\state\\\\chhattisgarh\\\\2019', 'C:/Users/Vishaal Grizzly/pulse\\\\pulse\\\\data\\\\top\\\\transaction\\\\country\\\\india\\\\state\\\\chhattisgarh\\\\2020', 'C:/Users/Vishaal Grizzly/pulse\\\\pulse\\\\data\\\\top\\\\transaction\\\\country\\\\india\\\\state\\\\chhattisgarh\\\\2021', 'C:/Users/Vishaal Grizzly/pulse\\\\pulse\\\\data\\\\top\\\\transaction\\\\country\\\\india\\\\state\\\\chhattisgarh\\\\2022', 'C:/Users/Vishaal Grizzly/pulse\\\\pulse\\\\data\\\\top\\\\transaction\\\\country\\\\india\\\\state\\\\dadra-&-nagar-haveli-&-daman-&-diu\\\\2018', 'C:/Users/Vishaal Grizzly/pulse\\\\pulse\\\\data\\\\top\\\\transaction\\\\country\\\\india\\\\state\\\\dadra-&-nagar-haveli-&-daman-&-diu\\\\2019', 'C:/Users/Vishaal Grizzly/pulse\\\\pulse\\\\data\\\\top\\\\transaction\\\\country\\\\india\\\\state\\\\dadra-&-nagar-haveli-&-daman-&-diu\\\\2020', 'C:/Users/Vishaal Grizzly/pulse\\\\pulse\\\\data\\\\top\\\\transaction\\\\country\\\\india\\\\state\\\\dadra-&-nagar-haveli-&-daman-&-diu\\\\2021', 'C:/Users/Vishaal Grizzly/pulse\\\\pulse\\\\data\\\\top\\\\transaction\\\\country\\\\india\\\\state\\\\dadra-&-nagar-haveli-&-daman-&-diu\\\\2022', 'C:/Users/Vishaal Grizzly/pulse\\\\pulse\\\\data\\\\top\\\\transaction\\\\country\\\\india\\\\state\\\\delhi\\\\2018', 'C:/Users/Vishaal Grizzly/pulse\\\\pulse\\\\data\\\\top\\\\transaction\\\\country\\\\india\\\\state\\\\delhi\\\\2019', 'C:/Users/Vishaal Grizzly/pulse\\\\pulse\\\\data\\\\top\\\\transaction\\\\country\\\\india\\\\state\\\\delhi\\\\2020', 'C:/Users/Vishaal Grizzly/pulse\\\\pulse\\\\data\\\\top\\\\transaction\\\\country\\\\india\\\\state\\\\delhi\\\\2021', 'C:/Users/Vishaal Grizzly/pulse\\\\pulse\\\\data\\\\top\\\\transaction\\\\country\\\\india\\\\state\\\\delhi\\\\2022', 'C:/Users/Vishaal Grizzly/pulse\\\\pulse\\\\data\\\\top\\\\transaction\\\\country\\\\india\\\\state\\\\goa\\\\2018', 'C:/Users/Vishaal Grizzly/pulse\\\\pulse\\\\data\\\\top\\\\transaction\\\\country\\\\india\\\\state\\\\goa\\\\2019', 'C:/Users/Vishaal Grizzly/pulse\\\\pulse\\\\data\\\\top\\\\transaction\\\\country\\\\india\\\\state\\\\goa\\\\2020', 'C:/Users/Vishaal Grizzly/pulse\\\\pulse\\\\data\\\\top\\\\transaction\\\\country\\\\india\\\\state\\\\goa\\\\2021', 'C:/Users/Vishaal Grizzly/pulse\\\\pulse\\\\data\\\\top\\\\transaction\\\\country\\\\india\\\\state\\\\goa\\\\2022', 'C:/Users/Vishaal Grizzly/pulse\\\\pulse\\\\data\\\\top\\\\transaction\\\\country\\\\india\\\\state\\\\gujarat\\\\2018', 'C:/Users/Vishaal Grizzly/pulse\\\\pulse\\\\data\\\\top\\\\transaction\\\\country\\\\india\\\\state\\\\gujarat\\\\2019', 'C:/Users/Vishaal Grizzly/pulse\\\\pulse\\\\data\\\\top\\\\transaction\\\\country\\\\india\\\\state\\\\gujarat\\\\2020', 'C:/Users/Vishaal Grizzly/pulse\\\\pulse\\\\data\\\\top\\\\transaction\\\\country\\\\india\\\\state\\\\gujarat\\\\2021', 'C:/Users/Vishaal Grizzly/pulse\\\\pulse\\\\data\\\\top\\\\transaction\\\\country\\\\india\\\\state\\\\gujarat\\\\2022', 'C:/Users/Vishaal Grizzly/pulse\\\\pulse\\\\data\\\\top\\\\transaction\\\\country\\\\india\\\\state\\\\haryana\\\\2018', 'C:/Users/Vishaal Grizzly/pulse\\\\pulse\\\\data\\\\top\\\\transaction\\\\country\\\\india\\\\state\\\\haryana\\\\2019', 'C:/Users/Vishaal Grizzly/pulse\\\\pulse\\\\data\\\\top\\\\transaction\\\\country\\\\india\\\\state\\\\haryana\\\\2020', 'C:/Users/Vishaal Grizzly/pulse\\\\pulse\\\\data\\\\top\\\\transaction\\\\country\\\\india\\\\state\\\\haryana\\\\2021', 'C:/Users/Vishaal Grizzly/pulse\\\\pulse\\\\data\\\\top\\\\transaction\\\\country\\\\india\\\\state\\\\haryana\\\\2022', 'C:/Users/Vishaal Grizzly/pulse\\\\pulse\\\\data\\\\top\\\\transaction\\\\country\\\\india\\\\state\\\\himachal-pradesh\\\\2018', 'C:/Users/Vishaal Grizzly/pulse\\\\pulse\\\\data\\\\top\\\\transaction\\\\country\\\\india\\\\state\\\\himachal-pradesh\\\\2019', 'C:/Users/Vishaal Grizzly/pulse\\\\pulse\\\\data\\\\top\\\\transaction\\\\country\\\\india\\\\state\\\\himachal-pradesh\\\\2020', 'C:/Users/Vishaal Grizzly/pulse\\\\pulse\\\\data\\\\top\\\\transaction\\\\country\\\\india\\\\state\\\\himachal-pradesh\\\\2021', 'C:/Users/Vishaal Grizzly/pulse\\\\pulse\\\\data\\\\top\\\\transaction\\\\country\\\\india\\\\state\\\\himachal-pradesh\\\\2022', 'C:/Users/Vishaal Grizzly/pulse\\\\pulse\\\\data\\\\top\\\\transaction\\\\country\\\\india\\\\state\\\\jammu-&-kashmir\\\\2018', 'C:/Users/Vishaal Grizzly/pulse\\\\pulse\\\\data\\\\top\\\\transaction\\\\country\\\\india\\\\state\\\\jammu-&-kashmir\\\\2019', 'C:/Users/Vishaal Grizzly/pulse\\\\pulse\\\\data\\\\top\\\\transaction\\\\country\\\\india\\\\state\\\\jammu-&-kashmir\\\\2020', 'C:/Users/Vishaal Grizzly/pulse\\\\pulse\\\\data\\\\top\\\\transaction\\\\country\\\\india\\\\state\\\\jammu-&-kashmir\\\\2021', 'C:/Users/Vishaal Grizzly/pulse\\\\pulse\\\\data\\\\top\\\\transaction\\\\country\\\\india\\\\state\\\\jammu-&-kashmir\\\\2022', 'C:/Users/Vishaal Grizzly/pulse\\\\pulse\\\\data\\\\top\\\\transaction\\\\country\\\\india\\\\state\\\\jharkhand\\\\2018', 'C:/Users/Vishaal Grizzly/pulse\\\\pulse\\\\data\\\\top\\\\transaction\\\\country\\\\india\\\\state\\\\jharkhand\\\\2019', 'C:/Users/Vishaal Grizzly/pulse\\\\pulse\\\\data\\\\top\\\\transaction\\\\country\\\\india\\\\state\\\\jharkhand\\\\2020', 'C:/Users/Vishaal Grizzly/pulse\\\\pulse\\\\data\\\\top\\\\transaction\\\\country\\\\india\\\\state\\\\jharkhand\\\\2021', 'C:/Users/Vishaal Grizzly/pulse\\\\pulse\\\\data\\\\top\\\\transaction\\\\country\\\\india\\\\state\\\\jharkhand\\\\2022', 'C:/Users/Vishaal Grizzly/pulse\\\\pulse\\\\data\\\\top\\\\transaction\\\\country\\\\india\\\\state\\\\karnataka\\\\2018', 'C:/Users/Vishaal Grizzly/pulse\\\\pulse\\\\data\\\\top\\\\transaction\\\\country\\\\india\\\\state\\\\karnataka\\\\2019', 'C:/Users/Vishaal Grizzly/pulse\\\\pulse\\\\data\\\\top\\\\transaction\\\\country\\\\india\\\\state\\\\karnataka\\\\2020', 'C:/Users/Vishaal Grizzly/pulse\\\\pulse\\\\data\\\\top\\\\transaction\\\\country\\\\india\\\\state\\\\karnataka\\\\2021', 'C:/Users/Vishaal Grizzly/pulse\\\\pulse\\\\data\\\\top\\\\transaction\\\\country\\\\india\\\\state\\\\karnataka\\\\2022', 'C:/Users/Vishaal Grizzly/pulse\\\\pulse\\\\data\\\\top\\\\transaction\\\\country\\\\india\\\\state\\\\kerala\\\\2018', 'C:/Users/Vishaal Grizzly/pulse\\\\pulse\\\\data\\\\top\\\\transaction\\\\country\\\\india\\\\state\\\\kerala\\\\2019', 'C:/Users/Vishaal Grizzly/pulse\\\\pulse\\\\data\\\\top\\\\transaction\\\\country\\\\india\\\\state\\\\kerala\\\\2020', 'C:/Users/Vishaal Grizzly/pulse\\\\pulse\\\\data\\\\top\\\\transaction\\\\country\\\\india\\\\state\\\\kerala\\\\2021', 'C:/Users/Vishaal Grizzly/pulse\\\\pulse\\\\data\\\\top\\\\transaction\\\\country\\\\india\\\\state\\\\kerala\\\\2022', 'C:/Users/Vishaal Grizzly/pulse\\\\pulse\\\\data\\\\top\\\\transaction\\\\country\\\\india\\\\state\\\\ladakh\\\\2018', 'C:/Users/Vishaal Grizzly/pulse\\\\pulse\\\\data\\\\top\\\\transaction\\\\country\\\\india\\\\state\\\\ladakh\\\\2019', 'C:/Users/Vishaal Grizzly/pulse\\\\pulse\\\\data\\\\top\\\\transaction\\\\country\\\\india\\\\state\\\\ladakh\\\\2020', 'C:/Users/Vishaal Grizzly/pulse\\\\pulse\\\\data\\\\top\\\\transaction\\\\country\\\\india\\\\state\\\\ladakh\\\\2021', 'C:/Users/Vishaal Grizzly/pulse\\\\pulse\\\\data\\\\top\\\\transaction\\\\country\\\\india\\\\state\\\\ladakh\\\\2022', 'C:/Users/Vishaal Grizzly/pulse\\\\pulse\\\\data\\\\top\\\\transaction\\\\country\\\\india\\\\state\\\\lakshadweep\\\\2018', 'C:/Users/Vishaal Grizzly/pulse\\\\pulse\\\\data\\\\top\\\\transaction\\\\country\\\\india\\\\state\\\\lakshadweep\\\\2019', 'C:/Users/Vishaal Grizzly/pulse\\\\pulse\\\\data\\\\top\\\\transaction\\\\country\\\\india\\\\state\\\\lakshadweep\\\\2020', 'C:/Users/Vishaal Grizzly/pulse\\\\pulse\\\\data\\\\top\\\\transaction\\\\country\\\\india\\\\state\\\\lakshadweep\\\\2021', 'C:/Users/Vishaal Grizzly/pulse\\\\pulse\\\\data\\\\top\\\\transaction\\\\country\\\\india\\\\state\\\\lakshadweep\\\\2022', 'C:/Users/Vishaal Grizzly/pulse\\\\pulse\\\\data\\\\top\\\\transaction\\\\country\\\\india\\\\state\\\\madhya-pradesh\\\\2018', 'C:/Users/Vishaal Grizzly/pulse\\\\pulse\\\\data\\\\top\\\\transaction\\\\country\\\\india\\\\state\\\\madhya-pradesh\\\\2019', 'C:/Users/Vishaal Grizzly/pulse\\\\pulse\\\\data\\\\top\\\\transaction\\\\country\\\\india\\\\state\\\\madhya-pradesh\\\\2020', 'C:/Users/Vishaal Grizzly/pulse\\\\pulse\\\\data\\\\top\\\\transaction\\\\country\\\\india\\\\state\\\\madhya-pradesh\\\\2021', 'C:/Users/Vishaal Grizzly/pulse\\\\pulse\\\\data\\\\top\\\\transaction\\\\country\\\\india\\\\state\\\\madhya-pradesh\\\\2022', 'C:/Users/Vishaal Grizzly/pulse\\\\pulse\\\\data\\\\top\\\\transaction\\\\country\\\\india\\\\state\\\\maharashtra\\\\2018', 'C:/Users/Vishaal Grizzly/pulse\\\\pulse\\\\data\\\\top\\\\transaction\\\\country\\\\india\\\\state\\\\maharashtra\\\\2019', 'C:/Users/Vishaal Grizzly/pulse\\\\pulse\\\\data\\\\top\\\\transaction\\\\country\\\\india\\\\state\\\\maharashtra\\\\2020', 'C:/Users/Vishaal Grizzly/pulse\\\\pulse\\\\data\\\\top\\\\transaction\\\\country\\\\india\\\\state\\\\maharashtra\\\\2021', 'C:/Users/Vishaal Grizzly/pulse\\\\pulse\\\\data\\\\top\\\\transaction\\\\country\\\\india\\\\state\\\\maharashtra\\\\2022', 'C:/Users/Vishaal Grizzly/pulse\\\\pulse\\\\data\\\\top\\\\transaction\\\\country\\\\india\\\\state\\\\manipur\\\\2018', 'C:/Users/Vishaal Grizzly/pulse\\\\pulse\\\\data\\\\top\\\\transaction\\\\country\\\\india\\\\state\\\\manipur\\\\2019', 'C:/Users/Vishaal Grizzly/pulse\\\\pulse\\\\data\\\\top\\\\transaction\\\\country\\\\india\\\\state\\\\manipur\\\\2020', 'C:/Users/Vishaal Grizzly/pulse\\\\pulse\\\\data\\\\top\\\\transaction\\\\country\\\\india\\\\state\\\\manipur\\\\2021', 'C:/Users/Vishaal Grizzly/pulse\\\\pulse\\\\data\\\\top\\\\transaction\\\\country\\\\india\\\\state\\\\manipur\\\\2022', 'C:/Users/Vishaal Grizzly/pulse\\\\pulse\\\\data\\\\top\\\\transaction\\\\country\\\\india\\\\state\\\\meghalaya\\\\2018', 'C:/Users/Vishaal Grizzly/pulse\\\\pulse\\\\data\\\\top\\\\transaction\\\\country\\\\india\\\\state\\\\meghalaya\\\\2019', 'C:/Users/Vishaal Grizzly/pulse\\\\pulse\\\\data\\\\top\\\\transaction\\\\country\\\\india\\\\state\\\\meghalaya\\\\2020', 'C:/Users/Vishaal Grizzly/pulse\\\\pulse\\\\data\\\\top\\\\transaction\\\\country\\\\india\\\\state\\\\meghalaya\\\\2021', 'C:/Users/Vishaal Grizzly/pulse\\\\pulse\\\\data\\\\top\\\\transaction\\\\country\\\\india\\\\state\\\\meghalaya\\\\2022', 'C:/Users/Vishaal Grizzly/pulse\\\\pulse\\\\data\\\\top\\\\transaction\\\\country\\\\india\\\\state\\\\mizoram\\\\2018', 'C:/Users/Vishaal Grizzly/pulse\\\\pulse\\\\data\\\\top\\\\transaction\\\\country\\\\india\\\\state\\\\mizoram\\\\2019', 'C:/Users/Vishaal Grizzly/pulse\\\\pulse\\\\data\\\\top\\\\transaction\\\\country\\\\india\\\\state\\\\mizoram\\\\2020', 'C:/Users/Vishaal Grizzly/pulse\\\\pulse\\\\data\\\\top\\\\transaction\\\\country\\\\india\\\\state\\\\mizoram\\\\2021', 'C:/Users/Vishaal Grizzly/pulse\\\\pulse\\\\data\\\\top\\\\transaction\\\\country\\\\india\\\\state\\\\mizoram\\\\2022', 'C:/Users/Vishaal Grizzly/pulse\\\\pulse\\\\data\\\\top\\\\transaction\\\\country\\\\india\\\\state\\\\nagaland\\\\2018', 'C:/Users/Vishaal Grizzly/pulse\\\\pulse\\\\data\\\\top\\\\transaction\\\\country\\\\india\\\\state\\\\nagaland\\\\2019', 'C:/Users/Vishaal Grizzly/pulse\\\\pulse\\\\data\\\\top\\\\transaction\\\\country\\\\india\\\\state\\\\nagaland\\\\2020', 'C:/Users/Vishaal Grizzly/pulse\\\\pulse\\\\data\\\\top\\\\transaction\\\\country\\\\india\\\\state\\\\nagaland\\\\2021', 'C:/Users/Vishaal Grizzly/pulse\\\\pulse\\\\data\\\\top\\\\transaction\\\\country\\\\india\\\\state\\\\nagaland\\\\2022', 'C:/Users/Vishaal Grizzly/pulse\\\\pulse\\\\data\\\\top\\\\transaction\\\\country\\\\india\\\\state\\\\odisha\\\\2018', 'C:/Users/Vishaal Grizzly/pulse\\\\pulse\\\\data\\\\top\\\\transaction\\\\country\\\\india\\\\state\\\\odisha\\\\2019', 'C:/Users/Vishaal Grizzly/pulse\\\\pulse\\\\data\\\\top\\\\transaction\\\\country\\\\india\\\\state\\\\odisha\\\\2020', 'C:/Users/Vishaal Grizzly/pulse\\\\pulse\\\\data\\\\top\\\\transaction\\\\country\\\\india\\\\state\\\\odisha\\\\2021', 'C:/Users/Vishaal Grizzly/pulse\\\\pulse\\\\data\\\\top\\\\transaction\\\\country\\\\india\\\\state\\\\odisha\\\\2022', 'C:/Users/Vishaal Grizzly/pulse\\\\pulse\\\\data\\\\top\\\\transaction\\\\country\\\\india\\\\state\\\\puducherry\\\\2018', 'C:/Users/Vishaal Grizzly/pulse\\\\pulse\\\\data\\\\top\\\\transaction\\\\country\\\\india\\\\state\\\\puducherry\\\\2019', 'C:/Users/Vishaal Grizzly/pulse\\\\pulse\\\\data\\\\top\\\\transaction\\\\country\\\\india\\\\state\\\\puducherry\\\\2020', 'C:/Users/Vishaal Grizzly/pulse\\\\pulse\\\\data\\\\top\\\\transaction\\\\country\\\\india\\\\state\\\\puducherry\\\\2021', 'C:/Users/Vishaal Grizzly/pulse\\\\pulse\\\\data\\\\top\\\\transaction\\\\country\\\\india\\\\state\\\\puducherry\\\\2022', 'C:/Users/Vishaal Grizzly/pulse\\\\pulse\\\\data\\\\top\\\\transaction\\\\country\\\\india\\\\state\\\\punjab\\\\2018', 'C:/Users/Vishaal Grizzly/pulse\\\\pulse\\\\data\\\\top\\\\transaction\\\\country\\\\india\\\\state\\\\punjab\\\\2019', 'C:/Users/Vishaal Grizzly/pulse\\\\pulse\\\\data\\\\top\\\\transaction\\\\country\\\\india\\\\state\\\\punjab\\\\2020', 'C:/Users/Vishaal Grizzly/pulse\\\\pulse\\\\data\\\\top\\\\transaction\\\\country\\\\india\\\\state\\\\punjab\\\\2021', 'C:/Users/Vishaal Grizzly/pulse\\\\pulse\\\\data\\\\top\\\\transaction\\\\country\\\\india\\\\state\\\\punjab\\\\2022', 'C:/Users/Vishaal Grizzly/pulse\\\\pulse\\\\data\\\\top\\\\transaction\\\\country\\\\india\\\\state\\\\rajasthan\\\\2018', 'C:/Users/Vishaal Grizzly/pulse\\\\pulse\\\\data\\\\top\\\\transaction\\\\country\\\\india\\\\state\\\\rajasthan\\\\2019', 'C:/Users/Vishaal Grizzly/pulse\\\\pulse\\\\data\\\\top\\\\transaction\\\\country\\\\india\\\\state\\\\rajasthan\\\\2020', 'C:/Users/Vishaal Grizzly/pulse\\\\pulse\\\\data\\\\top\\\\transaction\\\\country\\\\india\\\\state\\\\rajasthan\\\\2021', 'C:/Users/Vishaal Grizzly/pulse\\\\pulse\\\\data\\\\top\\\\transaction\\\\country\\\\india\\\\state\\\\rajasthan\\\\2022', 'C:/Users/Vishaal Grizzly/pulse\\\\pulse\\\\data\\\\top\\\\transaction\\\\country\\\\india\\\\state\\\\sikkim\\\\2018', 'C:/Users/Vishaal Grizzly/pulse\\\\pulse\\\\data\\\\top\\\\transaction\\\\country\\\\india\\\\state\\\\sikkim\\\\2019', 'C:/Users/Vishaal Grizzly/pulse\\\\pulse\\\\data\\\\top\\\\transaction\\\\country\\\\india\\\\state\\\\sikkim\\\\2020', 'C:/Users/Vishaal Grizzly/pulse\\\\pulse\\\\data\\\\top\\\\transaction\\\\country\\\\india\\\\state\\\\sikkim\\\\2021', 'C:/Users/Vishaal Grizzly/pulse\\\\pulse\\\\data\\\\top\\\\transaction\\\\country\\\\india\\\\state\\\\sikkim\\\\2022', 'C:/Users/Vishaal Grizzly/pulse\\\\pulse\\\\data\\\\top\\\\transaction\\\\country\\\\india\\\\state\\\\tamil-nadu\\\\2018', 'C:/Users/Vishaal Grizzly/pulse\\\\pulse\\\\data\\\\top\\\\transaction\\\\country\\\\india\\\\state\\\\tamil-nadu\\\\2019', 'C:/Users/Vishaal Grizzly/pulse\\\\pulse\\\\data\\\\top\\\\transaction\\\\country\\\\india\\\\state\\\\tamil-nadu\\\\2020', 'C:/Users/Vishaal Grizzly/pulse\\\\pulse\\\\data\\\\top\\\\transaction\\\\country\\\\india\\\\state\\\\tamil-nadu\\\\2021', 'C:/Users/Vishaal Grizzly/pulse\\\\pulse\\\\data\\\\top\\\\transaction\\\\country\\\\india\\\\state\\\\tamil-nadu\\\\2022', 'C:/Users/Vishaal Grizzly/pulse\\\\pulse\\\\data\\\\top\\\\transaction\\\\country\\\\india\\\\state\\\\telangana\\\\2018', 'C:/Users/Vishaal Grizzly/pulse\\\\pulse\\\\data\\\\top\\\\transaction\\\\country\\\\india\\\\state\\\\telangana\\\\2019', 'C:/Users/Vishaal Grizzly/pulse\\\\pulse\\\\data\\\\top\\\\transaction\\\\country\\\\india\\\\state\\\\telangana\\\\2020', 'C:/Users/Vishaal Grizzly/pulse\\\\pulse\\\\data\\\\top\\\\transaction\\\\country\\\\india\\\\state\\\\telangana\\\\2021', 'C:/Users/Vishaal Grizzly/pulse\\\\pulse\\\\data\\\\top\\\\transaction\\\\country\\\\india\\\\state\\\\telangana\\\\2022', 'C:/Users/Vishaal Grizzly/pulse\\\\pulse\\\\data\\\\top\\\\transaction\\\\country\\\\india\\\\state\\\\tripura\\\\2018', 'C:/Users/Vishaal Grizzly/pulse\\\\pulse\\\\data\\\\top\\\\transaction\\\\country\\\\india\\\\state\\\\tripura\\\\2019', 'C:/Users/Vishaal Grizzly/pulse\\\\pulse\\\\data\\\\top\\\\transaction\\\\country\\\\india\\\\state\\\\tripura\\\\2020', 'C:/Users/Vishaal Grizzly/pulse\\\\pulse\\\\data\\\\top\\\\transaction\\\\country\\\\india\\\\state\\\\tripura\\\\2021', 'C:/Users/Vishaal Grizzly/pulse\\\\pulse\\\\data\\\\top\\\\transaction\\\\country\\\\india\\\\state\\\\tripura\\\\2022', 'C:/Users/Vishaal Grizzly/pulse\\\\pulse\\\\data\\\\top\\\\transaction\\\\country\\\\india\\\\state\\\\uttar-pradesh\\\\2018', 'C:/Users/Vishaal Grizzly/pulse\\\\pulse\\\\data\\\\top\\\\transaction\\\\country\\\\india\\\\state\\\\uttar-pradesh\\\\2019', 'C:/Users/Vishaal Grizzly/pulse\\\\pulse\\\\data\\\\top\\\\transaction\\\\country\\\\india\\\\state\\\\uttar-pradesh\\\\2020', 'C:/Users/Vishaal Grizzly/pulse\\\\pulse\\\\data\\\\top\\\\transaction\\\\country\\\\india\\\\state\\\\uttar-pradesh\\\\2021', 'C:/Users/Vishaal Grizzly/pulse\\\\pulse\\\\data\\\\top\\\\transaction\\\\country\\\\india\\\\state\\\\uttar-pradesh\\\\2022', 'C:/Users/Vishaal Grizzly/pulse\\\\pulse\\\\data\\\\top\\\\transaction\\\\country\\\\india\\\\state\\\\uttarakhand\\\\2018', 'C:/Users/Vishaal Grizzly/pulse\\\\pulse\\\\data\\\\top\\\\transaction\\\\country\\\\india\\\\state\\\\uttarakhand\\\\2019', 'C:/Users/Vishaal Grizzly/pulse\\\\pulse\\\\data\\\\top\\\\transaction\\\\country\\\\india\\\\state\\\\uttarakhand\\\\2020', 'C:/Users/Vishaal Grizzly/pulse\\\\pulse\\\\data\\\\top\\\\transaction\\\\country\\\\india\\\\state\\\\uttarakhand\\\\2021', 'C:/Users/Vishaal Grizzly/pulse\\\\pulse\\\\data\\\\top\\\\transaction\\\\country\\\\india\\\\state\\\\uttarakhand\\\\2022', 'C:/Users/Vishaal Grizzly/pulse\\\\pulse\\\\data\\\\top\\\\transaction\\\\country\\\\india\\\\state\\\\west-bengal\\\\2018', 'C:/Users/Vishaal Grizzly/pulse\\\\pulse\\\\data\\\\top\\\\transaction\\\\country\\\\india\\\\state\\\\west-bengal\\\\2019', 'C:/Users/Vishaal Grizzly/pulse\\\\pulse\\\\data\\\\top\\\\transaction\\\\country\\\\india\\\\state\\\\west-bengal\\\\2020', 'C:/Users/Vishaal Grizzly/pulse\\\\pulse\\\\data\\\\top\\\\transaction\\\\country\\\\india\\\\state\\\\west-bengal\\\\2021', 'C:/Users/Vishaal Grizzly/pulse\\\\pulse\\\\data\\\\top\\\\transaction\\\\country\\\\india\\\\state\\\\west-bengal\\\\2022', 'C:/Users/Vishaal Grizzly/pulse\\\\pulse\\\\data\\\\top\\\\user\\\\country', 'C:/Users/Vishaal Grizzly/pulse\\\\pulse\\\\data\\\\top\\\\user\\\\country\\\\india', 'C:/Users/Vishaal Grizzly/pulse\\\\pulse\\\\data\\\\top\\\\user\\\\country\\\\india\\\\2018', 'C:/Users/Vishaal Grizzly/pulse\\\\pulse\\\\data\\\\top\\\\user\\\\country\\\\india\\\\2019', 'C:/Users/Vishaal Grizzly/pulse\\\\pulse\\\\data\\\\top\\\\user\\\\country\\\\india\\\\2020', 'C:/Users/Vishaal Grizzly/pulse\\\\pulse\\\\data\\\\top\\\\user\\\\country\\\\india\\\\2021', 'C:/Users/Vishaal Grizzly/pulse\\\\pulse\\\\data\\\\top\\\\user\\\\country\\\\india\\\\2022', 'C:/Users/Vishaal Grizzly/pulse\\\\pulse\\\\data\\\\top\\\\user\\\\country\\\\india\\\\state', 'C:/Users/Vishaal Grizzly/pulse\\\\pulse\\\\data\\\\top\\\\user\\\\country\\\\india\\\\state\\\\andaman-&-nicobar-islands', 'C:/Users/Vishaal Grizzly/pulse\\\\pulse\\\\data\\\\top\\\\user\\\\country\\\\india\\\\state\\\\andhra-pradesh', 'C:/Users/Vishaal Grizzly/pulse\\\\pulse\\\\data\\\\top\\\\user\\\\country\\\\india\\\\state\\\\arunachal-pradesh', 'C:/Users/Vishaal Grizzly/pulse\\\\pulse\\\\data\\\\top\\\\user\\\\country\\\\india\\\\state\\\\assam', 'C:/Users/Vishaal Grizzly/pulse\\\\pulse\\\\data\\\\top\\\\user\\\\country\\\\india\\\\state\\\\bihar', 'C:/Users/Vishaal Grizzly/pulse\\\\pulse\\\\data\\\\top\\\\user\\\\country\\\\india\\\\state\\\\chandigarh', 'C:/Users/Vishaal Grizzly/pulse\\\\pulse\\\\data\\\\top\\\\user\\\\country\\\\india\\\\state\\\\chhattisgarh', 'C:/Users/Vishaal Grizzly/pulse\\\\pulse\\\\data\\\\top\\\\user\\\\country\\\\india\\\\state\\\\dadra-&-nagar-haveli-&-daman-&-diu', 'C:/Users/Vishaal Grizzly/pulse\\\\pulse\\\\data\\\\top\\\\user\\\\country\\\\india\\\\state\\\\delhi', 'C:/Users/Vishaal Grizzly/pulse\\\\pulse\\\\data\\\\top\\\\user\\\\country\\\\india\\\\state\\\\goa', 'C:/Users/Vishaal Grizzly/pulse\\\\pulse\\\\data\\\\top\\\\user\\\\country\\\\india\\\\state\\\\gujarat', 'C:/Users/Vishaal Grizzly/pulse\\\\pulse\\\\data\\\\top\\\\user\\\\country\\\\india\\\\state\\\\haryana', 'C:/Users/Vishaal Grizzly/pulse\\\\pulse\\\\data\\\\top\\\\user\\\\country\\\\india\\\\state\\\\himachal-pradesh', 'C:/Users/Vishaal Grizzly/pulse\\\\pulse\\\\data\\\\top\\\\user\\\\country\\\\india\\\\state\\\\jammu-&-kashmir', 'C:/Users/Vishaal Grizzly/pulse\\\\pulse\\\\data\\\\top\\\\user\\\\country\\\\india\\\\state\\\\jharkhand', 'C:/Users/Vishaal Grizzly/pulse\\\\pulse\\\\data\\\\top\\\\user\\\\country\\\\india\\\\state\\\\karnataka', 'C:/Users/Vishaal Grizzly/pulse\\\\pulse\\\\data\\\\top\\\\user\\\\country\\\\india\\\\state\\\\kerala', 'C:/Users/Vishaal Grizzly/pulse\\\\pulse\\\\data\\\\top\\\\user\\\\country\\\\india\\\\state\\\\ladakh', 'C:/Users/Vishaal Grizzly/pulse\\\\pulse\\\\data\\\\top\\\\user\\\\country\\\\india\\\\state\\\\lakshadweep', 'C:/Users/Vishaal Grizzly/pulse\\\\pulse\\\\data\\\\top\\\\user\\\\country\\\\india\\\\state\\\\madhya-pradesh', 'C:/Users/Vishaal Grizzly/pulse\\\\pulse\\\\data\\\\top\\\\user\\\\country\\\\india\\\\state\\\\maharashtra', 'C:/Users/Vishaal Grizzly/pulse\\\\pulse\\\\data\\\\top\\\\user\\\\country\\\\india\\\\state\\\\manipur', 'C:/Users/Vishaal Grizzly/pulse\\\\pulse\\\\data\\\\top\\\\user\\\\country\\\\india\\\\state\\\\meghalaya', 'C:/Users/Vishaal Grizzly/pulse\\\\pulse\\\\data\\\\top\\\\user\\\\country\\\\india\\\\state\\\\mizoram', 'C:/Users/Vishaal Grizzly/pulse\\\\pulse\\\\data\\\\top\\\\user\\\\country\\\\india\\\\state\\\\nagaland', 'C:/Users/Vishaal Grizzly/pulse\\\\pulse\\\\data\\\\top\\\\user\\\\country\\\\india\\\\state\\\\odisha', 'C:/Users/Vishaal Grizzly/pulse\\\\pulse\\\\data\\\\top\\\\user\\\\country\\\\india\\\\state\\\\puducherry', 'C:/Users/Vishaal Grizzly/pulse\\\\pulse\\\\data\\\\top\\\\user\\\\country\\\\india\\\\state\\\\punjab', 'C:/Users/Vishaal Grizzly/pulse\\\\pulse\\\\data\\\\top\\\\user\\\\country\\\\india\\\\state\\\\rajasthan', 'C:/Users/Vishaal Grizzly/pulse\\\\pulse\\\\data\\\\top\\\\user\\\\country\\\\india\\\\state\\\\sikkim', 'C:/Users/Vishaal Grizzly/pulse\\\\pulse\\\\data\\\\top\\\\user\\\\country\\\\india\\\\state\\\\tamil-nadu', 'C:/Users/Vishaal Grizzly/pulse\\\\pulse\\\\data\\\\top\\\\user\\\\country\\\\india\\\\state\\\\telangana', 'C:/Users/Vishaal Grizzly/pulse\\\\pulse\\\\data\\\\top\\\\user\\\\country\\\\india\\\\state\\\\tripura', 'C:/Users/Vishaal Grizzly/pulse\\\\pulse\\\\data\\\\top\\\\user\\\\country\\\\india\\\\state\\\\uttar-pradesh', 'C:/Users/Vishaal Grizzly/pulse\\\\pulse\\\\data\\\\top\\\\user\\\\country\\\\india\\\\state\\\\uttarakhand', 'C:/Users/Vishaal Grizzly/pulse\\\\pulse\\\\data\\\\top\\\\user\\\\country\\\\india\\\\state\\\\west-bengal', 'C:/Users/Vishaal Grizzly/pulse\\\\pulse\\\\data\\\\top\\\\user\\\\country\\\\india\\\\state\\\\andaman-&-nicobar-islands\\\\2018', 'C:/Users/Vishaal Grizzly/pulse\\\\pulse\\\\data\\\\top\\\\user\\\\country\\\\india\\\\state\\\\andaman-&-nicobar-islands\\\\2019', 'C:/Users/Vishaal Grizzly/pulse\\\\pulse\\\\data\\\\top\\\\user\\\\country\\\\india\\\\state\\\\andaman-&-nicobar-islands\\\\2020', 'C:/Users/Vishaal Grizzly/pulse\\\\pulse\\\\data\\\\top\\\\user\\\\country\\\\india\\\\state\\\\andaman-&-nicobar-islands\\\\2021', 'C:/Users/Vishaal Grizzly/pulse\\\\pulse\\\\data\\\\top\\\\user\\\\country\\\\india\\\\state\\\\andaman-&-nicobar-islands\\\\2022', 'C:/Users/Vishaal Grizzly/pulse\\\\pulse\\\\data\\\\top\\\\user\\\\country\\\\india\\\\state\\\\andhra-pradesh\\\\2018', 'C:/Users/Vishaal Grizzly/pulse\\\\pulse\\\\data\\\\top\\\\user\\\\country\\\\india\\\\state\\\\andhra-pradesh\\\\2019', 'C:/Users/Vishaal Grizzly/pulse\\\\pulse\\\\data\\\\top\\\\user\\\\country\\\\india\\\\state\\\\andhra-pradesh\\\\2020', 'C:/Users/Vishaal Grizzly/pulse\\\\pulse\\\\data\\\\top\\\\user\\\\country\\\\india\\\\state\\\\andhra-pradesh\\\\2021', 'C:/Users/Vishaal Grizzly/pulse\\\\pulse\\\\data\\\\top\\\\user\\\\country\\\\india\\\\state\\\\andhra-pradesh\\\\2022', 'C:/Users/Vishaal Grizzly/pulse\\\\pulse\\\\data\\\\top\\\\user\\\\country\\\\india\\\\state\\\\arunachal-pradesh\\\\2018', 'C:/Users/Vishaal Grizzly/pulse\\\\pulse\\\\data\\\\top\\\\user\\\\country\\\\india\\\\state\\\\arunachal-pradesh\\\\2019', 'C:/Users/Vishaal Grizzly/pulse\\\\pulse\\\\data\\\\top\\\\user\\\\country\\\\india\\\\state\\\\arunachal-pradesh\\\\2020', 'C:/Users/Vishaal Grizzly/pulse\\\\pulse\\\\data\\\\top\\\\user\\\\country\\\\india\\\\state\\\\arunachal-pradesh\\\\2021', 'C:/Users/Vishaal Grizzly/pulse\\\\pulse\\\\data\\\\top\\\\user\\\\country\\\\india\\\\state\\\\arunachal-pradesh\\\\2022', 'C:/Users/Vishaal Grizzly/pulse\\\\pulse\\\\data\\\\top\\\\user\\\\country\\\\india\\\\state\\\\assam\\\\2018', 'C:/Users/Vishaal Grizzly/pulse\\\\pulse\\\\data\\\\top\\\\user\\\\country\\\\india\\\\state\\\\assam\\\\2019', 'C:/Users/Vishaal Grizzly/pulse\\\\pulse\\\\data\\\\top\\\\user\\\\country\\\\india\\\\state\\\\assam\\\\2020', 'C:/Users/Vishaal Grizzly/pulse\\\\pulse\\\\data\\\\top\\\\user\\\\country\\\\india\\\\state\\\\assam\\\\2021', 'C:/Users/Vishaal Grizzly/pulse\\\\pulse\\\\data\\\\top\\\\user\\\\country\\\\india\\\\state\\\\assam\\\\2022', 'C:/Users/Vishaal Grizzly/pulse\\\\pulse\\\\data\\\\top\\\\user\\\\country\\\\india\\\\state\\\\bihar\\\\2018', 'C:/Users/Vishaal Grizzly/pulse\\\\pulse\\\\data\\\\top\\\\user\\\\country\\\\india\\\\state\\\\bihar\\\\2019', 'C:/Users/Vishaal Grizzly/pulse\\\\pulse\\\\data\\\\top\\\\user\\\\country\\\\india\\\\state\\\\bihar\\\\2020', 'C:/Users/Vishaal Grizzly/pulse\\\\pulse\\\\data\\\\top\\\\user\\\\country\\\\india\\\\state\\\\bihar\\\\2021', 'C:/Users/Vishaal Grizzly/pulse\\\\pulse\\\\data\\\\top\\\\user\\\\country\\\\india\\\\state\\\\bihar\\\\2022', 'C:/Users/Vishaal Grizzly/pulse\\\\pulse\\\\data\\\\top\\\\user\\\\country\\\\india\\\\state\\\\chandigarh\\\\2018', 'C:/Users/Vishaal Grizzly/pulse\\\\pulse\\\\data\\\\top\\\\user\\\\country\\\\india\\\\state\\\\chandigarh\\\\2019', 'C:/Users/Vishaal Grizzly/pulse\\\\pulse\\\\data\\\\top\\\\user\\\\country\\\\india\\\\state\\\\chandigarh\\\\2020', 'C:/Users/Vishaal Grizzly/pulse\\\\pulse\\\\data\\\\top\\\\user\\\\country\\\\india\\\\state\\\\chandigarh\\\\2021', 'C:/Users/Vishaal Grizzly/pulse\\\\pulse\\\\data\\\\top\\\\user\\\\country\\\\india\\\\state\\\\chandigarh\\\\2022', 'C:/Users/Vishaal Grizzly/pulse\\\\pulse\\\\data\\\\top\\\\user\\\\country\\\\india\\\\state\\\\chhattisgarh\\\\2018', 'C:/Users/Vishaal Grizzly/pulse\\\\pulse\\\\data\\\\top\\\\user\\\\country\\\\india\\\\state\\\\chhattisgarh\\\\2019', 'C:/Users/Vishaal Grizzly/pulse\\\\pulse\\\\data\\\\top\\\\user\\\\country\\\\india\\\\state\\\\chhattisgarh\\\\2020', 'C:/Users/Vishaal Grizzly/pulse\\\\pulse\\\\data\\\\top\\\\user\\\\country\\\\india\\\\state\\\\chhattisgarh\\\\2021', 'C:/Users/Vishaal Grizzly/pulse\\\\pulse\\\\data\\\\top\\\\user\\\\country\\\\india\\\\state\\\\chhattisgarh\\\\2022', 'C:/Users/Vishaal Grizzly/pulse\\\\pulse\\\\data\\\\top\\\\user\\\\country\\\\india\\\\state\\\\dadra-&-nagar-haveli-&-daman-&-diu\\\\2018', 'C:/Users/Vishaal Grizzly/pulse\\\\pulse\\\\data\\\\top\\\\user\\\\country\\\\india\\\\state\\\\dadra-&-nagar-haveli-&-daman-&-diu\\\\2019', 'C:/Users/Vishaal Grizzly/pulse\\\\pulse\\\\data\\\\top\\\\user\\\\country\\\\india\\\\state\\\\dadra-&-nagar-haveli-&-daman-&-diu\\\\2020', 'C:/Users/Vishaal Grizzly/pulse\\\\pulse\\\\data\\\\top\\\\user\\\\country\\\\india\\\\state\\\\dadra-&-nagar-haveli-&-daman-&-diu\\\\2021', 'C:/Users/Vishaal Grizzly/pulse\\\\pulse\\\\data\\\\top\\\\user\\\\country\\\\india\\\\state\\\\dadra-&-nagar-haveli-&-daman-&-diu\\\\2022', 'C:/Users/Vishaal Grizzly/pulse\\\\pulse\\\\data\\\\top\\\\user\\\\country\\\\india\\\\state\\\\delhi\\\\2018', 'C:/Users/Vishaal Grizzly/pulse\\\\pulse\\\\data\\\\top\\\\user\\\\country\\\\india\\\\state\\\\delhi\\\\2019', 'C:/Users/Vishaal Grizzly/pulse\\\\pulse\\\\data\\\\top\\\\user\\\\country\\\\india\\\\state\\\\delhi\\\\2020', 'C:/Users/Vishaal Grizzly/pulse\\\\pulse\\\\data\\\\top\\\\user\\\\country\\\\india\\\\state\\\\delhi\\\\2021', 'C:/Users/Vishaal Grizzly/pulse\\\\pulse\\\\data\\\\top\\\\user\\\\country\\\\india\\\\state\\\\delhi\\\\2022', 'C:/Users/Vishaal Grizzly/pulse\\\\pulse\\\\data\\\\top\\\\user\\\\country\\\\india\\\\state\\\\goa\\\\2018', 'C:/Users/Vishaal Grizzly/pulse\\\\pulse\\\\data\\\\top\\\\user\\\\country\\\\india\\\\state\\\\goa\\\\2019', 'C:/Users/Vishaal Grizzly/pulse\\\\pulse\\\\data\\\\top\\\\user\\\\country\\\\india\\\\state\\\\goa\\\\2020', 'C:/Users/Vishaal Grizzly/pulse\\\\pulse\\\\data\\\\top\\\\user\\\\country\\\\india\\\\state\\\\goa\\\\2021', 'C:/Users/Vishaal Grizzly/pulse\\\\pulse\\\\data\\\\top\\\\user\\\\country\\\\india\\\\state\\\\goa\\\\2022', 'C:/Users/Vishaal Grizzly/pulse\\\\pulse\\\\data\\\\top\\\\user\\\\country\\\\india\\\\state\\\\gujarat\\\\2018', 'C:/Users/Vishaal Grizzly/pulse\\\\pulse\\\\data\\\\top\\\\user\\\\country\\\\india\\\\state\\\\gujarat\\\\2019', 'C:/Users/Vishaal Grizzly/pulse\\\\pulse\\\\data\\\\top\\\\user\\\\country\\\\india\\\\state\\\\gujarat\\\\2020', 'C:/Users/Vishaal Grizzly/pulse\\\\pulse\\\\data\\\\top\\\\user\\\\country\\\\india\\\\state\\\\gujarat\\\\2021', 'C:/Users/Vishaal Grizzly/pulse\\\\pulse\\\\data\\\\top\\\\user\\\\country\\\\india\\\\state\\\\gujarat\\\\2022', 'C:/Users/Vishaal Grizzly/pulse\\\\pulse\\\\data\\\\top\\\\user\\\\country\\\\india\\\\state\\\\haryana\\\\2018', 'C:/Users/Vishaal Grizzly/pulse\\\\pulse\\\\data\\\\top\\\\user\\\\country\\\\india\\\\state\\\\haryana\\\\2019', 'C:/Users/Vishaal Grizzly/pulse\\\\pulse\\\\data\\\\top\\\\user\\\\country\\\\india\\\\state\\\\haryana\\\\2020', 'C:/Users/Vishaal Grizzly/pulse\\\\pulse\\\\data\\\\top\\\\user\\\\country\\\\india\\\\state\\\\haryana\\\\2021', 'C:/Users/Vishaal Grizzly/pulse\\\\pulse\\\\data\\\\top\\\\user\\\\country\\\\india\\\\state\\\\haryana\\\\2022', 'C:/Users/Vishaal Grizzly/pulse\\\\pulse\\\\data\\\\top\\\\user\\\\country\\\\india\\\\state\\\\himachal-pradesh\\\\2018', 'C:/Users/Vishaal Grizzly/pulse\\\\pulse\\\\data\\\\top\\\\user\\\\country\\\\india\\\\state\\\\himachal-pradesh\\\\2019', 'C:/Users/Vishaal Grizzly/pulse\\\\pulse\\\\data\\\\top\\\\user\\\\country\\\\india\\\\state\\\\himachal-pradesh\\\\2020', 'C:/Users/Vishaal Grizzly/pulse\\\\pulse\\\\data\\\\top\\\\user\\\\country\\\\india\\\\state\\\\himachal-pradesh\\\\2021', 'C:/Users/Vishaal Grizzly/pulse\\\\pulse\\\\data\\\\top\\\\user\\\\country\\\\india\\\\state\\\\himachal-pradesh\\\\2022', 'C:/Users/Vishaal Grizzly/pulse\\\\pulse\\\\data\\\\top\\\\user\\\\country\\\\india\\\\state\\\\jammu-&-kashmir\\\\2018', 'C:/Users/Vishaal Grizzly/pulse\\\\pulse\\\\data\\\\top\\\\user\\\\country\\\\india\\\\state\\\\jammu-&-kashmir\\\\2019', 'C:/Users/Vishaal Grizzly/pulse\\\\pulse\\\\data\\\\top\\\\user\\\\country\\\\india\\\\state\\\\jammu-&-kashmir\\\\2020', 'C:/Users/Vishaal Grizzly/pulse\\\\pulse\\\\data\\\\top\\\\user\\\\country\\\\india\\\\state\\\\jammu-&-kashmir\\\\2021', 'C:/Users/Vishaal Grizzly/pulse\\\\pulse\\\\data\\\\top\\\\user\\\\country\\\\india\\\\state\\\\jammu-&-kashmir\\\\2022', 'C:/Users/Vishaal Grizzly/pulse\\\\pulse\\\\data\\\\top\\\\user\\\\country\\\\india\\\\state\\\\jharkhand\\\\2018', 'C:/Users/Vishaal Grizzly/pulse\\\\pulse\\\\data\\\\top\\\\user\\\\country\\\\india\\\\state\\\\jharkhand\\\\2019', 'C:/Users/Vishaal Grizzly/pulse\\\\pulse\\\\data\\\\top\\\\user\\\\country\\\\india\\\\state\\\\jharkhand\\\\2020', 'C:/Users/Vishaal Grizzly/pulse\\\\pulse\\\\data\\\\top\\\\user\\\\country\\\\india\\\\state\\\\jharkhand\\\\2021', 'C:/Users/Vishaal Grizzly/pulse\\\\pulse\\\\data\\\\top\\\\user\\\\country\\\\india\\\\state\\\\jharkhand\\\\2022', 'C:/Users/Vishaal Grizzly/pulse\\\\pulse\\\\data\\\\top\\\\user\\\\country\\\\india\\\\state\\\\karnataka\\\\2018', 'C:/Users/Vishaal Grizzly/pulse\\\\pulse\\\\data\\\\top\\\\user\\\\country\\\\india\\\\state\\\\karnataka\\\\2019', 'C:/Users/Vishaal Grizzly/pulse\\\\pulse\\\\data\\\\top\\\\user\\\\country\\\\india\\\\state\\\\karnataka\\\\2020', 'C:/Users/Vishaal Grizzly/pulse\\\\pulse\\\\data\\\\top\\\\user\\\\country\\\\india\\\\state\\\\karnataka\\\\2021', 'C:/Users/Vishaal Grizzly/pulse\\\\pulse\\\\data\\\\top\\\\user\\\\country\\\\india\\\\state\\\\karnataka\\\\2022', 'C:/Users/Vishaal Grizzly/pulse\\\\pulse\\\\data\\\\top\\\\user\\\\country\\\\india\\\\state\\\\kerala\\\\2018', 'C:/Users/Vishaal Grizzly/pulse\\\\pulse\\\\data\\\\top\\\\user\\\\country\\\\india\\\\state\\\\kerala\\\\2019', 'C:/Users/Vishaal Grizzly/pulse\\\\pulse\\\\data\\\\top\\\\user\\\\country\\\\india\\\\state\\\\kerala\\\\2020', 'C:/Users/Vishaal Grizzly/pulse\\\\pulse\\\\data\\\\top\\\\user\\\\country\\\\india\\\\state\\\\kerala\\\\2021', 'C:/Users/Vishaal Grizzly/pulse\\\\pulse\\\\data\\\\top\\\\user\\\\country\\\\india\\\\state\\\\kerala\\\\2022', 'C:/Users/Vishaal Grizzly/pulse\\\\pulse\\\\data\\\\top\\\\user\\\\country\\\\india\\\\state\\\\ladakh\\\\2018', 'C:/Users/Vishaal Grizzly/pulse\\\\pulse\\\\data\\\\top\\\\user\\\\country\\\\india\\\\state\\\\ladakh\\\\2019', 'C:/Users/Vishaal Grizzly/pulse\\\\pulse\\\\data\\\\top\\\\user\\\\country\\\\india\\\\state\\\\ladakh\\\\2020', 'C:/Users/Vishaal Grizzly/pulse\\\\pulse\\\\data\\\\top\\\\user\\\\country\\\\india\\\\state\\\\ladakh\\\\2021', 'C:/Users/Vishaal Grizzly/pulse\\\\pulse\\\\data\\\\top\\\\user\\\\country\\\\india\\\\state\\\\ladakh\\\\2022', 'C:/Users/Vishaal Grizzly/pulse\\\\pulse\\\\data\\\\top\\\\user\\\\country\\\\india\\\\state\\\\lakshadweep\\\\2018', 'C:/Users/Vishaal Grizzly/pulse\\\\pulse\\\\data\\\\top\\\\user\\\\country\\\\india\\\\state\\\\lakshadweep\\\\2019', 'C:/Users/Vishaal Grizzly/pulse\\\\pulse\\\\data\\\\top\\\\user\\\\country\\\\india\\\\state\\\\lakshadweep\\\\2020', 'C:/Users/Vishaal Grizzly/pulse\\\\pulse\\\\data\\\\top\\\\user\\\\country\\\\india\\\\state\\\\lakshadweep\\\\2021', 'C:/Users/Vishaal Grizzly/pulse\\\\pulse\\\\data\\\\top\\\\user\\\\country\\\\india\\\\state\\\\lakshadweep\\\\2022', 'C:/Users/Vishaal Grizzly/pulse\\\\pulse\\\\data\\\\top\\\\user\\\\country\\\\india\\\\state\\\\madhya-pradesh\\\\2018', 'C:/Users/Vishaal Grizzly/pulse\\\\pulse\\\\data\\\\top\\\\user\\\\country\\\\india\\\\state\\\\madhya-pradesh\\\\2019', 'C:/Users/Vishaal Grizzly/pulse\\\\pulse\\\\data\\\\top\\\\user\\\\country\\\\india\\\\state\\\\madhya-pradesh\\\\2020', 'C:/Users/Vishaal Grizzly/pulse\\\\pulse\\\\data\\\\top\\\\user\\\\country\\\\india\\\\state\\\\madhya-pradesh\\\\2021', 'C:/Users/Vishaal Grizzly/pulse\\\\pulse\\\\data\\\\top\\\\user\\\\country\\\\india\\\\state\\\\madhya-pradesh\\\\2022', 'C:/Users/Vishaal Grizzly/pulse\\\\pulse\\\\data\\\\top\\\\user\\\\country\\\\india\\\\state\\\\maharashtra\\\\2018', 'C:/Users/Vishaal Grizzly/pulse\\\\pulse\\\\data\\\\top\\\\user\\\\country\\\\india\\\\state\\\\maharashtra\\\\2019', 'C:/Users/Vishaal Grizzly/pulse\\\\pulse\\\\data\\\\top\\\\user\\\\country\\\\india\\\\state\\\\maharashtra\\\\2020', 'C:/Users/Vishaal Grizzly/pulse\\\\pulse\\\\data\\\\top\\\\user\\\\country\\\\india\\\\state\\\\maharashtra\\\\2021', 'C:/Users/Vishaal Grizzly/pulse\\\\pulse\\\\data\\\\top\\\\user\\\\country\\\\india\\\\state\\\\maharashtra\\\\2022', 'C:/Users/Vishaal Grizzly/pulse\\\\pulse\\\\data\\\\top\\\\user\\\\country\\\\india\\\\state\\\\manipur\\\\2018', 'C:/Users/Vishaal Grizzly/pulse\\\\pulse\\\\data\\\\top\\\\user\\\\country\\\\india\\\\state\\\\manipur\\\\2019', 'C:/Users/Vishaal Grizzly/pulse\\\\pulse\\\\data\\\\top\\\\user\\\\country\\\\india\\\\state\\\\manipur\\\\2020', 'C:/Users/Vishaal Grizzly/pulse\\\\pulse\\\\data\\\\top\\\\user\\\\country\\\\india\\\\state\\\\manipur\\\\2021', 'C:/Users/Vishaal Grizzly/pulse\\\\pulse\\\\data\\\\top\\\\user\\\\country\\\\india\\\\state\\\\manipur\\\\2022', 'C:/Users/Vishaal Grizzly/pulse\\\\pulse\\\\data\\\\top\\\\user\\\\country\\\\india\\\\state\\\\meghalaya\\\\2018', 'C:/Users/Vishaal Grizzly/pulse\\\\pulse\\\\data\\\\top\\\\user\\\\country\\\\india\\\\state\\\\meghalaya\\\\2019', 'C:/Users/Vishaal Grizzly/pulse\\\\pulse\\\\data\\\\top\\\\user\\\\country\\\\india\\\\state\\\\meghalaya\\\\2020', 'C:/Users/Vishaal Grizzly/pulse\\\\pulse\\\\data\\\\top\\\\user\\\\country\\\\india\\\\state\\\\meghalaya\\\\2021', 'C:/Users/Vishaal Grizzly/pulse\\\\pulse\\\\data\\\\top\\\\user\\\\country\\\\india\\\\state\\\\meghalaya\\\\2022', 'C:/Users/Vishaal Grizzly/pulse\\\\pulse\\\\data\\\\top\\\\user\\\\country\\\\india\\\\state\\\\mizoram\\\\2018', 'C:/Users/Vishaal Grizzly/pulse\\\\pulse\\\\data\\\\top\\\\user\\\\country\\\\india\\\\state\\\\mizoram\\\\2019', 'C:/Users/Vishaal Grizzly/pulse\\\\pulse\\\\data\\\\top\\\\user\\\\country\\\\india\\\\state\\\\mizoram\\\\2020', 'C:/Users/Vishaal Grizzly/pulse\\\\pulse\\\\data\\\\top\\\\user\\\\country\\\\india\\\\state\\\\mizoram\\\\2021', 'C:/Users/Vishaal Grizzly/pulse\\\\pulse\\\\data\\\\top\\\\user\\\\country\\\\india\\\\state\\\\mizoram\\\\2022', 'C:/Users/Vishaal Grizzly/pulse\\\\pulse\\\\data\\\\top\\\\user\\\\country\\\\india\\\\state\\\\nagaland\\\\2018', 'C:/Users/Vishaal Grizzly/pulse\\\\pulse\\\\data\\\\top\\\\user\\\\country\\\\india\\\\state\\\\nagaland\\\\2019', 'C:/Users/Vishaal Grizzly/pulse\\\\pulse\\\\data\\\\top\\\\user\\\\country\\\\india\\\\state\\\\nagaland\\\\2020', 'C:/Users/Vishaal Grizzly/pulse\\\\pulse\\\\data\\\\top\\\\user\\\\country\\\\india\\\\state\\\\nagaland\\\\2021', 'C:/Users/Vishaal Grizzly/pulse\\\\pulse\\\\data\\\\top\\\\user\\\\country\\\\india\\\\state\\\\nagaland\\\\2022', 'C:/Users/Vishaal Grizzly/pulse\\\\pulse\\\\data\\\\top\\\\user\\\\country\\\\india\\\\state\\\\odisha\\\\2018', 'C:/Users/Vishaal Grizzly/pulse\\\\pulse\\\\data\\\\top\\\\user\\\\country\\\\india\\\\state\\\\odisha\\\\2019', 'C:/Users/Vishaal Grizzly/pulse\\\\pulse\\\\data\\\\top\\\\user\\\\country\\\\india\\\\state\\\\odisha\\\\2020', 'C:/Users/Vishaal Grizzly/pulse\\\\pulse\\\\data\\\\top\\\\user\\\\country\\\\india\\\\state\\\\odisha\\\\2021', 'C:/Users/Vishaal Grizzly/pulse\\\\pulse\\\\data\\\\top\\\\user\\\\country\\\\india\\\\state\\\\odisha\\\\2022', 'C:/Users/Vishaal Grizzly/pulse\\\\pulse\\\\data\\\\top\\\\user\\\\country\\\\india\\\\state\\\\puducherry\\\\2018', 'C:/Users/Vishaal Grizzly/pulse\\\\pulse\\\\data\\\\top\\\\user\\\\country\\\\india\\\\state\\\\puducherry\\\\2019', 'C:/Users/Vishaal Grizzly/pulse\\\\pulse\\\\data\\\\top\\\\user\\\\country\\\\india\\\\state\\\\puducherry\\\\2020', 'C:/Users/Vishaal Grizzly/pulse\\\\pulse\\\\data\\\\top\\\\user\\\\country\\\\india\\\\state\\\\puducherry\\\\2021', 'C:/Users/Vishaal Grizzly/pulse\\\\pulse\\\\data\\\\top\\\\user\\\\country\\\\india\\\\state\\\\puducherry\\\\2022', 'C:/Users/Vishaal Grizzly/pulse\\\\pulse\\\\data\\\\top\\\\user\\\\country\\\\india\\\\state\\\\punjab\\\\2018', 'C:/Users/Vishaal Grizzly/pulse\\\\pulse\\\\data\\\\top\\\\user\\\\country\\\\india\\\\state\\\\punjab\\\\2019', 'C:/Users/Vishaal Grizzly/pulse\\\\pulse\\\\data\\\\top\\\\user\\\\country\\\\india\\\\state\\\\punjab\\\\2020', 'C:/Users/Vishaal Grizzly/pulse\\\\pulse\\\\data\\\\top\\\\user\\\\country\\\\india\\\\state\\\\punjab\\\\2021', 'C:/Users/Vishaal Grizzly/pulse\\\\pulse\\\\data\\\\top\\\\user\\\\country\\\\india\\\\state\\\\punjab\\\\2022', 'C:/Users/Vishaal Grizzly/pulse\\\\pulse\\\\data\\\\top\\\\user\\\\country\\\\india\\\\state\\\\rajasthan\\\\2018', 'C:/Users/Vishaal Grizzly/pulse\\\\pulse\\\\data\\\\top\\\\user\\\\country\\\\india\\\\state\\\\rajasthan\\\\2019', 'C:/Users/Vishaal Grizzly/pulse\\\\pulse\\\\data\\\\top\\\\user\\\\country\\\\india\\\\state\\\\rajasthan\\\\2020', 'C:/Users/Vishaal Grizzly/pulse\\\\pulse\\\\data\\\\top\\\\user\\\\country\\\\india\\\\state\\\\rajasthan\\\\2021', 'C:/Users/Vishaal Grizzly/pulse\\\\pulse\\\\data\\\\top\\\\user\\\\country\\\\india\\\\state\\\\rajasthan\\\\2022', 'C:/Users/Vishaal Grizzly/pulse\\\\pulse\\\\data\\\\top\\\\user\\\\country\\\\india\\\\state\\\\sikkim\\\\2018', 'C:/Users/Vishaal Grizzly/pulse\\\\pulse\\\\data\\\\top\\\\user\\\\country\\\\india\\\\state\\\\sikkim\\\\2019', 'C:/Users/Vishaal Grizzly/pulse\\\\pulse\\\\data\\\\top\\\\user\\\\country\\\\india\\\\state\\\\sikkim\\\\2020', 'C:/Users/Vishaal Grizzly/pulse\\\\pulse\\\\data\\\\top\\\\user\\\\country\\\\india\\\\state\\\\sikkim\\\\2021', 'C:/Users/Vishaal Grizzly/pulse\\\\pulse\\\\data\\\\top\\\\user\\\\country\\\\india\\\\state\\\\sikkim\\\\2022', 'C:/Users/Vishaal Grizzly/pulse\\\\pulse\\\\data\\\\top\\\\user\\\\country\\\\india\\\\state\\\\tamil-nadu\\\\2018', 'C:/Users/Vishaal Grizzly/pulse\\\\pulse\\\\data\\\\top\\\\user\\\\country\\\\india\\\\state\\\\tamil-nadu\\\\2019', 'C:/Users/Vishaal Grizzly/pulse\\\\pulse\\\\data\\\\top\\\\user\\\\country\\\\india\\\\state\\\\tamil-nadu\\\\2020', 'C:/Users/Vishaal Grizzly/pulse\\\\pulse\\\\data\\\\top\\\\user\\\\country\\\\india\\\\state\\\\tamil-nadu\\\\2021', 'C:/Users/Vishaal Grizzly/pulse\\\\pulse\\\\data\\\\top\\\\user\\\\country\\\\india\\\\state\\\\tamil-nadu\\\\2022', 'C:/Users/Vishaal Grizzly/pulse\\\\pulse\\\\data\\\\top\\\\user\\\\country\\\\india\\\\state\\\\telangana\\\\2018', 'C:/Users/Vishaal Grizzly/pulse\\\\pulse\\\\data\\\\top\\\\user\\\\country\\\\india\\\\state\\\\telangana\\\\2019', 'C:/Users/Vishaal Grizzly/pulse\\\\pulse\\\\data\\\\top\\\\user\\\\country\\\\india\\\\state\\\\telangana\\\\2020', 'C:/Users/Vishaal Grizzly/pulse\\\\pulse\\\\data\\\\top\\\\user\\\\country\\\\india\\\\state\\\\telangana\\\\2021', 'C:/Users/Vishaal Grizzly/pulse\\\\pulse\\\\data\\\\top\\\\user\\\\country\\\\india\\\\state\\\\telangana\\\\2022', 'C:/Users/Vishaal Grizzly/pulse\\\\pulse\\\\data\\\\top\\\\user\\\\country\\\\india\\\\state\\\\tripura\\\\2018', 'C:/Users/Vishaal Grizzly/pulse\\\\pulse\\\\data\\\\top\\\\user\\\\country\\\\india\\\\state\\\\tripura\\\\2019', 'C:/Users/Vishaal Grizzly/pulse\\\\pulse\\\\data\\\\top\\\\user\\\\country\\\\india\\\\state\\\\tripura\\\\2020', 'C:/Users/Vishaal Grizzly/pulse\\\\pulse\\\\data\\\\top\\\\user\\\\country\\\\india\\\\state\\\\tripura\\\\2021', 'C:/Users/Vishaal Grizzly/pulse\\\\pulse\\\\data\\\\top\\\\user\\\\country\\\\india\\\\state\\\\tripura\\\\2022', 'C:/Users/Vishaal Grizzly/pulse\\\\pulse\\\\data\\\\top\\\\user\\\\country\\\\india\\\\state\\\\uttar-pradesh\\\\2018', 'C:/Users/Vishaal Grizzly/pulse\\\\pulse\\\\data\\\\top\\\\user\\\\country\\\\india\\\\state\\\\uttar-pradesh\\\\2019', 'C:/Users/Vishaal Grizzly/pulse\\\\pulse\\\\data\\\\top\\\\user\\\\country\\\\india\\\\state\\\\uttar-pradesh\\\\2020', 'C:/Users/Vishaal Grizzly/pulse\\\\pulse\\\\data\\\\top\\\\user\\\\country\\\\india\\\\state\\\\uttar-pradesh\\\\2021', 'C:/Users/Vishaal Grizzly/pulse\\\\pulse\\\\data\\\\top\\\\user\\\\country\\\\india\\\\state\\\\uttar-pradesh\\\\2022', 'C:/Users/Vishaal Grizzly/pulse\\\\pulse\\\\data\\\\top\\\\user\\\\country\\\\india\\\\state\\\\uttarakhand\\\\2018', 'C:/Users/Vishaal Grizzly/pulse\\\\pulse\\\\data\\\\top\\\\user\\\\country\\\\india\\\\state\\\\uttarakhand\\\\2019', 'C:/Users/Vishaal Grizzly/pulse\\\\pulse\\\\data\\\\top\\\\user\\\\country\\\\india\\\\state\\\\uttarakhand\\\\2020', 'C:/Users/Vishaal Grizzly/pulse\\\\pulse\\\\data\\\\top\\\\user\\\\country\\\\india\\\\state\\\\uttarakhand\\\\2021', 'C:/Users/Vishaal Grizzly/pulse\\\\pulse\\\\data\\\\top\\\\user\\\\country\\\\india\\\\state\\\\uttarakhand\\\\2022', 'C:/Users/Vishaal Grizzly/pulse\\\\pulse\\\\data\\\\top\\\\user\\\\country\\\\india\\\\state\\\\west-bengal\\\\2018', 'C:/Users/Vishaal Grizzly/pulse\\\\pulse\\\\data\\\\top\\\\user\\\\country\\\\india\\\\state\\\\west-bengal\\\\2019', 'C:/Users/Vishaal Grizzly/pulse\\\\pulse\\\\data\\\\top\\\\user\\\\country\\\\india\\\\state\\\\west-bengal\\\\2020', 'C:/Users/Vishaal Grizzly/pulse\\\\pulse\\\\data\\\\top\\\\user\\\\country\\\\india\\\\state\\\\west-bengal\\\\2021', 'C:/Users/Vishaal Grizzly/pulse\\\\pulse\\\\data\\\\top\\\\user\\\\country\\\\india\\\\state\\\\west-bengal\\\\2022'] "
     ]
    }
   ],
   "source": [
    "\n",
    "directory_path = 'C:/Users/Vishaal Grizzly/pulse'  # Replace with the path to your directory\n",
    "\n",
    "subfolders = []\n",
    "\n",
    "# Use os.walk() to iterate over all subdirectories\n",
    "for dirpath, dirnames, filenames in os.walk(directory_path):\n",
    "    for dirname in dirnames:\n",
    "        # Construct the full path to the subfolder\n",
    "        subfolder_path = os.path.join(dirpath, dirname)\n",
    "        # Add the subfolder path to the list\n",
    "        subfolders.append(subfolder_path)\n",
    "\n",
    "# Print the list of subfolder paths\n",
    "print(subfolders, end = ' ')"
   ]
  },
  {
   "cell_type": "markdown",
   "metadata": {
    "id": "EazlZlqT_2oW"
   },
   "source": [
    "Displaying the directory"
   ]
  },
  {
   "cell_type": "code",
   "execution_count": 39,
   "metadata": {
    "colab": {
     "base_uri": "https://localhost:8080/"
    },
    "id": "763rTI8K_vDm",
    "outputId": "12e972c4-1011-4cf8-d191-20187b41d8c7"
   },
   "outputs": [
    {
     "name": "stdout",
     "output_type": "stream",
     "text": [
      " Volume in drive C is Windows-SSD\n",
      " Volume Serial Number is BE12-1C48\n",
      "\n",
      " Directory of C:\\Users\\Vishaal Grizzly\\pulse\n",
      "\n",
      "03/23/2023  11:18    <DIR>          .\n",
      "03/24/2023  13:50    <DIR>          ..\n",
      "03/22/2023  16:12                22 .gitignore\n",
      "03/23/2023  11:18           229,739 AggregatedData.csv\n",
      "03/23/2023  11:19           361,042 brandsused.csv\n",
      "03/22/2023  16:12    <DIR>          data\n",
      "03/23/2023  11:18    <DIR>          pulse\n",
      "03/23/2023  11:19           938,750 transbydistrictmap.csv\n",
      "03/23/2023  11:19           755,476 usersbydistmap.csv\n",
      "               5 File(s)      2,285,029 bytes\n",
      "               4 Dir(s)   8,710,250,496 bytes free\n"
     ]
    }
   ],
   "source": [
    "ls"
   ]
  },
  {
   "cell_type": "markdown",
   "metadata": {
    "id": "WvAUeJu_D2Ae"
   },
   "source": [
    "Removing unnecessary folders in the directory"
   ]
  },
  {
   "cell_type": "code",
   "execution_count": 40,
   "metadata": {
    "id": "6nZ6xAVa_8F_"
   },
   "outputs": [
    {
     "name": "stderr",
     "output_type": "stream",
     "text": [
      "Could Not Find C:\\Users\\Vishaal Grizzly\\pulse\\LICENSE\n"
     ]
    }
   ],
   "source": [
    "!del LICENSE README.md"
   ]
  },
  {
   "cell_type": "code",
   "execution_count": 41,
   "metadata": {
    "id": "foTtl_VoD54J"
   },
   "outputs": [],
   "source": [
    "path = r\"C:\\Users\\Vishaal Grizzly\\pulse/data/aggregated/transaction/country/india/state\" \n",
    "agg_trans_st_data = os.listdir(path)"
   ]
  },
  {
   "cell_type": "code",
   "execution_count": 42,
   "metadata": {
    "colab": {
     "base_uri": "https://localhost:8080/"
    },
    "id": "4F-CskAJJyL_",
    "outputId": "cb920495-302e-4d3b-aa25-e06f68de3387"
   },
   "outputs": [
    {
     "data": {
      "text/plain": [
       "['andaman-&-nicobar-islands',\n",
       " 'andhra-pradesh',\n",
       " 'arunachal-pradesh',\n",
       " 'assam',\n",
       " 'bihar',\n",
       " 'chandigarh',\n",
       " 'chhattisgarh',\n",
       " 'dadra-&-nagar-haveli-&-daman-&-diu',\n",
       " 'delhi',\n",
       " 'goa',\n",
       " 'gujarat',\n",
       " 'haryana',\n",
       " 'himachal-pradesh',\n",
       " 'jammu-&-kashmir',\n",
       " 'jharkhand',\n",
       " 'karnataka',\n",
       " 'kerala',\n",
       " 'ladakh',\n",
       " 'lakshadweep',\n",
       " 'madhya-pradesh',\n",
       " 'maharashtra',\n",
       " 'manipur',\n",
       " 'meghalaya',\n",
       " 'mizoram',\n",
       " 'nagaland',\n",
       " 'odisha',\n",
       " 'puducherry',\n",
       " 'punjab',\n",
       " 'rajasthan',\n",
       " 'sikkim',\n",
       " 'tamil-nadu',\n",
       " 'telangana',\n",
       " 'tripura',\n",
       " 'uttar-pradesh',\n",
       " 'uttarakhand',\n",
       " 'west-bengal']"
      ]
     },
     "execution_count": 42,
     "metadata": {},
     "output_type": "execute_result"
    }
   ],
   "source": [
    "agg_trans_st_data"
   ]
  },
  {
   "cell_type": "code",
   "execution_count": 43,
   "metadata": {
    "colab": {
     "base_uri": "https://localhost:8080/"
    },
    "id": "jmSnK3spiWok",
    "outputId": "3744a64c-b5b3-4382-8809-39b2881f6b3b"
   },
   "outputs": [
    {
     "name": "stdout",
     "output_type": "stream",
     "text": [
      "C:\\Users\\Vishaal Grizzly\\pulse/data/aggregated/transaction/country/india/state/andaman-&-nicobar-islands\n",
      "C:\\Users\\Vishaal Grizzly\\pulse/data/aggregated/transaction/country/india/state/andhra-pradesh\n",
      "C:\\Users\\Vishaal Grizzly\\pulse/data/aggregated/transaction/country/india/state/arunachal-pradesh\n",
      "C:\\Users\\Vishaal Grizzly\\pulse/data/aggregated/transaction/country/india/state/assam\n",
      "C:\\Users\\Vishaal Grizzly\\pulse/data/aggregated/transaction/country/india/state/bihar\n",
      "C:\\Users\\Vishaal Grizzly\\pulse/data/aggregated/transaction/country/india/state/chandigarh\n",
      "C:\\Users\\Vishaal Grizzly\\pulse/data/aggregated/transaction/country/india/state/chhattisgarh\n",
      "C:\\Users\\Vishaal Grizzly\\pulse/data/aggregated/transaction/country/india/state/dadra-&-nagar-haveli-&-daman-&-diu\n",
      "C:\\Users\\Vishaal Grizzly\\pulse/data/aggregated/transaction/country/india/state/delhi\n",
      "C:\\Users\\Vishaal Grizzly\\pulse/data/aggregated/transaction/country/india/state/goa\n",
      "C:\\Users\\Vishaal Grizzly\\pulse/data/aggregated/transaction/country/india/state/gujarat\n",
      "C:\\Users\\Vishaal Grizzly\\pulse/data/aggregated/transaction/country/india/state/haryana\n",
      "C:\\Users\\Vishaal Grizzly\\pulse/data/aggregated/transaction/country/india/state/himachal-pradesh\n",
      "C:\\Users\\Vishaal Grizzly\\pulse/data/aggregated/transaction/country/india/state/jammu-&-kashmir\n",
      "C:\\Users\\Vishaal Grizzly\\pulse/data/aggregated/transaction/country/india/state/jharkhand\n",
      "C:\\Users\\Vishaal Grizzly\\pulse/data/aggregated/transaction/country/india/state/karnataka\n",
      "C:\\Users\\Vishaal Grizzly\\pulse/data/aggregated/transaction/country/india/state/kerala\n",
      "C:\\Users\\Vishaal Grizzly\\pulse/data/aggregated/transaction/country/india/state/ladakh\n",
      "C:\\Users\\Vishaal Grizzly\\pulse/data/aggregated/transaction/country/india/state/lakshadweep\n",
      "C:\\Users\\Vishaal Grizzly\\pulse/data/aggregated/transaction/country/india/state/madhya-pradesh\n",
      "C:\\Users\\Vishaal Grizzly\\pulse/data/aggregated/transaction/country/india/state/maharashtra\n",
      "C:\\Users\\Vishaal Grizzly\\pulse/data/aggregated/transaction/country/india/state/manipur\n",
      "C:\\Users\\Vishaal Grizzly\\pulse/data/aggregated/transaction/country/india/state/meghalaya\n",
      "C:\\Users\\Vishaal Grizzly\\pulse/data/aggregated/transaction/country/india/state/mizoram\n",
      "C:\\Users\\Vishaal Grizzly\\pulse/data/aggregated/transaction/country/india/state/nagaland\n",
      "C:\\Users\\Vishaal Grizzly\\pulse/data/aggregated/transaction/country/india/state/odisha\n",
      "C:\\Users\\Vishaal Grizzly\\pulse/data/aggregated/transaction/country/india/state/puducherry\n",
      "C:\\Users\\Vishaal Grizzly\\pulse/data/aggregated/transaction/country/india/state/punjab\n",
      "C:\\Users\\Vishaal Grizzly\\pulse/data/aggregated/transaction/country/india/state/rajasthan\n",
      "C:\\Users\\Vishaal Grizzly\\pulse/data/aggregated/transaction/country/india/state/sikkim\n",
      "C:\\Users\\Vishaal Grizzly\\pulse/data/aggregated/transaction/country/india/state/tamil-nadu\n",
      "C:\\Users\\Vishaal Grizzly\\pulse/data/aggregated/transaction/country/india/state/telangana\n",
      "C:\\Users\\Vishaal Grizzly\\pulse/data/aggregated/transaction/country/india/state/tripura\n",
      "C:\\Users\\Vishaal Grizzly\\pulse/data/aggregated/transaction/country/india/state/uttar-pradesh\n",
      "C:\\Users\\Vishaal Grizzly\\pulse/data/aggregated/transaction/country/india/state/uttarakhand\n",
      "C:\\Users\\Vishaal Grizzly\\pulse/data/aggregated/transaction/country/india/state/west-bengal\n"
     ]
    }
   ],
   "source": [
    "for i in agg_trans_st_data:\n",
    "  st_path = path+'/'+i\n",
    "  print(st_path)"
   ]
  },
  {
   "cell_type": "code",
   "execution_count": 44,
   "metadata": {
    "id": "seZn3EMQvhep"
   },
   "outputs": [],
   "source": [
    "for i in agg_trans_st_data:\n",
    "  st_path = path+'/'+i\n",
    "  st_year = os.listdir(st_path)"
   ]
  },
  {
   "cell_type": "code",
   "execution_count": 45,
   "metadata": {
    "colab": {
     "base_uri": "https://localhost:8080/"
    },
    "id": "gxrjSlOrvzbb",
    "outputId": "6aae1914-b478-4b0d-fa33-6862fa3be2f5"
   },
   "outputs": [
    {
     "name": "stdout",
     "output_type": "stream",
     "text": [
      "{'success': True, 'code': 'SUCCESS', 'data': {'from': 1514745000000, 'to': 1522175400000, 'transactionData': [{'name': 'Recharge & bill payments', 'paymentInstruments': [{'type': 'TOTAL', 'count': 4200, 'amount': 1845307.4673655091}]}, {'name': 'Peer-to-peer payments', 'paymentInstruments': [{'type': 'TOTAL', 'count': 1871, 'amount': 12138655.299749982}]}, {'name': 'Merchant payments', 'paymentInstruments': [{'type': 'TOTAL', 'count': 298, 'amount': 452507.168646613}]}, {'name': 'Financial Services', 'paymentInstruments': [{'type': 'TOTAL', 'count': 33, 'amount': 10601.419933464953}]}, {'name': 'Others', 'paymentInstruments': [{'type': 'TOTAL', 'count': 256, 'amount': 184689.8662902223}]}]}, 'responseTimestamp': 1630501487199}\n",
      "{'success': True, 'code': 'SUCCESS', 'data': {'from': 1546281000000, 'to': 1553711400000, 'transactionData': [{'name': 'Recharge & bill payments', 'paymentInstruments': [{'type': 'TOTAL', 'count': 15263, 'amount': 6611459.8729725825}]}, {'name': 'Peer-to-peer payments', 'paymentInstruments': [{'type': 'TOTAL', 'count': 13119, 'amount': 91808345.86839552}]}, {'name': 'Merchant payments', 'paymentInstruments': [{'type': 'TOTAL', 'count': 1759, 'amount': 3266589.8469614363}]}, {'name': 'Financial Services', 'paymentInstruments': [{'type': 'TOTAL', 'count': 62, 'amount': 116250.43671861099}]}, {'name': 'Others', 'paymentInstruments': [{'type': 'TOTAL', 'count': 283, 'amount': 497094.6484417205}]}]}, 'responseTimestamp': 1630501490082}\n",
      "{'success': True, 'code': 'SUCCESS', 'data': {'from': 1577817000000, 'to': 1585333800000, 'transactionData': [{'name': 'Peer-to-peer payments', 'paymentInstruments': [{'type': 'TOTAL', 'count': 18324, 'amount': 142332401.79234773}]}, {'name': 'Recharge & bill payments', 'paymentInstruments': [{'type': 'TOTAL', 'count': 18268, 'amount': 10850414.023977457}]}, {'name': 'Merchant payments', 'paymentInstruments': [{'type': 'TOTAL', 'count': 4424, 'amount': 7752871.558217709}]}, {'name': 'Financial Services', 'paymentInstruments': [{'type': 'TOTAL', 'count': 66, 'amount': 208231.73071652642}]}, {'name': 'Others', 'paymentInstruments': [{'type': 'TOTAL', 'count': 216, 'amount': 332393.19201521645}]}]}, 'responseTimestamp': 1630501491518}\n",
      "{'success': True, 'code': 'SUCCESS', 'data': {'from': 1609439400000, 'to': 1616869800000, 'transactionData': [{'name': 'Peer-to-peer payments', 'paymentInstruments': [{'type': 'TOTAL', 'count': 105458, 'amount': 665391395.715478}]}, {'name': 'Recharge & bill payments', 'paymentInstruments': [{'type': 'TOTAL', 'count': 84119, 'amount': 37160922.86506996}]}, {'name': 'Merchant payments', 'paymentInstruments': [{'type': 'TOTAL', 'count': 53090, 'amount': 78606979.05751458}]}, {'name': 'Financial Services', 'paymentInstruments': [{'type': 'TOTAL', 'count': 884, 'amount': 1469351.0852598653}]}, {'name': 'Others', 'paymentInstruments': [{'type': 'TOTAL', 'count': 1201, 'amount': 1077918.666433228}]}]}, 'responseTimestamp': 1630501493698}\n",
      "{'success': True, 'code': 'SUCCESS', 'data': {'from': 1640975400000, 'to': 1648405800000, 'transactionData': [{'name': 'Peer-to-peer payments', 'paymentInstruments': [{'type': 'TOTAL', 'count': 342649, 'amount': 1682328505.7254477}]}, {'name': 'Merchant payments', 'paymentInstruments': [{'type': 'TOTAL', 'count': 284298, 'amount': 370091558.68373305}]}, {'name': 'Recharge & bill payments', 'paymentInstruments': [{'type': 'TOTAL', 'count': 163401, 'amount': 71300133.66101266}]}, {'name': 'Financial Services', 'paymentInstruments': [{'type': 'TOTAL', 'count': 1757, 'amount': 2869682.0229511866}]}, {'name': 'Others', 'paymentInstruments': [{'type': 'TOTAL', 'count': 2643, 'amount': 2440321.9820225406}]}]}, 'responseTimestamp': 1651127589768}\n",
      "{'success': True, 'code': 'SUCCESS', 'data': {'from': 1514745000000, 'to': 1522175400000, 'transactionData': [{'name': 'Recharge & bill payments', 'paymentInstruments': [{'type': 'TOTAL', 'count': 5027448, 'amount': 892293975.6698562}]}, {'name': 'Peer-to-peer payments', 'paymentInstruments': [{'type': 'TOTAL', 'count': 3049646, 'amount': 10524250283.178782}]}, {'name': 'Merchant payments', 'paymentInstruments': [{'type': 'TOTAL', 'count': 362672, 'amount': 247297640.24000686}]}, {'name': 'Financial Services', 'paymentInstruments': [{'type': 'TOTAL', 'count': 204305, 'amount': 44808449.7639544}]}, {'name': 'Others', 'paymentInstruments': [{'type': 'TOTAL', 'count': 395514, 'amount': 287626042.970705}]}]}, 'responseTimestamp': 1630501486876}\n",
      "{'success': True, 'code': 'SUCCESS', 'data': {'from': 1546281000000, 'to': 1553711400000, 'transactionData': [{'name': 'Peer-to-peer payments', 'paymentInstruments': [{'type': 'TOTAL', 'count': 37420988, 'amount': 77524329742.2595}]}, {'name': 'Recharge & bill payments', 'paymentInstruments': [{'type': 'TOTAL', 'count': 14022264, 'amount': 3480641602.3771377}]}, {'name': 'Merchant payments', 'paymentInstruments': [{'type': 'TOTAL', 'count': 5043682, 'amount': 2423536770.3706346}]}, {'name': 'Financial Services', 'paymentInstruments': [{'type': 'TOTAL', 'count': 416325, 'amount': 47150177.52982048}]}, {'name': 'Others', 'paymentInstruments': [{'type': 'TOTAL', 'count': 361263, 'amount': 284937624.5393019}]}]}, 'responseTimestamp': 1630501490082}\n",
      "{'success': True, 'code': 'SUCCESS', 'data': {'from': 1577817000000, 'to': 1585333800000, 'transactionData': [{'name': 'Peer-to-peer payments', 'paymentInstruments': [{'type': 'TOTAL', 'count': 65452143, 'amount': 223088554055.04755}]}, {'name': 'Merchant payments', 'paymentInstruments': [{'type': 'TOTAL', 'count': 31408022, 'amount': 18603161784.496994}]}, {'name': 'Recharge & bill payments', 'paymentInstruments': [{'type': 'TOTAL', 'count': 30449644, 'amount': 10813530777.973532}]}, {'name': 'Financial Services', 'paymentInstruments': [{'type': 'TOTAL', 'count': 75238, 'amount': 43739133.169823855}]}, {'name': 'Others', 'paymentInstruments': [{'type': 'TOTAL', 'count': 292310, 'amount': 188228538.37489766}]}]}, 'responseTimestamp': 1630501491518}\n",
      "{'success': True, 'code': 'SUCCESS', 'data': {'from': 1609439400000, 'to': 1616869800000, 'transactionData': [{'name': 'Peer-to-peer payments', 'paymentInstruments': [{'type': 'TOTAL', 'count': 149313738, 'amount': 580542193013.0018}]}, {'name': 'Merchant payments', 'paymentInstruments': [{'type': 'TOTAL', 'count': 97920281, 'amount': 70813192713.43477}]}, {'name': 'Recharge & bill payments', 'paymentInstruments': [{'type': 'TOTAL', 'count': 41940689, 'amount': 20546424964.14482}]}, {'name': 'Financial Services', 'paymentInstruments': [{'type': 'TOTAL', 'count': 225355, 'amount': 270313028.48452014}]}, {'name': 'Others', 'paymentInstruments': [{'type': 'TOTAL', 'count': 347907, 'amount': 272546457.5502677}]}]}, 'responseTimestamp': 1630501493703}\n",
      "{'success': True, 'code': 'SUCCESS', 'data': {'from': 1640975400000, 'to': 1648405800000, 'transactionData': [{'name': 'Peer-to-peer payments', 'paymentInstruments': [{'type': 'TOTAL', 'count': 288488560, 'amount': 1089629182596.4781}]}, {'name': 'Merchant payments', 'paymentInstruments': [{'type': 'TOTAL', 'count': 242031836, 'amount': 169419685917.19562}]}, {'name': 'Recharge & bill payments', 'paymentInstruments': [{'type': 'TOTAL', 'count': 51224170, 'amount': 34473036841.83001}]}, {'name': 'Financial Services', 'paymentInstruments': [{'type': 'TOTAL', 'count': 231651, 'amount': 324358965.11859065}]}, {'name': 'Others', 'paymentInstruments': [{'type': 'TOTAL', 'count': 627694, 'amount': 474382234.25397474}]}]}, 'responseTimestamp': 1651127581058}\n",
      "{'success': True, 'code': 'SUCCESS', 'data': {'from': 1514745000000, 'to': 1522175400000, 'transactionData': [{'name': 'Recharge & bill payments', 'paymentInstruments': [{'type': 'TOTAL', 'count': 28729, 'amount': 5184132.514934338}]}, {'name': 'Peer-to-peer payments', 'paymentInstruments': [{'type': 'TOTAL', 'count': 13320, 'amount': 82889682.72418305}]}, {'name': 'Merchant payments', 'paymentInstruments': [{'type': 'TOTAL', 'count': 1042, 'amount': 2420374.1905855755}]}, {'name': 'Financial Services', 'paymentInstruments': [{'type': 'TOTAL', 'count': 416, 'amount': 58893.76201533088}]}, {'name': 'Others', 'paymentInstruments': [{'type': 'TOTAL', 'count': 1990, 'amount': 1834252.8176908877}]}]}, 'responseTimestamp': 1630501487199}\n",
      "{'success': True, 'code': 'SUCCESS', 'data': {'from': 1546281000000, 'to': 1553711400000, 'transactionData': [{'name': 'Recharge & bill payments', 'paymentInstruments': [{'type': 'TOTAL', 'count': 121303, 'amount': 26796894.998233315}]}, {'name': 'Peer-to-peer payments', 'paymentInstruments': [{'type': 'TOTAL', 'count': 93494, 'amount': 568554821.4456317}]}, {'name': 'Merchant payments', 'paymentInstruments': [{'type': 'TOTAL', 'count': 9214, 'amount': 11727218.401334248}]}, {'name': 'Financial Services', 'paymentInstruments': [{'type': 'TOTAL', 'count': 256, 'amount': 140622.87093631705}]}, {'name': 'Others', 'paymentInstruments': [{'type': 'TOTAL', 'count': 2239, 'amount': 2730548.5978140826}]}]}, 'responseTimestamp': 1630501490085}\n",
      "{'success': True, 'code': 'SUCCESS', 'data': {'from': 1577817000000, 'to': 1585333800000, 'transactionData': [{'name': 'Recharge & bill payments', 'paymentInstruments': [{'type': 'TOTAL', 'count': 329834, 'amount': 86011654.77474582}]}, {'name': 'Peer-to-peer payments', 'paymentInstruments': [{'type': 'TOTAL', 'count': 203429, 'amount': 1263912288.4066367}]}, {'name': 'Merchant payments', 'paymentInstruments': [{'type': 'TOTAL', 'count': 31181, 'amount': 28553052.133918796}]}, {'name': 'Financial Services', 'paymentInstruments': [{'type': 'TOTAL', 'count': 470, 'amount': 337812.94816169393}]}, {'name': 'Others', 'paymentInstruments': [{'type': 'TOTAL', 'count': 2261, 'amount': 2943873.0666838237}]}]}, 'responseTimestamp': 1630501491518}\n",
      "{'success': True, 'code': 'SUCCESS', 'data': {'from': 1609439400000, 'to': 1616869800000, 'transactionData': [{'name': 'Peer-to-peer payments', 'paymentInstruments': [{'type': 'TOTAL', 'count': 566209, 'amount': 3460488558.9436507}]}, {'name': 'Recharge & bill payments', 'paymentInstruments': [{'type': 'TOTAL', 'count': 450649, 'amount': 142358376.9003836}]}, {'name': 'Merchant payments', 'paymentInstruments': [{'type': 'TOTAL', 'count': 155966, 'amount': 204958020.0891498}]}, {'name': 'Financial Services', 'paymentInstruments': [{'type': 'TOTAL', 'count': 1558, 'amount': 2672460.4740365944}]}, {'name': 'Others', 'paymentInstruments': [{'type': 'TOTAL', 'count': 3074, 'amount': 3301662.6094231335}]}]}, 'responseTimestamp': 1630501493767}\n",
      "{'success': True, 'code': 'SUCCESS', 'data': {'from': 1640975400000, 'to': 1648405800000, 'transactionData': [{'name': 'Peer-to-peer payments', 'paymentInstruments': [{'type': 'TOTAL', 'count': 1403584, 'amount': 6670641250.45945}]}, {'name': 'Merchant payments', 'paymentInstruments': [{'type': 'TOTAL', 'count': 720803, 'amount': 917155358.7177179}]}, {'name': 'Recharge & bill payments', 'paymentInstruments': [{'type': 'TOTAL', 'count': 670576, 'amount': 231933129.00412333}]}, {'name': 'Financial Services', 'paymentInstruments': [{'type': 'TOTAL', 'count': 3053, 'amount': 3359625.792926075}]}, {'name': 'Others', 'paymentInstruments': [{'type': 'TOTAL', 'count': 6052, 'amount': 5002264.113148138}]}]}, 'responseTimestamp': 1651127623057}\n",
      "{'success': True, 'code': 'SUCCESS', 'data': {'from': 1514745000000, 'to': 1522175400000, 'transactionData': [{'name': 'Recharge & bill payments', 'paymentInstruments': [{'type': 'TOTAL', 'count': 632092, 'amount': 93491181.14056379}]}, {'name': 'Peer-to-peer payments', 'paymentInstruments': [{'type': 'TOTAL', 'count': 318025, 'amount': 993525195.9818655}]}, {'name': 'Merchant payments', 'paymentInstruments': [{'type': 'TOTAL', 'count': 40482, 'amount': 34501622.89266755}]}, {'name': 'Financial Services', 'paymentInstruments': [{'type': 'TOTAL', 'count': 18172, 'amount': 4936862.200688562}]}, {'name': 'Others', 'paymentInstruments': [{'type': 'TOTAL', 'count': 48110, 'amount': 31349593.99668264}]}]}, 'responseTimestamp': 1630501486876}\n",
      "{'success': True, 'code': 'SUCCESS', 'data': {'from': 1546281000000, 'to': 1553711400000, 'transactionData': [{'name': 'Recharge & bill payments', 'paymentInstruments': [{'type': 'TOTAL', 'count': 1993220, 'amount': 400281677.94382846}]}, {'name': 'Peer-to-peer payments', 'paymentInstruments': [{'type': 'TOTAL', 'count': 1976310, 'amount': 7291433300.700247}]}, {'name': 'Merchant payments', 'paymentInstruments': [{'type': 'TOTAL', 'count': 494871, 'amount': 266644645.74929428}]}, {'name': 'Financial Services', 'paymentInstruments': [{'type': 'TOTAL', 'count': 20162, 'amount': 4612454.1127945455}]}, {'name': 'Others', 'paymentInstruments': [{'type': 'TOTAL', 'count': 48442, 'amount': 39127457.944687635}]}]}, 'responseTimestamp': 1630501490148}\n",
      "{'success': True, 'code': 'SUCCESS', 'data': {'from': 1577817000000, 'to': 1585333800000, 'transactionData': [{'name': 'Peer-to-peer payments', 'paymentInstruments': [{'type': 'TOTAL', 'count': 4058740, 'amount': 18977446151.768826}]}, {'name': 'Recharge & bill payments', 'paymentInstruments': [{'type': 'TOTAL', 'count': 3897975, 'amount': 971722606.1579468}]}, {'name': 'Merchant payments', 'paymentInstruments': [{'type': 'TOTAL', 'count': 792646, 'amount': 675423852.9512749}]}, {'name': 'Financial Services', 'paymentInstruments': [{'type': 'TOTAL', 'count': 10173, 'amount': 7054325.507515656}]}, {'name': 'Others', 'paymentInstruments': [{'type': 'TOTAL', 'count': 49326, 'amount': 36781411.34368035}]}]}, 'responseTimestamp': 1630501491518}\n",
      "{'success': True, 'code': 'SUCCESS', 'data': {'from': 1609439400000, 'to': 1616869800000, 'transactionData': [{'name': 'Peer-to-peer payments', 'paymentInstruments': [{'type': 'TOTAL', 'count': 9449096, 'amount': 45476079487.10464}]}, {'name': 'Recharge & bill payments', 'paymentInstruments': [{'type': 'TOTAL', 'count': 6494111, 'amount': 2103017761.546533}]}, {'name': 'Merchant payments', 'paymentInstruments': [{'type': 'TOTAL', 'count': 3459132, 'amount': 3657261586.2001615}]}, {'name': 'Financial Services', 'paymentInstruments': [{'type': 'TOTAL', 'count': 34049, 'amount': 41291047.3832124}]}, {'name': 'Others', 'paymentInstruments': [{'type': 'TOTAL', 'count': 75672, 'amount': 48814663.88782827}]}]}, 'responseTimestamp': 1630501493767}\n",
      "{'success': True, 'code': 'SUCCESS', 'data': {'from': 1640975400000, 'to': 1648405800000, 'transactionData': [{'name': 'Peer-to-peer payments', 'paymentInstruments': [{'type': 'TOTAL', 'count': 27156085, 'amount': 108855352347.44865}]}, {'name': 'Merchant payments', 'paymentInstruments': [{'type': 'TOTAL', 'count': 19011883, 'amount': 18833132506.022354}]}, {'name': 'Recharge & bill payments', 'paymentInstruments': [{'type': 'TOTAL', 'count': 12474674, 'amount': 4424035840.366192}]}, {'name': 'Financial Services', 'paymentInstruments': [{'type': 'TOTAL', 'count': 68432, 'amount': 73257991.39188361}]}, {'name': 'Others', 'paymentInstruments': [{'type': 'TOTAL', 'count': 178812, 'amount': 94659207.47378007}]}]}, 'responseTimestamp': 1651127598056}\n",
      "{'success': True, 'code': 'SUCCESS', 'data': {'from': 1514745000000, 'to': 1522175400000, 'transactionData': [{'name': 'Recharge & bill payments', 'paymentInstruments': [{'type': 'TOTAL', 'count': 3159922, 'amount': 375559206.7727593}]}, {'name': 'Peer-to-peer payments', 'paymentInstruments': [{'type': 'TOTAL', 'count': 2052089, 'amount': 5295346761.45083}]}, {'name': 'Financial Services', 'paymentInstruments': [{'type': 'TOTAL', 'count': 194295, 'amount': 33999413.87739952}]}, {'name': 'Merchant payments', 'paymentInstruments': [{'type': 'TOTAL', 'count': 138885, 'amount': 139827755.73655012}]}, {'name': 'Others', 'paymentInstruments': [{'type': 'TOTAL', 'count': 279111, 'amount': 201025034.17960182}]}]}, 'responseTimestamp': 1630501486877}\n",
      "{'success': True, 'code': 'SUCCESS', 'data': {'from': 1546281000000, 'to': 1553711400000, 'transactionData': [{'name': 'Peer-to-peer payments', 'paymentInstruments': [{'type': 'TOTAL', 'count': 16807040, 'amount': 38824078062.32093}]}, {'name': 'Recharge & bill payments', 'paymentInstruments': [{'type': 'TOTAL', 'count': 7036367, 'amount': 1333688182.5386746}]}, {'name': 'Merchant payments', 'paymentInstruments': [{'type': 'TOTAL', 'count': 2055267, 'amount': 1024996999.5279309}]}, {'name': 'Financial Services', 'paymentInstruments': [{'type': 'TOTAL', 'count': 204689, 'amount': 28599535.734409343}]}, {'name': 'Others', 'paymentInstruments': [{'type': 'TOTAL', 'count': 252871, 'amount': 291464734.4043106}]}]}, 'responseTimestamp': 1630501490148}\n",
      "{'success': True, 'code': 'SUCCESS', 'data': {'from': 1577817000000, 'to': 1585333800000, 'transactionData': [{'name': 'Peer-to-peer payments', 'paymentInstruments': [{'type': 'TOTAL', 'count': 23163922, 'amount': 99873688132.9031}]}, {'name': 'Recharge & bill payments', 'paymentInstruments': [{'type': 'TOTAL', 'count': 13837430, 'amount': 3680590624.9006104}]}, {'name': 'Merchant payments', 'paymentInstruments': [{'type': 'TOTAL', 'count': 7822567, 'amount': 5562692116.5708065}]}, {'name': 'Financial Services', 'paymentInstruments': [{'type': 'TOTAL', 'count': 57233, 'amount': 23954789.407903705}]}, {'name': 'Others', 'paymentInstruments': [{'type': 'TOTAL', 'count': 200663, 'amount': 115927863.46366584}]}]}, 'responseTimestamp': 1630501491518}\n",
      "{'success': True, 'code': 'SUCCESS', 'data': {'from': 1609439400000, 'to': 1616869800000, 'transactionData': [{'name': 'Peer-to-peer payments', 'paymentInstruments': [{'type': 'TOTAL', 'count': 58566582, 'amount': 242013312361.31104}]}, {'name': 'Merchant payments', 'paymentInstruments': [{'type': 'TOTAL', 'count': 33959313, 'amount': 30171144593.369873}]}, {'name': 'Recharge & bill payments', 'paymentInstruments': [{'type': 'TOTAL', 'count': 21974086, 'amount': 8505455545.448764}]}, {'name': 'Financial Services', 'paymentInstruments': [{'type': 'TOTAL', 'count': 124277, 'amount': 112949858.25028673}]}, {'name': 'Others', 'paymentInstruments': [{'type': 'TOTAL', 'count': 308219, 'amount': 170787342.8481179}]}]}, 'responseTimestamp': 1630501493767}\n",
      "{'success': True, 'code': 'SUCCESS', 'data': {'from': 1640975400000, 'to': 1648405800000, 'transactionData': [{'name': 'Peer-to-peer payments', 'paymentInstruments': [{'type': 'TOTAL', 'count': 138085265, 'amount': 500024806542.69324}]}, {'name': 'Merchant payments', 'paymentInstruments': [{'type': 'TOTAL', 'count': 114892163, 'amount': 95507710275.50963}]}, {'name': 'Recharge & bill payments', 'paymentInstruments': [{'type': 'TOTAL', 'count': 30545266, 'amount': 15431605247.390364}]}, {'name': 'Financial Services', 'paymentInstruments': [{'type': 'TOTAL', 'count': 169722, 'amount': 148088975.22896564}]}, {'name': 'Others', 'paymentInstruments': [{'type': 'TOTAL', 'count': 698018, 'amount': 299484690.3236611}]}]}, 'responseTimestamp': 1651127604986}\n",
      "{'success': True, 'code': 'SUCCESS', 'data': {'from': 1514745000000, 'to': 1522175400000, 'transactionData': [{'name': 'Recharge & bill payments', 'paymentInstruments': [{'type': 'TOTAL', 'count': 201262, 'amount': 47479581.16264416}]}, {'name': 'Peer-to-peer payments', 'paymentInstruments': [{'type': 'TOTAL', 'count': 135136, 'amount': 527998849.34055936}]}, {'name': 'Merchant payments', 'paymentInstruments': [{'type': 'TOTAL', 'count': 21431, 'amount': 19477066.533276718}]}, {'name': 'Financial Services', 'paymentInstruments': [{'type': 'TOTAL', 'count': 8473, 'amount': 1865618.249949839}]}, {'name': 'Others', 'paymentInstruments': [{'type': 'TOTAL', 'count': 15593, 'amount': 16614305.58119321}]}]}, 'responseTimestamp': 1630501486877}\n",
      "{'success': True, 'code': 'SUCCESS', 'data': {'from': 1546281000000, 'to': 1553711400000, 'transactionData': [{'name': 'Peer-to-peer payments', 'paymentInstruments': [{'type': 'TOTAL', 'count': 689400, 'amount': 2123866601.6513758}]}, {'name': 'Recharge & bill payments', 'paymentInstruments': [{'type': 'TOTAL', 'count': 390610, 'amount': 161414934.10238376}]}, {'name': 'Merchant payments', 'paymentInstruments': [{'type': 'TOTAL', 'count': 169984, 'amount': 97230471.44089967}]}, {'name': 'Financial Services', 'paymentInstruments': [{'type': 'TOTAL', 'count': 7412, 'amount': 917030.9066760786}]}, {'name': 'Others', 'paymentInstruments': [{'type': 'TOTAL', 'count': 17070, 'amount': 12603012.342693318}]}]}, 'responseTimestamp': 1630501490148}\n",
      "{'success': True, 'code': 'SUCCESS', 'data': {'from': 1577817000000, 'to': 1585333800000, 'transactionData': [{'name': 'Peer-to-peer payments', 'paymentInstruments': [{'type': 'TOTAL', 'count': 1087401, 'amount': 4421372542.468033}]}, {'name': 'Merchant payments', 'paymentInstruments': [{'type': 'TOTAL', 'count': 764832, 'amount': 438193845.4527705}]}, {'name': 'Recharge & bill payments', 'paymentInstruments': [{'type': 'TOTAL', 'count': 389851, 'amount': 257250007.2445577}]}, {'name': 'Financial Services', 'paymentInstruments': [{'type': 'TOTAL', 'count': 1574, 'amount': 1406138.1883251297}]}, {'name': 'Others', 'paymentInstruments': [{'type': 'TOTAL', 'count': 18853, 'amount': 8230536.662513691}]}]}, 'responseTimestamp': 1630501491521}\n",
      "{'success': True, 'code': 'SUCCESS', 'data': {'from': 1609439400000, 'to': 1616869800000, 'transactionData': [{'name': 'Merchant payments', 'paymentInstruments': [{'type': 'TOTAL', 'count': 1799072, 'amount': 1210594490.0981498}]}, {'name': 'Peer-to-peer payments', 'paymentInstruments': [{'type': 'TOTAL', 'count': 1472084, 'amount': 5916467167.303293}]}, {'name': 'Recharge & bill payments', 'paymentInstruments': [{'type': 'TOTAL', 'count': 678396, 'amount': 451109555.33889335}]}, {'name': 'Financial Services', 'paymentInstruments': [{'type': 'TOTAL', 'count': 5111, 'amount': 7700394.761505902}]}, {'name': 'Others', 'paymentInstruments': [{'type': 'TOTAL', 'count': 15574, 'amount': 10549252.044153867}]}]}, 'responseTimestamp': 1630501493767}\n",
      "{'success': True, 'code': 'SUCCESS', 'data': {'from': 1640975400000, 'to': 1648405800000, 'transactionData': [{'name': 'Merchant payments', 'paymentInstruments': [{'type': 'TOTAL', 'count': 4511757, 'amount': 3264574793.4564357}]}, {'name': 'Peer-to-peer payments', 'paymentInstruments': [{'type': 'TOTAL', 'count': 3012464, 'amount': 11150701028.605722}]}, {'name': 'Recharge & bill payments', 'paymentInstruments': [{'type': 'TOTAL', 'count': 1046187, 'amount': 731347957.2152067}]}, {'name': 'Financial Services', 'paymentInstruments': [{'type': 'TOTAL', 'count': 7228, 'amount': 13538635.562948208}]}, {'name': 'Others', 'paymentInstruments': [{'type': 'TOTAL', 'count': 22855, 'amount': 14829134.999686666}]}]}, 'responseTimestamp': 1651127606780}\n",
      "{'success': True, 'code': 'SUCCESS', 'data': {'from': 1514745000000, 'to': 1522175400000, 'transactionData': [{'name': 'Recharge & bill payments', 'paymentInstruments': [{'type': 'TOTAL', 'count': 1177618, 'amount': 206518662.81014803}]}, {'name': 'Peer-to-peer payments', 'paymentInstruments': [{'type': 'TOTAL', 'count': 550697, 'amount': 1838238336.1663632}]}, {'name': 'Merchant payments', 'paymentInstruments': [{'type': 'TOTAL', 'count': 42411, 'amount': 39708474.15869055}]}, {'name': 'Financial Services', 'paymentInstruments': [{'type': 'TOTAL', 'count': 33002, 'amount': 7350624.274461515}]}, {'name': 'Others', 'paymentInstruments': [{'type': 'TOTAL', 'count': 87786, 'amount': 57339459.82710209}]}]}, 'responseTimestamp': 1630501487199}\n",
      "{'success': True, 'code': 'SUCCESS', 'data': {'from': 1546281000000, 'to': 1553711400000, 'transactionData': [{'name': 'Peer-to-peer payments', 'paymentInstruments': [{'type': 'TOTAL', 'count': 4068056, 'amount': 11417366152.388483}]}, {'name': 'Recharge & bill payments', 'paymentInstruments': [{'type': 'TOTAL', 'count': 2997095, 'amount': 679458794.5442779}]}, {'name': 'Merchant payments', 'paymentInstruments': [{'type': 'TOTAL', 'count': 710047, 'amount': 374735986.85082686}]}, {'name': 'Financial Services', 'paymentInstruments': [{'type': 'TOTAL', 'count': 33835, 'amount': 5075418.743007188}]}, {'name': 'Others', 'paymentInstruments': [{'type': 'TOTAL', 'count': 78636, 'amount': 67920032.80184662}]}]}, 'responseTimestamp': 1630501490151}\n",
      "{'success': True, 'code': 'SUCCESS', 'data': {'from': 1577817000000, 'to': 1585333800000, 'transactionData': [{'name': 'Peer-to-peer payments', 'paymentInstruments': [{'type': 'TOTAL', 'count': 8109789, 'amount': 28723854868.846924}]}, {'name': 'Recharge & bill payments', 'paymentInstruments': [{'type': 'TOTAL', 'count': 6400067, 'amount': 1688995018.2209015}]}, {'name': 'Merchant payments', 'paymentInstruments': [{'type': 'TOTAL', 'count': 4923214, 'amount': 2393811867.3887434}]}, {'name': 'Financial Services', 'paymentInstruments': [{'type': 'TOTAL', 'count': 12424, 'amount': 7378557.223060286}]}, {'name': 'Others', 'paymentInstruments': [{'type': 'TOTAL', 'count': 78497, 'amount': 46557359.6766012}]}]}, 'responseTimestamp': 1630501491570}\n",
      "{'success': True, 'code': 'SUCCESS', 'data': {'from': 1609439400000, 'to': 1616869800000, 'transactionData': [{'name': 'Peer-to-peer payments', 'paymentInstruments': [{'type': 'TOTAL', 'count': 15621154, 'amount': 55638916992.13896}]}, {'name': 'Merchant payments', 'paymentInstruments': [{'type': 'TOTAL', 'count': 15222763, 'amount': 10661449529.109669}]}, {'name': 'Recharge & bill payments', 'paymentInstruments': [{'type': 'TOTAL', 'count': 8456094, 'amount': 3000977538.840563}]}, {'name': 'Financial Services', 'paymentInstruments': [{'type': 'TOTAL', 'count': 37395, 'amount': 40387648.84021996}]}, {'name': 'Others', 'paymentInstruments': [{'type': 'TOTAL', 'count': 99031, 'amount': 68111552.62215017}]}]}, 'responseTimestamp': 1630501493768}\n"
     ]
    },
    {
     "name": "stdout",
     "output_type": "stream",
     "text": [
      "{'success': True, 'code': 'SUCCESS', 'data': {'from': 1640975400000, 'to': 1648405800000, 'transactionData': [{'name': 'Merchant payments', 'paymentInstruments': [{'type': 'TOTAL', 'count': 48236094, 'amount': 33822547183.04485}]}, {'name': 'Peer-to-peer payments', 'paymentInstruments': [{'type': 'TOTAL', 'count': 37457039, 'amount': 118393860520.57216}]}, {'name': 'Recharge & bill payments', 'paymentInstruments': [{'type': 'TOTAL', 'count': 11466264, 'amount': 5442872986.10511}]}, {'name': 'Financial Services', 'paymentInstruments': [{'type': 'TOTAL', 'count': 52918, 'amount': 55991695.312008664}]}, {'name': 'Others', 'paymentInstruments': [{'type': 'TOTAL', 'count': 200977, 'amount': 131773069.80038045}]}]}, 'responseTimestamp': 1651127621625}\n",
      "{'success': True, 'code': 'SUCCESS', 'data': {'from': 1514745000000, 'to': 1522175400000, 'transactionData': [{'name': 'Recharge & bill payments', 'paymentInstruments': [{'type': 'TOTAL', 'count': 95544, 'amount': 17526369.5804541}]}, {'name': 'Peer-to-peer payments', 'paymentInstruments': [{'type': 'TOTAL', 'count': 44599, 'amount': 151966933.24607396}]}, {'name': 'Merchant payments', 'paymentInstruments': [{'type': 'TOTAL', 'count': 1531, 'amount': 1580762.779739072}]}, {'name': 'Financial Services', 'paymentInstruments': [{'type': 'TOTAL', 'count': 1364, 'amount': 353171.5523814913}]}, {'name': 'Others', 'paymentInstruments': [{'type': 'TOTAL', 'count': 5511, 'amount': 4231146.95056825}]}]}, 'responseTimestamp': 1630501487217}\n",
      "{'success': True, 'code': 'SUCCESS', 'data': {'from': 1546281000000, 'to': 1553711400000, 'transactionData': [{'name': 'Peer-to-peer payments', 'paymentInstruments': [{'type': 'TOTAL', 'count': 408465, 'amount': 757657638.3173952}]}, {'name': 'Recharge & bill payments', 'paymentInstruments': [{'type': 'TOTAL', 'count': 225998, 'amount': 62660761.88806932}]}, {'name': 'Merchant payments', 'paymentInstruments': [{'type': 'TOTAL', 'count': 20694, 'amount': 17043867.88608146}]}, {'name': 'Financial Services', 'paymentInstruments': [{'type': 'TOTAL', 'count': 1645, 'amount': 221064.6189234741}]}, {'name': 'Others', 'paymentInstruments': [{'type': 'TOTAL', 'count': 5012, 'amount': 5786443.339431095}]}]}, 'responseTimestamp': 1630501490152}\n",
      "{'success': True, 'code': 'SUCCESS', 'data': {'from': 1577817000000, 'to': 1585333800000, 'transactionData': [{'name': 'Recharge & bill payments', 'paymentInstruments': [{'type': 'TOTAL', 'count': 407577, 'amount': 153340696.30393675}]}, {'name': 'Peer-to-peer payments', 'paymentInstruments': [{'type': 'TOTAL', 'count': 329005, 'amount': 1119439489.5005136}]}, {'name': 'Merchant payments', 'paymentInstruments': [{'type': 'TOTAL', 'count': 137040, 'amount': 66713356.798143014}]}, {'name': 'Financial Services', 'paymentInstruments': [{'type': 'TOTAL', 'count': 668, 'amount': 418783.1260904173}]}, {'name': 'Others', 'paymentInstruments': [{'type': 'TOTAL', 'count': 4289, 'amount': 2851043.563834071}]}]}, 'responseTimestamp': 1630501491570}\n",
      "{'success': True, 'code': 'SUCCESS', 'data': {'from': 1609439400000, 'to': 1616869800000, 'transactionData': [{'name': 'Peer-to-peer payments', 'paymentInstruments': [{'type': 'TOTAL', 'count': 768921, 'amount': 2379220756.2230163}]}, {'name': 'Merchant payments', 'paymentInstruments': [{'type': 'TOTAL', 'count': 705821, 'amount': 367522132.38063604}]}, {'name': 'Recharge & bill payments', 'paymentInstruments': [{'type': 'TOTAL', 'count': 442926, 'amount': 213177144.73200977}]}, {'name': 'Financial Services', 'paymentInstruments': [{'type': 'TOTAL', 'count': 2243, 'amount': 1930008.9716834244}]}, {'name': 'Others', 'paymentInstruments': [{'type': 'TOTAL', 'count': 5333, 'amount': 3782868.8861592514}]}]}, 'responseTimestamp': 1630501493770}\n",
      "{'success': True, 'code': 'SUCCESS', 'data': {'from': 1640975400000, 'to': 1648405800000, 'transactionData': [{'name': 'Merchant payments', 'paymentInstruments': [{'type': 'TOTAL', 'count': 2507246, 'amount': 1227972829.6970267}]}, {'name': 'Peer-to-peer payments', 'paymentInstruments': [{'type': 'TOTAL', 'count': 1745454, 'amount': 4674787017.541661}]}, {'name': 'Recharge & bill payments', 'paymentInstruments': [{'type': 'TOTAL', 'count': 538134, 'amount': 326296370.82357025}]}, {'name': 'Financial Services', 'paymentInstruments': [{'type': 'TOTAL', 'count': 2574, 'amount': 2661345.5534556974}]}, {'name': 'Others', 'paymentInstruments': [{'type': 'TOTAL', 'count': 9395, 'amount': 5330803.646676767}]}]}, 'responseTimestamp': 1651127588866}\n",
      "{'success': True, 'code': 'SUCCESS', 'data': {'from': 1514745000000, 'to': 1522175400000, 'transactionData': [{'name': 'Recharge & bill payments', 'paymentInstruments': [{'type': 'TOTAL', 'count': 3947297, 'amount': 1320559612.770412}]}, {'name': 'Peer-to-peer payments', 'paymentInstruments': [{'type': 'TOTAL', 'count': 2380820, 'amount': 9125685134.894358}]}, {'name': 'Merchant payments', 'paymentInstruments': [{'type': 'TOTAL', 'count': 339809, 'amount': 375393115.19131327}]}, {'name': 'Financial Services', 'paymentInstruments': [{'type': 'TOTAL', 'count': 136240, 'amount': 45588429.271575734}]}, {'name': 'Others', 'paymentInstruments': [{'type': 'TOTAL', 'count': 318588, 'amount': 344277514.7923026}]}]}, 'responseTimestamp': 1630501487217}\n",
      "{'success': True, 'code': 'SUCCESS', 'data': {'from': 1546281000000, 'to': 1553711400000, 'transactionData': [{'name': 'Peer-to-peer payments', 'paymentInstruments': [{'type': 'TOTAL', 'count': 20216287, 'amount': 48250023720.99173}]}, {'name': 'Merchant payments', 'paymentInstruments': [{'type': 'TOTAL', 'count': 13875931, 'amount': 3996618719.7994804}]}, {'name': 'Recharge & bill payments', 'paymentInstruments': [{'type': 'TOTAL', 'count': 10744978, 'amount': 5521320539.356212}]}, {'name': 'Financial Services', 'paymentInstruments': [{'type': 'TOTAL', 'count': 223095, 'amount': 30997039.697555833}]}, {'name': 'Others', 'paymentInstruments': [{'type': 'TOTAL', 'count': 1947036, 'amount': 670171769.6522964}]}]}, 'responseTimestamp': 1630501490150}\n",
      "{'success': True, 'code': 'SUCCESS', 'data': {'from': 1577817000000, 'to': 1585333800000, 'transactionData': [{'name': 'Merchant payments', 'paymentInstruments': [{'type': 'TOTAL', 'count': 33951545, 'amount': 14470782771.054684}]}, {'name': 'Peer-to-peer payments', 'paymentInstruments': [{'type': 'TOTAL', 'count': 32410795, 'amount': 108987600006.3667}]}, {'name': 'Recharge & bill payments', 'paymentInstruments': [{'type': 'TOTAL', 'count': 12822919, 'amount': 9498791147.929193}]}, {'name': 'Financial Services', 'paymentInstruments': [{'type': 'TOTAL', 'count': 46529, 'amount': 39908838.24852887}]}, {'name': 'Others', 'paymentInstruments': [{'type': 'TOTAL', 'count': 2515816, 'amount': 619460878.9909673}]}]}, 'responseTimestamp': 1630501491570}\n",
      "{'success': True, 'code': 'SUCCESS', 'data': {'from': 1609439400000, 'to': 1616869800000, 'transactionData': [{'name': 'Merchant payments', 'paymentInstruments': [{'type': 'TOTAL', 'count': 72615587, 'amount': 39861532639.012344}]}, {'name': 'Peer-to-peer payments', 'paymentInstruments': [{'type': 'TOTAL', 'count': 61957428, 'amount': 210823551741.40936}]}, {'name': 'Recharge & bill payments', 'paymentInstruments': [{'type': 'TOTAL', 'count': 21164274, 'amount': 15447408658.778738}]}, {'name': 'Financial Services', 'paymentInstruments': [{'type': 'TOTAL', 'count': 153039, 'amount': 203106852.42387855}]}, {'name': 'Others', 'paymentInstruments': [{'type': 'TOTAL', 'count': 1468676, 'amount': 592745151.8683048}]}]}, 'responseTimestamp': 1630501493906}\n",
      "{'success': True, 'code': 'SUCCESS', 'data': {'from': 1640975400000, 'to': 1648405800000, 'transactionData': [{'name': 'Merchant payments', 'paymentInstruments': [{'type': 'TOTAL', 'count': 174454937, 'amount': 98212381475.57239}]}, {'name': 'Peer-to-peer payments', 'paymentInstruments': [{'type': 'TOTAL', 'count': 125111881, 'amount': 415305045689.30945}]}, {'name': 'Recharge & bill payments', 'paymentInstruments': [{'type': 'TOTAL', 'count': 29435981, 'amount': 22482865572.904938}]}, {'name': 'Financial Services', 'paymentInstruments': [{'type': 'TOTAL', 'count': 195184, 'amount': 271039329.10874933}]}, {'name': 'Others', 'paymentInstruments': [{'type': 'TOTAL', 'count': 1801878, 'amount': 693588769.393249}]}]}, 'responseTimestamp': 1651127628572}\n",
      "{'success': True, 'code': 'SUCCESS', 'data': {'from': 1514745000000, 'to': 1522175400000, 'transactionData': [{'name': 'Recharge & bill payments', 'paymentInstruments': [{'type': 'TOTAL', 'count': 85991, 'amount': 18273814.162708722}]}, {'name': 'Peer-to-peer payments', 'paymentInstruments': [{'type': 'TOTAL', 'count': 59651, 'amount': 268175048.06992978}]}, {'name': 'Merchant payments', 'paymentInstruments': [{'type': 'TOTAL', 'count': 7880, 'amount': 11036031.735657964}]}, {'name': 'Financial Services', 'paymentInstruments': [{'type': 'TOTAL', 'count': 1191, 'amount': 520105.642400422}]}, {'name': 'Others', 'paymentInstruments': [{'type': 'TOTAL', 'count': 6184, 'amount': 5851742.732386975}]}]}, 'responseTimestamp': 1630501487217}\n",
      "{'success': True, 'code': 'SUCCESS', 'data': {'from': 1546281000000, 'to': 1553711400000, 'transactionData': [{'name': 'Peer-to-peer payments', 'paymentInstruments': [{'type': 'TOTAL', 'count': 378848, 'amount': 1310759847.8146646}]}, {'name': 'Recharge & bill payments', 'paymentInstruments': [{'type': 'TOTAL', 'count': 275277, 'amount': 78212835.0406034}]}, {'name': 'Merchant payments', 'paymentInstruments': [{'type': 'TOTAL', 'count': 74527, 'amount': 75946974.41483101}]}, {'name': 'Financial Services', 'paymentInstruments': [{'type': 'TOTAL', 'count': 2013, 'amount': 499592.0966860995}]}, {'name': 'Others', 'paymentInstruments': [{'type': 'TOTAL', 'count': 8147, 'amount': 9904147.90979165}]}]}, 'responseTimestamp': 1630501490151}\n",
      "{'success': True, 'code': 'SUCCESS', 'data': {'from': 1577817000000, 'to': 1585333800000, 'transactionData': [{'name': 'Peer-to-peer payments', 'paymentInstruments': [{'type': 'TOTAL', 'count': 817198, 'amount': 2851686768.653684}]}, {'name': 'Recharge & bill payments', 'paymentInstruments': [{'type': 'TOTAL', 'count': 678079, 'amount': 244739382.20701858}]}, {'name': 'Merchant payments', 'paymentInstruments': [{'type': 'TOTAL', 'count': 373110, 'amount': 298421548.1046571}]}, {'name': 'Financial Services', 'paymentInstruments': [{'type': 'TOTAL', 'count': 1762, 'amount': 1816477.5692472362}]}, {'name': 'Others', 'paymentInstruments': [{'type': 'TOTAL', 'count': 11088, 'amount': 13707055.389155574}]}]}, 'responseTimestamp': 1630501491572}\n",
      "{'success': True, 'code': 'SUCCESS', 'data': {'from': 1609439400000, 'to': 1616869800000, 'transactionData': [{'name': 'Peer-to-peer payments', 'paymentInstruments': [{'type': 'TOTAL', 'count': 2235456, 'amount': 7553384653.1682}]}, {'name': 'Merchant payments', 'paymentInstruments': [{'type': 'TOTAL', 'count': 2195509, 'amount': 1768358976.7158575}]}, {'name': 'Recharge & bill payments', 'paymentInstruments': [{'type': 'TOTAL', 'count': 880682, 'amount': 410604192.7268899}]}, {'name': 'Financial Services', 'paymentInstruments': [{'type': 'TOTAL', 'count': 8138, 'amount': 12207778.148638733}]}, {'name': 'Others', 'paymentInstruments': [{'type': 'TOTAL', 'count': 11764, 'amount': 12687278.26183929}]}]}, 'responseTimestamp': 1630501493906}\n",
      "{'success': True, 'code': 'SUCCESS', 'data': {'from': 1640975400000, 'to': 1648405800000, 'transactionData': [{'name': 'Merchant payments', 'paymentInstruments': [{'type': 'TOTAL', 'count': 6364271, 'amount': 4682000388.389215}]}, {'name': 'Peer-to-peer payments', 'paymentInstruments': [{'type': 'TOTAL', 'count': 4640380, 'amount': 14449830641.555716}]}, {'name': 'Recharge & bill payments', 'paymentInstruments': [{'type': 'TOTAL', 'count': 1177071, 'amount': 646403472.1135541}]}, {'name': 'Financial Services', 'paymentInstruments': [{'type': 'TOTAL', 'count': 11677, 'amount': 17490493.19245399}]}, {'name': 'Others', 'paymentInstruments': [{'type': 'TOTAL', 'count': 20699, 'amount': 20720407.595174044}]}]}, 'responseTimestamp': 1651127622549}\n",
      "{'success': True, 'code': 'SUCCESS', 'data': {'from': 1514745000000, 'to': 1522175400000, 'transactionData': [{'name': 'Recharge & bill payments', 'paymentInstruments': [{'type': 'TOTAL', 'count': 3691952, 'amount': 878929080.9916563}]}, {'name': 'Peer-to-peer payments', 'paymentInstruments': [{'type': 'TOTAL', 'count': 1738974, 'amount': 6318864759.888066}]}, {'name': 'Merchant payments', 'paymentInstruments': [{'type': 'TOTAL', 'count': 145436, 'amount': 166036667.57089135}]}, {'name': 'Financial Services', 'paymentInstruments': [{'type': 'TOTAL', 'count': 122117, 'amount': 27986679.009713165}]}, {'name': 'Others', 'paymentInstruments': [{'type': 'TOTAL', 'count': 250296, 'amount': 186165067.5737218}]}]}, 'responseTimestamp': 1630501487217}\n",
      "{'success': True, 'code': 'SUCCESS', 'data': {'from': 1546281000000, 'to': 1553711400000, 'transactionData': [{'name': 'Peer-to-peer payments', 'paymentInstruments': [{'type': 'TOTAL', 'count': 13465044, 'amount': 31231285551.308655}]}, {'name': 'Recharge & bill payments', 'paymentInstruments': [{'type': 'TOTAL', 'count': 8595256, 'amount': 3104251732.6516943}]}, {'name': 'Merchant payments', 'paymentInstruments': [{'type': 'TOTAL', 'count': 2493340, 'amount': 1296376125.1752787}]}, {'name': 'Financial Services', 'paymentInstruments': [{'type': 'TOTAL', 'count': 114539, 'amount': 19581520.569400217}]}, {'name': 'Others', 'paymentInstruments': [{'type': 'TOTAL', 'count': 323272, 'amount': 204585378.77191538}]}]}, 'responseTimestamp': 1630501490189}\n",
      "{'success': True, 'code': 'SUCCESS', 'data': {'from': 1577817000000, 'to': 1585333800000, 'transactionData': [{'name': 'Peer-to-peer payments', 'paymentInstruments': [{'type': 'TOTAL', 'count': 19068093, 'amount': 72393727235.07784}]}, {'name': 'Recharge & bill payments', 'paymentInstruments': [{'type': 'TOTAL', 'count': 15648472, 'amount': 7197595156.690899}]}, {'name': 'Merchant payments', 'paymentInstruments': [{'type': 'TOTAL', 'count': 12191478, 'amount': 7210758662.281933}]}, {'name': 'Financial Services', 'paymentInstruments': [{'type': 'TOTAL', 'count': 50753, 'amount': 27460255.45966168}]}, {'name': 'Others', 'paymentInstruments': [{'type': 'TOTAL', 'count': 367621, 'amount': 165535312.39278784}]}]}, 'responseTimestamp': 1630501491572}\n",
      "{'success': True, 'code': 'SUCCESS', 'data': {'from': 1609439400000, 'to': 1616869800000, 'transactionData': [{'name': 'Peer-to-peer payments', 'paymentInstruments': [{'type': 'TOTAL', 'count': 36427493, 'amount': 144818968373.02933}]}, {'name': 'Merchant payments', 'paymentInstruments': [{'type': 'TOTAL', 'count': 35815382, 'amount': 26512643894.003174}]}, {'name': 'Recharge & bill payments', 'paymentInstruments': [{'type': 'TOTAL', 'count': 22088838, 'amount': 11996115292.377842}]}, {'name': 'Financial Services', 'paymentInstruments': [{'type': 'TOTAL', 'count': 126380, 'amount': 137612317.73580322}]}, {'name': 'Others', 'paymentInstruments': [{'type': 'TOTAL', 'count': 316472, 'amount': 235440836.3042438}]}]}, 'responseTimestamp': 1630501493820}\n",
      "{'success': True, 'code': 'SUCCESS', 'data': {'from': 1640975400000, 'to': 1648405800000, 'transactionData': [{'name': 'Merchant payments', 'paymentInstruments': [{'type': 'TOTAL', 'count': 101648378, 'amount': 79563412221.78397}]}, {'name': 'Peer-to-peer payments', 'paymentInstruments': [{'type': 'TOTAL', 'count': 77768758, 'amount': 292439274688.30835}]}, {'name': 'Recharge & bill payments', 'paymentInstruments': [{'type': 'TOTAL', 'count': 30473298, 'amount': 20042066374.66357}]}, {'name': 'Financial Services', 'paymentInstruments': [{'type': 'TOTAL', 'count': 160423, 'amount': 187077879.38466492}]}, {'name': 'Others', 'paymentInstruments': [{'type': 'TOTAL', 'count': 496289, 'amount': 316261089.4073821}]}]}, 'responseTimestamp': 1651127614457}\n",
      "{'success': True, 'code': 'SUCCESS', 'data': {'from': 1514745000000, 'to': 1522175400000, 'transactionData': [{'name': 'Recharge & bill payments', 'paymentInstruments': [{'type': 'TOTAL', 'count': 2368002, 'amount': 535578755.07945114}]}, {'name': 'Peer-to-peer payments', 'paymentInstruments': [{'type': 'TOTAL', 'count': 1607193, 'amount': 5814807510.68666}]}, {'name': 'Merchant payments', 'paymentInstruments': [{'type': 'TOTAL', 'count': 167816, 'amount': 173513595.3537558}]}, {'name': 'Financial Services', 'paymentInstruments': [{'type': 'TOTAL', 'count': 128636, 'amount': 27501068.014126316}]}, {'name': 'Others', 'paymentInstruments': [{'type': 'TOTAL', 'count': 209123, 'amount': 242110585.52640373}]}]}, 'responseTimestamp': 1630501487218}\n",
      "{'success': True, 'code': 'SUCCESS', 'data': {'from': 1546281000000, 'to': 1553711400000, 'transactionData': [{'name': 'Peer-to-peer payments', 'paymentInstruments': [{'type': 'TOTAL', 'count': 12622225, 'amount': 30283578836.61907}]}, {'name': 'Recharge & bill payments', 'paymentInstruments': [{'type': 'TOTAL', 'count': 5576577, 'amount': 2202061874.5361757}]}, {'name': 'Merchant payments', 'paymentInstruments': [{'type': 'TOTAL', 'count': 3361995, 'amount': 1292375556.3150868}]}, {'name': 'Financial Services', 'paymentInstruments': [{'type': 'TOTAL', 'count': 101786, 'amount': 15201736.002431491}]}, {'name': 'Others', 'paymentInstruments': [{'type': 'TOTAL', 'count': 473192, 'amount': 258437718.15887585}]}]}, 'responseTimestamp': 1630501490189}\n",
      "{'success': True, 'code': 'SUCCESS', 'data': {'from': 1577817000000, 'to': 1585333800000, 'transactionData': [{'name': 'Peer-to-peer payments', 'paymentInstruments': [{'type': 'TOTAL', 'count': 17728235, 'amount': 68367245528.07149}]}, {'name': 'Merchant payments', 'paymentInstruments': [{'type': 'TOTAL', 'count': 14327020, 'amount': 7075196609.224878}]}, {'name': 'Recharge & bill payments', 'paymentInstruments': [{'type': 'TOTAL', 'count': 11346112, 'amount': 6331682016.516322}]}, {'name': 'Financial Services', 'paymentInstruments': [{'type': 'TOTAL', 'count': 34488, 'amount': 25266730.1883267}]}, {'name': 'Others', 'paymentInstruments': [{'type': 'TOTAL', 'count': 600232, 'amount': 176823674.24305555}]}]}, 'responseTimestamp': 1630501491640}\n",
      "{'success': True, 'code': 'SUCCESS', 'data': {'from': 1609439400000, 'to': 1616869800000, 'transactionData': [{'name': 'Merchant payments', 'paymentInstruments': [{'type': 'TOTAL', 'count': 39363588, 'amount': 23389100227.155342}]}, {'name': 'Peer-to-peer payments', 'paymentInstruments': [{'type': 'TOTAL', 'count': 36764622, 'amount': 135970636784.61835}]}, {'name': 'Recharge & bill payments', 'paymentInstruments': [{'type': 'TOTAL', 'count': 13680353, 'amount': 9260346909.440674}]}, {'name': 'Financial Services', 'paymentInstruments': [{'type': 'TOTAL', 'count': 79784, 'amount': 99672809.99228218}]}, {'name': 'Others', 'paymentInstruments': [{'type': 'TOTAL', 'count': 364437, 'amount': 218544351.22172093}]}]}, 'responseTimestamp': 1630501493906}\n",
      "{'success': True, 'code': 'SUCCESS', 'data': {'from': 1640975400000, 'to': 1648405800000, 'transactionData': [{'name': 'Merchant payments', 'paymentInstruments': [{'type': 'TOTAL', 'count': 98346418, 'amount': 62565728158.2885}]}, {'name': 'Peer-to-peer payments', 'paymentInstruments': [{'type': 'TOTAL', 'count': 74499889, 'amount': 263547240999.68338}]}, {'name': 'Recharge & bill payments', 'paymentInstruments': [{'type': 'TOTAL', 'count': 18494827, 'amount': 14765350795.965681}]}, {'name': 'Financial Services', 'paymentInstruments': [{'type': 'TOTAL', 'count': 107240, 'amount': 146586164.62792295}]}, {'name': 'Others', 'paymentInstruments': [{'type': 'TOTAL', 'count': 540235, 'amount': 279136534.21161634}]}]}, 'responseTimestamp': 1651127590289}\n",
      "{'success': True, 'code': 'SUCCESS', 'data': {'from': 1514745000000, 'to': 1522175400000, 'transactionData': [{'name': 'Recharge & bill payments', 'paymentInstruments': [{'type': 'TOTAL', 'count': 284371, 'amount': 49871175.82607427}]}, {'name': 'Peer-to-peer payments', 'paymentInstruments': [{'type': 'TOTAL', 'count': 154572, 'amount': 546222027.4835303}]}, {'name': 'Merchant payments', 'paymentInstruments': [{'type': 'TOTAL', 'count': 13241, 'amount': 13851230.83495245}]}, {'name': 'Financial Services', 'paymentInstruments': [{'type': 'TOTAL', 'count': 8955, 'amount': 2040522.724771278}]}, {'name': 'Others', 'paymentInstruments': [{'type': 'TOTAL', 'count': 20779, 'amount': 16752849.503009535}]}]}, 'responseTimestamp': 1630501487219}\n",
      "{'success': True, 'code': 'SUCCESS', 'data': {'from': 1546281000000, 'to': 1553711400000, 'transactionData': [{'name': 'Peer-to-peer payments', 'paymentInstruments': [{'type': 'TOTAL', 'count': 1178280, 'amount': 3066233587.9236507}]}, {'name': 'Recharge & bill payments', 'paymentInstruments': [{'type': 'TOTAL', 'count': 844570, 'amount': 209521987.03977025}]}, {'name': 'Merchant payments', 'paymentInstruments': [{'type': 'TOTAL', 'count': 115553, 'amount': 86624660.3112043}]}, {'name': 'Financial Services', 'paymentInstruments': [{'type': 'TOTAL', 'count': 9585, 'amount': 1424229.9989233727}]}, {'name': 'Others', 'paymentInstruments': [{'type': 'TOTAL', 'count': 20730, 'amount': 17676977.717503674}]}]}, 'responseTimestamp': 1630501490189}\n",
      "{'success': True, 'code': 'SUCCESS', 'data': {'from': 1577817000000, 'to': 1585333800000, 'transactionData': [{'name': 'Recharge & bill payments', 'paymentInstruments': [{'type': 'TOTAL', 'count': 1815157, 'amount': 542356756.9678606}]}, {'name': 'Peer-to-peer payments', 'paymentInstruments': [{'type': 'TOTAL', 'count': 1594806, 'amount': 6431826925.118802}]}, {'name': 'Merchant payments', 'paymentInstruments': [{'type': 'TOTAL', 'count': 711018, 'amount': 427497010.10439825}]}, {'name': 'Financial Services', 'paymentInstruments': [{'type': 'TOTAL', 'count': 4711, 'amount': 3172303.6900622216}]}, {'name': 'Others', 'paymentInstruments': [{'type': 'TOTAL', 'count': 18788, 'amount': 14613755.241563875}]}]}, 'responseTimestamp': 1630501491688}\n",
      "{'success': True, 'code': 'SUCCESS', 'data': {'from': 1609439400000, 'to': 1616869800000, 'transactionData': [{'name': 'Peer-to-peer payments', 'paymentInstruments': [{'type': 'TOTAL', 'count': 2845733, 'amount': 11358078843.572702}]}, {'name': 'Recharge & bill payments', 'paymentInstruments': [{'type': 'TOTAL', 'count': 2547359, 'amount': 948929031.6443391}]}, {'name': 'Merchant payments', 'paymentInstruments': [{'type': 'TOTAL', 'count': 2186946, 'amount': 1778219850.8347864}]}, {'name': 'Financial Services', 'paymentInstruments': [{'type': 'TOTAL', 'count': 12561, 'amount': 16554205.504427344}]}, {'name': 'Others', 'paymentInstruments': [{'type': 'TOTAL', 'count': 21430, 'amount': 18764977.931273177}]}]}, 'responseTimestamp': 1630501493906}\n",
      "{'success': True, 'code': 'SUCCESS', 'data': {'from': 1640975400000, 'to': 1648405800000, 'transactionData': [{'name': 'Merchant payments', 'paymentInstruments': [{'type': 'TOTAL', 'count': 7030946, 'amount': 5558905677.966259}]}, {'name': 'Peer-to-peer payments', 'paymentInstruments': [{'type': 'TOTAL', 'count': 5718936, 'amount': 19473276901.331963}]}, {'name': 'Recharge & bill payments', 'paymentInstruments': [{'type': 'TOTAL', 'count': 3271665, 'amount': 1429960686.7669475}]}, {'name': 'Financial Services', 'paymentInstruments': [{'type': 'TOTAL', 'count': 19314, 'amount': 24442138.15399971}]}, {'name': 'Others', 'paymentInstruments': [{'type': 'TOTAL', 'count': 47319, 'amount': 31862035.713640407}]}]}, 'responseTimestamp': 1651127613014}\n",
      "{'success': True, 'code': 'SUCCESS', 'data': {'from': 1514745000000, 'to': 1522175400000, 'transactionData': [{'name': 'Recharge & bill payments', 'paymentInstruments': [{'type': 'TOTAL', 'count': 457813, 'amount': 78812610.35129012}]}, {'name': 'Peer-to-peer payments', 'paymentInstruments': [{'type': 'TOTAL', 'count': 353621, 'amount': 861670157.9310012}]}, {'name': 'Financial Services', 'paymentInstruments': [{'type': 'TOTAL', 'count': 65683, 'amount': 10269382.6199755}]}, {'name': 'Merchant payments', 'paymentInstruments': [{'type': 'TOTAL', 'count': 28696, 'amount': 30967525.638810236}]}, {'name': 'Others', 'paymentInstruments': [{'type': 'TOTAL', 'count': 35755, 'amount': 23651562.715049967}]}]}, 'responseTimestamp': 1630501487219}\n",
      "{'success': True, 'code': 'SUCCESS', 'data': {'from': 1546281000000, 'to': 1553711400000, 'transactionData': [{'name': 'Peer-to-peer payments', 'paymentInstruments': [{'type': 'TOTAL', 'count': 1913720, 'amount': 5414709531.836735}]}, {'name': 'Recharge & bill payments', 'paymentInstruments': [{'type': 'TOTAL', 'count': 1131953, 'amount': 302663112.8884805}]}, {'name': 'Merchant payments', 'paymentInstruments': [{'type': 'TOTAL', 'count': 452379, 'amount': 199219534.93760535}]}, {'name': 'Financial Services', 'paymentInstruments': [{'type': 'TOTAL', 'count': 43247, 'amount': 4593545.201922052}]}, {'name': 'Others', 'paymentInstruments': [{'type': 'TOTAL', 'count': 43688, 'amount': 30649751.65627311}]}]}, 'responseTimestamp': 1630501490189}\n",
      "{'success': True, 'code': 'SUCCESS', 'data': {'from': 1577817000000, 'to': 1585333800000, 'transactionData': [{'name': 'Peer-to-peer payments', 'paymentInstruments': [{'type': 'TOTAL', 'count': 435154, 'amount': 2654638582.0865793}]}, {'name': 'Recharge & bill payments', 'paymentInstruments': [{'type': 'TOTAL', 'count': 341357, 'amount': 144213068.71202034}]}, {'name': 'Merchant payments', 'paymentInstruments': [{'type': 'TOTAL', 'count': 135241, 'amount': 131144418.96503358}]}, {'name': 'Financial Services', 'paymentInstruments': [{'type': 'TOTAL', 'count': 2350, 'amount': 2116665.1182805505}]}, {'name': 'Others', 'paymentInstruments': [{'type': 'TOTAL', 'count': 7528, 'amount': 5530441.652102945}]}]}, 'responseTimestamp': 1630501491689}\n",
      "{'success': True, 'code': 'SUCCESS', 'data': {'from': 1609439400000, 'to': 1616869800000, 'transactionData': [{'name': 'Peer-to-peer payments', 'paymentInstruments': [{'type': 'TOTAL', 'count': 2800201, 'amount': 14801220301.14875}]}, {'name': 'Recharge & bill payments', 'paymentInstruments': [{'type': 'TOTAL', 'count': 2554798, 'amount': 663747765.6760966}]}, {'name': 'Merchant payments', 'paymentInstruments': [{'type': 'TOTAL', 'count': 1527253, 'amount': 1605408313.4781337}]}, {'name': 'Financial Services', 'paymentInstruments': [{'type': 'TOTAL', 'count': 17276, 'amount': 20848657.8594191}]}, {'name': 'Others', 'paymentInstruments': [{'type': 'TOTAL', 'count': 98042, 'amount': 47124854.989329115}]}]}, 'responseTimestamp': 1630501493907}\n",
      "{'success': True, 'code': 'SUCCESS', 'data': {'from': 1640975400000, 'to': 1648405800000, 'transactionData': [{'name': 'Peer-to-peer payments', 'paymentInstruments': [{'type': 'TOTAL', 'count': 6263588, 'amount': 25881919928.642838}]}, {'name': 'Merchant payments', 'paymentInstruments': [{'type': 'TOTAL', 'count': 5769426, 'amount': 5903944370.148529}]}, {'name': 'Recharge & bill payments', 'paymentInstruments': [{'type': 'TOTAL', 'count': 4046350, 'amount': 1253753685.6124904}]}, {'name': 'Financial Services', 'paymentInstruments': [{'type': 'TOTAL', 'count': 20506, 'amount': 28915576.119299565}]}, {'name': 'Others', 'paymentInstruments': [{'type': 'TOTAL', 'count': 145441, 'amount': 79330065.6359112}]}]}, 'responseTimestamp': 1651127622142}\n",
      "{'success': True, 'code': 'SUCCESS', 'data': {'from': 1514745000000, 'to': 1522175400000, 'transactionData': [{'name': 'Recharge & bill payments', 'paymentInstruments': [{'type': 'TOTAL', 'count': 1095857, 'amount': 132181815.28422523}]}, {'name': 'Peer-to-peer payments', 'paymentInstruments': [{'type': 'TOTAL', 'count': 809459, 'amount': 2036315435.6551185}]}, {'name': 'Financial Services', 'paymentInstruments': [{'type': 'TOTAL', 'count': 107755, 'amount': 45483178.104925826}]}, {'name': 'Merchant payments', 'paymentInstruments': [{'type': 'TOTAL', 'count': 66299, 'amount': 66465337.511485815}]}, {'name': 'Others', 'paymentInstruments': [{'type': 'TOTAL', 'count': 99551, 'amount': 93740623.36363094}]}]}, 'responseTimestamp': 1630501487261}\n",
      "{'success': True, 'code': 'SUCCESS', 'data': {'from': 1546281000000, 'to': 1553711400000, 'transactionData': [{'name': 'Peer-to-peer payments', 'paymentInstruments': [{'type': 'TOTAL', 'count': 5952105, 'amount': 12664709652.347084}]}, {'name': 'Recharge & bill payments', 'paymentInstruments': [{'type': 'TOTAL', 'count': 2347079, 'amount': 440323945.0577217}]}, {'name': 'Merchant payments', 'paymentInstruments': [{'type': 'TOTAL', 'count': 892826, 'amount': 391616776.11217976}]}, {'name': 'Financial Services', 'paymentInstruments': [{'type': 'TOTAL', 'count': 105558, 'amount': 47227410.81132864}]}, {'name': 'Others', 'paymentInstruments': [{'type': 'TOTAL', 'count': 90140, 'amount': 83358664.9497917}]}]}, 'responseTimestamp': 1630501490192}\n",
      "{'success': True, 'code': 'SUCCESS', 'data': {'from': 1577817000000, 'to': 1585333800000, 'transactionData': [{'name': 'Peer-to-peer payments', 'paymentInstruments': [{'type': 'TOTAL', 'count': 8196850, 'amount': 29875044416.372463}]}, {'name': 'Recharge & bill payments', 'paymentInstruments': [{'type': 'TOTAL', 'count': 5454093, 'amount': 1358517296.9653778}]}, {'name': 'Merchant payments', 'paymentInstruments': [{'type': 'TOTAL', 'count': 4499942, 'amount': 2298726414.666834}]}, {'name': 'Financial Services', 'paymentInstruments': [{'type': 'TOTAL', 'count': 46483, 'amount': 31523887.510064334}]}, {'name': 'Others', 'paymentInstruments': [{'type': 'TOTAL', 'count': 85345, 'amount': 47420137.7540625}]}]}, 'responseTimestamp': 1630501491689}\n",
      "{'success': True, 'code': 'SUCCESS', 'data': {'from': 1609439400000, 'to': 1616869800000, 'transactionData': [{'name': 'Peer-to-peer payments', 'paymentInstruments': [{'type': 'TOTAL', 'count': 19151083, 'amount': 69198235576.72797}]}, {'name': 'Merchant payments', 'paymentInstruments': [{'type': 'TOTAL', 'count': 17489113, 'amount': 11545580927.24733}]}, {'name': 'Recharge & bill payments', 'paymentInstruments': [{'type': 'TOTAL', 'count': 7826608, 'amount': 2888409672.132301}]}, {'name': 'Financial Services', 'paymentInstruments': [{'type': 'TOTAL', 'count': 50526, 'amount': 54836609.32711602}]}, {'name': 'Others', 'paymentInstruments': [{'type': 'TOTAL', 'count': 104333, 'amount': 62290337.70487929}]}]}, 'responseTimestamp': 1630501493906}\n",
      "{'success': True, 'code': 'SUCCESS', 'data': {'from': 1640975400000, 'to': 1648405800000, 'transactionData': [{'name': 'Merchant payments', 'paymentInstruments': [{'type': 'TOTAL', 'count': 53218047, 'amount': 35404682302.81973}]}, {'name': 'Peer-to-peer payments', 'paymentInstruments': [{'type': 'TOTAL', 'count': 45881799, 'amount': 153327336656.7779}]}, {'name': 'Recharge & bill payments', 'paymentInstruments': [{'type': 'TOTAL', 'count': 11502811, 'amount': 5765898871.819412}]}, {'name': 'Financial Services', 'paymentInstruments': [{'type': 'TOTAL', 'count': 67502, 'amount': 72095750.37612481}]}, {'name': 'Others', 'paymentInstruments': [{'type': 'TOTAL', 'count': 241051, 'amount': 130193505.37404194}]}]}, 'responseTimestamp': 1651127598589}\n",
      "{'success': True, 'code': 'SUCCESS', 'data': {'from': 1514745000000, 'to': 1522175400000, 'transactionData': [{'name': 'Recharge & bill payments', 'paymentInstruments': [{'type': 'TOTAL', 'count': 5785292, 'amount': 1496816541.9710202}]}, {'name': 'Peer-to-peer payments', 'paymentInstruments': [{'type': 'TOTAL', 'count': 4456528, 'amount': 16522277460.174664}]}, {'name': 'Merchant payments', 'paymentInstruments': [{'type': 'TOTAL', 'count': 1089627, 'amount': 696586489.2644083}]}, {'name': 'Financial Services', 'paymentInstruments': [{'type': 'TOTAL', 'count': 159848, 'amount': 52664837.407078}]}, {'name': 'Others', 'paymentInstruments': [{'type': 'TOTAL', 'count': 525604, 'amount': 449549985.19633806}]}]}, 'responseTimestamp': 1630501487261}\n",
      "{'success': True, 'code': 'SUCCESS', 'data': {'from': 1546281000000, 'to': 1553711400000, 'transactionData': [{'name': 'Peer-to-peer payments', 'paymentInstruments': [{'type': 'TOTAL', 'count': 44049036, 'amount': 104118436760.31566}]}, {'name': 'Merchant payments', 'paymentInstruments': [{'type': 'TOTAL', 'count': 24491960, 'amount': 7076613843.774634}]}, {'name': 'Recharge & bill payments', 'paymentInstruments': [{'type': 'TOTAL', 'count': 16981941, 'amount': 6217689429.770171}]}, {'name': 'Financial Services', 'paymentInstruments': [{'type': 'TOTAL', 'count': 293728, 'amount': 51023386.14504391}]}, {'name': 'Others', 'paymentInstruments': [{'type': 'TOTAL', 'count': 770944, 'amount': 512618725.75178516}]}]}, 'responseTimestamp': 1630501490192}\n",
      "{'success': True, 'code': 'SUCCESS', 'data': {'from': 1577817000000, 'to': 1585333800000, 'transactionData': [{'name': 'Merchant payments', 'paymentInstruments': [{'type': 'TOTAL', 'count': 132970737, 'amount': 40374401933.52864}]}, {'name': 'Peer-to-peer payments', 'paymentInstruments': [{'type': 'TOTAL', 'count': 100868460, 'amount': 297635301555.931}]}, {'name': 'Recharge & bill payments', 'paymentInstruments': [{'type': 'TOTAL', 'count': 35854971, 'amount': 14724886028.403404}]}, {'name': 'Financial Services', 'paymentInstruments': [{'type': 'TOTAL', 'count': 93648, 'amount': 110130184.7219853}]}, {'name': 'Others', 'paymentInstruments': [{'type': 'TOTAL', 'count': 1246074, 'amount': 557335296.81275}]}]}, 'responseTimestamp': 1630501491689}\n",
      "{'success': True, 'code': 'SUCCESS', 'data': {'from': 1609439400000, 'to': 1616869800000, 'transactionData': [{'name': 'Merchant payments', 'paymentInstruments': [{'type': 'TOTAL', 'count': 279599017, 'amount': 117959690729.6494}]}, {'name': 'Peer-to-peer payments', 'paymentInstruments': [{'type': 'TOTAL', 'count': 190894164, 'amount': 610937002732.095}]}, {'name': 'Recharge & bill payments', 'paymentInstruments': [{'type': 'TOTAL', 'count': 52261651, 'amount': 25111731675.64637}]}, {'name': 'Financial Services', 'paymentInstruments': [{'type': 'TOTAL', 'count': 297710, 'amount': 475815041.81600165}]}, {'name': 'Others', 'paymentInstruments': [{'type': 'TOTAL', 'count': 744950, 'amount': 511117233.18647754}]}]}, 'responseTimestamp': 1630501493978}\n",
      "{'success': True, 'code': 'SUCCESS', 'data': {'from': 1640975400000, 'to': 1648405800000, 'transactionData': [{'name': 'Merchant payments', 'paymentInstruments': [{'type': 'TOTAL', 'count': 588543313, 'amount': 278109650949.8691}]}, {'name': 'Peer-to-peer payments', 'paymentInstruments': [{'type': 'TOTAL', 'count': 389491586, 'amount': 1243199329198.8584}]}, {'name': 'Recharge & bill payments', 'paymentInstruments': [{'type': 'TOTAL', 'count': 78206453, 'amount': 43891305256.63388}]}, {'name': 'Financial Services', 'paymentInstruments': [{'type': 'TOTAL', 'count': 384922, 'amount': 624857963.437548}]}, {'name': 'Others', 'paymentInstruments': [{'type': 'TOTAL', 'count': 1229133, 'amount': 824344937.0828401}]}]}, 'responseTimestamp': 1651127606313}\n",
      "{'success': True, 'code': 'SUCCESS', 'data': {'from': 1514745000000, 'to': 1522175400000, 'transactionData': [{'name': 'Recharge & bill payments', 'paymentInstruments': [{'type': 'TOTAL', 'count': 988774, 'amount': 157311821.37585658}]}, {'name': 'Peer-to-peer payments', 'paymentInstruments': [{'type': 'TOTAL', 'count': 600205, 'amount': 2107288314.3025222}]}, {'name': 'Merchant payments', 'paymentInstruments': [{'type': 'TOTAL', 'count': 72164, 'amount': 82919383.04571173}]}, {'name': 'Financial Services', 'paymentInstruments': [{'type': 'TOTAL', 'count': 40170, 'amount': 7957491.901965583}]}, {'name': 'Others', 'paymentInstruments': [{'type': 'TOTAL', 'count': 70067, 'amount': 47197742.47444939}]}]}, 'responseTimestamp': 1630501487262}\n",
      "{'success': True, 'code': 'SUCCESS', 'data': {'from': 1546281000000, 'to': 1553711400000, 'transactionData': [{'name': 'Peer-to-peer payments', 'paymentInstruments': [{'type': 'TOTAL', 'count': 3601116, 'amount': 9314451112.085835}]}, {'name': 'Recharge & bill payments', 'paymentInstruments': [{'type': 'TOTAL', 'count': 2180915, 'amount': 498453895.947243}]}, {'name': 'Merchant payments', 'paymentInstruments': [{'type': 'TOTAL', 'count': 550707, 'amount': 371997848.20066386}]}, {'name': 'Financial Services', 'paymentInstruments': [{'type': 'TOTAL', 'count': 77652, 'amount': 7808573.898364296}]}, {'name': 'Others', 'paymentInstruments': [{'type': 'TOTAL', 'count': 58649, 'amount': 42319704.717572376}]}]}, 'responseTimestamp': 1630501490250}\n",
      "{'success': True, 'code': 'SUCCESS', 'data': {'from': 1577817000000, 'to': 1585333800000, 'transactionData': [{'name': 'Peer-to-peer payments', 'paymentInstruments': [{'type': 'TOTAL', 'count': 6634439, 'amount': 22862907701.60516}]}, {'name': 'Recharge & bill payments', 'paymentInstruments': [{'type': 'TOTAL', 'count': 5507580, 'amount': 1716538277.3696735}]}, {'name': 'Merchant payments', 'paymentInstruments': [{'type': 'TOTAL', 'count': 3485036, 'amount': 1810329140.1843734}]}, {'name': 'Financial Services', 'paymentInstruments': [{'type': 'TOTAL', 'count': 38050, 'amount': 17160614.593254916}]}, {'name': 'Others', 'paymentInstruments': [{'type': 'TOTAL', 'count': 68417, 'amount': 44149097.18179157}]}]}, 'responseTimestamp': 1630501491689}\n",
      "{'success': True, 'code': 'SUCCESS', 'data': {'from': 1609439400000, 'to': 1616869800000, 'transactionData': [{'name': 'Peer-to-peer payments', 'paymentInstruments': [{'type': 'TOTAL', 'count': 16209203, 'amount': 55336812492.74641}]}, {'name': 'Merchant payments', 'paymentInstruments': [{'type': 'TOTAL', 'count': 16105923, 'amount': 10058436408.184261}]}, {'name': 'Recharge & bill payments', 'paymentInstruments': [{'type': 'TOTAL', 'count': 9837385, 'amount': 3732534739.0436296}]}, {'name': 'Financial Services', 'paymentInstruments': [{'type': 'TOTAL', 'count': 68012, 'amount': 69655547.76092248}]}, {'name': 'Others', 'paymentInstruments': [{'type': 'TOTAL', 'count': 95819, 'amount': 63530974.15939384}]}]}, 'responseTimestamp': 1630501493979}\n",
      "{'success': True, 'code': 'SUCCESS', 'data': {'from': 1640975400000, 'to': 1648405800000, 'transactionData': [{'name': 'Merchant payments', 'paymentInstruments': [{'type': 'TOTAL', 'count': 47778743, 'amount': 28685388646.415367}]}, {'name': 'Peer-to-peer payments', 'paymentInstruments': [{'type': 'TOTAL', 'count': 33089518, 'amount': 104623270223.31714}]}, {'name': 'Recharge & bill payments', 'paymentInstruments': [{'type': 'TOTAL', 'count': 14042317, 'amount': 6373570715.969071}]}, {'name': 'Financial Services', 'paymentInstruments': [{'type': 'TOTAL', 'count': 134370, 'amount': 158926455.91425735}]}, {'name': 'Others', 'paymentInstruments': [{'type': 'TOTAL', 'count': 236017, 'amount': 147786423.0782508}]}]}, 'responseTimestamp': 1651127605511}\n",
      "{'success': True, 'code': 'SUCCESS', 'data': {'from': 1514745000000, 'to': 1522175400000, 'transactionData': [{'name': 'Recharge & bill payments', 'paymentInstruments': [{'type': 'TOTAL', 'count': 3550, 'amount': 927250.7143707818}]}, {'name': 'Peer-to-peer payments', 'paymentInstruments': [{'type': 'TOTAL', 'count': 1752, 'amount': 10767803.999610368}]}, {'name': 'Merchant payments', 'paymentInstruments': [{'type': 'TOTAL', 'count': 320, 'amount': 369327.62555241917}]}, {'name': 'Financial Services', 'paymentInstruments': [{'type': 'TOTAL', 'count': 132, 'amount': 274283.17576680594}]}, {'name': 'Others', 'paymentInstruments': [{'type': 'TOTAL', 'count': 335, 'amount': 194192.25581440225}]}]}, 'responseTimestamp': 1630501487262}\n",
      "{'success': True, 'code': 'SUCCESS', 'data': {'from': 1546281000000, 'to': 1553711400000, 'transactionData': [{'name': 'Peer-to-peer payments', 'paymentInstruments': [{'type': 'TOTAL', 'count': 22076, 'amount': 139715922.1887053}]}, {'name': 'Recharge & bill payments', 'paymentInstruments': [{'type': 'TOTAL', 'count': 20014, 'amount': 7186109.182288248}]}, {'name': 'Merchant payments', 'paymentInstruments': [{'type': 'TOTAL', 'count': 3238, 'amount': 4967122.4999400275}]}, {'name': 'Financial Services', 'paymentInstruments': [{'type': 'TOTAL', 'count': 114, 'amount': 111851.02856430915}]}, {'name': 'Others', 'paymentInstruments': [{'type': 'TOTAL', 'count': 703, 'amount': 878916.0496292994}]}]}, 'responseTimestamp': 1630501490250}\n",
      "{'success': True, 'code': 'SUCCESS', 'data': {'from': 1577817000000, 'to': 1585333800000, 'transactionData': [{'name': 'Peer-to-peer payments', 'paymentInstruments': [{'type': 'TOTAL', 'count': 51560, 'amount': 339551900.3873952}]}, {'name': 'Recharge & bill payments', 'paymentInstruments': [{'type': 'TOTAL', 'count': 49801, 'amount': 23010664.72023286}]}, {'name': 'Merchant payments', 'paymentInstruments': [{'type': 'TOTAL', 'count': 14264, 'amount': 13338124.271892821}]}, {'name': 'Financial Services', 'paymentInstruments': [{'type': 'TOTAL', 'count': 204, 'amount': 583108.9455483773}]}, {'name': 'Others', 'paymentInstruments': [{'type': 'TOTAL', 'count': 590, 'amount': 1155879.120674257}]}]}, 'responseTimestamp': 1630501491691}\n",
      "{'success': True, 'code': 'SUCCESS', 'data': {'from': 1609439400000, 'to': 1616869800000, 'transactionData': [{'name': 'Peer-to-peer payments', 'paymentInstruments': [{'type': 'TOTAL', 'count': 141894, 'amount': 869999786.1513934}]}, {'name': 'Recharge & bill payments', 'paymentInstruments': [{'type': 'TOTAL', 'count': 72719, 'amount': 35459532.4121063}]}, {'name': 'Merchant payments', 'paymentInstruments': [{'type': 'TOTAL', 'count': 58875, 'amount': 74977913.47237433}]}, {'name': 'Financial Services', 'paymentInstruments': [{'type': 'TOTAL', 'count': 629, 'amount': 1455016.148284281}]}, {'name': 'Others', 'paymentInstruments': [{'type': 'TOTAL', 'count': 1298, 'amount': 1527565.0627209258}]}]}, 'responseTimestamp': 1630501493979}\n",
      "{'success': True, 'code': 'SUCCESS', 'data': {'from': 1640975400000, 'to': 1648405800000, 'transactionData': [{'name': 'Peer-to-peer payments', 'paymentInstruments': [{'type': 'TOTAL', 'count': 343041, 'amount': 1685241980.664183}]}, {'name': 'Merchant payments', 'paymentInstruments': [{'type': 'TOTAL', 'count': 167100, 'amount': 279354508.988595}]}, {'name': 'Recharge & bill payments', 'paymentInstruments': [{'type': 'TOTAL', 'count': 116486, 'amount': 56203999.28920926}]}, {'name': 'Financial Services', 'paymentInstruments': [{'type': 'TOTAL', 'count': 1247, 'amount': 2023327.6779848374}]}, {'name': 'Others', 'paymentInstruments': [{'type': 'TOTAL', 'count': 2141, 'amount': 2217102.222236882}]}]}, 'responseTimestamp': 1651127596848}\n",
      "{'success': True, 'code': 'SUCCESS', 'data': {'from': 1514745000000, 'to': 1522175400000, 'transactionData': [{'name': 'Peer-to-peer payments', 'paymentInstruments': [{'type': 'TOTAL', 'count': 423, 'amount': 1860278.2784597143}]}, {'name': 'Recharge & bill payments', 'paymentInstruments': [{'type': 'TOTAL', 'count': 342, 'amount': 61432.04938505074}]}, {'name': 'Merchant payments', 'paymentInstruments': [{'type': 'TOTAL', 'count': 5, 'amount': 590.7505138175776}]}, {'name': 'Others', 'paymentInstruments': [{'type': 'TOTAL', 'count': 8, 'amount': 6310.102519157715}]}]}, 'responseTimestamp': 1630501487263}\n",
      "{'success': True, 'code': 'SUCCESS', 'data': {'from': 1546281000000, 'to': 1553711400000, 'transactionData': [{'name': 'Peer-to-peer payments', 'paymentInstruments': [{'type': 'TOTAL', 'count': 1183, 'amount': 8221402.368536929}]}, {'name': 'Recharge & bill payments', 'paymentInstruments': [{'type': 'TOTAL', 'count': 1173, 'amount': 353870.52398354514}]}, {'name': 'Merchant payments', 'paymentInstruments': [{'type': 'TOTAL', 'count': 113, 'amount': 183062.1455975621}]}, {'name': 'Others', 'paymentInstruments': [{'type': 'TOTAL', 'count': 12, 'amount': 27795.441220958}]}]}, 'responseTimestamp': 1630501490250}\n",
      "{'success': True, 'code': 'SUCCESS', 'data': {'from': 1577817000000, 'to': 1585333800000, 'transactionData': [{'name': 'Recharge & bill payments', 'paymentInstruments': [{'type': 'TOTAL', 'count': 2684, 'amount': 789255.2646123999}]}, {'name': 'Peer-to-peer payments', 'paymentInstruments': [{'type': 'TOTAL', 'count': 2068, 'amount': 12463327.261836832}]}, {'name': 'Merchant payments', 'paymentInstruments': [{'type': 'TOTAL', 'count': 387, 'amount': 216594.03077193064}]}, {'name': 'Others', 'paymentInstruments': [{'type': 'TOTAL', 'count': 12, 'amount': 33192.017283045374}]}]}, 'responseTimestamp': 1630501491692}\n",
      "{'success': True, 'code': 'SUCCESS', 'data': {'from': 1609439400000, 'to': 1616869800000, 'transactionData': [{'name': 'Peer-to-peer payments', 'paymentInstruments': [{'type': 'TOTAL', 'count': 3942, 'amount': 24823715.017422147}]}, {'name': 'Recharge & bill payments', 'paymentInstruments': [{'type': 'TOTAL', 'count': 3541, 'amount': 1070209.4218526704}]}, {'name': 'Merchant payments', 'paymentInstruments': [{'type': 'TOTAL', 'count': 1537, 'amount': 1040213.7953898906}]}, {'name': 'Financial Services', 'paymentInstruments': [{'type': 'TOTAL', 'count': 19, 'amount': 15929.095105497145}]}, {'name': 'Others', 'paymentInstruments': [{'type': 'TOTAL', 'count': 46, 'amount': 92715.5843109472}]}]}, 'responseTimestamp': 1630501493979}\n",
      "{'success': True, 'code': 'SUCCESS', 'data': {'from': 1640975400000, 'to': 1648405800000, 'transactionData': [{'name': 'Peer-to-peer payments', 'paymentInstruments': [{'type': 'TOTAL', 'count': 7913, 'amount': 48590864.56835763}]}, {'name': 'Recharge & bill payments', 'paymentInstruments': [{'type': 'TOTAL', 'count': 5334, 'amount': 2322580.1695599537}]}, {'name': 'Merchant payments', 'paymentInstruments': [{'type': 'TOTAL', 'count': 3048, 'amount': 3838358.3586293925}]}, {'name': 'Financial Services', 'paymentInstruments': [{'type': 'TOTAL', 'count': 39, 'amount': 38274.22628876488}]}, {'name': 'Others', 'paymentInstruments': [{'type': 'TOTAL', 'count': 63, 'amount': 149355.3310943247}]}]}, 'responseTimestamp': 1651127581992}\n",
      "{'success': True, 'code': 'SUCCESS', 'data': {'from': 1514745000000, 'to': 1522175400000, 'transactionData': [{'name': 'Recharge & bill payments', 'paymentInstruments': [{'type': 'TOTAL', 'count': 4404190, 'amount': 667057311.4560372}]}, {'name': 'Peer-to-peer payments', 'paymentInstruments': [{'type': 'TOTAL', 'count': 2848290, 'amount': 7590790588.551903}]}, {'name': 'Financial Services', 'paymentInstruments': [{'type': 'TOTAL', 'count': 230519, 'amount': 43374288.98373023}]}, {'name': 'Merchant payments', 'paymentInstruments': [{'type': 'TOTAL', 'count': 196394, 'amount': 170119673.71275404}]}, {'name': 'Others', 'paymentInstruments': [{'type': 'TOTAL', 'count': 346002, 'amount': 210261540.7414958}]}]}, 'responseTimestamp': 1630501487263}\n",
      "{'success': True, 'code': 'SUCCESS', 'data': {'from': 1546281000000, 'to': 1553711400000, 'transactionData': [{'name': 'Peer-to-peer payments', 'paymentInstruments': [{'type': 'TOTAL', 'count': 23708825, 'amount': 44114206183.09186}]}, {'name': 'Recharge & bill payments', 'paymentInstruments': [{'type': 'TOTAL', 'count': 9966905, 'amount': 2423593841.716142}]}, {'name': 'Merchant payments', 'paymentInstruments': [{'type': 'TOTAL', 'count': 3018928, 'amount': 1263699222.3501081}]}, {'name': 'Financial Services', 'paymentInstruments': [{'type': 'TOTAL', 'count': 290838, 'amount': 28901169.292499043}]}, {'name': 'Others', 'paymentInstruments': [{'type': 'TOTAL', 'count': 315553, 'amount': 239879105.5972368}]}]}, 'responseTimestamp': 1630501490252}\n",
      "{'success': True, 'code': 'SUCCESS', 'data': {'from': 1577817000000, 'to': 1585333800000, 'transactionData': [{'name': 'Peer-to-peer payments', 'paymentInstruments': [{'type': 'TOTAL', 'count': 34540722, 'amount': 110325991607.38477}]}, {'name': 'Merchant payments', 'paymentInstruments': [{'type': 'TOTAL', 'count': 24618074, 'amount': 9898242848.25793}]}, {'name': 'Recharge & bill payments', 'paymentInstruments': [{'type': 'TOTAL', 'count': 19788516, 'amount': 6311610609.846225}]}, {'name': 'Financial Services', 'paymentInstruments': [{'type': 'TOTAL', 'count': 68055, 'amount': 30645714.401902914}]}, {'name': 'Others', 'paymentInstruments': [{'type': 'TOTAL', 'count': 351379, 'amount': 170790656.30339786}]}]}, 'responseTimestamp': 1630501491742}\n",
      "{'success': True, 'code': 'SUCCESS', 'data': {'from': 1609439400000, 'to': 1616869800000, 'transactionData': [{'name': 'Merchant payments', 'paymentInstruments': [{'type': 'TOTAL', 'count': 84812245, 'amount': 50098244499.50662}]}, {'name': 'Peer-to-peer payments', 'paymentInstruments': [{'type': 'TOTAL', 'count': 84070625, 'amount': 279938170703.8171}]}, {'name': 'Recharge & bill payments', 'paymentInstruments': [{'type': 'TOTAL', 'count': 32500681, 'amount': 13060914041.039404}]}, {'name': 'Financial Services', 'paymentInstruments': [{'type': 'TOTAL', 'count': 169378, 'amount': 161838389.7954778}]}, {'name': 'Others', 'paymentInstruments': [{'type': 'TOTAL', 'count': 445569, 'amount': 274786748.1299523}]}]}, 'responseTimestamp': 1630501493979}\n",
      "{'success': True, 'code': 'SUCCESS', 'data': {'from': 1640975400000, 'to': 1648405800000, 'transactionData': [{'name': 'Merchant payments', 'paymentInstruments': [{'type': 'TOTAL', 'count': 237691924, 'amount': 143310226696.7226}]}, {'name': 'Peer-to-peer payments', 'paymentInstruments': [{'type': 'TOTAL', 'count': 185008444, 'amount': 578201697703.7521}]}, {'name': 'Recharge & bill payments', 'paymentInstruments': [{'type': 'TOTAL', 'count': 48870314, 'amount': 25437774564.26215}]}, {'name': 'Financial Services', 'paymentInstruments': [{'type': 'TOTAL', 'count': 222923, 'amount': 219927120.15944034}]}, {'name': 'Others', 'paymentInstruments': [{'type': 'TOTAL', 'count': 909453, 'amount': 495513514.75128734}]}]}, 'responseTimestamp': 1651127575245}\n",
      "{'success': True, 'code': 'SUCCESS', 'data': {'from': 1514745000000, 'to': 1522175400000, 'transactionData': [{'name': 'Recharge & bill payments', 'paymentInstruments': [{'type': 'TOTAL', 'count': 9670237, 'amount': 2283567431.223535}]}, {'name': 'Peer-to-peer payments', 'paymentInstruments': [{'type': 'TOTAL', 'count': 5227770, 'amount': 18283896464.750908}]}, {'name': 'Merchant payments', 'paymentInstruments': [{'type': 'TOTAL', 'count': 616779, 'amount': 576964070.7366859}]}, {'name': 'Financial Services', 'paymentInstruments': [{'type': 'TOTAL', 'count': 235051, 'amount': 60997258.060299724}]}, {'name': 'Others', 'paymentInstruments': [{'type': 'TOTAL', 'count': 637197, 'amount': 506188032.9539564}]}]}, 'responseTimestamp': 1630501487331}\n",
      "{'success': True, 'code': 'SUCCESS', 'data': {'from': 1546281000000, 'to': 1553711400000, 'transactionData': [{'name': 'Peer-to-peer payments', 'paymentInstruments': [{'type': 'TOTAL', 'count': 37360716, 'amount': 97373087988.08871}]}, {'name': 'Recharge & bill payments', 'paymentInstruments': [{'type': 'TOTAL', 'count': 24540041, 'amount': 8256500586.651282}]}, {'name': 'Merchant payments', 'paymentInstruments': [{'type': 'TOTAL', 'count': 12069119, 'amount': 5172594695.5318}]}, {'name': 'Financial Services', 'paymentInstruments': [{'type': 'TOTAL', 'count': 287569, 'amount': 49487746.20873056}]}, {'name': 'Others', 'paymentInstruments': [{'type': 'TOTAL', 'count': 821624, 'amount': 569019903.8604956}]}]}, 'responseTimestamp': 1630501490254}\n",
      "{'success': True, 'code': 'SUCCESS', 'data': {'from': 1577817000000, 'to': 1585333800000, 'transactionData': [{'name': 'Merchant payments', 'paymentInstruments': [{'type': 'TOTAL', 'count': 100337738, 'amount': 35200130304.82776}]}, {'name': 'Peer-to-peer payments', 'paymentInstruments': [{'type': 'TOTAL', 'count': 87067410, 'amount': 262541205695.8384}]}, {'name': 'Recharge & bill payments', 'paymentInstruments': [{'type': 'TOTAL', 'count': 50199498, 'amount': 21603565070.425602}]}, {'name': 'Financial Services', 'paymentInstruments': [{'type': 'TOTAL', 'count': 123476, 'amount': 91363684.1276232}]}, {'name': 'Others', 'paymentInstruments': [{'type': 'TOTAL', 'count': 1215959, 'amount': 558931962.876125}]}]}, 'responseTimestamp': 1630501491742}\n",
      "{'success': True, 'code': 'SUCCESS', 'data': {'from': 1609439400000, 'to': 1616869800000, 'transactionData': [{'name': 'Merchant payments', 'paymentInstruments': [{'type': 'TOTAL', 'count': 253043309, 'amount': 129493046208.15726}]}, {'name': 'Peer-to-peer payments', 'paymentInstruments': [{'type': 'TOTAL', 'count': 187021609, 'amount': 599213284361.7993}]}, {'name': 'Recharge & bill payments', 'paymentInstruments': [{'type': 'TOTAL', 'count': 76389103, 'amount': 40057211827.15962}]}, {'name': 'Financial Services', 'paymentInstruments': [{'type': 'TOTAL', 'count': 439551, 'amount': 492900202.68315214}]}, {'name': 'Others', 'paymentInstruments': [{'type': 'TOTAL', 'count': 966668, 'amount': 630909553.4508264}]}]}, 'responseTimestamp': 1630501493982}\n",
      "{'success': True, 'code': 'SUCCESS', 'data': {'from': 1640975400000, 'to': 1648405800000, 'transactionData': [{'name': 'Merchant payments', 'paymentInstruments': [{'type': 'TOTAL', 'count': 646277671, 'amount': 340240479374.36835}]}, {'name': 'Peer-to-peer payments', 'paymentInstruments': [{'type': 'TOTAL', 'count': 411989717, 'amount': 1274889182430.209}]}, {'name': 'Recharge & bill payments', 'paymentInstruments': [{'type': 'TOTAL', 'count': 108896881, 'amount': 64507860103.55089}]}, {'name': 'Financial Services', 'paymentInstruments': [{'type': 'TOTAL', 'count': 583243, 'amount': 677612619.2786882}]}, {'name': 'Others', 'paymentInstruments': [{'type': 'TOTAL', 'count': 1758926, 'amount': 1084139453.7274752}]}]}, 'responseTimestamp': 1651127583338}\n",
      "{'success': True, 'code': 'SUCCESS', 'data': {'from': 1514745000000, 'to': 1522175400000, 'transactionData': [{'name': 'Recharge & bill payments', 'paymentInstruments': [{'type': 'TOTAL', 'count': 50212, 'amount': 6463184.554711691}]}, {'name': 'Peer-to-peer payments', 'paymentInstruments': [{'type': 'TOTAL', 'count': 26382, 'amount': 115495173.55796441}]}, {'name': 'Financial Services', 'paymentInstruments': [{'type': 'TOTAL', 'count': 2660, 'amount': 412579.53985461866}]}, {'name': 'Merchant payments', 'paymentInstruments': [{'type': 'TOTAL', 'count': 1614, 'amount': 3616475.6407912206}]}, {'name': 'Others', 'paymentInstruments': [{'type': 'TOTAL', 'count': 3201, 'amount': 2058760.6368871084}]}]}, 'responseTimestamp': 1630501487331}\n",
      "{'success': True, 'code': 'SUCCESS', 'data': {'from': 1546281000000, 'to': 1553711400000, 'transactionData': [{'name': 'Peer-to-peer payments', 'paymentInstruments': [{'type': 'TOTAL', 'count': 127067, 'amount': 619919870.7455351}]}, {'name': 'Recharge & bill payments', 'paymentInstruments': [{'type': 'TOTAL', 'count': 120000, 'amount': 22106830.369149238}]}, {'name': 'Merchant payments', 'paymentInstruments': [{'type': 'TOTAL', 'count': 15190, 'amount': 14580183.380707521}]}, {'name': 'Financial Services', 'paymentInstruments': [{'type': 'TOTAL', 'count': 800, 'amount': 174777.17283837448}]}, {'name': 'Others', 'paymentInstruments': [{'type': 'TOTAL', 'count': 2352, 'amount': 3116398.755848917}]}]}, 'responseTimestamp': 1630501490252}\n",
      "{'success': True, 'code': 'SUCCESS', 'data': {'from': 1577817000000, 'to': 1585333800000, 'transactionData': [{'name': 'Peer-to-peer payments', 'paymentInstruments': [{'type': 'TOTAL', 'count': 451733, 'amount': 2458093401.740467}]}, {'name': 'Recharge & bill payments', 'paymentInstruments': [{'type': 'TOTAL', 'count': 285234, 'amount': 62688260.379548095}]}, {'name': 'Merchant payments', 'paymentInstruments': [{'type': 'TOTAL', 'count': 78067, 'amount': 74202067.0664826}]}, {'name': 'Financial Services', 'paymentInstruments': [{'type': 'TOTAL', 'count': 622, 'amount': 354184.4660589617}]}, {'name': 'Others', 'paymentInstruments': [{'type': 'TOTAL', 'count': 3145, 'amount': 3252467.2243867153}]}]}, 'responseTimestamp': 1630501491742}\n",
      "{'success': True, 'code': 'SUCCESS', 'data': {'from': 1609439400000, 'to': 1616869800000, 'transactionData': [{'name': 'Peer-to-peer payments', 'paymentInstruments': [{'type': 'TOTAL', 'count': 1117829, 'amount': 6402367883.667423}]}, {'name': 'Recharge & bill payments', 'paymentInstruments': [{'type': 'TOTAL', 'count': 796590, 'amount': 223955812.58644393}]}, {'name': 'Merchant payments', 'paymentInstruments': [{'type': 'TOTAL', 'count': 377280, 'amount': 433297594.1352152}]}, {'name': 'Financial Services', 'paymentInstruments': [{'type': 'TOTAL', 'count': 3398, 'amount': 4385333.1754908115}]}, {'name': 'Others', 'paymentInstruments': [{'type': 'TOTAL', 'count': 8438, 'amount': 6280890.914669826}]}]}, 'responseTimestamp': 1630501493983}\n",
      "{'success': True, 'code': 'SUCCESS', 'data': {'from': 1640975400000, 'to': 1648405800000, 'transactionData': [{'name': 'Peer-to-peer payments', 'paymentInstruments': [{'type': 'TOTAL', 'count': 2517626, 'amount': 12169368063.4095}]}, {'name': 'Recharge & bill payments', 'paymentInstruments': [{'type': 'TOTAL', 'count': 1528476, 'amount': 469035958.34841275}]}, {'name': 'Merchant payments', 'paymentInstruments': [{'type': 'TOTAL', 'count': 1247205, 'amount': 1489604137.2090888}]}, {'name': 'Financial Services', 'paymentInstruments': [{'type': 'TOTAL', 'count': 4878, 'amount': 6057615.527015026}]}, {'name': 'Others', 'paymentInstruments': [{'type': 'TOTAL', 'count': 15494, 'amount': 10435303.87979853}]}]}, 'responseTimestamp': 1651127582396}\n",
      "{'success': True, 'code': 'SUCCESS', 'data': {'from': 1514745000000, 'to': 1522175400000, 'transactionData': [{'name': 'Recharge & bill payments', 'paymentInstruments': [{'type': 'TOTAL', 'count': 31857, 'amount': 6028476.149090356}]}, {'name': 'Peer-to-peer payments', 'paymentInstruments': [{'type': 'TOTAL', 'count': 13274, 'amount': 55943496.515886314}]}, {'name': 'Merchant payments', 'paymentInstruments': [{'type': 'TOTAL', 'count': 1605, 'amount': 2395888.4397623385}]}, {'name': 'Financial Services', 'paymentInstruments': [{'type': 'TOTAL', 'count': 532, 'amount': 144318.2545571151}]}, {'name': 'Others', 'paymentInstruments': [{'type': 'TOTAL', 'count': 2303, 'amount': 1738080.43060439}]}]}, 'responseTimestamp': 1630501487331}\n",
      "{'success': True, 'code': 'SUCCESS', 'data': {'from': 1546281000000, 'to': 1553711400000, 'transactionData': [{'name': 'Recharge & bill payments', 'paymentInstruments': [{'type': 'TOTAL', 'count': 98817, 'amount': 23006751.795504905}]}, {'name': 'Peer-to-peer payments', 'paymentInstruments': [{'type': 'TOTAL', 'count': 90694, 'amount': 358932132.1046898}]}, {'name': 'Merchant payments', 'paymentInstruments': [{'type': 'TOTAL', 'count': 16073, 'amount': 14297275.230527855}]}, {'name': 'Financial Services', 'paymentInstruments': [{'type': 'TOTAL', 'count': 659, 'amount': 62335.064750311045}]}, {'name': 'Others', 'paymentInstruments': [{'type': 'TOTAL', 'count': 2498, 'amount': 2738667.957962149}]}]}, 'responseTimestamp': 1630501490253}\n",
      "{'success': True, 'code': 'SUCCESS', 'data': {'from': 1577817000000, 'to': 1585333800000, 'transactionData': [{'name': 'Recharge & bill payments', 'paymentInstruments': [{'type': 'TOTAL', 'count': 226214, 'amount': 59666071.21530793}]}, {'name': 'Peer-to-peer payments', 'paymentInstruments': [{'type': 'TOTAL', 'count': 216022, 'amount': 1013733312.3935763}]}, {'name': 'Merchant payments', 'paymentInstruments': [{'type': 'TOTAL', 'count': 57245, 'amount': 44125206.34755945}]}, {'name': 'Financial Services', 'paymentInstruments': [{'type': 'TOTAL', 'count': 473, 'amount': 402779.89033132966}]}, {'name': 'Others', 'paymentInstruments': [{'type': 'TOTAL', 'count': 2329, 'amount': 2207471.061039081}]}]}, 'responseTimestamp': 1630501491743}\n",
      "{'success': True, 'code': 'SUCCESS', 'data': {'from': 1609439400000, 'to': 1616869800000, 'transactionData': [{'name': 'Peer-to-peer payments', 'paymentInstruments': [{'type': 'TOTAL', 'count': 326993, 'amount': 1794745857.3188953}]}, {'name': 'Recharge & bill payments', 'paymentInstruments': [{'type': 'TOTAL', 'count': 306634, 'amount': 106098525.65614726}]}, {'name': 'Merchant payments', 'paymentInstruments': [{'type': 'TOTAL', 'count': 108805, 'amount': 147747773.01896822}]}, {'name': 'Financial Services', 'paymentInstruments': [{'type': 'TOTAL', 'count': 1777, 'amount': 3981898.0457751974}]}, {'name': 'Others', 'paymentInstruments': [{'type': 'TOTAL', 'count': 3437, 'amount': 2941223.950049905}]}]}, 'responseTimestamp': 1630501494063}\n",
      "{'success': True, 'code': 'SUCCESS', 'data': {'from': 1640975400000, 'to': 1648405800000, 'transactionData': [{'name': 'Peer-to-peer payments', 'paymentInstruments': [{'type': 'TOTAL', 'count': 801009, 'amount': 3899172008.7001157}]}, {'name': 'Recharge & bill payments', 'paymentInstruments': [{'type': 'TOTAL', 'count': 459530, 'amount': 192026788.60457045}]}, {'name': 'Merchant payments', 'paymentInstruments': [{'type': 'TOTAL', 'count': 405859, 'amount': 563004043.9315958}]}, {'name': 'Financial Services', 'paymentInstruments': [{'type': 'TOTAL', 'count': 2134, 'amount': 3019251.8598936894}]}, {'name': 'Others', 'paymentInstruments': [{'type': 'TOTAL', 'count': 6218, 'amount': 5116238.235718384}]}]}, 'responseTimestamp': 1651127589313}\n",
      "{'success': True, 'code': 'SUCCESS', 'data': {'from': 1514745000000, 'to': 1522175400000, 'transactionData': [{'name': 'Recharge & bill payments', 'paymentInstruments': [{'type': 'TOTAL', 'count': 10155, 'amount': 2199565.258913744}]}, {'name': 'Peer-to-peer payments', 'paymentInstruments': [{'type': 'TOTAL', 'count': 6845, 'amount': 41186717.278001666}]}, {'name': 'Merchant payments', 'paymentInstruments': [{'type': 'TOTAL', 'count': 616, 'amount': 1066002.1670622267}]}, {'name': 'Financial Services', 'paymentInstruments': [{'type': 'TOTAL', 'count': 260, 'amount': 65022.49896840689}]}, {'name': 'Others', 'paymentInstruments': [{'type': 'TOTAL', 'count': 685, 'amount': 709912.772844791}]}]}, 'responseTimestamp': 1630501487331}\n",
      "{'success': True, 'code': 'SUCCESS', 'data': {'from': 1546281000000, 'to': 1553711400000, 'transactionData': [{'name': 'Peer-to-peer payments', 'paymentInstruments': [{'type': 'TOTAL', 'count': 35126, 'amount': 204183867.4116538}]}, {'name': 'Recharge & bill payments', 'paymentInstruments': [{'type': 'TOTAL', 'count': 30327, 'amount': 6760113.704148788}]}, {'name': 'Merchant payments', 'paymentInstruments': [{'type': 'TOTAL', 'count': 3984, 'amount': 6470456.031897823}]}, {'name': 'Financial Services', 'paymentInstruments': [{'type': 'TOTAL', 'count': 133, 'amount': 33512.39606736117}]}, {'name': 'Others', 'paymentInstruments': [{'type': 'TOTAL', 'count': 736, 'amount': 712945.8536347556}]}]}, 'responseTimestamp': 1630501490327}\n",
      "{'success': True, 'code': 'SUCCESS', 'data': {'from': 1577817000000, 'to': 1585333800000, 'transactionData': [{'name': 'Recharge & bill payments', 'paymentInstruments': [{'type': 'TOTAL', 'count': 85067, 'amount': 24356294.58523286}]}, {'name': 'Peer-to-peer payments', 'paymentInstruments': [{'type': 'TOTAL', 'count': 57916, 'amount': 356260523.23262954}]}, {'name': 'Merchant payments', 'paymentInstruments': [{'type': 'TOTAL', 'count': 9961, 'amount': 10404414.592504771}]}, {'name': 'Financial Services', 'paymentInstruments': [{'type': 'TOTAL', 'count': 119, 'amount': 283854.3188381147}]}, {'name': 'Others', 'paymentInstruments': [{'type': 'TOTAL', 'count': 546, 'amount': 772492.6204317764}]}]}, 'responseTimestamp': 1630501491743}\n",
      "{'success': True, 'code': 'SUCCESS', 'data': {'from': 1609439400000, 'to': 1616869800000, 'transactionData': [{'name': 'Peer-to-peer payments', 'paymentInstruments': [{'type': 'TOTAL', 'count': 156386, 'amount': 982955112.1892779}]}, {'name': 'Recharge & bill payments', 'paymentInstruments': [{'type': 'TOTAL', 'count': 128055, 'amount': 45558278.22323953}]}, {'name': 'Merchant payments', 'paymentInstruments': [{'type': 'TOTAL', 'count': 43511, 'amount': 70289687.94622748}]}, {'name': 'Financial Services', 'paymentInstruments': [{'type': 'TOTAL', 'count': 648, 'amount': 1330632.9787811027}]}, {'name': 'Others', 'paymentInstruments': [{'type': 'TOTAL', 'count': 975, 'amount': 971875.6084117102}]}]}, 'responseTimestamp': 1630501494063}\n",
      "{'success': True, 'code': 'SUCCESS', 'data': {'from': 1640975400000, 'to': 1648405800000, 'transactionData': [{'name': 'Peer-to-peer payments', 'paymentInstruments': [{'type': 'TOTAL', 'count': 302740, 'amount': 1691281089.989316}]}, {'name': 'Recharge & bill payments', 'paymentInstruments': [{'type': 'TOTAL', 'count': 190137, 'amount': 76541062.33691595}]}, {'name': 'Merchant payments', 'paymentInstruments': [{'type': 'TOTAL', 'count': 109669, 'amount': 174157725.41469872}]}, {'name': 'Financial Services', 'paymentInstruments': [{'type': 'TOTAL', 'count': 731, 'amount': 1657575.282816791}]}, {'name': 'Others', 'paymentInstruments': [{'type': 'TOTAL', 'count': 1640, 'amount': 1521510.587498479}]}]}, 'responseTimestamp': 1651127620981}\n",
      "{'success': True, 'code': 'SUCCESS', 'data': {'from': 1514745000000, 'to': 1522175400000, 'transactionData': [{'name': 'Recharge & bill payments', 'paymentInstruments': [{'type': 'TOTAL', 'count': 28198, 'amount': 5361675.549623315}]}, {'name': 'Peer-to-peer payments', 'paymentInstruments': [{'type': 'TOTAL', 'count': 11631, 'amount': 69830122.02063876}]}, {'name': 'Merchant payments', 'paymentInstruments': [{'type': 'TOTAL', 'count': 822, 'amount': 1170667.4151649117}]}, {'name': 'Financial Services', 'paymentInstruments': [{'type': 'TOTAL', 'count': 399, 'amount': 299016.7345620737}]}, {'name': 'Others', 'paymentInstruments': [{'type': 'TOTAL', 'count': 1795, 'amount': 1344409.3661360394}]}]}, 'responseTimestamp': 1630501487331}\n",
      "{'success': True, 'code': 'SUCCESS', 'data': {'from': 1546281000000, 'to': 1553711400000, 'transactionData': [{'name': 'Recharge & bill payments', 'paymentInstruments': [{'type': 'TOTAL', 'count': 87596, 'amount': 20020458.076388802}]}, {'name': 'Peer-to-peer payments', 'paymentInstruments': [{'type': 'TOTAL', 'count': 71642, 'amount': 411855878.2498224}]}, {'name': 'Merchant payments', 'paymentInstruments': [{'type': 'TOTAL', 'count': 7306, 'amount': 8187940.322092213}]}, {'name': 'Financial Services', 'paymentInstruments': [{'type': 'TOTAL', 'count': 430, 'amount': 101072.89773317604}]}, {'name': 'Others', 'paymentInstruments': [{'type': 'TOTAL', 'count': 1605, 'amount': 1776362.8662935253}]}]}, 'responseTimestamp': 1630501490327}\n",
      "{'success': True, 'code': 'SUCCESS', 'data': {'from': 1577817000000, 'to': 1585333800000, 'transactionData': [{'name': 'Recharge & bill payments', 'paymentInstruments': [{'type': 'TOTAL', 'count': 221741, 'amount': 53662023.32016543}]}, {'name': 'Peer-to-peer payments', 'paymentInstruments': [{'type': 'TOTAL', 'count': 135966, 'amount': 821508819.5893908}]}, {'name': 'Merchant payments', 'paymentInstruments': [{'type': 'TOTAL', 'count': 18249, 'amount': 17663339.36989499}]}, {'name': 'Financial Services', 'paymentInstruments': [{'type': 'TOTAL', 'count': 528, 'amount': 215066.78349539996}]}, {'name': 'Others', 'paymentInstruments': [{'type': 'TOTAL', 'count': 1567, 'amount': 1730779.6714233835}]}]}, 'responseTimestamp': 1630501491744}\n"
     ]
    },
    {
     "name": "stdout",
     "output_type": "stream",
     "text": [
      "{'success': True, 'code': 'SUCCESS', 'data': {'from': 1609439400000, 'to': 1616869800000, 'transactionData': [{'name': 'Peer-to-peer payments', 'paymentInstruments': [{'type': 'TOTAL', 'count': 477346, 'amount': 2841021698.4844904}]}, {'name': 'Recharge & bill payments', 'paymentInstruments': [{'type': 'TOTAL', 'count': 376473, 'amount': 110095189.5931618}]}, {'name': 'Merchant payments', 'paymentInstruments': [{'type': 'TOTAL', 'count': 116846, 'amount': 151202427.14605337}]}, {'name': 'Financial Services', 'paymentInstruments': [{'type': 'TOTAL', 'count': 1511, 'amount': 1929643.694251965}]}, {'name': 'Others', 'paymentInstruments': [{'type': 'TOTAL', 'count': 3721, 'amount': 3201525.695241506}]}]}, 'responseTimestamp': 1630501494063}\n",
      "{'success': True, 'code': 'SUCCESS', 'data': {'from': 1640975400000, 'to': 1648405800000, 'transactionData': [{'name': 'Peer-to-peer payments', 'paymentInstruments': [{'type': 'TOTAL', 'count': 963378, 'amount': 4798355631.574022}]}, {'name': 'Recharge & bill payments', 'paymentInstruments': [{'type': 'TOTAL', 'count': 529038, 'amount': 175942440.62210858}]}, {'name': 'Merchant payments', 'paymentInstruments': [{'type': 'TOTAL', 'count': 425336, 'amount': 563650239.9471383}]}, {'name': 'Financial Services', 'paymentInstruments': [{'type': 'TOTAL', 'count': 2022, 'amount': 2503998.824974763}]}, {'name': 'Others', 'paymentInstruments': [{'type': 'TOTAL', 'count': 6178, 'amount': 4499397.927512417}]}]}, 'responseTimestamp': 1651127615466}\n",
      "{'success': True, 'code': 'SUCCESS', 'data': {'from': 1514745000000, 'to': 1522175400000, 'transactionData': [{'name': 'Recharge & bill payments', 'paymentInstruments': [{'type': 'TOTAL', 'count': 2874109, 'amount': 331254466.1508661}]}, {'name': 'Peer-to-peer payments', 'paymentInstruments': [{'type': 'TOTAL', 'count': 2305610, 'amount': 4033548999.1932316}]}, {'name': 'Financial Services', 'paymentInstruments': [{'type': 'TOTAL', 'count': 323352, 'amount': 58099674.94576137}]}, {'name': 'Merchant payments', 'paymentInstruments': [{'type': 'TOTAL', 'count': 129659, 'amount': 112301341.66618621}]}, {'name': 'Others', 'paymentInstruments': [{'type': 'TOTAL', 'count': 177091, 'amount': 92427728.93143727}]}]}, 'responseTimestamp': 1630501487333}\n",
      "{'success': True, 'code': 'SUCCESS', 'data': {'from': 1546281000000, 'to': 1553711400000, 'transactionData': [{'name': 'Peer-to-peer payments', 'paymentInstruments': [{'type': 'TOTAL', 'count': 24117274, 'amount': 33342321630.613514}]}, {'name': 'Recharge & bill payments', 'paymentInstruments': [{'type': 'TOTAL', 'count': 6713747, 'amount': 1120730273.3482153}]}, {'name': 'Merchant payments', 'paymentInstruments': [{'type': 'TOTAL', 'count': 2690762, 'amount': 821493664.580642}]}, {'name': 'Financial Services', 'paymentInstruments': [{'type': 'TOTAL', 'count': 375910, 'amount': 34542738.889085874}]}, {'name': 'Others', 'paymentInstruments': [{'type': 'TOTAL', 'count': 134249, 'amount': 108039623.26819064}]}]}, 'responseTimestamp': 1630501490326}\n",
      "{'success': True, 'code': 'SUCCESS', 'data': {'from': 1577817000000, 'to': 1585333800000, 'transactionData': [{'name': 'Peer-to-peer payments', 'paymentInstruments': [{'type': 'TOTAL', 'count': 27110930, 'amount': 82863844732.4941}]}, {'name': 'Merchant payments', 'paymentInstruments': [{'type': 'TOTAL', 'count': 13269709, 'amount': 5738217250.062569}]}, {'name': 'Recharge & bill payments', 'paymentInstruments': [{'type': 'TOTAL', 'count': 13083524, 'amount': 3253609732.8992968}]}, {'name': 'Financial Services', 'paymentInstruments': [{'type': 'TOTAL', 'count': 84037, 'amount': 27641460.905009564}]}, {'name': 'Others', 'paymentInstruments': [{'type': 'TOTAL', 'count': 134107, 'amount': 73485022.97217913}]}]}, 'responseTimestamp': 1630501491745}\n",
      "{'success': True, 'code': 'SUCCESS', 'data': {'from': 1609439400000, 'to': 1616869800000, 'transactionData': [{'name': 'Peer-to-peer payments', 'paymentInstruments': [{'type': 'TOTAL', 'count': 54417515, 'amount': 181450436291.91052}]}, {'name': 'Merchant payments', 'paymentInstruments': [{'type': 'TOTAL', 'count': 38180718, 'amount': 25201936762.205833}]}, {'name': 'Recharge & bill payments', 'paymentInstruments': [{'type': 'TOTAL', 'count': 18633830, 'amount': 6552605937.545543}]}, {'name': 'Financial Services', 'paymentInstruments': [{'type': 'TOTAL', 'count': 87263, 'amount': 95064023.94844367}]}, {'name': 'Others', 'paymentInstruments': [{'type': 'TOTAL', 'count': 141032, 'amount': 97693172.7305285}]}]}, 'responseTimestamp': 1630501494064}\n",
      "{'success': True, 'code': 'SUCCESS', 'data': {'from': 1640975400000, 'to': 1648405800000, 'transactionData': [{'name': 'Peer-to-peer payments', 'paymentInstruments': [{'type': 'TOTAL', 'count': 118999900, 'amount': 364447461107.48627}]}, {'name': 'Merchant payments', 'paymentInstruments': [{'type': 'TOTAL', 'count': 118108271, 'amount': 74302051597.7621}]}, {'name': 'Recharge & bill payments', 'paymentInstruments': [{'type': 'TOTAL', 'count': 26083549, 'amount': 12133153536.781809}]}, {'name': 'Financial Services', 'paymentInstruments': [{'type': 'TOTAL', 'count': 102802, 'amount': 118946014.37332995}]}, {'name': 'Others', 'paymentInstruments': [{'type': 'TOTAL', 'count': 338977, 'amount': 225699523.4203592}]}]}, 'responseTimestamp': 1651127599294}\n",
      "{'success': True, 'code': 'SUCCESS', 'data': {'from': 1514745000000, 'to': 1522175400000, 'transactionData': [{'name': 'Recharge & bill payments', 'paymentInstruments': [{'type': 'TOTAL', 'count': 53125, 'amount': 9704752.648983236}]}, {'name': 'Peer-to-peer payments', 'paymentInstruments': [{'type': 'TOTAL', 'count': 40303, 'amount': 147834476.16250613}]}, {'name': 'Merchant payments', 'paymentInstruments': [{'type': 'TOTAL', 'count': 4163, 'amount': 4427034.0315394765}]}, {'name': 'Financial Services', 'paymentInstruments': [{'type': 'TOTAL', 'count': 2086, 'amount': 565799.4553442572}]}, {'name': 'Others', 'paymentInstruments': [{'type': 'TOTAL', 'count': 4535, 'amount': 3293909.0714630377}]}]}, 'responseTimestamp': 1630501487335}\n",
      "{'success': True, 'code': 'SUCCESS', 'data': {'from': 1546281000000, 'to': 1553711400000, 'transactionData': [{'name': 'Peer-to-peer payments', 'paymentInstruments': [{'type': 'TOTAL', 'count': 313822, 'amount': 835983054.254643}]}, {'name': 'Recharge & bill payments', 'paymentInstruments': [{'type': 'TOTAL', 'count': 124092, 'amount': 32635247.523153085}]}, {'name': 'Merchant payments', 'paymentInstruments': [{'type': 'TOTAL', 'count': 54518, 'amount': 33763704.68083725}]}, {'name': 'Financial Services', 'paymentInstruments': [{'type': 'TOTAL', 'count': 3165, 'amount': 337570.322842385}]}, {'name': 'Others', 'paymentInstruments': [{'type': 'TOTAL', 'count': 5495, 'amount': 3753447.525046112}]}]}, 'responseTimestamp': 1630501490326}\n",
      "{'success': True, 'code': 'SUCCESS', 'data': {'from': 1577817000000, 'to': 1585333800000, 'transactionData': [{'name': 'Peer-to-peer payments', 'paymentInstruments': [{'type': 'TOTAL', 'count': 600290, 'amount': 1919499665.8834748}]}, {'name': 'Merchant payments', 'paymentInstruments': [{'type': 'TOTAL', 'count': 349788, 'amount': 184925417.68654612}]}, {'name': 'Recharge & bill payments', 'paymentInstruments': [{'type': 'TOTAL', 'count': 251115, 'amount': 96515615.43520354}]}, {'name': 'Financial Services', 'paymentInstruments': [{'type': 'TOTAL', 'count': 1527, 'amount': 858236.5498234634}]}, {'name': 'Others', 'paymentInstruments': [{'type': 'TOTAL', 'count': 5201, 'amount': 3478541.524535387}]}]}, 'responseTimestamp': 1630501491822}\n",
      "{'success': True, 'code': 'SUCCESS', 'data': {'from': 1609439400000, 'to': 1616869800000, 'transactionData': [{'name': 'Peer-to-peer payments', 'paymentInstruments': [{'type': 'TOTAL', 'count': 1406958, 'amount': 4798646712.501943}]}, {'name': 'Merchant payments', 'paymentInstruments': [{'type': 'TOTAL', 'count': 1385444, 'amount': 857787315.6292762}]}, {'name': 'Recharge & bill payments', 'paymentInstruments': [{'type': 'TOTAL', 'count': 504499, 'amount': 231829246.92353857}]}, {'name': 'Financial Services', 'paymentInstruments': [{'type': 'TOTAL', 'count': 5073, 'amount': 5953397.434996936}]}, {'name': 'Others', 'paymentInstruments': [{'type': 'TOTAL', 'count': 7458, 'amount': 5092899.253895952}]}]}, 'responseTimestamp': 1630501494064}\n",
      "{'success': True, 'code': 'SUCCESS', 'data': {'from': 1640975400000, 'to': 1648405800000, 'transactionData': [{'name': 'Merchant payments', 'paymentInstruments': [{'type': 'TOTAL', 'count': 3723135, 'amount': 2199614586.4039083}]}, {'name': 'Peer-to-peer payments', 'paymentInstruments': [{'type': 'TOTAL', 'count': 2901199, 'amount': 9407577501.769796}]}, {'name': 'Recharge & bill payments', 'paymentInstruments': [{'type': 'TOTAL', 'count': 715338, 'amount': 460522863.7855054}]}, {'name': 'Financial Services', 'paymentInstruments': [{'type': 'TOTAL', 'count': 6203, 'amount': 8184455.912082582}]}, {'name': 'Others', 'paymentInstruments': [{'type': 'TOTAL', 'count': 13301, 'amount': 7575497.515363299}]}]}, 'responseTimestamp': 1651127572514}\n",
      "{'success': True, 'code': 'SUCCESS', 'data': {'from': 1514745000000, 'to': 1522175400000, 'transactionData': [{'name': 'Recharge & bill payments', 'paymentInstruments': [{'type': 'TOTAL', 'count': 946338, 'amount': 196018621.35851485}]}, {'name': 'Peer-to-peer payments', 'paymentInstruments': [{'type': 'TOTAL', 'count': 690684, 'amount': 2412434633.5413933}]}, {'name': 'Merchant payments', 'paymentInstruments': [{'type': 'TOTAL', 'count': 87477, 'amount': 83873893.96204324}]}, {'name': 'Financial Services', 'paymentInstruments': [{'type': 'TOTAL', 'count': 60688, 'amount': 11162488.423236402}]}, {'name': 'Others', 'paymentInstruments': [{'type': 'TOTAL', 'count': 85246, 'amount': 77268587.56920797}]}]}, 'responseTimestamp': 1630501487400}\n",
      "{'success': True, 'code': 'SUCCESS', 'data': {'from': 1546281000000, 'to': 1553711400000, 'transactionData': [{'name': 'Peer-to-peer payments', 'paymentInstruments': [{'type': 'TOTAL', 'count': 4026294, 'amount': 12027441595.712797}]}, {'name': 'Recharge & bill payments', 'paymentInstruments': [{'type': 'TOTAL', 'count': 2304690, 'amount': 986004867.8072444}]}, {'name': 'Merchant payments', 'paymentInstruments': [{'type': 'TOTAL', 'count': 711152, 'amount': 478382600.617519}]}, {'name': 'Financial Services', 'paymentInstruments': [{'type': 'TOTAL', 'count': 45621, 'amount': 6871295.954710579}]}, {'name': 'Others', 'paymentInstruments': [{'type': 'TOTAL', 'count': 84380, 'amount': 75789641.76089522}]}]}, 'responseTimestamp': 1630501490326}\n",
      "{'success': True, 'code': 'SUCCESS', 'data': {'from': 1577817000000, 'to': 1585333800000, 'transactionData': [{'name': 'Peer-to-peer payments', 'paymentInstruments': [{'type': 'TOTAL', 'count': 6339183, 'amount': 26350005915.230072}]}, {'name': 'Recharge & bill payments', 'paymentInstruments': [{'type': 'TOTAL', 'count': 4935115, 'amount': 2767419472.6505165}]}, {'name': 'Merchant payments', 'paymentInstruments': [{'type': 'TOTAL', 'count': 3838480, 'amount': 2196329615.3949203}]}, {'name': 'Financial Services', 'paymentInstruments': [{'type': 'TOTAL', 'count': 17924, 'amount': 10987850.955996178}]}, {'name': 'Others', 'paymentInstruments': [{'type': 'TOTAL', 'count': 87082, 'amount': 49442411.668161854}]}]}, 'responseTimestamp': 1630501491823}\n",
      "{'success': True, 'code': 'SUCCESS', 'data': {'from': 1609439400000, 'to': 1616869800000, 'transactionData': [{'name': 'Peer-to-peer payments', 'paymentInstruments': [{'type': 'TOTAL', 'count': 10951083, 'amount': 46908632143.31532}]}, {'name': 'Merchant payments', 'paymentInstruments': [{'type': 'TOTAL', 'count': 9333364, 'amount': 7651004598.907397}]}, {'name': 'Recharge & bill payments', 'paymentInstruments': [{'type': 'TOTAL', 'count': 6332928, 'amount': 3980874403.2760215}]}, {'name': 'Financial Services', 'paymentInstruments': [{'type': 'TOTAL', 'count': 43094, 'amount': 52009482.41407214}]}, {'name': 'Others', 'paymentInstruments': [{'type': 'TOTAL', 'count': 110366, 'amount': 98366463.19387978}]}]}, 'responseTimestamp': 1630501494067}\n",
      "{'success': True, 'code': 'SUCCESS', 'data': {'from': 1640975400000, 'to': 1648405800000, 'transactionData': [{'name': 'Merchant payments', 'paymentInstruments': [{'type': 'TOTAL', 'count': 25979197, 'amount': 23217511696.823074}]}, {'name': 'Peer-to-peer payments', 'paymentInstruments': [{'type': 'TOTAL', 'count': 22354946, 'amount': 88645204328.52362}]}, {'name': 'Recharge & bill payments', 'paymentInstruments': [{'type': 'TOTAL', 'count': 9188439, 'amount': 6317909908.645241}]}, {'name': 'Financial Services', 'paymentInstruments': [{'type': 'TOTAL', 'count': 57561, 'amount': 83933665.00820544}]}, {'name': 'Others', 'paymentInstruments': [{'type': 'TOTAL', 'count': 178159, 'amount': 125418506.96271203}]}]}, 'responseTimestamp': 1651127597424}\n",
      "{'success': True, 'code': 'SUCCESS', 'data': {'from': 1514745000000, 'to': 1522175400000, 'transactionData': [{'name': 'Recharge & bill payments', 'paymentInstruments': [{'type': 'TOTAL', 'count': 4305940, 'amount': 868358581.1737025}]}, {'name': 'Peer-to-peer payments', 'paymentInstruments': [{'type': 'TOTAL', 'count': 2540658, 'amount': 7547652852.662634}]}, {'name': 'Financial Services', 'paymentInstruments': [{'type': 'TOTAL', 'count': 202537, 'amount': 37125466.49571308}]}, {'name': 'Merchant payments', 'paymentInstruments': [{'type': 'TOTAL', 'count': 184127, 'amount': 201212697.26059398}]}, {'name': 'Others', 'paymentInstruments': [{'type': 'TOTAL', 'count': 358428, 'amount': 271943533.1341365}]}]}, 'responseTimestamp': 1630501487400}\n",
      "{'success': True, 'code': 'SUCCESS', 'data': {'from': 1546281000000, 'to': 1553711400000, 'transactionData': [{'name': 'Peer-to-peer payments', 'paymentInstruments': [{'type': 'TOTAL', 'count': 27621606, 'amount': 55246071722.22856}]}, {'name': 'Recharge & bill payments', 'paymentInstruments': [{'type': 'TOTAL', 'count': 11650961, 'amount': 3821181816.6204696}]}, {'name': 'Merchant payments', 'paymentInstruments': [{'type': 'TOTAL', 'count': 3921438, 'amount': 1664209334.5681162}]}, {'name': 'Financial Services', 'paymentInstruments': [{'type': 'TOTAL', 'count': 359993, 'amount': 36340412.57538466}]}, {'name': 'Others', 'paymentInstruments': [{'type': 'TOTAL', 'count': 402042, 'amount': 373355289.5614773}]}]}, 'responseTimestamp': 1630501490326}\n",
      "{'success': True, 'code': 'SUCCESS', 'data': {'from': 1577817000000, 'to': 1585333800000, 'transactionData': [{'name': 'Peer-to-peer payments', 'paymentInstruments': [{'type': 'TOTAL', 'count': 48269912, 'amount': 165468574323.88968}]}, {'name': 'Merchant payments', 'paymentInstruments': [{'type': 'TOTAL', 'count': 27880848, 'amount': 13643061482.35596}]}, {'name': 'Recharge & bill payments', 'paymentInstruments': [{'type': 'TOTAL', 'count': 25631131, 'amount': 10961167179.81334}]}, {'name': 'Financial Services', 'paymentInstruments': [{'type': 'TOTAL', 'count': 72604, 'amount': 34466606.25327997}]}, {'name': 'Others', 'paymentInstruments': [{'type': 'TOTAL', 'count': 404317, 'amount': 200968968.6958118}]}]}, 'responseTimestamp': 1630501491823}\n",
      "{'success': True, 'code': 'SUCCESS', 'data': {'from': 1609439400000, 'to': 1616869800000, 'transactionData': [{'name': 'Peer-to-peer payments', 'paymentInstruments': [{'type': 'TOTAL', 'count': 116733195, 'amount': 408190388154.2274}]}, {'name': 'Merchant payments', 'paymentInstruments': [{'type': 'TOTAL', 'count': 96394132, 'amount': 61936457709.223076}]}, {'name': 'Recharge & bill payments', 'paymentInstruments': [{'type': 'TOTAL', 'count': 38919519, 'amount': 20855464604.344055}]}, {'name': 'Financial Services', 'paymentInstruments': [{'type': 'TOTAL', 'count': 192936, 'amount': 162581466.93308985}]}, {'name': 'Others', 'paymentInstruments': [{'type': 'TOTAL', 'count': 491137, 'amount': 347689722.9177618}]}]}, 'responseTimestamp': 1630501494114}\n",
      "{'success': True, 'code': 'SUCCESS', 'data': {'from': 1640975400000, 'to': 1648405800000, 'transactionData': [{'name': 'Merchant payments', 'paymentInstruments': [{'type': 'TOTAL', 'count': 267467038, 'amount': 171182113048.26318}]}, {'name': 'Peer-to-peer payments', 'paymentInstruments': [{'type': 'TOTAL', 'count': 241739380, 'amount': 814525435614.1678}]}, {'name': 'Recharge & bill payments', 'paymentInstruments': [{'type': 'TOTAL', 'count': 54555117, 'amount': 35542881861.07577}]}, {'name': 'Financial Services', 'paymentInstruments': [{'type': 'TOTAL', 'count': 244029, 'amount': 243340851.71204624}]}, {'name': 'Others', 'paymentInstruments': [{'type': 'TOTAL', 'count': 956656, 'amount': 556409604.9103613}]}]}, 'responseTimestamp': 1651127591271}\n",
      "{'success': True, 'code': 'SUCCESS', 'data': {'from': 1514745000000, 'to': 1522175400000, 'transactionData': [{'name': 'Recharge & bill payments', 'paymentInstruments': [{'type': 'TOTAL', 'count': 26965, 'amount': 4823943.542263939}]}, {'name': 'Peer-to-peer payments', 'paymentInstruments': [{'type': 'TOTAL', 'count': 13559, 'amount': 56334584.632872}]}, {'name': 'Merchant payments', 'paymentInstruments': [{'type': 'TOTAL', 'count': 1349, 'amount': 1677583.1440411464}]}, {'name': 'Financial Services', 'paymentInstruments': [{'type': 'TOTAL', 'count': 608, 'amount': 86906.81958101383}]}, {'name': 'Others', 'paymentInstruments': [{'type': 'TOTAL', 'count': 1597, 'amount': 1727920.8016103164}]}]}, 'responseTimestamp': 1630501487400}\n",
      "{'success': True, 'code': 'SUCCESS', 'data': {'from': 1546281000000, 'to': 1553711400000, 'transactionData': [{'name': 'Peer-to-peer payments', 'paymentInstruments': [{'type': 'TOTAL', 'count': 121984, 'amount': 422987999.89472675}]}, {'name': 'Recharge & bill payments', 'paymentInstruments': [{'type': 'TOTAL', 'count': 96878, 'amount': 20711589.874598008}]}, {'name': 'Merchant payments', 'paymentInstruments': [{'type': 'TOTAL', 'count': 18346, 'amount': 11837344.846847566}]}, {'name': 'Financial Services', 'paymentInstruments': [{'type': 'TOTAL', 'count': 1225, 'amount': 191594.23340424805}]}, {'name': 'Others', 'paymentInstruments': [{'type': 'TOTAL', 'count': 1854, 'amount': 2265105.53451732}]}]}, 'responseTimestamp': 1630501490328}\n",
      "{'success': True, 'code': 'SUCCESS', 'data': {'from': 1577817000000, 'to': 1585333800000, 'transactionData': [{'name': 'Peer-to-peer payments', 'paymentInstruments': [{'type': 'TOTAL', 'count': 230413, 'amount': 954765350.1856782}]}, {'name': 'Recharge & bill payments', 'paymentInstruments': [{'type': 'TOTAL', 'count': 215586, 'amount': 53588505.838823974}]}, {'name': 'Merchant payments', 'paymentInstruments': [{'type': 'TOTAL', 'count': 79881, 'amount': 43201695.38937264}]}, {'name': 'Financial Services', 'paymentInstruments': [{'type': 'TOTAL', 'count': 345, 'amount': 175569.53933206247}]}, {'name': 'Others', 'paymentInstruments': [{'type': 'TOTAL', 'count': 1893, 'amount': 1745150.991195219}]}]}, 'responseTimestamp': 1630501491823}\n",
      "{'success': True, 'code': 'SUCCESS', 'data': {'from': 1609439400000, 'to': 1616869800000, 'transactionData': [{'name': 'Peer-to-peer payments', 'paymentInstruments': [{'type': 'TOTAL', 'count': 403703, 'amount': 1965492629.578867}]}, {'name': 'Recharge & bill payments', 'paymentInstruments': [{'type': 'TOTAL', 'count': 279679, 'amount': 93174110.112334}]}, {'name': 'Merchant payments', 'paymentInstruments': [{'type': 'TOTAL', 'count': 112925, 'amount': 154183320.1372872}]}, {'name': 'Financial Services', 'paymentInstruments': [{'type': 'TOTAL', 'count': 1844, 'amount': 3027799.2784099854}]}, {'name': 'Others', 'paymentInstruments': [{'type': 'TOTAL', 'count': 2038, 'amount': 1789867.7338266163}]}]}, 'responseTimestamp': 1630501494114}\n",
      "{'success': True, 'code': 'SUCCESS', 'data': {'from': 1640975400000, 'to': 1648405800000, 'transactionData': [{'name': 'Peer-to-peer payments', 'paymentInstruments': [{'type': 'TOTAL', 'count': 916940, 'amount': 3650961081.00263}]}, {'name': 'Merchant payments', 'paymentInstruments': [{'type': 'TOTAL', 'count': 449273, 'amount': 570784579.6670712}]}, {'name': 'Recharge & bill payments', 'paymentInstruments': [{'type': 'TOTAL', 'count': 371579, 'amount': 139135962.10369253}]}, {'name': 'Financial Services', 'paymentInstruments': [{'type': 'TOTAL', 'count': 2124, 'amount': 3062332.163804472}]}, {'name': 'Others', 'paymentInstruments': [{'type': 'TOTAL', 'count': 4386, 'amount': 3487320.9262269526}]}]}, 'responseTimestamp': 1651127615017}\n",
      "{'success': True, 'code': 'SUCCESS', 'data': {'from': 1514745000000, 'to': 1522175400000, 'transactionData': [{'name': 'Recharge & bill payments', 'paymentInstruments': [{'type': 'TOTAL', 'count': 3308548, 'amount': 646028338.3951533}]}, {'name': 'Peer-to-peer payments', 'paymentInstruments': [{'type': 'TOTAL', 'count': 2670613, 'amount': 10031518934.085688}]}, {'name': 'Merchant payments', 'paymentInstruments': [{'type': 'TOTAL', 'count': 326510, 'amount': 272002057.1736871}]}, {'name': 'Financial Services', 'paymentInstruments': [{'type': 'TOTAL', 'count': 115363, 'amount': 31876073.74792233}]}, {'name': 'Others', 'paymentInstruments': [{'type': 'TOTAL', 'count': 305588, 'amount': 280132294.11422664}]}]}, 'responseTimestamp': 1630501487400}\n",
      "{'success': True, 'code': 'SUCCESS', 'data': {'from': 1546281000000, 'to': 1553711400000, 'transactionData': [{'name': 'Peer-to-peer payments', 'paymentInstruments': [{'type': 'TOTAL', 'count': 18645926, 'amount': 51296299081.44436}]}, {'name': 'Recharge & bill payments', 'paymentInstruments': [{'type': 'TOTAL', 'count': 8863289, 'amount': 2695317014.8660007}]}, {'name': 'Merchant payments', 'paymentInstruments': [{'type': 'TOTAL', 'count': 4195222, 'amount': 1924461188.9900146}]}, {'name': 'Financial Services', 'paymentInstruments': [{'type': 'TOTAL', 'count': 193261, 'amount': 31217137.545322973}]}, {'name': 'Others', 'paymentInstruments': [{'type': 'TOTAL', 'count': 377347, 'amount': 256742393.28426796}]}]}, 'responseTimestamp': 1630501490406}\n",
      "{'success': True, 'code': 'SUCCESS', 'data': {'from': 1577817000000, 'to': 1585333800000, 'transactionData': [{'name': 'Peer-to-peer payments', 'paymentInstruments': [{'type': 'TOTAL', 'count': 30880360, 'amount': 101907683045.28436}]}, {'name': 'Merchant payments', 'paymentInstruments': [{'type': 'TOTAL', 'count': 21541556, 'amount': 8950736938.223478}]}, {'name': 'Recharge & bill payments', 'paymentInstruments': [{'type': 'TOTAL', 'count': 14134259, 'amount': 5493239429.7322235}]}, {'name': 'Financial Services', 'paymentInstruments': [{'type': 'TOTAL', 'count': 61427, 'amount': 41422107.813630365}]}, {'name': 'Others', 'paymentInstruments': [{'type': 'TOTAL', 'count': 335871, 'amount': 176604658.386683}]}]}, 'responseTimestamp': 1630501491824}\n",
      "{'success': True, 'code': 'SUCCESS', 'data': {'from': 1609439400000, 'to': 1616869800000, 'transactionData': [{'name': 'Peer-to-peer payments', 'paymentInstruments': [{'type': 'TOTAL', 'count': 57446279, 'amount': 206405230307.9611}]}, {'name': 'Merchant payments', 'paymentInstruments': [{'type': 'TOTAL', 'count': 53811885, 'amount': 30722779534.582508}]}, {'name': 'Recharge & bill payments', 'paymentInstruments': [{'type': 'TOTAL', 'count': 24826273, 'amount': 11115915388.739548}]}, {'name': 'Financial Services', 'paymentInstruments': [{'type': 'TOTAL', 'count': 170620, 'amount': 215319360.4840321}]}, {'name': 'Others', 'paymentInstruments': [{'type': 'TOTAL', 'count': 301617, 'amount': 208899281.88347316}]}]}, 'responseTimestamp': 1630501494114}\n",
      "{'success': True, 'code': 'SUCCESS', 'data': {'from': 1640975400000, 'to': 1648405800000, 'transactionData': [{'name': 'Merchant payments', 'paymentInstruments': [{'type': 'TOTAL', 'count': 139788772, 'amount': 81798208975.87326}]}, {'name': 'Peer-to-peer payments', 'paymentInstruments': [{'type': 'TOTAL', 'count': 119383791, 'amount': 409631710258.4541}]}, {'name': 'Recharge & bill payments', 'paymentInstruments': [{'type': 'TOTAL', 'count': 34579431, 'amount': 20705079141.096962}]}, {'name': 'Financial Services', 'paymentInstruments': [{'type': 'TOTAL', 'count': 241201, 'amount': 298216135.377552}]}, {'name': 'Others', 'paymentInstruments': [{'type': 'TOTAL', 'count': 579955, 'amount': 355987089.8306444}]}]}, 'responseTimestamp': 1651127573267}\n",
      "{'success': True, 'code': 'SUCCESS', 'data': {'from': 1514745000000, 'to': 1522175400000, 'transactionData': [{'name': 'Recharge & bill payments', 'paymentInstruments': [{'type': 'TOTAL', 'count': 4209319, 'amount': 831912767.5937189}]}, {'name': 'Peer-to-peer payments', 'paymentInstruments': [{'type': 'TOTAL', 'count': 3307245, 'amount': 11748268950.760422}]}, {'name': 'Merchant payments', 'paymentInstruments': [{'type': 'TOTAL', 'count': 351474, 'amount': 282899066.6137372}]}, {'name': 'Financial Services', 'paymentInstruments': [{'type': 'TOTAL', 'count': 262876, 'amount': 57011875.36233704}]}, {'name': 'Others', 'paymentInstruments': [{'type': 'TOTAL', 'count': 391852, 'amount': 388111458.2121352}]}]}, 'responseTimestamp': 1630501487402}\n",
      "{'success': True, 'code': 'SUCCESS', 'data': {'from': 1546281000000, 'to': 1553711400000, 'transactionData': [{'name': 'Peer-to-peer payments', 'paymentInstruments': [{'type': 'TOTAL', 'count': 40488967, 'amount': 87361237975.49301}]}, {'name': 'Merchant payments', 'paymentInstruments': [{'type': 'TOTAL', 'count': 12341901, 'amount': 4144368545.535969}]}, {'name': 'Recharge & bill payments', 'paymentInstruments': [{'type': 'TOTAL', 'count': 11525394, 'amount': 3619117615.485172}]}, {'name': 'Financial Services', 'paymentInstruments': [{'type': 'TOTAL', 'count': 463688, 'amount': 54547989.275453925}]}, {'name': 'Others', 'paymentInstruments': [{'type': 'TOTAL', 'count': 470752, 'amount': 343989909.8750894}]}]}, 'responseTimestamp': 1630501490406}\n",
      "{'success': True, 'code': 'SUCCESS', 'data': {'from': 1577817000000, 'to': 1585333800000, 'transactionData': [{'name': 'Peer-to-peer payments', 'paymentInstruments': [{'type': 'TOTAL', 'count': 95668911, 'amount': 327641798044.80554}]}, {'name': 'Merchant payments', 'paymentInstruments': [{'type': 'TOTAL', 'count': 76818285, 'amount': 31076431477.91269}]}, {'name': 'Recharge & bill payments', 'paymentInstruments': [{'type': 'TOTAL', 'count': 26324268, 'amount': 12324266104.564993}]}, {'name': 'Financial Services', 'paymentInstruments': [{'type': 'TOTAL', 'count': 88184, 'amount': 59500639.38684589}]}, {'name': 'Others', 'paymentInstruments': [{'type': 'TOTAL', 'count': 509877, 'amount': 241784101.54604858}]}]}, 'responseTimestamp': 1630501491826}\n",
      "{'success': True, 'code': 'SUCCESS', 'data': {'from': 1609439400000, 'to': 1616869800000, 'transactionData': [{'name': 'Merchant payments', 'paymentInstruments': [{'type': 'TOTAL', 'count': 185230619, 'amount': 95927278280.53006}]}, {'name': 'Peer-to-peer payments', 'paymentInstruments': [{'type': 'TOTAL', 'count': 179738195, 'amount': 676276353116.8419}]}, {'name': 'Recharge & bill payments', 'paymentInstruments': [{'type': 'TOTAL', 'count': 46371555, 'amount': 26447601338.53346}]}, {'name': 'Financial Services', 'paymentInstruments': [{'type': 'TOTAL', 'count': 262473, 'amount': 320153410.17969453}]}, {'name': 'Others', 'paymentInstruments': [{'type': 'TOTAL', 'count': 969268, 'amount': 387877900.5044867}]}]}, 'responseTimestamp': 1630501494118}\n",
      "{'success': True, 'code': 'SUCCESS', 'data': {'from': 1640975400000, 'to': 1648405800000, 'transactionData': [{'name': 'Merchant payments', 'paymentInstruments': [{'type': 'TOTAL', 'count': 449186799, 'amount': 243841863780.6793}]}, {'name': 'Peer-to-peer payments', 'paymentInstruments': [{'type': 'TOTAL', 'count': 368048408, 'amount': 1375289566667.7056}]}, {'name': 'Recharge & bill payments', 'paymentInstruments': [{'type': 'TOTAL', 'count': 66352138, 'amount': 50470450179.88254}]}, {'name': 'Financial Services', 'paymentInstruments': [{'type': 'TOTAL', 'count': 284035, 'amount': 394283511.9410973}]}, {'name': 'Others', 'paymentInstruments': [{'type': 'TOTAL', 'count': 2582005, 'amount': 642005688.7661512}]}]}, 'responseTimestamp': 1651127607466}\n",
      "{'success': True, 'code': 'SUCCESS', 'data': {'from': 1514745000000, 'to': 1522175400000, 'transactionData': [{'name': 'Recharge & bill payments', 'paymentInstruments': [{'type': 'TOTAL', 'count': 86819, 'amount': 14079439.569905948}]}, {'name': 'Peer-to-peer payments', 'paymentInstruments': [{'type': 'TOTAL', 'count': 44844, 'amount': 112229994.97675678}]}, {'name': 'Financial Services', 'paymentInstruments': [{'type': 'TOTAL', 'count': 4842, 'amount': 672247.5881710155}]}, {'name': 'Merchant payments', 'paymentInstruments': [{'type': 'TOTAL', 'count': 4833, 'amount': 6080959.882836086}]}, {'name': 'Others', 'paymentInstruments': [{'type': 'TOTAL', 'count': 6819, 'amount': 4916272.512952799}]}]}, 'responseTimestamp': 1630501487402}\n"
     ]
    },
    {
     "name": "stdout",
     "output_type": "stream",
     "text": [
      "{'success': True, 'code': 'SUCCESS', 'data': {'from': 1546281000000, 'to': 1553711400000, 'transactionData': [{'name': 'Peer-to-peer payments', 'paymentInstruments': [{'type': 'TOTAL', 'count': 296993, 'amount': 679165332.8123899}]}, {'name': 'Recharge & bill payments', 'paymentInstruments': [{'type': 'TOTAL', 'count': 227997, 'amount': 44429378.42277926}]}, {'name': 'Merchant payments', 'paymentInstruments': [{'type': 'TOTAL', 'count': 46642, 'amount': 28109966.31994779}]}, {'name': 'Financial Services', 'paymentInstruments': [{'type': 'TOTAL', 'count': 4189, 'amount': 461473.58856435167}]}, {'name': 'Others', 'paymentInstruments': [{'type': 'TOTAL', 'count': 5105, 'amount': 4728790.472138839}]}]}, 'responseTimestamp': 1630501490406}\n",
      "{'success': True, 'code': 'SUCCESS', 'data': {'from': 1577817000000, 'to': 1585333800000, 'transactionData': [{'name': 'Recharge & bill payments', 'paymentInstruments': [{'type': 'TOTAL', 'count': 449584, 'amount': 114355218.03514045}]}, {'name': 'Peer-to-peer payments', 'paymentInstruments': [{'type': 'TOTAL', 'count': 366218, 'amount': 1400694933.570157}]}, {'name': 'Merchant payments', 'paymentInstruments': [{'type': 'TOTAL', 'count': 102861, 'amount': 68590603.6377098}]}, {'name': 'Financial Services', 'paymentInstruments': [{'type': 'TOTAL', 'count': 1722, 'amount': 1066651.521721911}]}, {'name': 'Others', 'paymentInstruments': [{'type': 'TOTAL', 'count': 4117, 'amount': 4071399.6237732675}]}]}, 'responseTimestamp': 1630501491913}\n",
      "{'success': True, 'code': 'SUCCESS', 'data': {'from': 1609439400000, 'to': 1616869800000, 'transactionData': [{'name': 'Peer-to-peer payments', 'paymentInstruments': [{'type': 'TOTAL', 'count': 643366, 'amount': 2821226150.5919185}]}, {'name': 'Recharge & bill payments', 'paymentInstruments': [{'type': 'TOTAL', 'count': 508718, 'amount': 173211140.89346513}]}, {'name': 'Merchant payments', 'paymentInstruments': [{'type': 'TOTAL', 'count': 350366, 'amount': 333743281.32103896}]}, {'name': 'Financial Services', 'paymentInstruments': [{'type': 'TOTAL', 'count': 3146, 'amount': 2879929.222833151}]}, {'name': 'Others', 'paymentInstruments': [{'type': 'TOTAL', 'count': 5827, 'amount': 4281067.764165951}]}]}, 'responseTimestamp': 1630501494117}\n",
      "{'success': True, 'code': 'SUCCESS', 'data': {'from': 1640975400000, 'to': 1648405800000, 'transactionData': [{'name': 'Peer-to-peer payments', 'paymentInstruments': [{'type': 'TOTAL', 'count': 1221863, 'amount': 4934712034.365204}]}, {'name': 'Merchant payments', 'paymentInstruments': [{'type': 'TOTAL', 'count': 992891, 'amount': 1037265262.6570499}]}, {'name': 'Recharge & bill payments', 'paymentInstruments': [{'type': 'TOTAL', 'count': 641170, 'amount': 262348230.9954375}]}, {'name': 'Financial Services', 'paymentInstruments': [{'type': 'TOTAL', 'count': 4351, 'amount': 5782533.2422681665}]}, {'name': 'Others', 'paymentInstruments': [{'type': 'TOTAL', 'count': 10915, 'amount': 7221703.089884497}]}]}, 'responseTimestamp': 1651127581564}\n",
      "{'success': True, 'code': 'SUCCESS', 'data': {'from': 1514745000000, 'to': 1522175400000, 'transactionData': [{'name': 'Recharge & bill payments', 'paymentInstruments': [{'type': 'TOTAL', 'count': 7003704, 'amount': 1201827543.8816488}]}, {'name': 'Peer-to-peer payments', 'paymentInstruments': [{'type': 'TOTAL', 'count': 4123625, 'amount': 11786969148.760597}]}, {'name': 'Merchant payments', 'paymentInstruments': [{'type': 'TOTAL', 'count': 442436, 'amount': 428301434.2754866}]}, {'name': 'Financial Services', 'paymentInstruments': [{'type': 'TOTAL', 'count': 397328, 'amount': 75150444.99108115}]}, {'name': 'Others', 'paymentInstruments': [{'type': 'TOTAL', 'count': 570712, 'amount': 447722351.3138524}]}]}, 'responseTimestamp': 1630501487402}\n",
      "{'success': True, 'code': 'SUCCESS', 'data': {'from': 1546281000000, 'to': 1553711400000, 'transactionData': [{'name': 'Peer-to-peer payments', 'paymentInstruments': [{'type': 'TOTAL', 'count': 32062452, 'amount': 68506766330.45149}]}, {'name': 'Recharge & bill payments', 'paymentInstruments': [{'type': 'TOTAL', 'count': 15400713, 'amount': 4231102032.9564486}]}, {'name': 'Merchant payments', 'paymentInstruments': [{'type': 'TOTAL', 'count': 8558766, 'amount': 3105904146.2085333}]}, {'name': 'Financial Services', 'paymentInstruments': [{'type': 'TOTAL', 'count': 389733, 'amount': 43341558.48535549}]}, {'name': 'Others', 'paymentInstruments': [{'type': 'TOTAL', 'count': 912840, 'amount': 637066065.9078369}]}]}, 'responseTimestamp': 1630501490406}\n",
      "{'success': True, 'code': 'SUCCESS', 'data': {'from': 1577817000000, 'to': 1585333800000, 'transactionData': [{'name': 'Peer-to-peer payments', 'paymentInstruments': [{'type': 'TOTAL', 'count': 39581157, 'amount': 147734706846.56177}]}, {'name': 'Recharge & bill payments', 'paymentInstruments': [{'type': 'TOTAL', 'count': 29777603, 'amount': 11168417430.652225}]}, {'name': 'Merchant payments', 'paymentInstruments': [{'type': 'TOTAL', 'count': 26741638, 'amount': 13072371616.871723}]}, {'name': 'Financial Services', 'paymentInstruments': [{'type': 'TOTAL', 'count': 139990, 'amount': 64365117.409359045}]}, {'name': 'Others', 'paymentInstruments': [{'type': 'TOTAL', 'count': 998744, 'amount': 376573949.20359}]}]}, 'responseTimestamp': 1630501491913}\n",
      "{'success': True, 'code': 'SUCCESS', 'data': {'from': 1609439400000, 'to': 1616869800000, 'transactionData': [{'name': 'Peer-to-peer payments', 'paymentInstruments': [{'type': 'TOTAL', 'count': 85539321, 'amount': 321609613378.6789}]}, {'name': 'Merchant payments', 'paymentInstruments': [{'type': 'TOTAL', 'count': 78873969, 'amount': 55362244381.43686}]}, {'name': 'Recharge & bill payments', 'paymentInstruments': [{'type': 'TOTAL', 'count': 38981894, 'amount': 18563189222.328217}]}, {'name': 'Financial Services', 'paymentInstruments': [{'type': 'TOTAL', 'count': 250656, 'amount': 266104783.7449573}]}, {'name': 'Others', 'paymentInstruments': [{'type': 'TOTAL', 'count': 853707, 'amount': 486435811.3771204}]}]}, 'responseTimestamp': 1630501494119}\n",
      "{'success': True, 'code': 'SUCCESS', 'data': {'from': 1640975400000, 'to': 1648405800000, 'transactionData': [{'name': 'Merchant payments', 'paymentInstruments': [{'type': 'TOTAL', 'count': 221556930, 'amount': 165543931419.27045}]}, {'name': 'Peer-to-peer payments', 'paymentInstruments': [{'type': 'TOTAL', 'count': 195592648, 'amount': 684758883172.6667}]}, {'name': 'Recharge & bill payments', 'paymentInstruments': [{'type': 'TOTAL', 'count': 54873261, 'amount': 31683813998.386055}]}, {'name': 'Financial Services', 'paymentInstruments': [{'type': 'TOTAL', 'count': 358499, 'amount': 386218170.5981607}]}, {'name': 'Others', 'paymentInstruments': [{'type': 'TOTAL', 'count': 1571908, 'amount': 750327356.10464}]}]}, 'responseTimestamp': 1651127574233}\n",
      "{'success': True, 'code': 'SUCCESS', 'data': {'from': 1514745000000, 'to': 1522175400000, 'transactionData': [{'name': 'Recharge & bill payments', 'paymentInstruments': [{'type': 'TOTAL', 'count': 730428, 'amount': 124377517.3349145}]}, {'name': 'Peer-to-peer payments', 'paymentInstruments': [{'type': 'TOTAL', 'count': 399545, 'amount': 1296603346.334598}]}, {'name': 'Merchant payments', 'paymentInstruments': [{'type': 'TOTAL', 'count': 35382, 'amount': 39372913.10424411}]}, {'name': 'Financial Services', 'paymentInstruments': [{'type': 'TOTAL', 'count': 27761, 'amount': 5637758.5563494945}]}, {'name': 'Others', 'paymentInstruments': [{'type': 'TOTAL', 'count': 53569, 'amount': 42553823.19378027}]}]}, 'responseTimestamp': 1630501487541}\n",
      "{'success': True, 'code': 'SUCCESS', 'data': {'from': 1546281000000, 'to': 1553711400000, 'transactionData': [{'name': 'Peer-to-peer payments', 'paymentInstruments': [{'type': 'TOTAL', 'count': 3499130, 'amount': 6512361464.496071}]}, {'name': 'Recharge & bill payments', 'paymentInstruments': [{'type': 'TOTAL', 'count': 1590269, 'amount': 394631055.6931843}]}, {'name': 'Merchant payments', 'paymentInstruments': [{'type': 'TOTAL', 'count': 372290, 'amount': 226281078.7699414}]}, {'name': 'Financial Services', 'paymentInstruments': [{'type': 'TOTAL', 'count': 28784, 'amount': 3951610.30495379}]}, {'name': 'Others', 'paymentInstruments': [{'type': 'TOTAL', 'count': 55528, 'amount': 46303966.00979781}]}]}, 'responseTimestamp': 1630501490407}\n",
      "{'success': True, 'code': 'SUCCESS', 'data': {'from': 1577817000000, 'to': 1585333800000, 'transactionData': [{'name': 'Peer-to-peer payments', 'paymentInstruments': [{'type': 'TOTAL', 'count': 3792776, 'amount': 13999676596.865887}]}, {'name': 'Recharge & bill payments', 'paymentInstruments': [{'type': 'TOTAL', 'count': 2990764, 'amount': 1028598924.445406}]}, {'name': 'Merchant payments', 'paymentInstruments': [{'type': 'TOTAL', 'count': 2289657, 'amount': 1094245197.2356641}]}, {'name': 'Financial Services', 'paymentInstruments': [{'type': 'TOTAL', 'count': 10246, 'amount': 8180881.808693047}]}, {'name': 'Others', 'paymentInstruments': [{'type': 'TOTAL', 'count': 48341, 'amount': 27378658.631921414}]}]}, 'responseTimestamp': 1630501491913}\n",
      "{'success': True, 'code': 'SUCCESS', 'data': {'from': 1609439400000, 'to': 1616869800000, 'transactionData': [{'name': 'Merchant payments', 'paymentInstruments': [{'type': 'TOTAL', 'count': 8393767, 'amount': 5283142247.065777}]}, {'name': 'Peer-to-peer payments', 'paymentInstruments': [{'type': 'TOTAL', 'count': 7981710, 'amount': 29202365442.63442}]}, {'name': 'Recharge & bill payments', 'paymentInstruments': [{'type': 'TOTAL', 'count': 4146569, 'amount': 1727960484.030287}]}, {'name': 'Financial Services', 'paymentInstruments': [{'type': 'TOTAL', 'count': 30208, 'amount': 38400863.99560504}]}, {'name': 'Others', 'paymentInstruments': [{'type': 'TOTAL', 'count': 56148, 'amount': 36320362.17233381}]}]}, 'responseTimestamp': 1630501494117}\n",
      "{'success': True, 'code': 'SUCCESS', 'data': {'from': 1640975400000, 'to': 1648405800000, 'transactionData': [{'name': 'Merchant payments', 'paymentInstruments': [{'type': 'TOTAL', 'count': 22595602, 'amount': 14585438346.473846}]}, {'name': 'Peer-to-peer payments', 'paymentInstruments': [{'type': 'TOTAL', 'count': 16201632, 'amount': 53535521438.95823}]}, {'name': 'Recharge & bill payments', 'paymentInstruments': [{'type': 'TOTAL', 'count': 5617605, 'amount': 2745987927.683198}]}, {'name': 'Financial Services', 'paymentInstruments': [{'type': 'TOTAL', 'count': 39033, 'amount': 49695999.71828518}]}, {'name': 'Others', 'paymentInstruments': [{'type': 'TOTAL', 'count': 106900, 'amount': 62138787.2410843}]}]}, 'responseTimestamp': 1651127629082}\n",
      "{'success': True, 'code': 'SUCCESS', 'data': {'from': 1514745000000, 'to': 1522175400000, 'transactionData': [{'name': 'Recharge & bill payments', 'paymentInstruments': [{'type': 'TOTAL', 'count': 5773831, 'amount': 964309485.9592385}]}, {'name': 'Peer-to-peer payments', 'paymentInstruments': [{'type': 'TOTAL', 'count': 4383075, 'amount': 8874266825.985771}]}, {'name': 'Financial Services', 'paymentInstruments': [{'type': 'TOTAL', 'count': 665171, 'amount': 119502271.66944443}]}, {'name': 'Merchant payments', 'paymentInstruments': [{'type': 'TOTAL', 'count': 443378, 'amount': 366788699.65713125}]}, {'name': 'Others', 'paymentInstruments': [{'type': 'TOTAL', 'count': 444770, 'amount': 301111268.86863834}]}]}, 'responseTimestamp': 1630501487541}\n",
      "{'success': True, 'code': 'SUCCESS', 'data': {'from': 1546281000000, 'to': 1553711400000, 'transactionData': [{'name': 'Peer-to-peer payments', 'paymentInstruments': [{'type': 'TOTAL', 'count': 27374206, 'amount': 44170923881.744286}]}, {'name': 'Recharge & bill payments', 'paymentInstruments': [{'type': 'TOTAL', 'count': 11659948, 'amount': 3021107711.9021683}]}, {'name': 'Merchant payments', 'paymentInstruments': [{'type': 'TOTAL', 'count': 7636726, 'amount': 2645438308.338478}]}, {'name': 'Financial Services', 'paymentInstruments': [{'type': 'TOTAL', 'count': 525650, 'amount': 47986448.46936697}]}, {'name': 'Others', 'paymentInstruments': [{'type': 'TOTAL', 'count': 429858, 'amount': 279216273.42549}]}]}, 'responseTimestamp': 1630501490407}\n",
      "{'success': True, 'code': 'SUCCESS', 'data': {'from': 1577817000000, 'to': 1585333800000, 'transactionData': [{'name': 'Peer-to-peer payments', 'paymentInstruments': [{'type': 'TOTAL', 'count': 28457404, 'amount': 82770282623.80914}]}, {'name': 'Merchant payments', 'paymentInstruments': [{'type': 'TOTAL', 'count': 19779392, 'amount': 8097859088.519976}]}, {'name': 'Recharge & bill payments', 'paymentInstruments': [{'type': 'TOTAL', 'count': 17448908, 'amount': 5550815439.734788}]}, {'name': 'Financial Services', 'paymentInstruments': [{'type': 'TOTAL', 'count': 210068, 'amount': 58280893.55150119}]}, {'name': 'Others', 'paymentInstruments': [{'type': 'TOTAL', 'count': 354609, 'amount': 176067145.3227705}]}]}, 'responseTimestamp': 1630501491914}\n",
      "{'success': True, 'code': 'SUCCESS', 'data': {'from': 1609439400000, 'to': 1616869800000, 'transactionData': [{'name': 'Peer-to-peer payments', 'paymentInstruments': [{'type': 'TOTAL', 'count': 53869075, 'amount': 202240249482.85385}]}, {'name': 'Merchant payments', 'paymentInstruments': [{'type': 'TOTAL', 'count': 37143701, 'amount': 28918343691.018497}]}, {'name': 'Recharge & bill payments', 'paymentInstruments': [{'type': 'TOTAL', 'count': 26673733, 'amount': 11339665944.69124}]}, {'name': 'Financial Services', 'paymentInstruments': [{'type': 'TOTAL', 'count': 166727, 'amount': 175445811.88444334}]}, {'name': 'Others', 'paymentInstruments': [{'type': 'TOTAL', 'count': 400816, 'amount': 263502545.07389978}]}]}, 'responseTimestamp': 1630501494202}\n",
      "{'success': True, 'code': 'SUCCESS', 'data': {'from': 1640975400000, 'to': 1648405800000, 'transactionData': [{'name': 'Peer-to-peer payments', 'paymentInstruments': [{'type': 'TOTAL', 'count': 124787028, 'amount': 446343740437.97784}]}, {'name': 'Merchant payments', 'paymentInstruments': [{'type': 'TOTAL', 'count': 97315025, 'amount': 85854730616.41321}]}, {'name': 'Recharge & bill payments', 'paymentInstruments': [{'type': 'TOTAL', 'count': 37317865, 'amount': 18435424277.725906}]}, {'name': 'Financial Services', 'paymentInstruments': [{'type': 'TOTAL', 'count': 239530, 'amount': 261096608.80560598}]}, {'name': 'Others', 'paymentInstruments': [{'type': 'TOTAL', 'count': 845644, 'amount': 531671268.6395414}]}]}, 'responseTimestamp': 1651127613647}\n"
     ]
    }
   ],
   "source": [
    "import json\n",
    "\n",
    "for i in agg_trans_st_data:\n",
    "  st_path = path+'/'+i+'/'\n",
    "  # st_year will show the years ['2018','2019','2020','2021','2022']\n",
    "  st_year = os.listdir(st_path)\n",
    "  for j in st_year:\n",
    "    # /content/pulse/data/aggregated/transaction/country/india/state/haryana/2018/\n",
    "    st_year_path = st_path+j+'/'\n",
    "    st_year_data = os.listdir(st_year_path)\n",
    "    for k in st_year_data:\n",
    "      jsonFile = st_year_path+k\n",
    "      data = open(jsonFile, 'r')\n",
    "      D = json.load(data)\n",
    "      print(D)\n",
    "      break"
   ]
  },
  {
   "cell_type": "code",
   "execution_count": 46,
   "metadata": {
    "colab": {
     "base_uri": "https://localhost:8080/"
    },
    "id": "smlrtXshxI3B",
    "outputId": "74748d61-8cd6-4d0a-c0a7-cfb9bf5c0c08"
   },
   "outputs": [
    {
     "data": {
      "text/plain": [
       "{'success': True,\n",
       " 'code': 'SUCCESS',\n",
       " 'data': {'from': 1640975400000,\n",
       "  'to': 1648405800000,\n",
       "  'transactionData': [{'name': 'Peer-to-peer payments',\n",
       "    'paymentInstruments': [{'type': 'TOTAL',\n",
       "      'count': 124787028,\n",
       "      'amount': 446343740437.97784}]},\n",
       "   {'name': 'Merchant payments',\n",
       "    'paymentInstruments': [{'type': 'TOTAL',\n",
       "      'count': 97315025,\n",
       "      'amount': 85854730616.41321}]},\n",
       "   {'name': 'Recharge & bill payments',\n",
       "    'paymentInstruments': [{'type': 'TOTAL',\n",
       "      'count': 37317865,\n",
       "      'amount': 18435424277.725906}]},\n",
       "   {'name': 'Financial Services',\n",
       "    'paymentInstruments': [{'type': 'TOTAL',\n",
       "      'count': 239530,\n",
       "      'amount': 261096608.80560598}]},\n",
       "   {'name': 'Others',\n",
       "    'paymentInstruments': [{'type': 'TOTAL',\n",
       "      'count': 845644,\n",
       "      'amount': 531671268.6395414}]}]},\n",
       " 'responseTimestamp': 1651127613647}"
      ]
     },
     "execution_count": 46,
     "metadata": {},
     "output_type": "execute_result"
    }
   ],
   "source": [
    "D"
   ]
  },
  {
   "cell_type": "code",
   "execution_count": 47,
   "metadata": {
    "colab": {
     "base_uri": "https://localhost:8080/"
    },
    "id": "7_RasTrIyFR4",
    "outputId": "6ecaafd1-b9e6-4044-87f0-2baee04365bc"
   },
   "outputs": [
    {
     "data": {
      "text/plain": [
       "[{'name': 'Peer-to-peer payments',\n",
       "  'paymentInstruments': [{'type': 'TOTAL',\n",
       "    'count': 124787028,\n",
       "    'amount': 446343740437.97784}]},\n",
       " {'name': 'Merchant payments',\n",
       "  'paymentInstruments': [{'type': 'TOTAL',\n",
       "    'count': 97315025,\n",
       "    'amount': 85854730616.41321}]},\n",
       " {'name': 'Recharge & bill payments',\n",
       "  'paymentInstruments': [{'type': 'TOTAL',\n",
       "    'count': 37317865,\n",
       "    'amount': 18435424277.725906}]},\n",
       " {'name': 'Financial Services',\n",
       "  'paymentInstruments': [{'type': 'TOTAL',\n",
       "    'count': 239530,\n",
       "    'amount': 261096608.80560598}]},\n",
       " {'name': 'Others',\n",
       "  'paymentInstruments': [{'type': 'TOTAL',\n",
       "    'count': 845644,\n",
       "    'amount': 531671268.6395414}]}]"
      ]
     },
     "execution_count": 47,
     "metadata": {},
     "output_type": "execute_result"
    }
   ],
   "source": [
    "D['data']['transactionData']"
   ]
  },
  {
   "cell_type": "code",
   "execution_count": 48,
   "metadata": {
    "id": "wp7Dh75GyU-Y"
   },
   "outputs": [],
   "source": [
    "import pandas as pd"
   ]
  },
  {
   "cell_type": "markdown",
   "metadata": {
    "id": "q5e1PJva6Xnk"
   },
   "source": [
    "Statewise data segregation"
   ]
  },
  {
   "cell_type": "code",
   "execution_count": 49,
   "metadata": {
    "colab": {
     "base_uri": "https://localhost:8080/",
     "height": 423
    },
    "id": "BBk39E2oyXA6",
    "outputId": "aaae49b1-4ec1-456f-ca63-e44be1a96102"
   },
   "outputs": [
    {
     "data": {
      "text/html": [
       "<div>\n",
       "<style scoped>\n",
       "    .dataframe tbody tr th:only-of-type {\n",
       "        vertical-align: middle;\n",
       "    }\n",
       "\n",
       "    .dataframe tbody tr th {\n",
       "        vertical-align: top;\n",
       "    }\n",
       "\n",
       "    .dataframe thead th {\n",
       "        text-align: right;\n",
       "    }\n",
       "</style>\n",
       "<table border=\"1\" class=\"dataframe\">\n",
       "  <thead>\n",
       "    <tr style=\"text-align: right;\">\n",
       "      <th></th>\n",
       "      <th>State</th>\n",
       "      <th>Year</th>\n",
       "      <th>Quarter</th>\n",
       "      <th>Transaction_type</th>\n",
       "      <th>Transaction_no</th>\n",
       "      <th>Transaction_tot</th>\n",
       "    </tr>\n",
       "  </thead>\n",
       "  <tbody>\n",
       "    <tr>\n",
       "      <th>0</th>\n",
       "      <td>andaman-&amp;-nicobar-islands</td>\n",
       "      <td>2018</td>\n",
       "      <td>Q1</td>\n",
       "      <td>Recharge &amp; bill payments</td>\n",
       "      <td>4200</td>\n",
       "      <td>1.845307e+06</td>\n",
       "    </tr>\n",
       "    <tr>\n",
       "      <th>1</th>\n",
       "      <td>andaman-&amp;-nicobar-islands</td>\n",
       "      <td>2018</td>\n",
       "      <td>Q1</td>\n",
       "      <td>Peer-to-peer payments</td>\n",
       "      <td>1871</td>\n",
       "      <td>1.213866e+07</td>\n",
       "    </tr>\n",
       "    <tr>\n",
       "      <th>2</th>\n",
       "      <td>andaman-&amp;-nicobar-islands</td>\n",
       "      <td>2018</td>\n",
       "      <td>Q1</td>\n",
       "      <td>Merchant payments</td>\n",
       "      <td>298</td>\n",
       "      <td>4.525072e+05</td>\n",
       "    </tr>\n",
       "    <tr>\n",
       "      <th>3</th>\n",
       "      <td>andaman-&amp;-nicobar-islands</td>\n",
       "      <td>2018</td>\n",
       "      <td>Q1</td>\n",
       "      <td>Financial Services</td>\n",
       "      <td>33</td>\n",
       "      <td>1.060142e+04</td>\n",
       "    </tr>\n",
       "    <tr>\n",
       "      <th>4</th>\n",
       "      <td>andaman-&amp;-nicobar-islands</td>\n",
       "      <td>2018</td>\n",
       "      <td>Q1</td>\n",
       "      <td>Others</td>\n",
       "      <td>256</td>\n",
       "      <td>1.846899e+05</td>\n",
       "    </tr>\n",
       "    <tr>\n",
       "      <th>...</th>\n",
       "      <td>...</td>\n",
       "      <td>...</td>\n",
       "      <td>...</td>\n",
       "      <td>...</td>\n",
       "      <td>...</td>\n",
       "      <td>...</td>\n",
       "    </tr>\n",
       "    <tr>\n",
       "      <th>3589</th>\n",
       "      <td>west-bengal</td>\n",
       "      <td>2022</td>\n",
       "      <td>Q4</td>\n",
       "      <td>Peer-to-peer payments</td>\n",
       "      <td>184380244</td>\n",
       "      <td>6.202222e+11</td>\n",
       "    </tr>\n",
       "    <tr>\n",
       "      <th>3590</th>\n",
       "      <td>west-bengal</td>\n",
       "      <td>2022</td>\n",
       "      <td>Q4</td>\n",
       "      <td>Merchant payments</td>\n",
       "      <td>171667404</td>\n",
       "      <td>1.408077e+11</td>\n",
       "    </tr>\n",
       "    <tr>\n",
       "      <th>3591</th>\n",
       "      <td>west-bengal</td>\n",
       "      <td>2022</td>\n",
       "      <td>Q4</td>\n",
       "      <td>Recharge &amp; bill payments</td>\n",
       "      <td>48921147</td>\n",
       "      <td>2.602663e+10</td>\n",
       "    </tr>\n",
       "    <tr>\n",
       "      <th>3592</th>\n",
       "      <td>west-bengal</td>\n",
       "      <td>2022</td>\n",
       "      <td>Q4</td>\n",
       "      <td>Financial Services</td>\n",
       "      <td>268388</td>\n",
       "      <td>2.611229e+08</td>\n",
       "    </tr>\n",
       "    <tr>\n",
       "      <th>3593</th>\n",
       "      <td>west-bengal</td>\n",
       "      <td>2022</td>\n",
       "      <td>Q4</td>\n",
       "      <td>Others</td>\n",
       "      <td>610414</td>\n",
       "      <td>4.579379e+08</td>\n",
       "    </tr>\n",
       "  </tbody>\n",
       "</table>\n",
       "<p>3594 rows × 6 columns</p>\n",
       "</div>"
      ],
      "text/plain": [
       "                          State  Year Quarter          Transaction_type  \\\n",
       "0     andaman-&-nicobar-islands  2018      Q1  Recharge & bill payments   \n",
       "1     andaman-&-nicobar-islands  2018      Q1     Peer-to-peer payments   \n",
       "2     andaman-&-nicobar-islands  2018      Q1         Merchant payments   \n",
       "3     andaman-&-nicobar-islands  2018      Q1        Financial Services   \n",
       "4     andaman-&-nicobar-islands  2018      Q1                    Others   \n",
       "...                         ...   ...     ...                       ...   \n",
       "3589                west-bengal  2022      Q4     Peer-to-peer payments   \n",
       "3590                west-bengal  2022      Q4         Merchant payments   \n",
       "3591                west-bengal  2022      Q4  Recharge & bill payments   \n",
       "3592                west-bengal  2022      Q4        Financial Services   \n",
       "3593                west-bengal  2022      Q4                    Others   \n",
       "\n",
       "      Transaction_no  Transaction_tot  \n",
       "0               4200     1.845307e+06  \n",
       "1               1871     1.213866e+07  \n",
       "2                298     4.525072e+05  \n",
       "3                 33     1.060142e+04  \n",
       "4                256     1.846899e+05  \n",
       "...              ...              ...  \n",
       "3589       184380244     6.202222e+11  \n",
       "3590       171667404     1.408077e+11  \n",
       "3591        48921147     2.602663e+10  \n",
       "3592          268388     2.611229e+08  \n",
       "3593          610414     4.579379e+08  \n",
       "\n",
       "[3594 rows x 6 columns]"
      ]
     },
     "execution_count": 49,
     "metadata": {},
     "output_type": "execute_result"
    }
   ],
   "source": [
    "agg_trans = {'State' : [],\n",
    "             'Year' : [],\n",
    "             'Quarter' : [], \n",
    "             'Transaction_type' : [],\n",
    "             'Transaction_no' : [], \n",
    "             'Transaction_tot' : []\n",
    "             } \n",
    "\n",
    "\n",
    "for i in agg_trans_st_data:\n",
    "  st_path = path+'/'+i\n",
    "  st_year = os.listdir(st_path)\n",
    "  for j in st_year:   \n",
    "    st_year_path = st_path+'/'+j\n",
    "    st_year_data = os.listdir(st_year_path)\n",
    "    for k in st_year_data:\n",
    "      json_path = st_year_path+'/'+k\n",
    "      jsonData = open(json_path, 'r')\n",
    "      Data = json.load(jsonData)\n",
    "      for x in Data['data']['transactionData']:\n",
    "                    Name = x['name']\n",
    "                    count = x['paymentInstruments'][0]['count']\n",
    "                    amount = x['paymentInstruments'][0]['amount']\n",
    "                    agg_trans['Transaction_type'].append(Name)\n",
    "                    agg_trans['Transaction_no'].append(count)\n",
    "                    agg_trans['Transaction_tot'].append(amount)\n",
    "                    agg_trans['State'].append(i)\n",
    "                    agg_trans['Year'].append(j)\n",
    "                    agg_trans['Quarter'].append('Q'+k.strip('.json'))\n",
    "\n",
    "agg_trans_data = pd.DataFrame(agg_trans)\n",
    "agg_trans_data"
   ]
  },
  {
   "cell_type": "code",
   "execution_count": 50,
   "metadata": {
    "id": "owHaKCTU5UvU"
   },
   "outputs": [],
   "source": [
    "agg_trans_data.to_csv('AggregatedData.csv', index = False) "
   ]
  },
  {
   "cell_type": "markdown",
   "metadata": {
    "id": "N-ILIPqp6d-1"
   },
   "source": [
    "Users data from states"
   ]
  },
  {
   "cell_type": "code",
   "execution_count": 51,
   "metadata": {
    "id": "ucL0-KTG5jWj"
   },
   "outputs": [],
   "source": [
    "state_data = os.listdir(path)"
   ]
  },
  {
   "cell_type": "code",
   "execution_count": 52,
   "metadata": {
    "colab": {
     "base_uri": "https://localhost:8080/"
    },
    "id": "8pE6vE3t6qAv",
    "outputId": "544105bb-6025-46b2-9b75-051beed8e8fc"
   },
   "outputs": [
    {
     "data": {
      "text/plain": [
       "['andaman-&-nicobar-islands',\n",
       " 'andhra-pradesh',\n",
       " 'arunachal-pradesh',\n",
       " 'assam',\n",
       " 'bihar',\n",
       " 'chandigarh',\n",
       " 'chhattisgarh',\n",
       " 'dadra-&-nagar-haveli-&-daman-&-diu',\n",
       " 'delhi',\n",
       " 'goa',\n",
       " 'gujarat',\n",
       " 'haryana',\n",
       " 'himachal-pradesh',\n",
       " 'jammu-&-kashmir',\n",
       " 'jharkhand',\n",
       " 'karnataka',\n",
       " 'kerala',\n",
       " 'ladakh',\n",
       " 'lakshadweep',\n",
       " 'madhya-pradesh',\n",
       " 'maharashtra',\n",
       " 'manipur',\n",
       " 'meghalaya',\n",
       " 'mizoram',\n",
       " 'nagaland',\n",
       " 'odisha',\n",
       " 'puducherry',\n",
       " 'punjab',\n",
       " 'rajasthan',\n",
       " 'sikkim',\n",
       " 'tamil-nadu',\n",
       " 'telangana',\n",
       " 'tripura',\n",
       " 'uttar-pradesh',\n",
       " 'uttarakhand',\n",
       " 'west-bengal']"
      ]
     },
     "execution_count": 52,
     "metadata": {},
     "output_type": "execute_result"
    }
   ],
   "source": [
    "state_data"
   ]
  },
  {
   "cell_type": "markdown",
   "metadata": {
    "id": "zjpe2cUsErDq"
   },
   "source": [
    "Now we have extracted all the states"
   ]
  },
  {
   "cell_type": "code",
   "execution_count": 53,
   "metadata": {
    "colab": {
     "base_uri": "https://localhost:8080/"
    },
    "id": "8jxadOQNBv5o",
    "outputId": "15d8e317-1d69-4cd4-8bb0-0e77ef163803"
   },
   "outputs": [
    {
     "data": {
      "text/plain": [
       "{'success': True,\n",
       " 'code': 'SUCCESS',\n",
       " 'data': {'from': 1664562600000,\n",
       "  'to': 1672165800000,\n",
       "  'transactionData': [{'name': 'Peer-to-peer payments',\n",
       "    'paymentInstruments': [{'type': 'TOTAL',\n",
       "      'count': 184380244,\n",
       "      'amount': 620222191587.5906}]},\n",
       "   {'name': 'Merchant payments',\n",
       "    'paymentInstruments': [{'type': 'TOTAL',\n",
       "      'count': 171667404,\n",
       "      'amount': 140807748126.1634}]},\n",
       "   {'name': 'Recharge & bill payments',\n",
       "    'paymentInstruments': [{'type': 'TOTAL',\n",
       "      'count': 48921147,\n",
       "      'amount': 26026633153.201996}]},\n",
       "   {'name': 'Financial Services',\n",
       "    'paymentInstruments': [{'type': 'TOTAL',\n",
       "      'count': 268388,\n",
       "      'amount': 261122865.47893512}]},\n",
       "   {'name': 'Others',\n",
       "    'paymentInstruments': [{'type': 'TOTAL',\n",
       "      'count': 610414,\n",
       "      'amount': 457937874.8149981}]}]},\n",
       " 'responseTimestamp': 1674558253804}"
      ]
     },
     "execution_count": 53,
     "metadata": {},
     "output_type": "execute_result"
    }
   ],
   "source": [
    "Data"
   ]
  },
  {
   "cell_type": "code",
   "execution_count": 54,
   "metadata": {
    "colab": {
     "base_uri": "https://localhost:8080/"
    },
    "id": "WM3tc9A0BPOZ",
    "outputId": "4c11b972-8d15-4439-db14-8766154573cf"
   },
   "outputs": [
    {
     "data": {
      "text/plain": [
       "{'from': 1664562600000,\n",
       " 'to': 1672165800000,\n",
       " 'transactionData': [{'name': 'Peer-to-peer payments',\n",
       "   'paymentInstruments': [{'type': 'TOTAL',\n",
       "     'count': 184380244,\n",
       "     'amount': 620222191587.5906}]},\n",
       "  {'name': 'Merchant payments',\n",
       "   'paymentInstruments': [{'type': 'TOTAL',\n",
       "     'count': 171667404,\n",
       "     'amount': 140807748126.1634}]},\n",
       "  {'name': 'Recharge & bill payments',\n",
       "   'paymentInstruments': [{'type': 'TOTAL',\n",
       "     'count': 48921147,\n",
       "     'amount': 26026633153.201996}]},\n",
       "  {'name': 'Financial Services',\n",
       "   'paymentInstruments': [{'type': 'TOTAL',\n",
       "     'count': 268388,\n",
       "     'amount': 261122865.47893512}]},\n",
       "  {'name': 'Others',\n",
       "   'paymentInstruments': [{'type': 'TOTAL',\n",
       "     'count': 610414,\n",
       "     'amount': 457937874.8149981}]}]}"
      ]
     },
     "execution_count": 54,
     "metadata": {},
     "output_type": "execute_result"
    }
   ],
   "source": [
    "Data['data']"
   ]
  },
  {
   "cell_type": "code",
   "execution_count": 55,
   "metadata": {
    "colab": {
     "base_uri": "https://localhost:8080/"
    },
    "id": "8lLqlJ5nBXQm",
    "outputId": "15ae05d7-adea-4ac0-9114-77efa6a6a2b8"
   },
   "outputs": [
    {
     "data": {
      "text/plain": [
       "[{'name': 'Peer-to-peer payments',\n",
       "  'paymentInstruments': [{'type': 'TOTAL',\n",
       "    'count': 184380244,\n",
       "    'amount': 620222191587.5906}]},\n",
       " {'name': 'Merchant payments',\n",
       "  'paymentInstruments': [{'type': 'TOTAL',\n",
       "    'count': 171667404,\n",
       "    'amount': 140807748126.1634}]},\n",
       " {'name': 'Recharge & bill payments',\n",
       "  'paymentInstruments': [{'type': 'TOTAL',\n",
       "    'count': 48921147,\n",
       "    'amount': 26026633153.201996}]},\n",
       " {'name': 'Financial Services',\n",
       "  'paymentInstruments': [{'type': 'TOTAL',\n",
       "    'count': 268388,\n",
       "    'amount': 261122865.47893512}]},\n",
       " {'name': 'Others',\n",
       "  'paymentInstruments': [{'type': 'TOTAL',\n",
       "    'count': 610414,\n",
       "    'amount': 457937874.8149981}]}]"
      ]
     },
     "execution_count": 55,
     "metadata": {},
     "output_type": "execute_result"
    }
   ],
   "source": [
    "Data['data']['transactionData']"
   ]
  },
  {
   "cell_type": "code",
   "execution_count": 56,
   "metadata": {
    "colab": {
     "base_uri": "https://localhost:8080/",
     "height": 423
    },
    "id": "VptGWkMt798a",
    "outputId": "93f5573b-d0f3-4dd4-d498-71fea5bfd0eb"
   },
   "outputs": [
    {
     "data": {
      "text/html": [
       "<div>\n",
       "<style scoped>\n",
       "    .dataframe tbody tr th:only-of-type {\n",
       "        vertical-align: middle;\n",
       "    }\n",
       "\n",
       "    .dataframe tbody tr th {\n",
       "        vertical-align: top;\n",
       "    }\n",
       "\n",
       "    .dataframe thead th {\n",
       "        text-align: right;\n",
       "    }\n",
       "</style>\n",
       "<table border=\"1\" class=\"dataframe\">\n",
       "  <thead>\n",
       "    <tr style=\"text-align: right;\">\n",
       "      <th></th>\n",
       "      <th>State</th>\n",
       "      <th>Year</th>\n",
       "      <th>Quarter</th>\n",
       "      <th>Brand</th>\n",
       "      <th>Brand_count</th>\n",
       "      <th>Brand_percentage</th>\n",
       "    </tr>\n",
       "  </thead>\n",
       "  <tbody>\n",
       "    <tr>\n",
       "      <th>0</th>\n",
       "      <td>andaman-&amp;-nicobar-islands</td>\n",
       "      <td>2018</td>\n",
       "      <td>Q1</td>\n",
       "      <td>Xiaomi</td>\n",
       "      <td>1665</td>\n",
       "      <td>0.247033</td>\n",
       "    </tr>\n",
       "    <tr>\n",
       "      <th>1</th>\n",
       "      <td>andaman-&amp;-nicobar-islands</td>\n",
       "      <td>2018</td>\n",
       "      <td>Q1</td>\n",
       "      <td>Samsung</td>\n",
       "      <td>1445</td>\n",
       "      <td>0.214392</td>\n",
       "    </tr>\n",
       "    <tr>\n",
       "      <th>2</th>\n",
       "      <td>andaman-&amp;-nicobar-islands</td>\n",
       "      <td>2018</td>\n",
       "      <td>Q1</td>\n",
       "      <td>Vivo</td>\n",
       "      <td>982</td>\n",
       "      <td>0.145697</td>\n",
       "    </tr>\n",
       "    <tr>\n",
       "      <th>3</th>\n",
       "      <td>andaman-&amp;-nicobar-islands</td>\n",
       "      <td>2018</td>\n",
       "      <td>Q1</td>\n",
       "      <td>Oppo</td>\n",
       "      <td>501</td>\n",
       "      <td>0.074332</td>\n",
       "    </tr>\n",
       "    <tr>\n",
       "      <th>4</th>\n",
       "      <td>andaman-&amp;-nicobar-islands</td>\n",
       "      <td>2018</td>\n",
       "      <td>Q1</td>\n",
       "      <td>OnePlus</td>\n",
       "      <td>332</td>\n",
       "      <td>0.049258</td>\n",
       "    </tr>\n",
       "    <tr>\n",
       "      <th>...</th>\n",
       "      <td>...</td>\n",
       "      <td>...</td>\n",
       "      <td>...</td>\n",
       "      <td>...</td>\n",
       "      <td>...</td>\n",
       "      <td>...</td>\n",
       "    </tr>\n",
       "    <tr>\n",
       "      <th>6727</th>\n",
       "      <td>west-bengal</td>\n",
       "      <td>2022</td>\n",
       "      <td>Q1</td>\n",
       "      <td>Lenovo</td>\n",
       "      <td>330017</td>\n",
       "      <td>0.015056</td>\n",
       "    </tr>\n",
       "    <tr>\n",
       "      <th>6728</th>\n",
       "      <td>west-bengal</td>\n",
       "      <td>2022</td>\n",
       "      <td>Q1</td>\n",
       "      <td>Infinix</td>\n",
       "      <td>284678</td>\n",
       "      <td>0.012987</td>\n",
       "    </tr>\n",
       "    <tr>\n",
       "      <th>6729</th>\n",
       "      <td>west-bengal</td>\n",
       "      <td>2022</td>\n",
       "      <td>Q1</td>\n",
       "      <td>Asus</td>\n",
       "      <td>280347</td>\n",
       "      <td>0.012790</td>\n",
       "    </tr>\n",
       "    <tr>\n",
       "      <th>6730</th>\n",
       "      <td>west-bengal</td>\n",
       "      <td>2022</td>\n",
       "      <td>Q1</td>\n",
       "      <td>Apple</td>\n",
       "      <td>277752</td>\n",
       "      <td>0.012671</td>\n",
       "    </tr>\n",
       "    <tr>\n",
       "      <th>6731</th>\n",
       "      <td>west-bengal</td>\n",
       "      <td>2022</td>\n",
       "      <td>Q1</td>\n",
       "      <td>Others</td>\n",
       "      <td>2196334</td>\n",
       "      <td>0.100199</td>\n",
       "    </tr>\n",
       "  </tbody>\n",
       "</table>\n",
       "<p>6732 rows × 6 columns</p>\n",
       "</div>"
      ],
      "text/plain": [
       "                          State  Year Quarter    Brand  Brand_count  \\\n",
       "0     andaman-&-nicobar-islands  2018      Q1   Xiaomi         1665   \n",
       "1     andaman-&-nicobar-islands  2018      Q1  Samsung         1445   \n",
       "2     andaman-&-nicobar-islands  2018      Q1     Vivo          982   \n",
       "3     andaman-&-nicobar-islands  2018      Q1     Oppo          501   \n",
       "4     andaman-&-nicobar-islands  2018      Q1  OnePlus          332   \n",
       "...                         ...   ...     ...      ...          ...   \n",
       "6727                west-bengal  2022      Q1   Lenovo       330017   \n",
       "6728                west-bengal  2022      Q1  Infinix       284678   \n",
       "6729                west-bengal  2022      Q1     Asus       280347   \n",
       "6730                west-bengal  2022      Q1    Apple       277752   \n",
       "6731                west-bengal  2022      Q1   Others      2196334   \n",
       "\n",
       "      Brand_percentage  \n",
       "0             0.247033  \n",
       "1             0.214392  \n",
       "2             0.145697  \n",
       "3             0.074332  \n",
       "4             0.049258  \n",
       "...                ...  \n",
       "6727          0.015056  \n",
       "6728          0.012987  \n",
       "6729          0.012790  \n",
       "6730          0.012671  \n",
       "6731          0.100199  \n",
       "\n",
       "[6732 rows x 6 columns]"
      ]
     },
     "execution_count": 56,
     "metadata": {},
     "output_type": "execute_result"
    }
   ],
   "source": [
    "user_dict = {'State': [], 'Year': [], 'Quarter': [], 'Brand': [],\n",
    "    'Brand_count': [], 'Brand_percentage': []}\n",
    "\n",
    "path=r'C:\\Users\\Vishaal Grizzly\\pulse/data/aggregated/user/country/india/state/'\n",
    "state_dir =os.listdir(path) \n",
    "\n",
    "for i in state_dir:\n",
    "  state_path = path + '/' + i\n",
    "  year_dir  = os.listdir(st_path)\n",
    "  for j in year_dir:\n",
    "    year_path = state_path + '/' +j\n",
    "    file_dir = os.listdir(year_path)\n",
    "    for k in file_dir:\n",
    "      file_path = year_path + '/' + k\n",
    "      jsonFile = open(file_path,'r')\n",
    "      Data = json.load(jsonFile)\n",
    "      try:\n",
    "        for x in Data['data']['usersByDevice']:\n",
    "          brand = x['brand']\n",
    "          count = x['count']\n",
    "          percentage = x['percentage']\n",
    "\n",
    "          user_dict['Brand'].append(brand)\n",
    "          user_dict['Brand_count'].append(count)\n",
    "          user_dict['Brand_percentage'].append(percentage)\n",
    "          user_dict['State'].append(i)\n",
    "          user_dict['Year'].append(j)\n",
    "          user_dict['Quarter'].append('Q'+k.strip('.json'))\n",
    "      except TypeError:\n",
    "        pass\n",
    "      \n",
    "brandsused_df = pd.DataFrame(user_dict)\n",
    "\n",
    "brandsused_df"
   ]
  },
  {
   "cell_type": "code",
   "execution_count": 57,
   "metadata": {
    "id": "uO8TlJFBMtfk"
   },
   "outputs": [],
   "source": [
    "brandsused_df.to_csv('brandsused.csv', index = False)"
   ]
  },
  {
   "cell_type": "markdown",
   "metadata": {
    "id": "sfVboZykM6mL"
   },
   "source": [
    "Extracting data from maps - Transactions"
   ]
  },
  {
   "cell_type": "code",
   "execution_count": 58,
   "metadata": {
    "colab": {
     "base_uri": "https://localhost:8080/",
     "height": 423
    },
    "id": "kfMycG0BM-Jc",
    "outputId": "2dc01c04-444c-4b1f-b54d-240f9f1ac7e7"
   },
   "outputs": [
    {
     "data": {
      "text/html": [
       "<div>\n",
       "<style scoped>\n",
       "    .dataframe tbody tr th:only-of-type {\n",
       "        vertical-align: middle;\n",
       "    }\n",
       "\n",
       "    .dataframe tbody tr th {\n",
       "        vertical-align: top;\n",
       "    }\n",
       "\n",
       "    .dataframe thead th {\n",
       "        text-align: right;\n",
       "    }\n",
       "</style>\n",
       "<table border=\"1\" class=\"dataframe\">\n",
       "  <thead>\n",
       "    <tr style=\"text-align: right;\">\n",
       "      <th></th>\n",
       "      <th>State</th>\n",
       "      <th>Year</th>\n",
       "      <th>Quarter</th>\n",
       "      <th>District</th>\n",
       "      <th>Transaction_count</th>\n",
       "      <th>Transaction_amount</th>\n",
       "    </tr>\n",
       "  </thead>\n",
       "  <tbody>\n",
       "    <tr>\n",
       "      <th>0</th>\n",
       "      <td>andaman-&amp;-nicobar-islands</td>\n",
       "      <td>2018</td>\n",
       "      <td>Q1</td>\n",
       "      <td>north and middle andaman district</td>\n",
       "      <td>442</td>\n",
       "      <td>9.316631e+05</td>\n",
       "    </tr>\n",
       "    <tr>\n",
       "      <th>1</th>\n",
       "      <td>andaman-&amp;-nicobar-islands</td>\n",
       "      <td>2018</td>\n",
       "      <td>Q1</td>\n",
       "      <td>south andaman district</td>\n",
       "      <td>5688</td>\n",
       "      <td>1.256025e+07</td>\n",
       "    </tr>\n",
       "    <tr>\n",
       "      <th>2</th>\n",
       "      <td>andaman-&amp;-nicobar-islands</td>\n",
       "      <td>2018</td>\n",
       "      <td>Q1</td>\n",
       "      <td>nicobars district</td>\n",
       "      <td>528</td>\n",
       "      <td>1.139849e+06</td>\n",
       "    </tr>\n",
       "    <tr>\n",
       "      <th>3</th>\n",
       "      <td>andaman-&amp;-nicobar-islands</td>\n",
       "      <td>2018</td>\n",
       "      <td>Q2</td>\n",
       "      <td>north and middle andaman district</td>\n",
       "      <td>825</td>\n",
       "      <td>1.317863e+06</td>\n",
       "    </tr>\n",
       "    <tr>\n",
       "      <th>4</th>\n",
       "      <td>andaman-&amp;-nicobar-islands</td>\n",
       "      <td>2018</td>\n",
       "      <td>Q2</td>\n",
       "      <td>south andaman district</td>\n",
       "      <td>9395</td>\n",
       "      <td>2.394824e+07</td>\n",
       "    </tr>\n",
       "    <tr>\n",
       "      <th>...</th>\n",
       "      <td>...</td>\n",
       "      <td>...</td>\n",
       "      <td>...</td>\n",
       "      <td>...</td>\n",
       "      <td>...</td>\n",
       "      <td>...</td>\n",
       "    </tr>\n",
       "    <tr>\n",
       "      <th>14631</th>\n",
       "      <td>west-bengal</td>\n",
       "      <td>2022</td>\n",
       "      <td>Q4</td>\n",
       "      <td>nadia district</td>\n",
       "      <td>12690126</td>\n",
       "      <td>2.804568e+10</td>\n",
       "    </tr>\n",
       "    <tr>\n",
       "      <th>14632</th>\n",
       "      <td>west-bengal</td>\n",
       "      <td>2022</td>\n",
       "      <td>Q4</td>\n",
       "      <td>birbhum district</td>\n",
       "      <td>7617444</td>\n",
       "      <td>1.614650e+10</td>\n",
       "    </tr>\n",
       "    <tr>\n",
       "      <th>14633</th>\n",
       "      <td>west-bengal</td>\n",
       "      <td>2022</td>\n",
       "      <td>Q4</td>\n",
       "      <td>purba medinipur district</td>\n",
       "      <td>14484229</td>\n",
       "      <td>3.309949e+10</td>\n",
       "    </tr>\n",
       "    <tr>\n",
       "      <th>14634</th>\n",
       "      <td>west-bengal</td>\n",
       "      <td>2022</td>\n",
       "      <td>Q4</td>\n",
       "      <td>maldah district</td>\n",
       "      <td>12492746</td>\n",
       "      <td>2.721861e+10</td>\n",
       "    </tr>\n",
       "    <tr>\n",
       "      <th>14635</th>\n",
       "      <td>west-bengal</td>\n",
       "      <td>2022</td>\n",
       "      <td>Q4</td>\n",
       "      <td>darjiling district</td>\n",
       "      <td>8827502</td>\n",
       "      <td>1.801650e+10</td>\n",
       "    </tr>\n",
       "  </tbody>\n",
       "</table>\n",
       "<p>14636 rows × 6 columns</p>\n",
       "</div>"
      ],
      "text/plain": [
       "                           State  Year Quarter  \\\n",
       "0      andaman-&-nicobar-islands  2018      Q1   \n",
       "1      andaman-&-nicobar-islands  2018      Q1   \n",
       "2      andaman-&-nicobar-islands  2018      Q1   \n",
       "3      andaman-&-nicobar-islands  2018      Q2   \n",
       "4      andaman-&-nicobar-islands  2018      Q2   \n",
       "...                          ...   ...     ...   \n",
       "14631                west-bengal  2022      Q4   \n",
       "14632                west-bengal  2022      Q4   \n",
       "14633                west-bengal  2022      Q4   \n",
       "14634                west-bengal  2022      Q4   \n",
       "14635                west-bengal  2022      Q4   \n",
       "\n",
       "                                District  Transaction_count  \\\n",
       "0      north and middle andaman district                442   \n",
       "1                 south andaman district               5688   \n",
       "2                      nicobars district                528   \n",
       "3      north and middle andaman district                825   \n",
       "4                 south andaman district               9395   \n",
       "...                                  ...                ...   \n",
       "14631                     nadia district           12690126   \n",
       "14632                   birbhum district            7617444   \n",
       "14633           purba medinipur district           14484229   \n",
       "14634                    maldah district           12492746   \n",
       "14635                 darjiling district            8827502   \n",
       "\n",
       "       Transaction_amount  \n",
       "0            9.316631e+05  \n",
       "1            1.256025e+07  \n",
       "2            1.139849e+06  \n",
       "3            1.317863e+06  \n",
       "4            2.394824e+07  \n",
       "...                   ...  \n",
       "14631        2.804568e+10  \n",
       "14632        1.614650e+10  \n",
       "14633        3.309949e+10  \n",
       "14634        2.721861e+10  \n",
       "14635        1.801650e+10  \n",
       "\n",
       "[14636 rows x 6 columns]"
      ]
     },
     "execution_count": 58,
     "metadata": {},
     "output_type": "execute_result"
    }
   ],
   "source": [
    "path=r'C:\\Users\\Vishaal Grizzly\\pulse/data/map/transaction/hover/country/india/state/'\n",
    "state_dir =os.listdir(path)\n",
    "\n",
    "\n",
    "map_trans_data = {'State': [], 'Year': [], 'Quarter': [], 'District': [],\n",
    "    'Transaction_count': [], 'Transaction_amount': []}\n",
    "\n",
    "for i in state_dir:\n",
    "  state_path = path+i+'/'\n",
    "  year_dir  = os.listdir(st_path)\n",
    "  for j in year_dir:\n",
    "    year_path = state_path+j+'/'\n",
    "    file_dir = os.listdir(year_path)\n",
    "    for k in file_dir:\n",
    "      file_path = year_path+k\n",
    "      jsonFile = open(file_path,'r')\n",
    "      Data = json.load(jsonFile)\n",
    "      try:\n",
    "        for x in Data['data'][\"hoverDataList\"]:\n",
    "          district = x['name']\n",
    "          trans_count = x['metric'][0]['count']\n",
    "          trans_amount = x['metric'][0]['amount']\n",
    "          map_trans_data['District'].append(district)\n",
    "          map_trans_data['Transaction_count'].append(trans_count)\n",
    "          map_trans_data['Transaction_amount'].append(trans_amount)\n",
    "          map_trans_data['State'].append(i)\n",
    "          map_trans_data['Year'].append(j)\n",
    "          map_trans_data['Quarter'].append('Q'+k.strip('.json'))\n",
    "      except TypeError:\n",
    "        pass\n",
    "      \n",
    "maptransdata_df = pd.DataFrame(map_trans_data)\n",
    "\n",
    "maptransdata_df"
   ]
  },
  {
   "cell_type": "code",
   "execution_count": 59,
   "metadata": {
    "id": "vfY3NjzoPIeL"
   },
   "outputs": [],
   "source": [
    "maptransdata_df.to_csv('transbydistrictmap.csv',index=False)\n"
   ]
  },
  {
   "cell_type": "markdown",
   "metadata": {
    "id": "GoBMsTauPQz4"
   },
   "source": [
    "Extracting data from maps - users"
   ]
  },
  {
   "cell_type": "code",
   "execution_count": 60,
   "metadata": {
    "colab": {
     "base_uri": "https://localhost:8080/",
     "height": 423
    },
    "id": "6K6rpU1NPUPt",
    "outputId": "77ff5d34-bfea-4977-e4a1-51effdf64187"
   },
   "outputs": [
    {
     "data": {
      "text/html": [
       "<div>\n",
       "<style scoped>\n",
       "    .dataframe tbody tr th:only-of-type {\n",
       "        vertical-align: middle;\n",
       "    }\n",
       "\n",
       "    .dataframe tbody tr th {\n",
       "        vertical-align: top;\n",
       "    }\n",
       "\n",
       "    .dataframe thead th {\n",
       "        text-align: right;\n",
       "    }\n",
       "</style>\n",
       "<table border=\"1\" class=\"dataframe\">\n",
       "  <thead>\n",
       "    <tr style=\"text-align: right;\">\n",
       "      <th></th>\n",
       "      <th>State</th>\n",
       "      <th>Year</th>\n",
       "      <th>Quarter</th>\n",
       "      <th>District</th>\n",
       "      <th>Registered_user</th>\n",
       "      <th>App_opening</th>\n",
       "    </tr>\n",
       "  </thead>\n",
       "  <tbody>\n",
       "    <tr>\n",
       "      <th>0</th>\n",
       "      <td>andaman-&amp;-nicobar-islands</td>\n",
       "      <td>2018</td>\n",
       "      <td>Q1</td>\n",
       "      <td>north and middle andaman district</td>\n",
       "      <td>632</td>\n",
       "      <td>0</td>\n",
       "    </tr>\n",
       "    <tr>\n",
       "      <th>1</th>\n",
       "      <td>andaman-&amp;-nicobar-islands</td>\n",
       "      <td>2018</td>\n",
       "      <td>Q1</td>\n",
       "      <td>south andaman district</td>\n",
       "      <td>5846</td>\n",
       "      <td>0</td>\n",
       "    </tr>\n",
       "    <tr>\n",
       "      <th>2</th>\n",
       "      <td>andaman-&amp;-nicobar-islands</td>\n",
       "      <td>2018</td>\n",
       "      <td>Q1</td>\n",
       "      <td>nicobars district</td>\n",
       "      <td>262</td>\n",
       "      <td>0</td>\n",
       "    </tr>\n",
       "    <tr>\n",
       "      <th>3</th>\n",
       "      <td>andaman-&amp;-nicobar-islands</td>\n",
       "      <td>2018</td>\n",
       "      <td>Q2</td>\n",
       "      <td>north and middle andaman district</td>\n",
       "      <td>911</td>\n",
       "      <td>0</td>\n",
       "    </tr>\n",
       "    <tr>\n",
       "      <th>4</th>\n",
       "      <td>andaman-&amp;-nicobar-islands</td>\n",
       "      <td>2018</td>\n",
       "      <td>Q2</td>\n",
       "      <td>south andaman district</td>\n",
       "      <td>8143</td>\n",
       "      <td>0</td>\n",
       "    </tr>\n",
       "    <tr>\n",
       "      <th>...</th>\n",
       "      <td>...</td>\n",
       "      <td>...</td>\n",
       "      <td>...</td>\n",
       "      <td>...</td>\n",
       "      <td>...</td>\n",
       "      <td>...</td>\n",
       "    </tr>\n",
       "    <tr>\n",
       "      <th>14635</th>\n",
       "      <td>west-bengal</td>\n",
       "      <td>2022</td>\n",
       "      <td>Q4</td>\n",
       "      <td>nadia district</td>\n",
       "      <td>1359420</td>\n",
       "      <td>33853990</td>\n",
       "    </tr>\n",
       "    <tr>\n",
       "      <th>14636</th>\n",
       "      <td>west-bengal</td>\n",
       "      <td>2022</td>\n",
       "      <td>Q4</td>\n",
       "      <td>birbhum district</td>\n",
       "      <td>855236</td>\n",
       "      <td>20950662</td>\n",
       "    </tr>\n",
       "    <tr>\n",
       "      <th>14637</th>\n",
       "      <td>west-bengal</td>\n",
       "      <td>2022</td>\n",
       "      <td>Q4</td>\n",
       "      <td>purba medinipur district</td>\n",
       "      <td>1346908</td>\n",
       "      <td>38278506</td>\n",
       "    </tr>\n",
       "    <tr>\n",
       "      <th>14638</th>\n",
       "      <td>west-bengal</td>\n",
       "      <td>2022</td>\n",
       "      <td>Q4</td>\n",
       "      <td>maldah district</td>\n",
       "      <td>954892</td>\n",
       "      <td>29023743</td>\n",
       "    </tr>\n",
       "    <tr>\n",
       "      <th>14639</th>\n",
       "      <td>west-bengal</td>\n",
       "      <td>2022</td>\n",
       "      <td>Q4</td>\n",
       "      <td>darjiling district</td>\n",
       "      <td>564562</td>\n",
       "      <td>15982631</td>\n",
       "    </tr>\n",
       "  </tbody>\n",
       "</table>\n",
       "<p>14640 rows × 6 columns</p>\n",
       "</div>"
      ],
      "text/plain": [
       "                           State  Year Quarter  \\\n",
       "0      andaman-&-nicobar-islands  2018      Q1   \n",
       "1      andaman-&-nicobar-islands  2018      Q1   \n",
       "2      andaman-&-nicobar-islands  2018      Q1   \n",
       "3      andaman-&-nicobar-islands  2018      Q2   \n",
       "4      andaman-&-nicobar-islands  2018      Q2   \n",
       "...                          ...   ...     ...   \n",
       "14635                west-bengal  2022      Q4   \n",
       "14636                west-bengal  2022      Q4   \n",
       "14637                west-bengal  2022      Q4   \n",
       "14638                west-bengal  2022      Q4   \n",
       "14639                west-bengal  2022      Q4   \n",
       "\n",
       "                                District  Registered_user  App_opening  \n",
       "0      north and middle andaman district              632            0  \n",
       "1                 south andaman district             5846            0  \n",
       "2                      nicobars district              262            0  \n",
       "3      north and middle andaman district              911            0  \n",
       "4                 south andaman district             8143            0  \n",
       "...                                  ...              ...          ...  \n",
       "14635                     nadia district          1359420     33853990  \n",
       "14636                   birbhum district           855236     20950662  \n",
       "14637           purba medinipur district          1346908     38278506  \n",
       "14638                    maldah district           954892     29023743  \n",
       "14639                 darjiling district           564562     15982631  \n",
       "\n",
       "[14640 rows x 6 columns]"
      ]
     },
     "execution_count": 60,
     "metadata": {},
     "output_type": "execute_result"
    }
   ],
   "source": [
    "path=r'C:\\Users\\Vishaal Grizzly\\pulse/data/map/user/hover/country/india/state/'\n",
    "state_dir =os.listdir(path)\n",
    "\n",
    "usersmapdict = {'State': [], 'Year': [], 'Quarter': [], 'District': [],\n",
    "    'Registered_user': [], 'App_opening': []}\n",
    "\n",
    "for i in state_dir:\n",
    "  state_path = path+i+'/'\n",
    "  year_dir  = os.listdir(st_path)\n",
    "  for j in year_dir:\n",
    "    year_path = state_path+j+'/'\n",
    "    file_dir = os.listdir(year_path)\n",
    "    for k in file_dir:\n",
    "      file_path = year_path+k\n",
    "      jsonFile = open(file_path,'r')\n",
    "      Data = json.load(jsonFile)\n",
    "      try:\n",
    "        for x in Data['data'][\"hoverData\"]:\n",
    "          district = x\n",
    "          registeredUser =  Data['data'][\"hoverData\"][x][\"registeredUsers\"]\n",
    "          app_opening = Data['data'][\"hoverData\"][x][\"appOpens\"]\n",
    "          usersmapdict['District'].append(district)\n",
    "          usersmapdict['Registered_user'].append(registeredUser)\n",
    "          usersmapdict['App_opening'].append(app_opening)\n",
    "          usersmapdict['State'].append(i)\n",
    "          usersmapdict['Year'].append(j)\n",
    "          usersmapdict['Quarter'].append('Q'+k.strip('.json'))\n",
    "      except TypeError:\n",
    "        pass\n",
    "      \n",
    "usersmap_df = pd.DataFrame(usersmapdict)\n",
    "\n",
    "usersmap_df"
   ]
  },
  {
   "cell_type": "code",
   "execution_count": 61,
   "metadata": {
    "id": "QnPBzrD-PyR9"
   },
   "outputs": [],
   "source": [
    "usersmap_df.to_csv('usersbydistmap.csv',index=False)"
   ]
  },
  {
   "cell_type": "code",
   "execution_count": 62,
   "metadata": {
    "id": "Jv75yaotLTqN"
   },
   "outputs": [],
   "source": [
    "AggregatedData = pd.read_csv('AggregatedData.csv')\n",
    "transbydistrictmap = pd.read_csv('transbydistrictmap.csv') \n",
    "usersbydistmap = pd.read_csv('usersbydistmap.csv') \n",
    "brandsused = pd.read_csv('brandsused.csv')"
   ]
  },
  {
   "cell_type": "code",
   "execution_count": 63,
   "metadata": {
    "id": "V1YvAIYfNij2"
   },
   "outputs": [],
   "source": [
    "from streamlit_option_menu import option_menu \n",
    "import mysql.connector as msql \n",
    "from mysql.connector import Error\n"
   ]
  },
  {
   "cell_type": "code",
   "execution_count": 64,
   "metadata": {
    "colab": {
     "base_uri": "https://localhost:8080/"
    },
    "id": "27onlS29NnDo",
    "outputId": "5baa4816-e6b5-4b23-9b64-ba52724dc7ef"
   },
   "outputs": [
    {
     "name": "stdout",
     "output_type": "stream",
     "text": [
      "Error while connecting to MySQL 1007 (HY000): Can't create database 'phonepe_pulse'; database exists\n"
     ]
    }
   ],
   "source": [
    "try:\n",
    "    conn = msql.connect(\n",
    "                        host='localhost', \n",
    "                        user='root',\n",
    "                        password='root')\n",
    "    if conn.is_connected():\n",
    "        cursor = conn.cursor()\n",
    "        cursor.execute(\"CREATE DATABASE Phonepe_Pulse\")\n",
    "        print(\"Phonepe_Pulse database is created\")\n",
    "\n",
    "except Error as e:\n",
    "    print(\"Error while connecting to MySQL\", e)"
   ]
  },
  {
   "cell_type": "markdown",
   "metadata": {},
   "source": [
    "Let us take a look at the datatypes inside the csv files we extracted "
   ]
  },
  {
   "cell_type": "markdown",
   "metadata": {},
   "source": [
    "We will start with AggregatedData csv"
   ]
  },
  {
   "cell_type": "code",
   "execution_count": 65,
   "metadata": {},
   "outputs": [
    {
     "data": {
      "text/plain": [
       "State                object\n",
       "Year                  int64\n",
       "Quarter              object\n",
       "Transaction_type     object\n",
       "Transaction_no        int64\n",
       "Transaction_tot     float64\n",
       "dtype: object"
      ]
     },
     "execution_count": 65,
     "metadata": {},
     "output_type": "execute_result"
    }
   ],
   "source": [
    "AggregatedData.dtypes"
   ]
  },
  {
   "cell_type": "markdown",
   "metadata": {},
   "source": [
    "Now we will create a table with the extracted data"
   ]
  },
  {
   "cell_type": "code",
   "execution_count": 66,
   "metadata": {},
   "outputs": [
    {
     "name": "stdout",
     "output_type": "stream",
     "text": [
      "The table is created\n",
      "The table values are successfully inserted into MySQL\n"
     ]
    }
   ],
   "source": [
    "try: \n",
    "    conn = msql.connect(\n",
    "        host = 'localhost',\n",
    "        user = 'root', \n",
    "        password = 'root', \n",
    "        database = 'Phonepe_Pulse'\n",
    "    )\n",
    "    if conn.is_connected():\n",
    "        cursor = conn.cursor()\n",
    "        cursor.execute('select database();')\n",
    "        record = cursor.fetchone()\n",
    "        cursor.execute('DROP TABLE IF EXISTS AggregatedData;')\n",
    "        cursor.execute('CREATE TABLE AggregatedData\\\n",
    "                       (State varchar (100),\\\n",
    "                       Year int,\\\n",
    "                       Quarter varchar(5),\\\n",
    "                       Trasaction_type varchar (50),\\\n",
    "                       Transaction_no int,\\\n",
    "                       Transaction_tot float(50, 3))')\n",
    "        print (\"The table is created\")\n",
    "        for i, row in AggregatedData.iterrows():\n",
    "            sql = 'INSERT INTO Phonepe_Pulse.AggregatedData VALUES (%s,%s,%s,%s,%s,%s)'\n",
    "            cursor.execute(sql, tuple(row))\n",
    "            conn.commit()\n",
    "        print (\"The table values are successfully inserted into MySQL\")\n",
    "except Error as e:\n",
    "    print (\"Unsuccessful while connecting to MySQL, here is the error\", e)\n",
    "    "
   ]
  },
  {
   "cell_type": "markdown",
   "metadata": {},
   "source": [
    "Now we will proceed with creating a table for the values in the transbydistrictmap csv"
   ]
  },
  {
   "cell_type": "code",
   "execution_count": 67,
   "metadata": {},
   "outputs": [
    {
     "data": {
      "text/plain": [
       "State                  object\n",
       "Year                    int64\n",
       "Quarter                object\n",
       "District               object\n",
       "Transaction_count       int64\n",
       "Transaction_amount    float64\n",
       "dtype: object"
      ]
     },
     "execution_count": 67,
     "metadata": {},
     "output_type": "execute_result"
    }
   ],
   "source": [
    "transbydistrictmap.dtypes"
   ]
  },
  {
   "cell_type": "code",
   "execution_count": 68,
   "metadata": {},
   "outputs": [
    {
     "name": "stdout",
     "output_type": "stream",
     "text": [
      "The table is created\n",
      "The table values are successfully inserted into MySQL\n"
     ]
    }
   ],
   "source": [
    "try: \n",
    "    conn = msql.connect(\n",
    "        host = 'localhost',\n",
    "        user = 'root', \n",
    "        password = 'root', \n",
    "        database = 'Phonepe_Pulse'\n",
    "    )\n",
    "    if conn.is_connected():\n",
    "        cursor = conn.cursor()\n",
    "        cursor.execute('select database();')\n",
    "        record = cursor.fetchone()\n",
    "        cursor.execute('DROP TABLE IF EXISTS transbydistrictmap;')\n",
    "        cursor.execute('CREATE TABLE transbydistrictmap\\\n",
    "                       (State varchar (100),\\\n",
    "                       Year int,\\\n",
    "                       Quarter varchar(5),\\\n",
    "                       District varchar(50),\\\n",
    "                       Trasaction_count int,\\\n",
    "                       Transaction_amount float(50, 3))')\n",
    "        print (\"The table is created\")\n",
    "        for i, row in transbydistrictmap.iterrows():\n",
    "            sql = 'INSERT INTO Phonepe_Pulse.transbydistrictmap VALUES (%s,%s,%s,%s,%s,%s)'\n",
    "            cursor.execute(sql, tuple(row))\n",
    "            conn.commit()\n",
    "        print (\"The table values are successfully inserted into MySQL\")\n",
    "except Error as e:\n",
    "    print (\"Unsuccessful while connecting to MySQL, here is the error\", e)\n",
    "    "
   ]
  },
  {
   "cell_type": "markdown",
   "metadata": {},
   "source": [
    "Now we will proceed with creating a table for the values in the usersbydistmap csv"
   ]
  },
  {
   "cell_type": "code",
   "execution_count": 69,
   "metadata": {},
   "outputs": [
    {
     "data": {
      "text/plain": [
       "State              object\n",
       "Year                int64\n",
       "Quarter            object\n",
       "District           object\n",
       "Registered_user     int64\n",
       "App_opening         int64\n",
       "dtype: object"
      ]
     },
     "execution_count": 69,
     "metadata": {},
     "output_type": "execute_result"
    }
   ],
   "source": [
    "usersbydistmap.dtypes"
   ]
  },
  {
   "cell_type": "code",
   "execution_count": 70,
   "metadata": {},
   "outputs": [
    {
     "name": "stdout",
     "output_type": "stream",
     "text": [
      "The table is created\n",
      "The table values are successfully inserted into MySQL\n"
     ]
    }
   ],
   "source": [
    "try: \n",
    "    conn = msql.connect(\n",
    "        host = 'localhost',\n",
    "        user = 'root', \n",
    "        password = 'root', \n",
    "        database = 'Phonepe_Pulse'\n",
    "    )\n",
    "    if conn.is_connected():\n",
    "        cursor = conn.cursor()\n",
    "        cursor.execute('select database();')\n",
    "        record = cursor.fetchone()\n",
    "        cursor.execute('DROP TABLE IF EXISTS usersbydistmap;')\n",
    "        cursor.execute('CREATE TABLE usersbydistmap\\\n",
    "                       (State varchar (100),\\\n",
    "                       Year int,\\\n",
    "                       Quarter varchar (5),\\\n",
    "                       District varchar (50),\\\n",
    "                       Registered_user int,\\\n",
    "                       App_opening int )')\n",
    "        print (\"The table is created\")\n",
    "        for i, row in usersbydistmap.iterrows():\n",
    "            sql = 'INSERT INTO Phonepe_Pulse.usersbydistmap VALUES (%s,%s,%s,%s,%s,%s)'\n",
    "            cursor.execute(sql, tuple(row))\n",
    "            conn.commit()\n",
    "        print (\"The table values are successfully inserted into MySQL\")\n",
    "except Error as e:\n",
    "    print (\"Unsuccessful while connecting to MySQL, here is the error\", e)"
   ]
  },
  {
   "cell_type": "markdown",
   "metadata": {},
   "source": [
    "Now lets create a table for the values in the brandsused csv"
   ]
  },
  {
   "cell_type": "code",
   "execution_count": 71,
   "metadata": {},
   "outputs": [
    {
     "data": {
      "text/plain": [
       "State                object\n",
       "Year                  int64\n",
       "Quarter              object\n",
       "Brand                object\n",
       "Brand_count           int64\n",
       "Brand_percentage    float64\n",
       "dtype: object"
      ]
     },
     "execution_count": 71,
     "metadata": {},
     "output_type": "execute_result"
    }
   ],
   "source": [
    "brandsused.dtypes"
   ]
  },
  {
   "cell_type": "code",
   "execution_count": 72,
   "metadata": {},
   "outputs": [
    {
     "name": "stdout",
     "output_type": "stream",
     "text": [
      "The table is created\n",
      "The table values are successfully inserted into MySQL\n"
     ]
    }
   ],
   "source": [
    "try: \n",
    "    conn = msql.connect(\n",
    "        host = 'localhost',\n",
    "        user = 'root', \n",
    "        password = 'root', \n",
    "        database = 'Phonepe_Pulse'\n",
    "    )\n",
    "    if conn.is_connected():\n",
    "        cursor = conn.cursor()\n",
    "        cursor.execute('select database();')\n",
    "        record = cursor.fetchone()\n",
    "        cursor.execute('DROP TABLE IF EXISTS brandsused;')\n",
    "        cursor.execute('CREATE TABLE brandsused\\\n",
    "                       (State varchar (100),\\\n",
    "                       Year int,\\\n",
    "                       Quarter varchar (5),\\\n",
    "                       Brand varchar (50),\\\n",
    "                       Brand_count int,\\\n",
    "                       Brand_percentage float (50, 3))')\n",
    "        \n",
    "        print (\"The table is created\")\n",
    "        for i, row in brandsused.iterrows():\n",
    "            sql = 'INSERT INTO Phonepe_Pulse.brandsused VALUES (%s,%s,%s,%s,%s,%s)'\n",
    "            cursor.execute(sql, tuple(row))\n",
    "            conn.commit()\n",
    "        print (\"The table values are successfully inserted into MySQL\")\n",
    "except Error as e:\n",
    "    print (\"Unsuccessful while connecting to MySQL, here is the error\", e)"
   ]
  },
  {
   "cell_type": "markdown",
   "metadata": {},
   "source": [
    "Now we will fetch data from MySQL database to Python"
   ]
  },
  {
   "cell_type": "code",
   "execution_count": 73,
   "metadata": {},
   "outputs": [
    {
     "data": {
      "text/html": [
       "<div>\n",
       "<style scoped>\n",
       "    .dataframe tbody tr th:only-of-type {\n",
       "        vertical-align: middle;\n",
       "    }\n",
       "\n",
       "    .dataframe tbody tr th {\n",
       "        vertical-align: top;\n",
       "    }\n",
       "\n",
       "    .dataframe thead th {\n",
       "        text-align: right;\n",
       "    }\n",
       "</style>\n",
       "<table border=\"1\" class=\"dataframe\">\n",
       "  <thead>\n",
       "    <tr style=\"text-align: right;\">\n",
       "      <th></th>\n",
       "      <th>State</th>\n",
       "      <th>Year</th>\n",
       "      <th>Quarter</th>\n",
       "      <th>Trasaction_type</th>\n",
       "      <th>Transaction_no</th>\n",
       "      <th>Transaction_tot</th>\n",
       "    </tr>\n",
       "  </thead>\n",
       "  <tbody>\n",
       "    <tr>\n",
       "      <th>0</th>\n",
       "      <td>andaman-&amp;-nicobar-islands</td>\n",
       "      <td>2018</td>\n",
       "      <td>Q1</td>\n",
       "      <td>Recharge &amp; bill payments</td>\n",
       "      <td>4200</td>\n",
       "      <td>1.845308e+06</td>\n",
       "    </tr>\n",
       "    <tr>\n",
       "      <th>1</th>\n",
       "      <td>andaman-&amp;-nicobar-islands</td>\n",
       "      <td>2018</td>\n",
       "      <td>Q1</td>\n",
       "      <td>Peer-to-peer payments</td>\n",
       "      <td>1871</td>\n",
       "      <td>1.213866e+07</td>\n",
       "    </tr>\n",
       "    <tr>\n",
       "      <th>2</th>\n",
       "      <td>andaman-&amp;-nicobar-islands</td>\n",
       "      <td>2018</td>\n",
       "      <td>Q1</td>\n",
       "      <td>Merchant payments</td>\n",
       "      <td>298</td>\n",
       "      <td>4.525072e+05</td>\n",
       "    </tr>\n",
       "    <tr>\n",
       "      <th>3</th>\n",
       "      <td>andaman-&amp;-nicobar-islands</td>\n",
       "      <td>2018</td>\n",
       "      <td>Q1</td>\n",
       "      <td>Financial Services</td>\n",
       "      <td>33</td>\n",
       "      <td>1.060142e+04</td>\n",
       "    </tr>\n",
       "    <tr>\n",
       "      <th>4</th>\n",
       "      <td>andaman-&amp;-nicobar-islands</td>\n",
       "      <td>2018</td>\n",
       "      <td>Q1</td>\n",
       "      <td>Others</td>\n",
       "      <td>256</td>\n",
       "      <td>1.846899e+05</td>\n",
       "    </tr>\n",
       "    <tr>\n",
       "      <th>...</th>\n",
       "      <td>...</td>\n",
       "      <td>...</td>\n",
       "      <td>...</td>\n",
       "      <td>...</td>\n",
       "      <td>...</td>\n",
       "      <td>...</td>\n",
       "    </tr>\n",
       "    <tr>\n",
       "      <th>3589</th>\n",
       "      <td>west-bengal</td>\n",
       "      <td>2022</td>\n",
       "      <td>Q4</td>\n",
       "      <td>Peer-to-peer payments</td>\n",
       "      <td>184380244</td>\n",
       "      <td>6.202222e+11</td>\n",
       "    </tr>\n",
       "    <tr>\n",
       "      <th>3590</th>\n",
       "      <td>west-bengal</td>\n",
       "      <td>2022</td>\n",
       "      <td>Q4</td>\n",
       "      <td>Merchant payments</td>\n",
       "      <td>171667404</td>\n",
       "      <td>1.408077e+11</td>\n",
       "    </tr>\n",
       "    <tr>\n",
       "      <th>3591</th>\n",
       "      <td>west-bengal</td>\n",
       "      <td>2022</td>\n",
       "      <td>Q4</td>\n",
       "      <td>Recharge &amp; bill payments</td>\n",
       "      <td>48921147</td>\n",
       "      <td>2.602663e+10</td>\n",
       "    </tr>\n",
       "    <tr>\n",
       "      <th>3592</th>\n",
       "      <td>west-bengal</td>\n",
       "      <td>2022</td>\n",
       "      <td>Q4</td>\n",
       "      <td>Financial Services</td>\n",
       "      <td>268388</td>\n",
       "      <td>2.611229e+08</td>\n",
       "    </tr>\n",
       "    <tr>\n",
       "      <th>3593</th>\n",
       "      <td>west-bengal</td>\n",
       "      <td>2022</td>\n",
       "      <td>Q4</td>\n",
       "      <td>Others</td>\n",
       "      <td>610414</td>\n",
       "      <td>4.579379e+08</td>\n",
       "    </tr>\n",
       "  </tbody>\n",
       "</table>\n",
       "<p>3594 rows × 6 columns</p>\n",
       "</div>"
      ],
      "text/plain": [
       "                          State  Year Quarter           Trasaction_type  \\\n",
       "0     andaman-&-nicobar-islands  2018      Q1  Recharge & bill payments   \n",
       "1     andaman-&-nicobar-islands  2018      Q1     Peer-to-peer payments   \n",
       "2     andaman-&-nicobar-islands  2018      Q1         Merchant payments   \n",
       "3     andaman-&-nicobar-islands  2018      Q1        Financial Services   \n",
       "4     andaman-&-nicobar-islands  2018      Q1                    Others   \n",
       "...                         ...   ...     ...                       ...   \n",
       "3589                west-bengal  2022      Q4     Peer-to-peer payments   \n",
       "3590                west-bengal  2022      Q4         Merchant payments   \n",
       "3591                west-bengal  2022      Q4  Recharge & bill payments   \n",
       "3592                west-bengal  2022      Q4        Financial Services   \n",
       "3593                west-bengal  2022      Q4                    Others   \n",
       "\n",
       "      Transaction_no  Transaction_tot  \n",
       "0               4200     1.845308e+06  \n",
       "1               1871     1.213866e+07  \n",
       "2                298     4.525072e+05  \n",
       "3                 33     1.060142e+04  \n",
       "4                256     1.846899e+05  \n",
       "...              ...              ...  \n",
       "3589       184380244     6.202222e+11  \n",
       "3590       171667404     1.408077e+11  \n",
       "3591        48921147     2.602663e+10  \n",
       "3592          268388     2.611229e+08  \n",
       "3593          610414     4.579379e+08  \n",
       "\n",
       "[3594 rows x 6 columns]"
      ]
     },
     "execution_count": 73,
     "metadata": {},
     "output_type": "execute_result"
    }
   ],
   "source": [
    "try:\n",
    "    conn = msql.connect(host='localhost',\n",
    "                           user='root',\n",
    "                           password='root',\n",
    "                           database = 'Phonepe_Pulse')\n",
    "    if conn.is_connected():\n",
    "        cursor = conn.cursor()        \n",
    "        cursor.execute(\"SELECT * FROM AggregatedData\")\n",
    "        records = cursor.fetchall()\n",
    "        data=pd.DataFrame(records,\n",
    "                    columns=[i[0] for i  in cursor.description])\n",
    "\n",
    "        conn.commit()\n",
    "        cursor.close()\n",
    "        conn.close()  \n",
    "except Error as e:\n",
    "    print(\"Error while connecting to MySQL\", e)\n",
    "\n",
    "data"
   ]
  },
  {
   "cell_type": "code",
   "execution_count": 74,
   "metadata": {},
   "outputs": [
    {
     "data": {
      "text/html": [
       "<div>\n",
       "<style scoped>\n",
       "    .dataframe tbody tr th:only-of-type {\n",
       "        vertical-align: middle;\n",
       "    }\n",
       "\n",
       "    .dataframe tbody tr th {\n",
       "        vertical-align: top;\n",
       "    }\n",
       "\n",
       "    .dataframe thead th {\n",
       "        text-align: right;\n",
       "    }\n",
       "</style>\n",
       "<table border=\"1\" class=\"dataframe\">\n",
       "  <thead>\n",
       "    <tr style=\"text-align: right;\">\n",
       "      <th></th>\n",
       "      <th>State</th>\n",
       "      <th>Year</th>\n",
       "      <th>Quarter</th>\n",
       "      <th>District</th>\n",
       "      <th>Transaction_count</th>\n",
       "      <th>Transaction_amount</th>\n",
       "    </tr>\n",
       "  </thead>\n",
       "  <tbody>\n",
       "    <tr>\n",
       "      <th>0</th>\n",
       "      <td>andaman-&amp;-nicobar-islands</td>\n",
       "      <td>2018</td>\n",
       "      <td>Q1</td>\n",
       "      <td>north and middle andaman district</td>\n",
       "      <td>442</td>\n",
       "      <td>9.316631e+05</td>\n",
       "    </tr>\n",
       "    <tr>\n",
       "      <th>1</th>\n",
       "      <td>andaman-&amp;-nicobar-islands</td>\n",
       "      <td>2018</td>\n",
       "      <td>Q1</td>\n",
       "      <td>south andaman district</td>\n",
       "      <td>5688</td>\n",
       "      <td>1.256025e+07</td>\n",
       "    </tr>\n",
       "    <tr>\n",
       "      <th>2</th>\n",
       "      <td>andaman-&amp;-nicobar-islands</td>\n",
       "      <td>2018</td>\n",
       "      <td>Q1</td>\n",
       "      <td>nicobars district</td>\n",
       "      <td>528</td>\n",
       "      <td>1.139849e+06</td>\n",
       "    </tr>\n",
       "    <tr>\n",
       "      <th>3</th>\n",
       "      <td>andaman-&amp;-nicobar-islands</td>\n",
       "      <td>2018</td>\n",
       "      <td>Q2</td>\n",
       "      <td>north and middle andaman district</td>\n",
       "      <td>825</td>\n",
       "      <td>1.317863e+06</td>\n",
       "    </tr>\n",
       "    <tr>\n",
       "      <th>4</th>\n",
       "      <td>andaman-&amp;-nicobar-islands</td>\n",
       "      <td>2018</td>\n",
       "      <td>Q2</td>\n",
       "      <td>south andaman district</td>\n",
       "      <td>9395</td>\n",
       "      <td>2.394824e+07</td>\n",
       "    </tr>\n",
       "    <tr>\n",
       "      <th>...</th>\n",
       "      <td>...</td>\n",
       "      <td>...</td>\n",
       "      <td>...</td>\n",
       "      <td>...</td>\n",
       "      <td>...</td>\n",
       "      <td>...</td>\n",
       "    </tr>\n",
       "    <tr>\n",
       "      <th>14631</th>\n",
       "      <td>west-bengal</td>\n",
       "      <td>2022</td>\n",
       "      <td>Q4</td>\n",
       "      <td>nadia district</td>\n",
       "      <td>12690126</td>\n",
       "      <td>2.804568e+10</td>\n",
       "    </tr>\n",
       "    <tr>\n",
       "      <th>14632</th>\n",
       "      <td>west-bengal</td>\n",
       "      <td>2022</td>\n",
       "      <td>Q4</td>\n",
       "      <td>birbhum district</td>\n",
       "      <td>7617444</td>\n",
       "      <td>1.614650e+10</td>\n",
       "    </tr>\n",
       "    <tr>\n",
       "      <th>14633</th>\n",
       "      <td>west-bengal</td>\n",
       "      <td>2022</td>\n",
       "      <td>Q4</td>\n",
       "      <td>purba medinipur district</td>\n",
       "      <td>14484229</td>\n",
       "      <td>3.309949e+10</td>\n",
       "    </tr>\n",
       "    <tr>\n",
       "      <th>14634</th>\n",
       "      <td>west-bengal</td>\n",
       "      <td>2022</td>\n",
       "      <td>Q4</td>\n",
       "      <td>maldah district</td>\n",
       "      <td>12492746</td>\n",
       "      <td>2.721861e+10</td>\n",
       "    </tr>\n",
       "    <tr>\n",
       "      <th>14635</th>\n",
       "      <td>west-bengal</td>\n",
       "      <td>2022</td>\n",
       "      <td>Q4</td>\n",
       "      <td>darjiling district</td>\n",
       "      <td>8827502</td>\n",
       "      <td>1.801650e+10</td>\n",
       "    </tr>\n",
       "  </tbody>\n",
       "</table>\n",
       "<p>14636 rows × 6 columns</p>\n",
       "</div>"
      ],
      "text/plain": [
       "                           State  Year Quarter  \\\n",
       "0      andaman-&-nicobar-islands  2018      Q1   \n",
       "1      andaman-&-nicobar-islands  2018      Q1   \n",
       "2      andaman-&-nicobar-islands  2018      Q1   \n",
       "3      andaman-&-nicobar-islands  2018      Q2   \n",
       "4      andaman-&-nicobar-islands  2018      Q2   \n",
       "...                          ...   ...     ...   \n",
       "14631                west-bengal  2022      Q4   \n",
       "14632                west-bengal  2022      Q4   \n",
       "14633                west-bengal  2022      Q4   \n",
       "14634                west-bengal  2022      Q4   \n",
       "14635                west-bengal  2022      Q4   \n",
       "\n",
       "                                District  Transaction_count  \\\n",
       "0      north and middle andaman district                442   \n",
       "1                 south andaman district               5688   \n",
       "2                      nicobars district                528   \n",
       "3      north and middle andaman district                825   \n",
       "4                 south andaman district               9395   \n",
       "...                                  ...                ...   \n",
       "14631                     nadia district           12690126   \n",
       "14632                   birbhum district            7617444   \n",
       "14633           purba medinipur district           14484229   \n",
       "14634                    maldah district           12492746   \n",
       "14635                 darjiling district            8827502   \n",
       "\n",
       "       Transaction_amount  \n",
       "0            9.316631e+05  \n",
       "1            1.256025e+07  \n",
       "2            1.139849e+06  \n",
       "3            1.317863e+06  \n",
       "4            2.394824e+07  \n",
       "...                   ...  \n",
       "14631        2.804568e+10  \n",
       "14632        1.614650e+10  \n",
       "14633        3.309949e+10  \n",
       "14634        2.721861e+10  \n",
       "14635        1.801650e+10  \n",
       "\n",
       "[14636 rows x 6 columns]"
      ]
     },
     "execution_count": 74,
     "metadata": {},
     "output_type": "execute_result"
    }
   ],
   "source": [
    "transbydistrictmap"
   ]
  }
 ],
 "metadata": {
  "colab": {
   "name": "colab-xterm.ipynb",
   "provenance": []
  },
  "kernelspec": {
   "display_name": "Python 3 (ipykernel)",
   "language": "python",
   "name": "python3"
  },
  "language_info": {
   "codemirror_mode": {
    "name": "ipython",
    "version": 3
   },
   "file_extension": ".py",
   "mimetype": "text/x-python",
   "name": "python",
   "nbconvert_exporter": "python",
   "pygments_lexer": "ipython3",
   "version": "3.9.13"
  }
 },
 "nbformat": 4,
 "nbformat_minor": 1
}
